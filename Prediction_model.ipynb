{
 "cells": [
  {
   "cell_type": "code",
   "execution_count": 1,
   "metadata": {
    "executionInfo": {
     "elapsed": 1815,
     "status": "ok",
     "timestamp": 1655310580435,
     "user": {
      "displayName": "Sai Tharun Tallapragada",
      "userId": "15031853888518926848"
     },
     "user_tz": 300
    },
    "id": "jYRp3qkwkerU"
   },
   "outputs": [],
   "source": [
    "import numpy as np\n",
    "import pandas as pd\n",
    "from sklearn.ensemble import RandomForestRegressor\n",
    "from sklearn.model_selection import train_test_split\n",
    "from sklearn.metrics import mean_absolute_error"
   ]
  },
  {
   "cell_type": "code",
   "execution_count": null,
   "metadata": {
    "id": "Rgu_n2bNkero"
   },
   "outputs": [],
   "source": [
    "df_train_set = pd.read_csv('train_aggregated.csv')"
   ]
  },
  {
   "cell_type": "code",
   "execution_count": null,
   "metadata": {
    "id": "QjTTUdW6kerr",
    "outputId": "26e24a95-6e56-4bba-c8f9-d98bb1be34e9"
   },
   "outputs": [
    {
     "data": {
      "text/html": [
       "<div>\n",
       "<style scoped>\n",
       "    .dataframe tbody tr th:only-of-type {\n",
       "        vertical-align: middle;\n",
       "    }\n",
       "\n",
       "    .dataframe tbody tr th {\n",
       "        vertical-align: top;\n",
       "    }\n",
       "\n",
       "    .dataframe thead th {\n",
       "        text-align: right;\n",
       "    }\n",
       "</style>\n",
       "<table border=\"1\" class=\"dataframe\">\n",
       "  <thead>\n",
       "    <tr style=\"text-align: right;\">\n",
       "      <th></th>\n",
       "      <th>ride_id</th>\n",
       "      <th>travel_date</th>\n",
       "      <th>travel_time</th>\n",
       "      <th>travel_from</th>\n",
       "      <th>car_type</th>\n",
       "      <th>max_capacity</th>\n",
       "      <th>number_of_tickets</th>\n",
       "    </tr>\n",
       "  </thead>\n",
       "  <tbody>\n",
       "    <tr>\n",
       "      <th>0</th>\n",
       "      <td>1442</td>\n",
       "      <td>17-10-17</td>\n",
       "      <td>7:15</td>\n",
       "      <td>Migori</td>\n",
       "      <td>Bus</td>\n",
       "      <td>49</td>\n",
       "      <td>1.0</td>\n",
       "    </tr>\n",
       "    <tr>\n",
       "      <th>1</th>\n",
       "      <td>5437</td>\n",
       "      <td>19-11-17</td>\n",
       "      <td>7:12</td>\n",
       "      <td>Migori</td>\n",
       "      <td>Bus</td>\n",
       "      <td>49</td>\n",
       "      <td>1.0</td>\n",
       "    </tr>\n",
       "    <tr>\n",
       "      <th>2</th>\n",
       "      <td>5710</td>\n",
       "      <td>26-11-17</td>\n",
       "      <td>7:05</td>\n",
       "      <td>Keroka</td>\n",
       "      <td>Bus</td>\n",
       "      <td>49</td>\n",
       "      <td>1.0</td>\n",
       "    </tr>\n",
       "    <tr>\n",
       "      <th>3</th>\n",
       "      <td>5777</td>\n",
       "      <td>27-11-17</td>\n",
       "      <td>7:10</td>\n",
       "      <td>Homa Bay</td>\n",
       "      <td>Bus</td>\n",
       "      <td>49</td>\n",
       "      <td>5.0</td>\n",
       "    </tr>\n",
       "    <tr>\n",
       "      <th>4</th>\n",
       "      <td>5778</td>\n",
       "      <td>27-11-17</td>\n",
       "      <td>7:12</td>\n",
       "      <td>Migori</td>\n",
       "      <td>Bus</td>\n",
       "      <td>49</td>\n",
       "      <td>31.0</td>\n",
       "    </tr>\n",
       "  </tbody>\n",
       "</table>\n",
       "</div>"
      ],
      "text/plain": [
       "   ride_id travel_date travel_time travel_from car_type  max_capacity  \\\n",
       "0     1442    17-10-17        7:15      Migori      Bus            49   \n",
       "1     5437    19-11-17        7:12      Migori      Bus            49   \n",
       "2     5710    26-11-17        7:05      Keroka      Bus            49   \n",
       "3     5777    27-11-17        7:10    Homa Bay      Bus            49   \n",
       "4     5778    27-11-17        7:12      Migori      Bus            49   \n",
       "\n",
       "   number_of_tickets  \n",
       "0                1.0  \n",
       "1                1.0  \n",
       "2                1.0  \n",
       "3                5.0  \n",
       "4               31.0  "
      ]
     },
     "execution_count": 766,
     "metadata": {},
     "output_type": "execute_result"
    }
   ],
   "source": [
    "# first five rows of dataset \n",
    "df_train_set.head()"
   ]
  },
  {
   "cell_type": "code",
   "execution_count": null,
   "metadata": {
    "id": "Ps9Zrovekerw"
   },
   "outputs": [],
   "source": [
    "#dropping unnecessary column\n",
    "df_train_set.drop([\"ride_id\"], axis=1, inplace=True)"
   ]
  },
  {
   "cell_type": "code",
   "execution_count": null,
   "metadata": {
    "id": "oFZcy9zskerz"
   },
   "outputs": [],
   "source": [
    "#converting travel date to datetime format \n",
    "df_train_set[\"travel_date\"] = pd.to_datetime(df_train_set[\"travel_date\"],infer_datetime_format=True)\n",
    "df_train_set[\"travel_day\"] = df_train_set[\"travel_date\"].dt.dayofyear"
   ]
  },
  {
   "cell_type": "code",
   "execution_count": null,
   "metadata": {
    "id": "PMUPc0XJker2"
   },
   "outputs": [],
   "source": [
    "df_train_set[\"car_type\"] = pd.Categorical(df_train_set[\"car_type\"])\n",
    "car_type_categories = df_train_set.car_type.cat.categories\n",
    "df_train_set[\"car_type\"] = df_train_set.car_type.cat.codes"
   ]
  },
  {
   "cell_type": "code",
   "execution_count": null,
   "metadata": {
    "id": "1HaEXpcAker4"
   },
   "outputs": [],
   "source": [
    "df_train_set[\"travel_from\"] = pd.Categorical(df_train_set[\"travel_from\"])\n",
    "travel_from_categories = df_train_set.travel_from.cat.categories\n",
    "df_train_set[\"travel_from\"] = df_train_set.travel_from.cat.codes"
   ]
  },
  {
   "cell_type": "code",
   "execution_count": null,
   "metadata": {
    "id": "qzE5OmRuker6"
   },
   "outputs": [],
   "source": [
    "#express travel time in hours\n",
    "df_train_set[\"travel_time\"] = df_train_set[\"travel_time\"].str.split(':').apply(lambda x: int(x[0]) + (int(x[1])/60))"
   ]
  },
  {
   "cell_type": "code",
   "execution_count": null,
   "metadata": {
    "id": "olHCfCaNker8"
   },
   "outputs": [],
   "source": [
    "#num_of_tickets per hour\n",
    "ticks = df_train_set.groupby(\"travel_time\")[\"number_of_tickets\"].count()\n",
    "df_train_set[\"number_of_tickets\"] = np.log1p(df_train_set[\"travel_time\"].map(ticks))''''''"
   ]
  },
  {
   "cell_type": "code",
   "execution_count": null,
   "metadata": {
    "id": "A-5hjYvuker_",
    "outputId": "7b078ac6-30a8-47d8-d575-89cac7b9aa0c"
   },
   "outputs": [
    {
     "data": {
      "text/html": [
       "<div>\n",
       "<style scoped>\n",
       "    .dataframe tbody tr th:only-of-type {\n",
       "        vertical-align: middle;\n",
       "    }\n",
       "\n",
       "    .dataframe tbody tr th {\n",
       "        vertical-align: top;\n",
       "    }\n",
       "\n",
       "    .dataframe thead th {\n",
       "        text-align: right;\n",
       "    }\n",
       "</style>\n",
       "<table border=\"1\" class=\"dataframe\">\n",
       "  <thead>\n",
       "    <tr style=\"text-align: right;\">\n",
       "      <th></th>\n",
       "      <th>travel_date</th>\n",
       "      <th>travel_time</th>\n",
       "      <th>travel_from</th>\n",
       "      <th>car_type</th>\n",
       "      <th>max_capacity</th>\n",
       "      <th>number_of_tickets</th>\n",
       "      <th>travel_day</th>\n",
       "    </tr>\n",
       "  </thead>\n",
       "  <tbody>\n",
       "    <tr>\n",
       "      <th>0</th>\n",
       "      <td>2017-10-17</td>\n",
       "      <td>7.250000</td>\n",
       "      <td>9</td>\n",
       "      <td>0</td>\n",
       "      <td>49</td>\n",
       "      <td>1.0</td>\n",
       "      <td>290</td>\n",
       "    </tr>\n",
       "    <tr>\n",
       "      <th>1</th>\n",
       "      <td>2017-11-19</td>\n",
       "      <td>7.200000</td>\n",
       "      <td>9</td>\n",
       "      <td>0</td>\n",
       "      <td>49</td>\n",
       "      <td>1.0</td>\n",
       "      <td>323</td>\n",
       "    </tr>\n",
       "    <tr>\n",
       "      <th>2</th>\n",
       "      <td>2017-11-26</td>\n",
       "      <td>7.083333</td>\n",
       "      <td>4</td>\n",
       "      <td>0</td>\n",
       "      <td>49</td>\n",
       "      <td>1.0</td>\n",
       "      <td>330</td>\n",
       "    </tr>\n",
       "    <tr>\n",
       "      <th>3</th>\n",
       "      <td>2017-11-27</td>\n",
       "      <td>7.166667</td>\n",
       "      <td>1</td>\n",
       "      <td>0</td>\n",
       "      <td>49</td>\n",
       "      <td>5.0</td>\n",
       "      <td>331</td>\n",
       "    </tr>\n",
       "    <tr>\n",
       "      <th>4</th>\n",
       "      <td>2017-11-27</td>\n",
       "      <td>7.200000</td>\n",
       "      <td>9</td>\n",
       "      <td>0</td>\n",
       "      <td>49</td>\n",
       "      <td>31.0</td>\n",
       "      <td>331</td>\n",
       "    </tr>\n",
       "  </tbody>\n",
       "</table>\n",
       "</div>"
      ],
      "text/plain": [
       "  travel_date  travel_time  travel_from  car_type  max_capacity  \\\n",
       "0  2017-10-17     7.250000            9         0            49   \n",
       "1  2017-11-19     7.200000            9         0            49   \n",
       "2  2017-11-26     7.083333            4         0            49   \n",
       "3  2017-11-27     7.166667            1         0            49   \n",
       "4  2017-11-27     7.200000            9         0            49   \n",
       "\n",
       "   number_of_tickets  travel_day  \n",
       "0                1.0         290  \n",
       "1                1.0         323  \n",
       "2                1.0         330  \n",
       "3                5.0         331  \n",
       "4               31.0         331  "
      ]
     },
     "execution_count": 772,
     "metadata": {},
     "output_type": "execute_result"
    }
   ],
   "source": [
    "df_train_set.head()"
   ]
  },
  {
   "cell_type": "code",
   "execution_count": null,
   "metadata": {
    "id": "vCxuvALkkesA"
   },
   "outputs": [],
   "source": [
    "df_train_set['number_of_tickets'] = np.log1p(df_train_set['number_of_tickets'])"
   ]
  },
  {
   "cell_type": "code",
   "execution_count": null,
   "metadata": {
    "id": "pi9cZ1ygkesB",
    "outputId": "017376a1-a36d-41fe-8510-f7a00f011966"
   },
   "outputs": [
    {
     "data": {
      "text/html": [
       "<div>\n",
       "<style scoped>\n",
       "    .dataframe tbody tr th:only-of-type {\n",
       "        vertical-align: middle;\n",
       "    }\n",
       "\n",
       "    .dataframe tbody tr th {\n",
       "        vertical-align: top;\n",
       "    }\n",
       "\n",
       "    .dataframe thead th {\n",
       "        text-align: right;\n",
       "    }\n",
       "</style>\n",
       "<table border=\"1\" class=\"dataframe\">\n",
       "  <thead>\n",
       "    <tr style=\"text-align: right;\">\n",
       "      <th></th>\n",
       "      <th>travel_time</th>\n",
       "      <th>travel_from</th>\n",
       "      <th>car_type</th>\n",
       "      <th>max_capacity</th>\n",
       "      <th>number_of_tickets</th>\n",
       "      <th>travel_day</th>\n",
       "    </tr>\n",
       "    <tr>\n",
       "      <th>travel_date</th>\n",
       "      <th></th>\n",
       "      <th></th>\n",
       "      <th></th>\n",
       "      <th></th>\n",
       "      <th></th>\n",
       "      <th></th>\n",
       "    </tr>\n",
       "  </thead>\n",
       "  <tbody>\n",
       "    <tr>\n",
       "      <th>2017-10-17</th>\n",
       "      <td>7.250000</td>\n",
       "      <td>9</td>\n",
       "      <td>0</td>\n",
       "      <td>49</td>\n",
       "      <td>0.693147</td>\n",
       "      <td>290</td>\n",
       "    </tr>\n",
       "    <tr>\n",
       "      <th>2017-11-19</th>\n",
       "      <td>7.200000</td>\n",
       "      <td>9</td>\n",
       "      <td>0</td>\n",
       "      <td>49</td>\n",
       "      <td>0.693147</td>\n",
       "      <td>323</td>\n",
       "    </tr>\n",
       "    <tr>\n",
       "      <th>2017-11-26</th>\n",
       "      <td>7.083333</td>\n",
       "      <td>4</td>\n",
       "      <td>0</td>\n",
       "      <td>49</td>\n",
       "      <td>0.693147</td>\n",
       "      <td>330</td>\n",
       "    </tr>\n",
       "    <tr>\n",
       "      <th>2017-11-27</th>\n",
       "      <td>7.166667</td>\n",
       "      <td>1</td>\n",
       "      <td>0</td>\n",
       "      <td>49</td>\n",
       "      <td>1.791759</td>\n",
       "      <td>331</td>\n",
       "    </tr>\n",
       "    <tr>\n",
       "      <th>2017-11-27</th>\n",
       "      <td>7.200000</td>\n",
       "      <td>9</td>\n",
       "      <td>0</td>\n",
       "      <td>49</td>\n",
       "      <td>3.465736</td>\n",
       "      <td>331</td>\n",
       "    </tr>\n",
       "  </tbody>\n",
       "</table>\n",
       "</div>"
      ],
      "text/plain": [
       "             travel_time  travel_from  car_type  max_capacity  \\\n",
       "travel_date                                                     \n",
       "2017-10-17      7.250000            9         0            49   \n",
       "2017-11-19      7.200000            9         0            49   \n",
       "2017-11-26      7.083333            4         0            49   \n",
       "2017-11-27      7.166667            1         0            49   \n",
       "2017-11-27      7.200000            9         0            49   \n",
       "\n",
       "             number_of_tickets  travel_day  \n",
       "travel_date                                 \n",
       "2017-10-17            0.693147         290  \n",
       "2017-11-19            0.693147         323  \n",
       "2017-11-26            0.693147         330  \n",
       "2017-11-27            1.791759         331  \n",
       "2017-11-27            3.465736         331  "
      ]
     },
     "execution_count": 774,
     "metadata": {},
     "output_type": "execute_result"
    }
   ],
   "source": [
    "df_train_set = df_train_set.set_index('travel_date')\n",
    "df_train_set.head()"
   ]
  },
  {
   "cell_type": "code",
   "execution_count": null,
   "metadata": {
    "id": "Ud1krfBmkesC",
    "outputId": "efcd7c2b-8353-45ad-ee3b-d10de050405f"
   },
   "outputs": [
    {
     "data": {
      "text/plain": [
       "<pandas.core.groupby.groupby.DataFrameGroupBy object at 0x080DD350>"
      ]
     },
     "execution_count": 775,
     "metadata": {},
     "output_type": "execute_result"
    }
   ],
   "source": [
    "df_train_set.groupby(['travel_from', 'travel_time', 'travel_day'], sort=False)"
   ]
  },
  {
   "cell_type": "code",
   "execution_count": null,
   "metadata": {
    "id": "SsAlAd7WkesD"
   },
   "outputs": [],
   "source": [
    "df_train_set['period'] = np.nan"
   ]
  },
  {
   "cell_type": "code",
   "execution_count": null,
   "metadata": {
    "id": "emsFDiNLkesE"
   },
   "outputs": [],
   "source": [
    "df_train_set.loc[df_train_set.travel_time < 7, 'period'] = 'em'\n",
    "df_train_set.loc[(df_train_set.travel_time >= 7) & (df_train_set.travel_time < 11), 'period'] = 'am'\n",
    "df_train_set.loc[(df_train_set.travel_time >= 11) & (df_train_set.travel_time < 15), 'period'] = 'mid'\n",
    "df_train_set.loc[(df_train_set.travel_time >= 15) & (df_train_set.travel_time < 19), 'period'] = 'eve'\n",
    "df_train_set.loc[(df_train_set.travel_time >= 19) & (df_train_set.travel_time <= 24), 'period'] = 'pm'"
   ]
  },
  {
   "cell_type": "code",
   "execution_count": null,
   "metadata": {
    "id": "xFEIH9VYkesF"
   },
   "outputs": [],
   "source": [
    "df_train_set[\"period\"] = pd.Categorical(df_train_set[\"period\"])\n",
    "period_categories = df_train_set.period.cat.categories\n",
    "df_train_set[\"period\"] = df_train_set.period.cat.codes"
   ]
  },
  {
   "cell_type": "code",
   "execution_count": null,
   "metadata": {
    "id": "9SeqU7pkkesG",
    "outputId": "f1bf9a20-3a25-4668-a907-ced71b6a9556"
   },
   "outputs": [
    {
     "data": {
      "text/plain": [
       "{0: 4888, 1: 988, 3: 286, 2: 87}"
      ]
     },
     "execution_count": 779,
     "metadata": {},
     "output_type": "execute_result"
    }
   ],
   "source": [
    "tcount = dict(df_train_set[\"period\"].value_counts())\n",
    "tcount"
   ]
  },
  {
   "cell_type": "code",
   "execution_count": null,
   "metadata": {
    "id": "B_V7KcV6kesI",
    "outputId": "3936fa22-29f4-4c92-91e8-8ac7673c46ee"
   },
   "outputs": [
    {
     "data": {
      "text/html": [
       "<div>\n",
       "<style scoped>\n",
       "    .dataframe tbody tr th:only-of-type {\n",
       "        vertical-align: middle;\n",
       "    }\n",
       "\n",
       "    .dataframe tbody tr th {\n",
       "        vertical-align: top;\n",
       "    }\n",
       "\n",
       "    .dataframe thead th {\n",
       "        text-align: right;\n",
       "    }\n",
       "</style>\n",
       "<table border=\"1\" class=\"dataframe\">\n",
       "  <thead>\n",
       "    <tr style=\"text-align: right;\">\n",
       "      <th></th>\n",
       "      <th>travel_time</th>\n",
       "      <th>travel_from</th>\n",
       "      <th>car_type</th>\n",
       "      <th>max_capacity</th>\n",
       "      <th>number_of_tickets</th>\n",
       "      <th>travel_day</th>\n",
       "      <th>period</th>\n",
       "      <th>hourly_travelers</th>\n",
       "    </tr>\n",
       "    <tr>\n",
       "      <th>travel_date</th>\n",
       "      <th></th>\n",
       "      <th></th>\n",
       "      <th></th>\n",
       "      <th></th>\n",
       "      <th></th>\n",
       "      <th></th>\n",
       "      <th></th>\n",
       "      <th></th>\n",
       "    </tr>\n",
       "  </thead>\n",
       "  <tbody>\n",
       "    <tr>\n",
       "      <th>2017-10-17</th>\n",
       "      <td>7.250000</td>\n",
       "      <td>9</td>\n",
       "      <td>0</td>\n",
       "      <td>49</td>\n",
       "      <td>0.693147</td>\n",
       "      <td>290</td>\n",
       "      <td>0</td>\n",
       "      <td>8.494743</td>\n",
       "    </tr>\n",
       "    <tr>\n",
       "      <th>2017-11-19</th>\n",
       "      <td>7.200000</td>\n",
       "      <td>9</td>\n",
       "      <td>0</td>\n",
       "      <td>49</td>\n",
       "      <td>0.693147</td>\n",
       "      <td>323</td>\n",
       "      <td>0</td>\n",
       "      <td>8.494743</td>\n",
       "    </tr>\n",
       "    <tr>\n",
       "      <th>2017-11-26</th>\n",
       "      <td>7.083333</td>\n",
       "      <td>4</td>\n",
       "      <td>0</td>\n",
       "      <td>49</td>\n",
       "      <td>0.693147</td>\n",
       "      <td>330</td>\n",
       "      <td>0</td>\n",
       "      <td>8.494743</td>\n",
       "    </tr>\n",
       "    <tr>\n",
       "      <th>2017-11-27</th>\n",
       "      <td>7.166667</td>\n",
       "      <td>1</td>\n",
       "      <td>0</td>\n",
       "      <td>49</td>\n",
       "      <td>1.791759</td>\n",
       "      <td>331</td>\n",
       "      <td>0</td>\n",
       "      <td>8.494743</td>\n",
       "    </tr>\n",
       "    <tr>\n",
       "      <th>2017-11-27</th>\n",
       "      <td>7.200000</td>\n",
       "      <td>9</td>\n",
       "      <td>0</td>\n",
       "      <td>49</td>\n",
       "      <td>3.465736</td>\n",
       "      <td>331</td>\n",
       "      <td>0</td>\n",
       "      <td>8.494743</td>\n",
       "    </tr>\n",
       "  </tbody>\n",
       "</table>\n",
       "</div>"
      ],
      "text/plain": [
       "             travel_time  travel_from  car_type  max_capacity  \\\n",
       "travel_date                                                     \n",
       "2017-10-17      7.250000            9         0            49   \n",
       "2017-11-19      7.200000            9         0            49   \n",
       "2017-11-26      7.083333            4         0            49   \n",
       "2017-11-27      7.166667            1         0            49   \n",
       "2017-11-27      7.200000            9         0            49   \n",
       "\n",
       "             number_of_tickets  travel_day  period  hourly_travelers  \n",
       "travel_date                                                           \n",
       "2017-10-17            0.693147         290       0          8.494743  \n",
       "2017-11-19            0.693147         323       0          8.494743  \n",
       "2017-11-26            0.693147         330       0          8.494743  \n",
       "2017-11-27            1.791759         331       0          8.494743  \n",
       "2017-11-27            3.465736         331       0          8.494743  "
      ]
     },
     "execution_count": 780,
     "metadata": {},
     "output_type": "execute_result"
    }
   ],
   "source": [
    "df_train_set[\"hourly_travelers\"] = np.log1p(df_train_set[\"period\"].map(tcount))\n",
    "df_train_set.head()"
   ]
  },
  {
   "cell_type": "code",
   "execution_count": null,
   "metadata": {
    "id": "kLmqbYZnkesJ"
   },
   "outputs": [],
   "source": []
  },
  {
   "cell_type": "code",
   "execution_count": null,
   "metadata": {
    "id": "jwpLidhvkesJ",
    "outputId": "7bd3a8ff-70e0-421e-9ba4-928d3a7b1d21"
   },
   "outputs": [
    {
     "data": {
      "text/html": [
       "<div>\n",
       "<style scoped>\n",
       "    .dataframe tbody tr th:only-of-type {\n",
       "        vertical-align: middle;\n",
       "    }\n",
       "\n",
       "    .dataframe tbody tr th {\n",
       "        vertical-align: top;\n",
       "    }\n",
       "\n",
       "    .dataframe thead th {\n",
       "        text-align: right;\n",
       "    }\n",
       "</style>\n",
       "<table border=\"1\" class=\"dataframe\">\n",
       "  <thead>\n",
       "    <tr style=\"text-align: right;\">\n",
       "      <th></th>\n",
       "      <th>travel_time</th>\n",
       "      <th>travel_from</th>\n",
       "      <th>car_type</th>\n",
       "      <th>max_capacity</th>\n",
       "      <th>number_of_tickets</th>\n",
       "      <th>travel_day</th>\n",
       "      <th>period</th>\n",
       "      <th>hourly_travelers</th>\n",
       "      <th>daily_travelers</th>\n",
       "    </tr>\n",
       "    <tr>\n",
       "      <th>travel_date</th>\n",
       "      <th></th>\n",
       "      <th></th>\n",
       "      <th></th>\n",
       "      <th></th>\n",
       "      <th></th>\n",
       "      <th></th>\n",
       "      <th></th>\n",
       "      <th></th>\n",
       "      <th></th>\n",
       "    </tr>\n",
       "  </thead>\n",
       "  <tbody>\n",
       "    <tr>\n",
       "      <th>2017-10-17</th>\n",
       "      <td>7.250000</td>\n",
       "      <td>9</td>\n",
       "      <td>0</td>\n",
       "      <td>49</td>\n",
       "      <td>0.693147</td>\n",
       "      <td>290</td>\n",
       "      <td>0</td>\n",
       "      <td>8.494743</td>\n",
       "      <td>0.693147</td>\n",
       "    </tr>\n",
       "    <tr>\n",
       "      <th>2017-11-19</th>\n",
       "      <td>7.200000</td>\n",
       "      <td>9</td>\n",
       "      <td>0</td>\n",
       "      <td>49</td>\n",
       "      <td>0.693147</td>\n",
       "      <td>323</td>\n",
       "      <td>0</td>\n",
       "      <td>8.494743</td>\n",
       "      <td>0.693147</td>\n",
       "    </tr>\n",
       "    <tr>\n",
       "      <th>2017-11-26</th>\n",
       "      <td>7.083333</td>\n",
       "      <td>4</td>\n",
       "      <td>0</td>\n",
       "      <td>49</td>\n",
       "      <td>0.693147</td>\n",
       "      <td>330</td>\n",
       "      <td>0</td>\n",
       "      <td>8.494743</td>\n",
       "      <td>0.693147</td>\n",
       "    </tr>\n",
       "    <tr>\n",
       "      <th>2017-11-27</th>\n",
       "      <td>7.166667</td>\n",
       "      <td>1</td>\n",
       "      <td>0</td>\n",
       "      <td>49</td>\n",
       "      <td>1.791759</td>\n",
       "      <td>331</td>\n",
       "      <td>0</td>\n",
       "      <td>8.494743</td>\n",
       "      <td>3.871201</td>\n",
       "    </tr>\n",
       "    <tr>\n",
       "      <th>2017-11-27</th>\n",
       "      <td>7.200000</td>\n",
       "      <td>9</td>\n",
       "      <td>0</td>\n",
       "      <td>49</td>\n",
       "      <td>3.465736</td>\n",
       "      <td>331</td>\n",
       "      <td>0</td>\n",
       "      <td>8.494743</td>\n",
       "      <td>3.871201</td>\n",
       "    </tr>\n",
       "  </tbody>\n",
       "</table>\n",
       "</div>"
      ],
      "text/plain": [
       "             travel_time  travel_from  car_type  max_capacity  \\\n",
       "travel_date                                                     \n",
       "2017-10-17      7.250000            9         0            49   \n",
       "2017-11-19      7.200000            9         0            49   \n",
       "2017-11-26      7.083333            4         0            49   \n",
       "2017-11-27      7.166667            1         0            49   \n",
       "2017-11-27      7.200000            9         0            49   \n",
       "\n",
       "             number_of_tickets  travel_day  period  hourly_travelers  \\\n",
       "travel_date                                                            \n",
       "2017-10-17            0.693147         290       0          8.494743   \n",
       "2017-11-19            0.693147         323       0          8.494743   \n",
       "2017-11-26            0.693147         330       0          8.494743   \n",
       "2017-11-27            1.791759         331       0          8.494743   \n",
       "2017-11-27            3.465736         331       0          8.494743   \n",
       "\n",
       "             daily_travelers  \n",
       "travel_date                   \n",
       "2017-10-17          0.693147  \n",
       "2017-11-19          0.693147  \n",
       "2017-11-26          0.693147  \n",
       "2017-11-27          3.871201  \n",
       "2017-11-27          3.871201  "
      ]
     },
     "execution_count": 808,
     "metadata": {},
     "output_type": "execute_result"
    }
   ],
   "source": [
    "tcount = dict(df_train_set[\"travel_day\"].value_counts())\n",
    "df_train_set[\"daily_travelers\"] = np.log1p(df_train_set[\"travel_day\"].map(tcount))\n",
    "df_train_set.head()"
   ]
  },
  {
   "cell_type": "code",
   "execution_count": null,
   "metadata": {
    "id": "HjY1FukokesL",
    "outputId": "a39e4488-0fb9-477c-9aa2-212a4ae7a054"
   },
   "outputs": [
    {
     "data": {
      "text/plain": [
       "(6249, 9)"
      ]
     },
     "execution_count": 809,
     "metadata": {},
     "output_type": "execute_result"
    }
   ],
   "source": [
    "df_train_set.shape"
   ]
  },
  {
   "cell_type": "code",
   "execution_count": null,
   "metadata": {
    "id": "b7tY8qr1kesM"
   },
   "outputs": [],
   "source": [
    "\"\"\" Separate the data into features and targets \"\"\"\n",
    "target_var = ['number_of_tickets']\n",
    "features, targets = df_train_set.drop(target_var, axis=1), df_train_set[target_var]"
   ]
  },
  {
   "cell_type": "code",
   "execution_count": null,
   "metadata": {
    "id": "VSQT_YBIkesN"
   },
   "outputs": [],
   "source": [
    "train_X, val_X, train_y, val_y = train_test_split(features, targets, test_size=0.2, random_state=0)"
   ]
  },
  {
   "cell_type": "markdown",
   "metadata": {
    "id": "moJ0-AF0kesO"
   },
   "source": [
    "# Random forest model"
   ]
  },
  {
   "cell_type": "code",
   "execution_count": null,
   "metadata": {
    "id": "FfsndiSbkesR"
   },
   "outputs": [],
   "source": [
    "X = train_X\n",
    "y = train_y"
   ]
  },
  {
   "cell_type": "code",
   "execution_count": null,
   "metadata": {
    "id": "VEhFbTiJkesR"
   },
   "outputs": [],
   "source": [
    "#identifying optimum features\n",
    "def get_mae(max_leaf_nodes, X, val_X, y, val_y):\n",
    "    fmod = RandomForestRegressor(max_leaf_nodes=max_leaf_nodes, random_state=42, criterion='mae', n_estimators=1000, n_jobs=-1)\n",
    "    fmod.fit(X, y)\n",
    "    preds = fmod.predict(val_X)\n",
    "    ma_e = mean_absolute_error(np.expm1(val_y), np.expm1(preds))\n",
    "    return ma_e"
   ]
  },
  {
   "cell_type": "code",
   "execution_count": null,
   "metadata": {
    "id": "FEO_OBXTkesS"
   },
   "outputs": [],
   "source": [
    "for max_leaf_nodes in [10,100,120,140,200,400]:\n",
    "    my_mae = get_mae(max_leaf_nodes, X, val_X, y, val_y)\n",
    "    print(f\"Max_leaf_nodes: {max_leaf_nodes}, \\t MAE: {my_mae}\")"
   ]
  },
  {
   "cell_type": "code",
   "execution_count": null,
   "metadata": {
    "id": "af7HfADvkesS"
   },
   "outputs": [],
   "source": [
    "model = RandomForestRegressor(criterion='mae', max_depth=100, max_leaf_nodes=900, \n",
    "                              min_samples_leaf= 3, min_samples_split=8,\n",
    "                              n_estimators=1500, n_jobs=-1, random_state=42)"
   ]
  },
  {
   "cell_type": "code",
   "execution_count": null,
   "metadata": {
    "id": "GVkMVuW-kesT",
    "outputId": "a70b2ca6-e734-44b4-85f7-355168bfeb8d"
   },
   "outputs": [
    {
     "name": "stderr",
     "output_type": "stream",
     "text": [
      "C:\\Users\\User\\Anaconda3\\lib\\site-packages\\ipykernel_launcher.py:1: DataConversionWarning: A column-vector y was passed when a 1d array was expected. Please change the shape of y to (n_samples,), for example using ravel().\n",
      "  \"\"\"Entry point for launching an IPython kernel.\n"
     ]
    },
    {
     "data": {
      "text/plain": [
       "RandomForestRegressor(bootstrap=True, criterion='mae', max_depth=100,\n",
       "           max_features='auto', max_leaf_nodes=900,\n",
       "           min_impurity_decrease=0.0, min_impurity_split=None,\n",
       "           min_samples_leaf=3, min_samples_split=8,\n",
       "           min_weight_fraction_leaf=0.0, n_estimators=1500, n_jobs=-1,\n",
       "           oob_score=False, random_state=42, verbose=0, warm_start=False)"
      ]
     },
     "execution_count": 814,
     "metadata": {},
     "output_type": "execute_result"
    }
   ],
   "source": [
    "model.fit(X,y)"
   ]
  },
  {
   "cell_type": "code",
   "execution_count": null,
   "metadata": {
    "id": "b_5IUTAOkesT"
   },
   "outputs": [],
   "source": [
    "preds_train_set = model.predict(val_X)"
   ]
  },
  {
   "cell_type": "code",
   "execution_count": null,
   "metadata": {
    "id": "jPFAZJ1KkesU",
    "outputId": "b6f12f89-5c5a-4693-a84e-65f65fffd131"
   },
   "outputs": [
    {
     "name": "stdout",
     "output_type": "stream",
     "text": [
      "3.273359441266504\n"
     ]
    }
   ],
   "source": [
    "print (mean_absolute_error(np.expm1(preds_train_set), np.expm1(val_y)))"
   ]
  },
  {
   "cell_type": "code",
   "execution_count": null,
   "metadata": {
    "id": "4KBqxglokesV"
   },
   "outputs": [],
   "source": []
  },
  {
   "cell_type": "markdown",
   "metadata": {
    "id": "TuDtl89OkesV"
   },
   "source": [
    "# Predictions for test set"
   ]
  },
  {
   "cell_type": "code",
   "execution_count": null,
   "metadata": {
    "id": "LtPCnPU5kesV"
   },
   "outputs": [],
   "source": [
    "df_test_set = pd.read_csv('test_questions.csv')"
   ]
  },
  {
   "cell_type": "code",
   "execution_count": null,
   "metadata": {
    "id": "JRm3vRfEkesW"
   },
   "outputs": [],
   "source": [
    "df_test_set.drop(['travel_to'], axis=1, inplace=True)"
   ]
  },
  {
   "cell_type": "code",
   "execution_count": null,
   "metadata": {
    "id": "MxLi-EZAkesW"
   },
   "outputs": [],
   "source": [
    "df_test_set[\"travel_date\"] = pd.to_datetime(df_test_set[\"travel_date\"],infer_datetime_format=True)\n",
    "df_test_set[\"travel_day\"] = df_test_set[\"travel_date\"].dt.dayofyear"
   ]
  },
  {
   "cell_type": "code",
   "execution_count": null,
   "metadata": {
    "id": "cCfHi3rzkesX"
   },
   "outputs": [],
   "source": [
    "df_test_set[\"car_type\"] = pd.Categorical(df_test_set[\"car_type\"], categories=car_type_categories)\n",
    "df_test_set[\"car_type\"] = df_test_set.car_type.cat.codes"
   ]
  },
  {
   "cell_type": "code",
   "execution_count": null,
   "metadata": {
    "id": "vIa3IIj0kesX"
   },
   "outputs": [],
   "source": [
    "df_test_set[\"travel_from\"] = pd.Categorical(df_test_set[\"travel_from\"], categories=travel_from_categories)\n",
    "df_test_set[\"travel_from\"] = df_test_set.travel_from.cat.codes"
   ]
  },
  {
   "cell_type": "code",
   "execution_count": null,
   "metadata": {
    "id": "g7jK5ZCEkesY"
   },
   "outputs": [],
   "source": [
    "df_test_set[\"travel_time\"] = df_test_set[\"travel_time\"].str.split(':').apply(lambda x: int(x[0]) + int(x[1])/60)"
   ]
  },
  {
   "cell_type": "code",
   "execution_count": null,
   "metadata": {
    "id": "sLYVLEwhkesY",
    "outputId": "ee8adf14-7ce3-4f58-b0cc-f3ac2260ba79"
   },
   "outputs": [
    {
     "data": {
      "text/html": [
       "<div>\n",
       "<style scoped>\n",
       "    .dataframe tbody tr th:only-of-type {\n",
       "        vertical-align: middle;\n",
       "    }\n",
       "\n",
       "    .dataframe tbody tr th {\n",
       "        vertical-align: top;\n",
       "    }\n",
       "\n",
       "    .dataframe thead th {\n",
       "        text-align: right;\n",
       "    }\n",
       "</style>\n",
       "<table border=\"1\" class=\"dataframe\">\n",
       "  <thead>\n",
       "    <tr style=\"text-align: right;\">\n",
       "      <th></th>\n",
       "      <th>ride_id</th>\n",
       "      <th>travel_time</th>\n",
       "      <th>travel_from</th>\n",
       "      <th>car_type</th>\n",
       "      <th>max_capacity</th>\n",
       "      <th>travel_day</th>\n",
       "    </tr>\n",
       "    <tr>\n",
       "      <th>travel_date</th>\n",
       "      <th></th>\n",
       "      <th></th>\n",
       "      <th></th>\n",
       "      <th></th>\n",
       "      <th></th>\n",
       "      <th></th>\n",
       "    </tr>\n",
       "  </thead>\n",
       "  <tbody>\n",
       "    <tr>\n",
       "      <th>2018-05-07</th>\n",
       "      <td>247</td>\n",
       "      <td>7.100000</td>\n",
       "      <td>7</td>\n",
       "      <td>0</td>\n",
       "      <td>49</td>\n",
       "      <td>127</td>\n",
       "    </tr>\n",
       "    <tr>\n",
       "      <th>2018-05-06</th>\n",
       "      <td>256</td>\n",
       "      <td>11.133333</td>\n",
       "      <td>7</td>\n",
       "      <td>1</td>\n",
       "      <td>11</td>\n",
       "      <td>126</td>\n",
       "    </tr>\n",
       "    <tr>\n",
       "      <th>2018-05-04</th>\n",
       "      <td>275</td>\n",
       "      <td>5.000000</td>\n",
       "      <td>7</td>\n",
       "      <td>1</td>\n",
       "      <td>11</td>\n",
       "      <td>124</td>\n",
       "    </tr>\n",
       "    <tr>\n",
       "      <th>2018-05-04</th>\n",
       "      <td>285</td>\n",
       "      <td>9.166667</td>\n",
       "      <td>7</td>\n",
       "      <td>1</td>\n",
       "      <td>11</td>\n",
       "      <td>124</td>\n",
       "    </tr>\n",
       "    <tr>\n",
       "      <th>2018-05-04</th>\n",
       "      <td>286</td>\n",
       "      <td>9.333333</td>\n",
       "      <td>7</td>\n",
       "      <td>1</td>\n",
       "      <td>11</td>\n",
       "      <td>124</td>\n",
       "    </tr>\n",
       "  </tbody>\n",
       "</table>\n",
       "</div>"
      ],
      "text/plain": [
       "             ride_id  travel_time  travel_from  car_type  max_capacity  \\\n",
       "travel_date                                                              \n",
       "2018-05-07       247     7.100000            7         0            49   \n",
       "2018-05-06       256    11.133333            7         1            11   \n",
       "2018-05-04       275     5.000000            7         1            11   \n",
       "2018-05-04       285     9.166667            7         1            11   \n",
       "2018-05-04       286     9.333333            7         1            11   \n",
       "\n",
       "             travel_day  \n",
       "travel_date              \n",
       "2018-05-07          127  \n",
       "2018-05-06          126  \n",
       "2018-05-04          124  \n",
       "2018-05-04          124  \n",
       "2018-05-04          124  "
      ]
     },
     "execution_count": 823,
     "metadata": {},
     "output_type": "execute_result"
    }
   ],
   "source": [
    "df_test_set = df_test_set.set_index('travel_date')\n",
    "df_test_set.head()"
   ]
  },
  {
   "cell_type": "code",
   "execution_count": null,
   "metadata": {
    "id": "4u3MyEsYkesZ",
    "outputId": "413e5386-fab1-4a35-a338-d43ba14d2823"
   },
   "outputs": [
    {
     "data": {
      "text/plain": [
       "<pandas.core.groupby.groupby.DataFrameGroupBy object at 0x0C9C1AB0>"
      ]
     },
     "execution_count": 824,
     "metadata": {},
     "output_type": "execute_result"
    }
   ],
   "source": [
    "df_test_set.groupby(['travel_time', 'travel_from', 'travel_day'])"
   ]
  },
  {
   "cell_type": "code",
   "execution_count": null,
   "metadata": {
    "id": "vbn7KJD4kesZ"
   },
   "outputs": [],
   "source": [
    "df_test_set['period'] = np.nan"
   ]
  },
  {
   "cell_type": "code",
   "execution_count": null,
   "metadata": {
    "id": "5Lm86fqjkesa"
   },
   "outputs": [],
   "source": [
    "df_test_set.loc[df_test_set.travel_time < 7, 'period'] = 'em'\n",
    "df_test_set.loc[(df_test_set.travel_time >= 7) & (df_test_set.travel_time < 11), 'period'] = 'am'\n",
    "df_test_set.loc[(df_test_set.travel_time >= 11) & (df_test_set.travel_time < 15), 'period'] = 'mid'\n",
    "df_test_set.loc[(df_test_set.travel_time >= 15) & (df_test_set.travel_time < 19), 'period'] = 'eve'\n",
    "df_test_set.loc[(df_test_set.travel_time >= 19) & (df_test_set.travel_time <= 24), 'period'] = 'pm'"
   ]
  },
  {
   "cell_type": "code",
   "execution_count": null,
   "metadata": {
    "id": "EGJM_inMkesa",
    "outputId": "9f9f657b-c7bb-4931-c140-83ce979ff271"
   },
   "outputs": [
    {
     "data": {
      "text/plain": [
       "{'am': 791, 'em': 145, 'pm': 123, 'mid': 52}"
      ]
     },
     "execution_count": 827,
     "metadata": {},
     "output_type": "execute_result"
    }
   ],
   "source": [
    "pcount = dict(df_test_set['period'].value_counts())\n",
    "pcount"
   ]
  },
  {
   "cell_type": "code",
   "execution_count": null,
   "metadata": {
    "id": "5ZUx8XzZkesb"
   },
   "outputs": [],
   "source": [
    "df_test_set['hourly_travelers'] = np.log1p(df_test_set['period'].map(pcount))"
   ]
  },
  {
   "cell_type": "code",
   "execution_count": null,
   "metadata": {
    "id": "LhTmCefzkesb",
    "outputId": "82b96d36-7a99-4b39-9c02-2365d7cdda61"
   },
   "outputs": [
    {
     "data": {
      "text/html": [
       "<div>\n",
       "<style scoped>\n",
       "    .dataframe tbody tr th:only-of-type {\n",
       "        vertical-align: middle;\n",
       "    }\n",
       "\n",
       "    .dataframe tbody tr th {\n",
       "        vertical-align: top;\n",
       "    }\n",
       "\n",
       "    .dataframe thead th {\n",
       "        text-align: right;\n",
       "    }\n",
       "</style>\n",
       "<table border=\"1\" class=\"dataframe\">\n",
       "  <thead>\n",
       "    <tr style=\"text-align: right;\">\n",
       "      <th></th>\n",
       "      <th>ride_id</th>\n",
       "      <th>travel_time</th>\n",
       "      <th>travel_from</th>\n",
       "      <th>car_type</th>\n",
       "      <th>max_capacity</th>\n",
       "      <th>travel_day</th>\n",
       "      <th>period</th>\n",
       "      <th>hourly_travelers</th>\n",
       "      <th>daily_travelers</th>\n",
       "    </tr>\n",
       "    <tr>\n",
       "      <th>travel_date</th>\n",
       "      <th></th>\n",
       "      <th></th>\n",
       "      <th></th>\n",
       "      <th></th>\n",
       "      <th></th>\n",
       "      <th></th>\n",
       "      <th></th>\n",
       "      <th></th>\n",
       "      <th></th>\n",
       "    </tr>\n",
       "  </thead>\n",
       "  <tbody>\n",
       "    <tr>\n",
       "      <th>2018-05-07</th>\n",
       "      <td>247</td>\n",
       "      <td>7.100000</td>\n",
       "      <td>7</td>\n",
       "      <td>0</td>\n",
       "      <td>49</td>\n",
       "      <td>127</td>\n",
       "      <td>am</td>\n",
       "      <td>6.674561</td>\n",
       "      <td>1.945910</td>\n",
       "    </tr>\n",
       "    <tr>\n",
       "      <th>2018-05-06</th>\n",
       "      <td>256</td>\n",
       "      <td>11.133333</td>\n",
       "      <td>7</td>\n",
       "      <td>1</td>\n",
       "      <td>11</td>\n",
       "      <td>126</td>\n",
       "      <td>mid</td>\n",
       "      <td>3.970292</td>\n",
       "      <td>2.564949</td>\n",
       "    </tr>\n",
       "    <tr>\n",
       "      <th>2018-05-04</th>\n",
       "      <td>275</td>\n",
       "      <td>5.000000</td>\n",
       "      <td>7</td>\n",
       "      <td>1</td>\n",
       "      <td>11</td>\n",
       "      <td>124</td>\n",
       "      <td>em</td>\n",
       "      <td>4.983607</td>\n",
       "      <td>4.094345</td>\n",
       "    </tr>\n",
       "    <tr>\n",
       "      <th>2018-05-04</th>\n",
       "      <td>285</td>\n",
       "      <td>9.166667</td>\n",
       "      <td>7</td>\n",
       "      <td>1</td>\n",
       "      <td>11</td>\n",
       "      <td>124</td>\n",
       "      <td>am</td>\n",
       "      <td>6.674561</td>\n",
       "      <td>4.094345</td>\n",
       "    </tr>\n",
       "    <tr>\n",
       "      <th>2018-05-04</th>\n",
       "      <td>286</td>\n",
       "      <td>9.333333</td>\n",
       "      <td>7</td>\n",
       "      <td>1</td>\n",
       "      <td>11</td>\n",
       "      <td>124</td>\n",
       "      <td>am</td>\n",
       "      <td>6.674561</td>\n",
       "      <td>4.094345</td>\n",
       "    </tr>\n",
       "  </tbody>\n",
       "</table>\n",
       "</div>"
      ],
      "text/plain": [
       "             ride_id  travel_time  travel_from  car_type  max_capacity  \\\n",
       "travel_date                                                              \n",
       "2018-05-07       247     7.100000            7         0            49   \n",
       "2018-05-06       256    11.133333            7         1            11   \n",
       "2018-05-04       275     5.000000            7         1            11   \n",
       "2018-05-04       285     9.166667            7         1            11   \n",
       "2018-05-04       286     9.333333            7         1            11   \n",
       "\n",
       "             travel_day period  hourly_travelers  daily_travelers  \n",
       "travel_date                                                        \n",
       "2018-05-07          127     am          6.674561         1.945910  \n",
       "2018-05-06          126    mid          3.970292         2.564949  \n",
       "2018-05-04          124     em          4.983607         4.094345  \n",
       "2018-05-04          124     am          6.674561         4.094345  \n",
       "2018-05-04          124     am          6.674561         4.094345  "
      ]
     },
     "execution_count": 829,
     "metadata": {},
     "output_type": "execute_result"
    }
   ],
   "source": [
    "dcount = dict(df_test_set[\"travel_day\"].value_counts())\n",
    "df_test_set[\"daily_travelers\"] = np.log1p(df_test_set[\"travel_day\"].map(dcount))\n",
    "df_test_set.head()"
   ]
  },
  {
   "cell_type": "code",
   "execution_count": null,
   "metadata": {
    "id": "P6KEhMQpkesc"
   },
   "outputs": [],
   "source": [
    "df_test_set[\"period\"] = pd.Categorical(df_test_set[\"period\"])\n",
    "period_categories = df_test_set.period.cat.categories\n",
    "df_test_set[\"period\"] = df_test_set.period.cat.codes"
   ]
  },
  {
   "cell_type": "markdown",
   "metadata": {
    "id": "THI0Bx7akesc"
   },
   "source": [
    "Now let's calculate predictions using the random forest model we trained."
   ]
  },
  {
   "cell_type": "code",
   "execution_count": null,
   "metadata": {
    "id": "yu-7tzy9kesd"
   },
   "outputs": [],
   "source": [
    "X_test = df_test_set.drop(['ride_id'], axis=1)\n",
    "test_set_predictions = model.predict(X_test)"
   ]
  },
  {
   "cell_type": "markdown",
   "metadata": {
    "id": "QNsMQqickesd"
   },
   "source": [
    "And finally let's create a csv file with predictions. "
   ]
  },
  {
   "cell_type": "code",
   "execution_count": null,
   "metadata": {
    "id": "U_d6v0Tukesd"
   },
   "outputs": [],
   "source": [
    "d = {'ride_id': df_test_set.ride_id, 'number_of_ticket': np.round(np.expm1(test_set_predictions), 0)}\n",
    "df_predictions = pd.DataFrame(data=d)"
   ]
  },
  {
   "cell_type": "code",
   "execution_count": null,
   "metadata": {
    "id": "IpbTn-HFkese",
    "outputId": "46b11741-f11d-42d6-c9e9-8b533c03f822"
   },
   "outputs": [
    {
     "data": {
      "text/html": [
       "<div>\n",
       "<style scoped>\n",
       "    .dataframe tbody tr th:only-of-type {\n",
       "        vertical-align: middle;\n",
       "    }\n",
       "\n",
       "    .dataframe tbody tr th {\n",
       "        vertical-align: top;\n",
       "    }\n",
       "\n",
       "    .dataframe thead th {\n",
       "        text-align: right;\n",
       "    }\n",
       "</style>\n",
       "<table border=\"1\" class=\"dataframe\">\n",
       "  <thead>\n",
       "    <tr style=\"text-align: right;\">\n",
       "      <th></th>\n",
       "      <th>ride_id</th>\n",
       "      <th>number_of_ticket</th>\n",
       "    </tr>\n",
       "    <tr>\n",
       "      <th>travel_date</th>\n",
       "      <th></th>\n",
       "      <th></th>\n",
       "    </tr>\n",
       "  </thead>\n",
       "  <tbody>\n",
       "    <tr>\n",
       "      <th>2018-05-07</th>\n",
       "      <td>247</td>\n",
       "      <td>3.0</td>\n",
       "    </tr>\n",
       "    <tr>\n",
       "      <th>2018-05-06</th>\n",
       "      <td>256</td>\n",
       "      <td>1.0</td>\n",
       "    </tr>\n",
       "    <tr>\n",
       "      <th>2018-05-04</th>\n",
       "      <td>275</td>\n",
       "      <td>1.0</td>\n",
       "    </tr>\n",
       "    <tr>\n",
       "      <th>2018-05-04</th>\n",
       "      <td>285</td>\n",
       "      <td>9.0</td>\n",
       "    </tr>\n",
       "    <tr>\n",
       "      <th>2018-05-04</th>\n",
       "      <td>286</td>\n",
       "      <td>9.0</td>\n",
       "    </tr>\n",
       "  </tbody>\n",
       "</table>\n",
       "</div>"
      ],
      "text/plain": [
       "             ride_id  number_of_ticket\n",
       "travel_date                           \n",
       "2018-05-07       247               3.0\n",
       "2018-05-06       256               1.0\n",
       "2018-05-04       275               1.0\n",
       "2018-05-04       285               9.0\n",
       "2018-05-04       286               9.0"
      ]
     },
     "execution_count": 833,
     "metadata": {},
     "output_type": "execute_result"
    }
   ],
   "source": [
    "df_predictions.head()"
   ]
  },
  {
   "cell_type": "code",
   "execution_count": null,
   "metadata": {
    "id": "LFc5g5T7kese"
   },
   "outputs": [],
   "source": [
    "df_predictions.to_csv('zindi_submission_file.csv', index=False) #save to csv file"
   ]
  },
  {
   "cell_type": "code",
   "execution_count": null,
   "metadata": {
    "id": "0wuN5bPbkesf"
   },
   "outputs": [],
   "source": []
  }
 ],
 "metadata": {
  "colab": {
   "name": "Prediction_model.ipynb",
   "provenance": []
  },
  "kernelspec": {
   "display_name": "Python 3 (ipykernel)",
   "language": "python",
   "name": "python3"
  },
  "language_info": {
   "codemirror_mode": {
    "name": "ipython",
    "version": 3
   },
   "file_extension": ".py",
   "mimetype": "text/x-python",
   "name": "python",
   "nbconvert_exporter": "python",
   "pygments_lexer": "ipython3",
   "version": "3.9.13"
  }
 },
 "nbformat": 4,
 "nbformat_minor": 1
}
