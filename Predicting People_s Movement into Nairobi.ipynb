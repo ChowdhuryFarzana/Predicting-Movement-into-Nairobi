{
 "cells": [
  {
   "cell_type": "markdown",
   "metadata": {
    "id": "NdPZcyoJiY-W"
   },
   "source": [
    "# Description\n",
    "This challenge asks you to build a model that **predicts the number of seats that Mobiticket can expect to sell for each ride**, i.e. for a specific route on a specific date and time. There are 14 routes in this dataset. All of the routes end in Nairobi and originate in towns to the North-West of Nairobi towards Lake Victoria.\n",
    " \n",
    "\n",
    "\n",
    "\n"
   ]
  },
  {
   "cell_type": "code",
   "execution_count": 36,
   "metadata": {
    "executionInfo": {
     "elapsed": 1055,
     "status": "ok",
     "timestamp": 1655391794355,
     "user": {
      "displayName": "Muriithi Ruth Nduta",
      "userId": "02314034622241805526"
     },
     "user_tz": -180
    },
    "id": "cZnkB_RFh-p4"
   },
   "outputs": [],
   "source": [
    "# from google.colab import drive\n",
    "# drive.mount('/content/drive')"
   ]
  },
  {
   "cell_type": "markdown",
   "metadata": {
    "id": "mopTXCsBihWP"
   },
   "source": [
    "#Problem Statement\n",
    "\n",
    "Nairobi is one of the most heavily congested cities in Africa. Each day thousands of Kenyans make the trip into Nairobi from towns such as Kisii, Keroka, and beyond for work, business, or to visit friends and family. \n",
    "\n",
    "The journey can be long, and the final approach into the city can impact the length of the trip significantly depending on traffic. \n",
    "* How do traffic patterns influence people’s decisions to come into the city by bus and which bus to take? \n",
    "* Does knowing the traffic patterns in Nairobi help anticipate the demand for particular routes at particular times?\n"
   ]
  },
  {
   "cell_type": "markdown",
   "metadata": {
    "id": "CNxaZcfniofm"
   },
   "source": [
    "#Objective\n",
    "\n",
    "The aim of the competition is to create a predictive model using traffic data provided from Uber Movement and historic bus ticket sales data from Mobiticket to predict the number of tickets that will be sold for buses into Nairobi from cities in \"up country\" Kenya."
   ]
  },
  {
   "cell_type": "markdown",
   "metadata": {
    "id": "F7h3QjLqjpk9"
   },
   "source": [
    "#Data Description\n",
    "The data used to train the model will be historic hourly traffic patterns in Nairobi and historic ticket purchasing data for 14 bus routes into Nairobi from October 2017 to April 2018, and includes the place or origin, the scheduled time of departure, the channel used for the purchase, the type of vehicle, the capacity of the vehicle, and the assigned seat number.\n",
    " \n",
    "\n",
    " ***Variables description***:\n",
    "\n",
    "- ride_id: unique ID of a vehicle on a specific route on a specific day and time.\n",
    "- seat_number: seat assigned to ticket\n",
    "- payment_method: method used by customer to purchase ticket from Mobiticket (cash or Mpesa)\n",
    "- payment_receipt: unique id number for ticket purchased from Mobiticket\n",
    "- travel_date: date of ride departure. (MM/DD/YYYY)\n",
    "- travel_time: scheduled departure time of ride. Rides generally depart on time. (hh:mm)\n",
    "- travel_from: town from which ride originated\n",
    "- travel_to: destination of ride. All rides are to Nairobi.\n",
    "- car_type: vehicle type (shuttle or bus)\n",
    "- max_capacity: number of seats on the vehicle"
   ]
  },
  {
   "cell_type": "code",
   "execution_count": 37,
   "metadata": {
    "executionInfo": {
     "elapsed": 30,
     "status": "ok",
     "timestamp": 1655391794356,
     "user": {
      "displayName": "Muriithi Ruth Nduta",
      "userId": "02314034622241805526"
     },
     "user_tz": -180
    },
    "id": "GsxsCJyNFxBZ"
   },
   "outputs": [],
   "source": [
    "# Import libraries\n",
    "import pandas as pd\n",
    "import numpy as np\n",
    "import matplotlib.pyplot as plt\n",
    "import seaborn as sns\n",
    "from sklearn.metrics import auc, classification_report, roc_auc_score\n",
    "from sklearn.model_selection import train_test_split\n",
    "from lightgbm import LGBMClassifier\n",
    "from sklearn.ensemble import RandomForestClassifier\n",
    "pd.set_option('max_colwidth', 500)\n",
    "%matplotlib inline\n",
    "import warnings\n",
    "warnings.filterwarnings('ignore')\n",
    "import sklearn.metrics as metrics\n",
    "from sklearn.metrics import mean_absolute_error"
   ]
  },
  {
   "cell_type": "code",
   "execution_count": 80,
   "metadata": {
    "executionInfo": {
     "elapsed": 1803,
     "status": "ok",
     "timestamp": 1655393415561,
     "user": {
      "displayName": "Muriithi Ruth Nduta",
      "userId": "02314034622241805526"
     },
     "user_tz": -180
    },
    "id": "0_7BVS92U0Ti"
   },
   "outputs": [],
   "source": [
    "# Load files\n",
    "'''\n",
    "train = pd.read_csv('/content/train_revised.csv')\n",
    "test = pd.read_csv('/content/test_questions (1).csv')\n",
    "samplesubmission = pd.read_csv('/content/sample_submission (3).csv')\n",
    "'''\n",
    "# Load files\n",
    "train = pd.read_csv('train_revised.csv')\n",
    "# test = pd.read_csv('test_questions.csv')\n",
    "samplesubmission = pd.read_csv('sample_submission.csv')\n"
   ]
  },
  {
   "cell_type": "code",
   "execution_count": 78,
   "metadata": {
    "colab": {
     "base_uri": "https://localhost:8080/",
     "height": 206
    },
    "executionInfo": {
     "elapsed": 453,
     "status": "ok",
     "timestamp": 1655393024496,
     "user": {
      "displayName": "Muriithi Ruth Nduta",
      "userId": "02314034622241805526"
     },
     "user_tz": -180
    },
    "id": "f_LhTb6nU0Se",
    "outputId": "653f100d-ae8c-44c1-eda2-f4be1f0cbe72"
   },
   "outputs": [
    {
     "data": {
      "text/html": [
       "\n",
       "  <div id=\"df-b9ad915d-06b2-443a-babe-bf30b95c53d0\">\n",
       "    <div class=\"colab-df-container\">\n",
       "      <div>\n",
       "<style scoped>\n",
       "    .dataframe tbody tr th:only-of-type {\n",
       "        vertical-align: middle;\n",
       "    }\n",
       "\n",
       "    .dataframe tbody tr th {\n",
       "        vertical-align: top;\n",
       "    }\n",
       "\n",
       "    .dataframe thead th {\n",
       "        text-align: right;\n",
       "    }\n",
       "</style>\n",
       "<table border=\"1\" class=\"dataframe\">\n",
       "  <thead>\n",
       "    <tr style=\"text-align: right;\">\n",
       "      <th></th>\n",
       "      <th>ride_id</th>\n",
       "      <th>seat_number</th>\n",
       "      <th>payment_method</th>\n",
       "      <th>payment_receipt</th>\n",
       "      <th>travel_date</th>\n",
       "      <th>travel_time</th>\n",
       "      <th>travel_from</th>\n",
       "      <th>travel_to</th>\n",
       "      <th>car_type</th>\n",
       "      <th>max_capacity</th>\n",
       "    </tr>\n",
       "  </thead>\n",
       "  <tbody>\n",
       "    <tr>\n",
       "      <th>0</th>\n",
       "      <td>1442</td>\n",
       "      <td>15A</td>\n",
       "      <td>Mpesa</td>\n",
       "      <td>UZUEHCBUSO</td>\n",
       "      <td>17-10-17</td>\n",
       "      <td>7:15</td>\n",
       "      <td>Migori</td>\n",
       "      <td>Nairobi</td>\n",
       "      <td>Bus</td>\n",
       "      <td>49</td>\n",
       "    </tr>\n",
       "    <tr>\n",
       "      <th>1</th>\n",
       "      <td>5437</td>\n",
       "      <td>14A</td>\n",
       "      <td>Mpesa</td>\n",
       "      <td>TIHLBUSGTE</td>\n",
       "      <td>19-11-17</td>\n",
       "      <td>7:12</td>\n",
       "      <td>Migori</td>\n",
       "      <td>Nairobi</td>\n",
       "      <td>Bus</td>\n",
       "      <td>49</td>\n",
       "    </tr>\n",
       "    <tr>\n",
       "      <th>2</th>\n",
       "      <td>5710</td>\n",
       "      <td>8B</td>\n",
       "      <td>Mpesa</td>\n",
       "      <td>EQX8Q5G19O</td>\n",
       "      <td>26-11-17</td>\n",
       "      <td>7:05</td>\n",
       "      <td>Keroka</td>\n",
       "      <td>Nairobi</td>\n",
       "      <td>Bus</td>\n",
       "      <td>49</td>\n",
       "    </tr>\n",
       "    <tr>\n",
       "      <th>3</th>\n",
       "      <td>5777</td>\n",
       "      <td>19A</td>\n",
       "      <td>Mpesa</td>\n",
       "      <td>SGP18CL0ME</td>\n",
       "      <td>27-11-17</td>\n",
       "      <td>7:10</td>\n",
       "      <td>Homa Bay</td>\n",
       "      <td>Nairobi</td>\n",
       "      <td>Bus</td>\n",
       "      <td>49</td>\n",
       "    </tr>\n",
       "    <tr>\n",
       "      <th>4</th>\n",
       "      <td>5778</td>\n",
       "      <td>11A</td>\n",
       "      <td>Mpesa</td>\n",
       "      <td>BM97HFRGL9</td>\n",
       "      <td>27-11-17</td>\n",
       "      <td>7:12</td>\n",
       "      <td>Migori</td>\n",
       "      <td>Nairobi</td>\n",
       "      <td>Bus</td>\n",
       "      <td>49</td>\n",
       "    </tr>\n",
       "  </tbody>\n",
       "</table>\n",
       "</div>\n",
       "      <button class=\"colab-df-convert\" onclick=\"convertToInteractive('df-b9ad915d-06b2-443a-babe-bf30b95c53d0')\"\n",
       "              title=\"Convert this dataframe to an interactive table.\"\n",
       "              style=\"display:none;\">\n",
       "        \n",
       "  <svg xmlns=\"http://www.w3.org/2000/svg\" height=\"24px\"viewBox=\"0 0 24 24\"\n",
       "       width=\"24px\">\n",
       "    <path d=\"M0 0h24v24H0V0z\" fill=\"none\"/>\n",
       "    <path d=\"M18.56 5.44l.94 2.06.94-2.06 2.06-.94-2.06-.94-.94-2.06-.94 2.06-2.06.94zm-11 1L8.5 8.5l.94-2.06 2.06-.94-2.06-.94L8.5 2.5l-.94 2.06-2.06.94zm10 10l.94 2.06.94-2.06 2.06-.94-2.06-.94-.94-2.06-.94 2.06-2.06.94z\"/><path d=\"M17.41 7.96l-1.37-1.37c-.4-.4-.92-.59-1.43-.59-.52 0-1.04.2-1.43.59L10.3 9.45l-7.72 7.72c-.78.78-.78 2.05 0 2.83L4 21.41c.39.39.9.59 1.41.59.51 0 1.02-.2 1.41-.59l7.78-7.78 2.81-2.81c.8-.78.8-2.07 0-2.86zM5.41 20L4 18.59l7.72-7.72 1.47 1.35L5.41 20z\"/>\n",
       "  </svg>\n",
       "      </button>\n",
       "      \n",
       "  <style>\n",
       "    .colab-df-container {\n",
       "      display:flex;\n",
       "      flex-wrap:wrap;\n",
       "      gap: 12px;\n",
       "    }\n",
       "\n",
       "    .colab-df-convert {\n",
       "      background-color: #E8F0FE;\n",
       "      border: none;\n",
       "      border-radius: 50%;\n",
       "      cursor: pointer;\n",
       "      display: none;\n",
       "      fill: #1967D2;\n",
       "      height: 32px;\n",
       "      padding: 0 0 0 0;\n",
       "      width: 32px;\n",
       "    }\n",
       "\n",
       "    .colab-df-convert:hover {\n",
       "      background-color: #E2EBFA;\n",
       "      box-shadow: 0px 1px 2px rgba(60, 64, 67, 0.3), 0px 1px 3px 1px rgba(60, 64, 67, 0.15);\n",
       "      fill: #174EA6;\n",
       "    }\n",
       "\n",
       "    [theme=dark] .colab-df-convert {\n",
       "      background-color: #3B4455;\n",
       "      fill: #D2E3FC;\n",
       "    }\n",
       "\n",
       "    [theme=dark] .colab-df-convert:hover {\n",
       "      background-color: #434B5C;\n",
       "      box-shadow: 0px 1px 3px 1px rgba(0, 0, 0, 0.15);\n",
       "      filter: drop-shadow(0px 1px 2px rgba(0, 0, 0, 0.3));\n",
       "      fill: #FFFFFF;\n",
       "    }\n",
       "  </style>\n",
       "\n",
       "      <script>\n",
       "        const buttonEl =\n",
       "          document.querySelector('#df-b9ad915d-06b2-443a-babe-bf30b95c53d0 button.colab-df-convert');\n",
       "        buttonEl.style.display =\n",
       "          google.colab.kernel.accessAllowed ? 'block' : 'none';\n",
       "\n",
       "        async function convertToInteractive(key) {\n",
       "          const element = document.querySelector('#df-b9ad915d-06b2-443a-babe-bf30b95c53d0');\n",
       "          const dataTable =\n",
       "            await google.colab.kernel.invokeFunction('convertToInteractive',\n",
       "                                                     [key], {});\n",
       "          if (!dataTable) return;\n",
       "\n",
       "          const docLinkHtml = 'Like what you see? Visit the ' +\n",
       "            '<a target=\"_blank\" href=https://colab.research.google.com/notebooks/data_table.ipynb>data table notebook</a>'\n",
       "            + ' to learn more about interactive tables.';\n",
       "          element.innerHTML = '';\n",
       "          dataTable['output_type'] = 'display_data';\n",
       "          await google.colab.output.renderOutput(dataTable, element);\n",
       "          const docLink = document.createElement('div');\n",
       "          docLink.innerHTML = docLinkHtml;\n",
       "          element.appendChild(docLink);\n",
       "        }\n",
       "      </script>\n",
       "    </div>\n",
       "  </div>\n",
       "  "
      ],
      "text/plain": [
       "   ride_id seat_number payment_method payment_receipt travel_date travel_time  \\\n",
       "0     1442         15A          Mpesa      UZUEHCBUSO    17-10-17        7:15   \n",
       "1     5437         14A          Mpesa      TIHLBUSGTE    19-11-17        7:12   \n",
       "2     5710          8B          Mpesa      EQX8Q5G19O    26-11-17        7:05   \n",
       "3     5777         19A          Mpesa      SGP18CL0ME    27-11-17        7:10   \n",
       "4     5778         11A          Mpesa      BM97HFRGL9    27-11-17        7:12   \n",
       "\n",
       "  travel_from travel_to car_type  max_capacity  \n",
       "0      Migori   Nairobi      Bus            49  \n",
       "1      Migori   Nairobi      Bus            49  \n",
       "2      Keroka   Nairobi      Bus            49  \n",
       "3    Homa Bay   Nairobi      Bus            49  \n",
       "4      Migori   Nairobi      Bus            49  "
      ]
     },
     "execution_count": 78,
     "metadata": {},
     "output_type": "execute_result"
    }
   ],
   "source": [
    "# Preview the first five rows of the train set\n",
    "train.head()"
   ]
  },
  {
   "cell_type": "code",
   "execution_count": 41,
   "metadata": {
    "colab": {
     "base_uri": "https://localhost:8080/",
     "height": 206
    },
    "executionInfo": {
     "elapsed": 27,
     "status": "ok",
     "timestamp": 1655391794360,
     "user": {
      "displayName": "Muriithi Ruth Nduta",
      "userId": "02314034622241805526"
     },
     "user_tz": -180
    },
    "id": "wU1bcDZSU0Nj",
    "outputId": "12211a40-1962-47c7-c584-9ccfa85f0942"
   },
   "outputs": [
    {
     "data": {
      "text/html": [
       "\n",
       "  <div id=\"df-36fcab70-9dd5-43d5-955d-50f64469635e\">\n",
       "    <div class=\"colab-df-container\">\n",
       "      <div>\n",
       "<style scoped>\n",
       "    .dataframe tbody tr th:only-of-type {\n",
       "        vertical-align: middle;\n",
       "    }\n",
       "\n",
       "    .dataframe tbody tr th {\n",
       "        vertical-align: top;\n",
       "    }\n",
       "\n",
       "    .dataframe thead th {\n",
       "        text-align: right;\n",
       "    }\n",
       "</style>\n",
       "<table border=\"1\" class=\"dataframe\">\n",
       "  <thead>\n",
       "    <tr style=\"text-align: right;\">\n",
       "      <th></th>\n",
       "      <th>ride_id</th>\n",
       "      <th>number_of_ticket</th>\n",
       "    </tr>\n",
       "  </thead>\n",
       "  <tbody>\n",
       "    <tr>\n",
       "      <th>0</th>\n",
       "      <td>247</td>\n",
       "      <td>4.0</td>\n",
       "    </tr>\n",
       "    <tr>\n",
       "      <th>1</th>\n",
       "      <td>256</td>\n",
       "      <td>2.0</td>\n",
       "    </tr>\n",
       "    <tr>\n",
       "      <th>2</th>\n",
       "      <td>275</td>\n",
       "      <td>5.0</td>\n",
       "    </tr>\n",
       "    <tr>\n",
       "      <th>3</th>\n",
       "      <td>285</td>\n",
       "      <td>7.0</td>\n",
       "    </tr>\n",
       "    <tr>\n",
       "      <th>4</th>\n",
       "      <td>286</td>\n",
       "      <td>9.0</td>\n",
       "    </tr>\n",
       "  </tbody>\n",
       "</table>\n",
       "</div>\n",
       "      <button class=\"colab-df-convert\" onclick=\"convertToInteractive('df-36fcab70-9dd5-43d5-955d-50f64469635e')\"\n",
       "              title=\"Convert this dataframe to an interactive table.\"\n",
       "              style=\"display:none;\">\n",
       "        \n",
       "  <svg xmlns=\"http://www.w3.org/2000/svg\" height=\"24px\"viewBox=\"0 0 24 24\"\n",
       "       width=\"24px\">\n",
       "    <path d=\"M0 0h24v24H0V0z\" fill=\"none\"/>\n",
       "    <path d=\"M18.56 5.44l.94 2.06.94-2.06 2.06-.94-2.06-.94-.94-2.06-.94 2.06-2.06.94zm-11 1L8.5 8.5l.94-2.06 2.06-.94-2.06-.94L8.5 2.5l-.94 2.06-2.06.94zm10 10l.94 2.06.94-2.06 2.06-.94-2.06-.94-.94-2.06-.94 2.06-2.06.94z\"/><path d=\"M17.41 7.96l-1.37-1.37c-.4-.4-.92-.59-1.43-.59-.52 0-1.04.2-1.43.59L10.3 9.45l-7.72 7.72c-.78.78-.78 2.05 0 2.83L4 21.41c.39.39.9.59 1.41.59.51 0 1.02-.2 1.41-.59l7.78-7.78 2.81-2.81c.8-.78.8-2.07 0-2.86zM5.41 20L4 18.59l7.72-7.72 1.47 1.35L5.41 20z\"/>\n",
       "  </svg>\n",
       "      </button>\n",
       "      \n",
       "  <style>\n",
       "    .colab-df-container {\n",
       "      display:flex;\n",
       "      flex-wrap:wrap;\n",
       "      gap: 12px;\n",
       "    }\n",
       "\n",
       "    .colab-df-convert {\n",
       "      background-color: #E8F0FE;\n",
       "      border: none;\n",
       "      border-radius: 50%;\n",
       "      cursor: pointer;\n",
       "      display: none;\n",
       "      fill: #1967D2;\n",
       "      height: 32px;\n",
       "      padding: 0 0 0 0;\n",
       "      width: 32px;\n",
       "    }\n",
       "\n",
       "    .colab-df-convert:hover {\n",
       "      background-color: #E2EBFA;\n",
       "      box-shadow: 0px 1px 2px rgba(60, 64, 67, 0.3), 0px 1px 3px 1px rgba(60, 64, 67, 0.15);\n",
       "      fill: #174EA6;\n",
       "    }\n",
       "\n",
       "    [theme=dark] .colab-df-convert {\n",
       "      background-color: #3B4455;\n",
       "      fill: #D2E3FC;\n",
       "    }\n",
       "\n",
       "    [theme=dark] .colab-df-convert:hover {\n",
       "      background-color: #434B5C;\n",
       "      box-shadow: 0px 1px 3px 1px rgba(0, 0, 0, 0.15);\n",
       "      filter: drop-shadow(0px 1px 2px rgba(0, 0, 0, 0.3));\n",
       "      fill: #FFFFFF;\n",
       "    }\n",
       "  </style>\n",
       "\n",
       "      <script>\n",
       "        const buttonEl =\n",
       "          document.querySelector('#df-36fcab70-9dd5-43d5-955d-50f64469635e button.colab-df-convert');\n",
       "        buttonEl.style.display =\n",
       "          google.colab.kernel.accessAllowed ? 'block' : 'none';\n",
       "\n",
       "        async function convertToInteractive(key) {\n",
       "          const element = document.querySelector('#df-36fcab70-9dd5-43d5-955d-50f64469635e');\n",
       "          const dataTable =\n",
       "            await google.colab.kernel.invokeFunction('convertToInteractive',\n",
       "                                                     [key], {});\n",
       "          if (!dataTable) return;\n",
       "\n",
       "          const docLinkHtml = 'Like what you see? Visit the ' +\n",
       "            '<a target=\"_blank\" href=https://colab.research.google.com/notebooks/data_table.ipynb>data table notebook</a>'\n",
       "            + ' to learn more about interactive tables.';\n",
       "          element.innerHTML = '';\n",
       "          dataTable['output_type'] = 'display_data';\n",
       "          await google.colab.output.renderOutput(dataTable, element);\n",
       "          const docLink = document.createElement('div');\n",
       "          docLink.innerHTML = docLinkHtml;\n",
       "          element.appendChild(docLink);\n",
       "        }\n",
       "      </script>\n",
       "    </div>\n",
       "  </div>\n",
       "  "
      ],
      "text/plain": [
       "   ride_id  number_of_ticket\n",
       "0      247               4.0\n",
       "1      256               2.0\n",
       "2      275               5.0\n",
       "3      285               7.0\n",
       "4      286               9.0"
      ]
     },
     "execution_count": 41,
     "metadata": {},
     "output_type": "execute_result"
    }
   ],
   "source": [
    "# Preview the first five rows of the sample submission file\n",
    "samplesubmission.head()"
   ]
  },
  {
   "cell_type": "code",
   "execution_count": 81,
   "metadata": {
    "colab": {
     "base_uri": "https://localhost:8080/"
    },
    "executionInfo": {
     "elapsed": 433,
     "status": "ok",
     "timestamp": 1655393434467,
     "user": {
      "displayName": "Muriithi Ruth Nduta",
      "userId": "02314034622241805526"
     },
     "user_tz": -180
    },
    "id": "PdVvmpG_GRxA",
    "outputId": "e782cb7a-51b0-4863-f85c-fcd8935a735c"
   },
   "outputs": [
    {
     "name": "stdout",
     "output_type": "stream",
     "text": [
      "The shape of the train set is: (51645, 10)\n"
     ]
    }
   ],
   "source": [
    "# Check the shape of the train and test sets\n",
    "print(f'The shape of the train set is: {train.shape}')"
   ]
  },
  {
   "cell_type": "code",
   "execution_count": 82,
   "metadata": {
    "colab": {
     "base_uri": "https://localhost:8080/"
    },
    "executionInfo": {
     "elapsed": 5,
     "status": "ok",
     "timestamp": 1655393437833,
     "user": {
      "displayName": "Muriithi Ruth Nduta",
      "userId": "02314034622241805526"
     },
     "user_tz": -180
    },
    "id": "qiGHet0ilhgv",
    "outputId": "51104ad4-22b7-466c-d404-c5af838fd9ae"
   },
   "outputs": [
    {
     "name": "stdout",
     "output_type": "stream",
     "text": [
      "<class 'pandas.core.frame.DataFrame'>\n",
      "RangeIndex: 51645 entries, 0 to 51644\n",
      "Data columns (total 10 columns):\n",
      " #   Column           Non-Null Count  Dtype \n",
      "---  ------           --------------  ----- \n",
      " 0   ride_id          51645 non-null  int64 \n",
      " 1   seat_number      51645 non-null  object\n",
      " 2   payment_method   51645 non-null  object\n",
      " 3   payment_receipt  51645 non-null  object\n",
      " 4   travel_date      51645 non-null  object\n",
      " 5   travel_time      51645 non-null  object\n",
      " 6   travel_from      51645 non-null  object\n",
      " 7   travel_to        51645 non-null  object\n",
      " 8   car_type         51645 non-null  object\n",
      " 9   max_capacity     51645 non-null  int64 \n",
      "dtypes: int64(2), object(8)\n",
      "memory usage: 3.9+ MB\n"
     ]
    }
   ],
   "source": [
    "train.info()"
   ]
  },
  {
   "cell_type": "markdown",
   "metadata": {
    "id": "9CO1R3hi8FJQ"
   },
   "source": [
    "### Check for missing values"
   ]
  },
  {
   "cell_type": "code",
   "execution_count": 83,
   "metadata": {
    "colab": {
     "base_uri": "https://localhost:8080/"
    },
    "executionInfo": {
     "elapsed": 458,
     "status": "ok",
     "timestamp": 1655393445344,
     "user": {
      "displayName": "Muriithi Ruth Nduta",
      "userId": "02314034622241805526"
     },
     "user_tz": -180
    },
    "id": "HxxmXSu8mClF",
    "outputId": "96b31e04-e0f1-42ac-88f6-40a30ab3b959"
   },
   "outputs": [
    {
     "name": "stdout",
     "output_type": "stream",
     "text": [
      "Train missing data: \n",
      " ride_id            0\n",
      "seat_number        0\n",
      "payment_method     0\n",
      "payment_receipt    0\n",
      "travel_date        0\n",
      "travel_time        0\n",
      "travel_from        0\n",
      "travel_to          0\n",
      "car_type           0\n",
      "max_capacity       0\n",
      "dtype: int64\n"
     ]
    }
   ],
   "source": [
    "print(f\"Train missing data: \\n\", train.isnull().sum())\n",
    "# print(f\"\\nTest missing data: \\n\\n\", test.isnull().sum())"
   ]
  },
  {
   "cell_type": "code",
   "execution_count": 84,
   "metadata": {
    "colab": {
     "base_uri": "https://localhost:8080/"
    },
    "executionInfo": {
     "elapsed": 7,
     "status": "ok",
     "timestamp": 1655393447826,
     "user": {
      "displayName": "Muriithi Ruth Nduta",
      "userId": "02314034622241805526"
     },
     "user_tz": -180
    },
    "id": "ebHcqG9uwjOm",
    "outputId": "9ac90292-eec5-454b-eb0c-46bcdea6ea93"
   },
   "outputs": [
    {
     "data": {
      "text/plain": [
       "False"
      ]
     },
     "execution_count": 84,
     "metadata": {},
     "output_type": "execute_result"
    }
   ],
   "source": [
    "train.isnull().values.any()"
   ]
  },
  {
   "cell_type": "markdown",
   "metadata": {
    "id": "bAkCg7Hb9eJc"
   },
   "source": [
    "## Check for duplicates"
   ]
  },
  {
   "cell_type": "code",
   "execution_count": 85,
   "metadata": {
    "colab": {
     "base_uri": "https://localhost:8080/"
    },
    "executionInfo": {
     "elapsed": 490,
     "status": "ok",
     "timestamp": 1655393453847,
     "user": {
      "displayName": "Muriithi Ruth Nduta",
      "userId": "02314034622241805526"
     },
     "user_tz": -180
    },
    "id": "mH70wy9W9d41",
    "outputId": "04b587fa-27db-41b1-bf37-cf87e8e8fd2d"
   },
   "outputs": [
    {
     "data": {
      "text/plain": [
       "0"
      ]
     },
     "execution_count": 85,
     "metadata": {},
     "output_type": "execute_result"
    }
   ],
   "source": [
    "train.duplicated().sum()\n",
    "# test.duplicated().sum()"
   ]
  },
  {
   "cell_type": "code",
   "execution_count": 86,
   "metadata": {
    "colab": {
     "base_uri": "https://localhost:8080/"
    },
    "executionInfo": {
     "elapsed": 522,
     "status": "ok",
     "timestamp": 1655393461164,
     "user": {
      "displayName": "Muriithi Ruth Nduta",
      "userId": "02314034622241805526"
     },
     "user_tz": -180
    },
    "id": "0waibHG4rZzg",
    "outputId": "cc4c36c4-2cff-4175-b8b3-8c153f8e36a4"
   },
   "outputs": [
    {
     "name": "stdout",
     "output_type": "stream",
     "text": [
      "Train columns: \n",
      " Index(['ride_id', 'seat_number', 'payment_method', 'payment_receipt',\n",
      "       'travel_date', 'travel_time', 'travel_from', 'travel_to', 'car_type',\n",
      "       'max_capacity'],\n",
      "      dtype='object')\n"
     ]
    }
   ],
   "source": [
    "# Check out the columns in both train and test data \n",
    "\n",
    "print(f\"Train columns: \\n\", train.columns)\n",
    "# print(f\"\\nTest columns: \\n\", test.columns)"
   ]
  },
  {
   "cell_type": "markdown",
   "metadata": {
    "id": "g9oZ14qYN1FY"
   },
   "source": [
    "## Combine train and test set for easy preprocessing "
   ]
  },
  {
   "cell_type": "code",
   "execution_count": 87,
   "metadata": {
    "executionInfo": {
     "elapsed": 2,
     "status": "ok",
     "timestamp": 1655393498495,
     "user": {
      "displayName": "Muriithi Ruth Nduta",
      "userId": "02314034622241805526"
     },
     "user_tz": -180
    },
    "id": "foCF7O4pI-i_"
   },
   "outputs": [],
   "source": [
    "all_data = train.copy()"
   ]
  },
  {
   "cell_type": "code",
   "execution_count": 88,
   "metadata": {
    "colab": {
     "base_uri": "https://localhost:8080/"
    },
    "executionInfo": {
     "elapsed": 5,
     "status": "ok",
     "timestamp": 1655393501902,
     "user": {
      "displayName": "Muriithi Ruth Nduta",
      "userId": "02314034622241805526"
     },
     "user_tz": -180
    },
    "id": "4chstsvnHCRS",
    "outputId": "0facf060-df23-4a4f-9419-86ef83bd6bdc"
   },
   "outputs": [
    {
     "name": "stdout",
     "output_type": "stream",
     "text": [
      "<class 'pandas.core.frame.DataFrame'>\n",
      "RangeIndex: 51645 entries, 0 to 51644\n",
      "Data columns (total 10 columns):\n",
      " #   Column           Non-Null Count  Dtype \n",
      "---  ------           --------------  ----- \n",
      " 0   ride_id          51645 non-null  int64 \n",
      " 1   seat_number      51645 non-null  object\n",
      " 2   payment_method   51645 non-null  object\n",
      " 3   payment_receipt  51645 non-null  object\n",
      " 4   travel_date      51645 non-null  object\n",
      " 5   travel_time      51645 non-null  object\n",
      " 6   travel_from      51645 non-null  object\n",
      " 7   travel_to        51645 non-null  object\n",
      " 8   car_type         51645 non-null  object\n",
      " 9   max_capacity     51645 non-null  int64 \n",
      "dtypes: int64(2), object(8)\n",
      "memory usage: 3.9+ MB\n"
     ]
    }
   ],
   "source": [
    "# Check the column names and datatypes\n",
    "all_data.info()"
   ]
  },
  {
   "cell_type": "markdown",
   "metadata": {
    "id": "5zgv922kuG3m"
   },
   "source": [
    "Some columns have no impact on our analysis and can be dropped. Eg the payment receipt, ride id."
   ]
  },
  {
   "cell_type": "code",
   "execution_count": 89,
   "metadata": {
    "executionInfo": {
     "elapsed": 4,
     "status": "ok",
     "timestamp": 1655393532918,
     "user": {
      "displayName": "Muriithi Ruth Nduta",
      "userId": "02314034622241805526"
     },
     "user_tz": -180
    },
    "id": "0QTXdYPDJI1h"
   },
   "outputs": [],
   "source": [
    "ride_id_dict = {} \n",
    "for ride_id in all_data[\"ride_id\"]:\n",
    "    if not ride_id in ride_id_dict:\n",
    "        ride_id_dict[ride_id] = 1\n",
    "    else:\n",
    "        ride_id_dict[ride_id] += 1"
   ]
  },
  {
   "cell_type": "code",
   "execution_count": 90,
   "metadata": {
    "colab": {
     "base_uri": "https://localhost:8080/"
    },
    "executionInfo": {
     "elapsed": 4,
     "status": "ok",
     "timestamp": 1655393568857,
     "user": {
      "displayName": "Muriithi Ruth Nduta",
      "userId": "02314034622241805526"
     },
     "user_tz": -180
    },
    "id": "JQhNCKOfvuHm",
    "outputId": "1c007e72-73c0-45d4-eadf-051f7669ec5c"
   },
   "outputs": [
    {
     "name": "stdout",
     "output_type": "stream",
     "text": [
      "<class 'pandas.core.frame.DataFrame'>\n",
      "RangeIndex: 51645 entries, 0 to 51644\n",
      "Data columns (total 7 columns):\n",
      " #   Column          Non-Null Count  Dtype \n",
      "---  ------          --------------  ----- \n",
      " 0   ride_id         51645 non-null  int64 \n",
      " 1   payment_method  51645 non-null  object\n",
      " 2   travel_date     51645 non-null  object\n",
      " 3   travel_time     51645 non-null  object\n",
      " 4   travel_from     51645 non-null  object\n",
      " 5   car_type        51645 non-null  object\n",
      " 6   max_capacity    51645 non-null  int64 \n",
      "dtypes: int64(2), object(5)\n",
      "memory usage: 2.8+ MB\n"
     ]
    }
   ],
   "source": [
    "#Dropping the outcome column\n",
    "all_data.drop(['seat_number', 'payment_receipt', 'travel_to'], axis=1, inplace=True)\n",
    "all_data.info()"
   ]
  },
  {
   "cell_type": "code",
   "execution_count": 91,
   "metadata": {
    "executionInfo": {
     "elapsed": 3,
     "status": "ok",
     "timestamp": 1655393630426,
     "user": {
      "displayName": "Muriithi Ruth Nduta",
      "userId": "02314034622241805526"
     },
     "user_tz": -180
    },
    "id": "gkNRpfCYJbpO"
   },
   "outputs": [],
   "source": [
    "all_data[\"number_of_tickets\"]= np.zeros(len(train))"
   ]
  },
  {
   "cell_type": "code",
   "execution_count": 93,
   "metadata": {
    "executionInfo": {
     "elapsed": 10717,
     "status": "ok",
     "timestamp": 1655393681561,
     "user": {
      "displayName": "Muriithi Ruth Nduta",
      "userId": "02314034622241805526"
     },
     "user_tz": -180
    },
    "id": "S2FI7V2hK0_x"
   },
   "outputs": [],
   "source": [
    "for i in range(len(all_data)):\n",
    "    ride_id = all_data.loc[i][\"ride_id\"]\n",
    "    all_data.at[i,\"number_of_tickets\"] = ride_id_dict[ride_id]"
   ]
  },
  {
   "cell_type": "code",
   "execution_count": 95,
   "metadata": {
    "colab": {
     "base_uri": "https://localhost:8080/",
     "height": 206
    },
    "executionInfo": {
     "elapsed": 645,
     "status": "ok",
     "timestamp": 1655394339404,
     "user": {
      "displayName": "Muriithi Ruth Nduta",
      "userId": "02314034622241805526"
     },
     "user_tz": -180
    },
    "id": "7DwCrKZswNQq",
    "outputId": "94944c29-4245-407a-fa71-e772b319ebc2"
   },
   "outputs": [
    {
     "data": {
      "text/html": [
       "\n",
       "  <div id=\"df-1f0cccb4-6f42-4eae-a29e-62c50d3c7f79\">\n",
       "    <div class=\"colab-df-container\">\n",
       "      <div>\n",
       "<style scoped>\n",
       "    .dataframe tbody tr th:only-of-type {\n",
       "        vertical-align: middle;\n",
       "    }\n",
       "\n",
       "    .dataframe tbody tr th {\n",
       "        vertical-align: top;\n",
       "    }\n",
       "\n",
       "    .dataframe thead th {\n",
       "        text-align: right;\n",
       "    }\n",
       "</style>\n",
       "<table border=\"1\" class=\"dataframe\">\n",
       "  <thead>\n",
       "    <tr style=\"text-align: right;\">\n",
       "      <th></th>\n",
       "      <th>ride_id</th>\n",
       "      <th>payment_method</th>\n",
       "      <th>travel_date</th>\n",
       "      <th>travel_time</th>\n",
       "      <th>travel_from</th>\n",
       "      <th>car_type</th>\n",
       "      <th>max_capacity</th>\n",
       "      <th>number_of_tickets</th>\n",
       "    </tr>\n",
       "  </thead>\n",
       "  <tbody>\n",
       "    <tr>\n",
       "      <th>0</th>\n",
       "      <td>1442</td>\n",
       "      <td>Mpesa</td>\n",
       "      <td>2017-10-17</td>\n",
       "      <td>1900-01-01 07:15:00</td>\n",
       "      <td>Migori</td>\n",
       "      <td>Bus</td>\n",
       "      <td>49</td>\n",
       "      <td>1.0</td>\n",
       "    </tr>\n",
       "    <tr>\n",
       "      <th>1</th>\n",
       "      <td>5437</td>\n",
       "      <td>Mpesa</td>\n",
       "      <td>2017-11-19</td>\n",
       "      <td>1900-01-01 07:12:00</td>\n",
       "      <td>Migori</td>\n",
       "      <td>Bus</td>\n",
       "      <td>49</td>\n",
       "      <td>1.0</td>\n",
       "    </tr>\n",
       "    <tr>\n",
       "      <th>2</th>\n",
       "      <td>5710</td>\n",
       "      <td>Mpesa</td>\n",
       "      <td>2017-11-26</td>\n",
       "      <td>1900-01-01 07:05:00</td>\n",
       "      <td>Keroka</td>\n",
       "      <td>Bus</td>\n",
       "      <td>49</td>\n",
       "      <td>1.0</td>\n",
       "    </tr>\n",
       "    <tr>\n",
       "      <th>3</th>\n",
       "      <td>5777</td>\n",
       "      <td>Mpesa</td>\n",
       "      <td>2017-11-27</td>\n",
       "      <td>1900-01-01 07:10:00</td>\n",
       "      <td>Homa Bay</td>\n",
       "      <td>Bus</td>\n",
       "      <td>49</td>\n",
       "      <td>5.0</td>\n",
       "    </tr>\n",
       "    <tr>\n",
       "      <th>4</th>\n",
       "      <td>5778</td>\n",
       "      <td>Mpesa</td>\n",
       "      <td>2017-11-27</td>\n",
       "      <td>1900-01-01 07:12:00</td>\n",
       "      <td>Migori</td>\n",
       "      <td>Bus</td>\n",
       "      <td>49</td>\n",
       "      <td>31.0</td>\n",
       "    </tr>\n",
       "  </tbody>\n",
       "</table>\n",
       "</div>\n",
       "      <button class=\"colab-df-convert\" onclick=\"convertToInteractive('df-1f0cccb4-6f42-4eae-a29e-62c50d3c7f79')\"\n",
       "              title=\"Convert this dataframe to an interactive table.\"\n",
       "              style=\"display:none;\">\n",
       "        \n",
       "  <svg xmlns=\"http://www.w3.org/2000/svg\" height=\"24px\"viewBox=\"0 0 24 24\"\n",
       "       width=\"24px\">\n",
       "    <path d=\"M0 0h24v24H0V0z\" fill=\"none\"/>\n",
       "    <path d=\"M18.56 5.44l.94 2.06.94-2.06 2.06-.94-2.06-.94-.94-2.06-.94 2.06-2.06.94zm-11 1L8.5 8.5l.94-2.06 2.06-.94-2.06-.94L8.5 2.5l-.94 2.06-2.06.94zm10 10l.94 2.06.94-2.06 2.06-.94-2.06-.94-.94-2.06-.94 2.06-2.06.94z\"/><path d=\"M17.41 7.96l-1.37-1.37c-.4-.4-.92-.59-1.43-.59-.52 0-1.04.2-1.43.59L10.3 9.45l-7.72 7.72c-.78.78-.78 2.05 0 2.83L4 21.41c.39.39.9.59 1.41.59.51 0 1.02-.2 1.41-.59l7.78-7.78 2.81-2.81c.8-.78.8-2.07 0-2.86zM5.41 20L4 18.59l7.72-7.72 1.47 1.35L5.41 20z\"/>\n",
       "  </svg>\n",
       "      </button>\n",
       "      \n",
       "  <style>\n",
       "    .colab-df-container {\n",
       "      display:flex;\n",
       "      flex-wrap:wrap;\n",
       "      gap: 12px;\n",
       "    }\n",
       "\n",
       "    .colab-df-convert {\n",
       "      background-color: #E8F0FE;\n",
       "      border: none;\n",
       "      border-radius: 50%;\n",
       "      cursor: pointer;\n",
       "      display: none;\n",
       "      fill: #1967D2;\n",
       "      height: 32px;\n",
       "      padding: 0 0 0 0;\n",
       "      width: 32px;\n",
       "    }\n",
       "\n",
       "    .colab-df-convert:hover {\n",
       "      background-color: #E2EBFA;\n",
       "      box-shadow: 0px 1px 2px rgba(60, 64, 67, 0.3), 0px 1px 3px 1px rgba(60, 64, 67, 0.15);\n",
       "      fill: #174EA6;\n",
       "    }\n",
       "\n",
       "    [theme=dark] .colab-df-convert {\n",
       "      background-color: #3B4455;\n",
       "      fill: #D2E3FC;\n",
       "    }\n",
       "\n",
       "    [theme=dark] .colab-df-convert:hover {\n",
       "      background-color: #434B5C;\n",
       "      box-shadow: 0px 1px 3px 1px rgba(0, 0, 0, 0.15);\n",
       "      filter: drop-shadow(0px 1px 2px rgba(0, 0, 0, 0.3));\n",
       "      fill: #FFFFFF;\n",
       "    }\n",
       "  </style>\n",
       "\n",
       "      <script>\n",
       "        const buttonEl =\n",
       "          document.querySelector('#df-1f0cccb4-6f42-4eae-a29e-62c50d3c7f79 button.colab-df-convert');\n",
       "        buttonEl.style.display =\n",
       "          google.colab.kernel.accessAllowed ? 'block' : 'none';\n",
       "\n",
       "        async function convertToInteractive(key) {\n",
       "          const element = document.querySelector('#df-1f0cccb4-6f42-4eae-a29e-62c50d3c7f79');\n",
       "          const dataTable =\n",
       "            await google.colab.kernel.invokeFunction('convertToInteractive',\n",
       "                                                     [key], {});\n",
       "          if (!dataTable) return;\n",
       "\n",
       "          const docLinkHtml = 'Like what you see? Visit the ' +\n",
       "            '<a target=\"_blank\" href=https://colab.research.google.com/notebooks/data_table.ipynb>data table notebook</a>'\n",
       "            + ' to learn more about interactive tables.';\n",
       "          element.innerHTML = '';\n",
       "          dataTable['output_type'] = 'display_data';\n",
       "          await google.colab.output.renderOutput(dataTable, element);\n",
       "          const docLink = document.createElement('div');\n",
       "          docLink.innerHTML = docLinkHtml;\n",
       "          element.appendChild(docLink);\n",
       "        }\n",
       "      </script>\n",
       "    </div>\n",
       "  </div>\n",
       "  "
      ],
      "text/plain": [
       "   ride_id payment_method travel_date         travel_time travel_from  \\\n",
       "0     1442          Mpesa  2017-10-17 1900-01-01 07:15:00      Migori   \n",
       "1     5437          Mpesa  2017-11-19 1900-01-01 07:12:00      Migori   \n",
       "2     5710          Mpesa  2017-11-26 1900-01-01 07:05:00      Keroka   \n",
       "3     5777          Mpesa  2017-11-27 1900-01-01 07:10:00    Homa Bay   \n",
       "4     5778          Mpesa  2017-11-27 1900-01-01 07:12:00      Migori   \n",
       "\n",
       "  car_type  max_capacity  number_of_tickets  \n",
       "0      Bus            49                1.0  \n",
       "1      Bus            49                1.0  \n",
       "2      Bus            49                1.0  \n",
       "3      Bus            49                5.0  \n",
       "4      Bus            49               31.0  "
      ]
     },
     "execution_count": 95,
     "metadata": {},
     "output_type": "execute_result"
    }
   ],
   "source": [
    "# Convert the dates and time column to date_time format\n",
    "\n",
    "all_data['travel_date'] = pd.to_datetime(all_data['travel_date'])\n",
    "all_data['travel_time'] = pd.to_datetime(all_data['travel_time'],format='%H:%M')\n",
    "all_data.head()"
   ]
  },
  {
   "cell_type": "code",
   "execution_count": 96,
   "metadata": {
    "executionInfo": {
     "elapsed": 1,
     "status": "ok",
     "timestamp": 1655394340138,
     "user": {
      "displayName": "Muriithi Ruth Nduta",
      "userId": "02314034622241805526"
     },
     "user_tz": -180
    },
    "id": "8w6DQCSg9_5s"
   },
   "outputs": [],
   "source": [
    "# splitting the travel date to month and day\n",
    "\n",
    "all_data['year'] = all_data.travel_date.dt.year\n",
    "all_data['month'] = all_data.travel_date.dt.month\n",
    "all_data['day'] = all_data.travel_date.dt.dayofyear\n",
    "all_data['hour'] = all_data.travel_time.dt.hour"
   ]
  },
  {
   "cell_type": "code",
   "execution_count": 97,
   "metadata": {
    "colab": {
     "base_uri": "https://localhost:8080/",
     "height": 387
    },
    "executionInfo": {
     "elapsed": 5098,
     "status": "ok",
     "timestamp": 1655394346871,
     "user": {
      "displayName": "Muriithi Ruth Nduta",
      "userId": "02314034622241805526"
     },
     "user_tz": -180
    },
    "id": "nJfAIHjDK45j",
    "outputId": "92487801-ced6-4f74-be4b-269c40537b03"
   },
   "outputs": [
    {
     "data": {
      "text/plain": [
       "<seaborn.axisgrid.FacetGrid at 0x7fda23ca1490>"
      ]
     },
     "execution_count": 97,
     "metadata": {},
     "output_type": "execute_result"
    },
    {
     "data": {
      "image/png": "[encoded data removed]",
      "text/plain": [
       "<Figure size 360x360 with 1 Axes>"
      ]
     },
     "metadata": {
      "needs_background": "light"
     },
     "output_type": "display_data"
    }
   ],
   "source": [
    "sns.lmplot(x=\"hour\", y=\"number_of_tickets\", data=all_data)"
   ]
  },
  {
   "cell_type": "code",
   "execution_count": 98,
   "metadata": {
    "executionInfo": {
     "elapsed": 452,
     "status": "ok",
     "timestamp": 1655394576614,
     "user": {
      "displayName": "Muriithi Ruth Nduta",
      "userId": "02314034622241805526"
     },
     "user_tz": -180
    },
    "id": "GAqQFnQjB_gQ"
   },
   "outputs": [],
   "source": [
    "# Dropping the travel date column\n",
    "all_data.drop(\"travel_date\", axis = 1, inplace=True)\n",
    "all_data.drop(\"travel_time\", axis = 1, inplace=True)"
   ]
  },
  {
   "cell_type": "code",
   "execution_count": 99,
   "metadata": {
    "colab": {
     "base_uri": "https://localhost:8080/"
    },
    "executionInfo": {
     "elapsed": 10,
     "status": "ok",
     "timestamp": 1655394578653,
     "user": {
      "displayName": "Muriithi Ruth Nduta",
      "userId": "02314034622241805526"
     },
     "user_tz": -180
    },
    "id": "3AADdmJ6HCOr",
    "outputId": "557aade6-1157-422f-b01b-9cfe639fa721"
   },
   "outputs": [
    {
     "name": "stdout",
     "output_type": "stream",
     "text": [
      "<class 'pandas.core.frame.DataFrame'>\n",
      "RangeIndex: 51645 entries, 0 to 51644\n",
      "Data columns (total 10 columns):\n",
      " #   Column             Non-Null Count  Dtype   \n",
      "---  ------             --------------  -----   \n",
      " 0   ride_id            51645 non-null  int64   \n",
      " 1   payment_method     51645 non-null  category\n",
      " 2   travel_from        51645 non-null  category\n",
      " 3   car_type           51645 non-null  category\n",
      " 4   max_capacity       51645 non-null  int64   \n",
      " 5   number_of_tickets  51645 non-null  float64 \n",
      " 6   year               51645 non-null  int64   \n",
      " 7   month              51645 non-null  int64   \n",
      " 8   day                51645 non-null  int64   \n",
      " 9   hour               51645 non-null  int64   \n",
      "dtypes: category(3), float64(1), int64(6)\n",
      "memory usage: 2.9 MB\n"
     ]
    }
   ],
   "source": [
    "# Convert Object to Category columns\n",
    "cat_cols = all_data.select_dtypes(include=['object'],).columns\n",
    "# Change columns to their respective datatypes\n",
    "all_data[cat_cols] = all_data[cat_cols].astype('category')\n",
    "# Confirm whether the changes have been successful\n",
    "all_data.info()"
   ]
  },
  {
   "cell_type": "code",
   "execution_count": 100,
   "metadata": {
    "colab": {
     "base_uri": "https://localhost:8080/",
     "height": 206
    },
    "executionInfo": {
     "elapsed": 478,
     "status": "ok",
     "timestamp": 1655394585065,
     "user": {
      "displayName": "Muriithi Ruth Nduta",
      "userId": "02314034622241805526"
     },
     "user_tz": -180
    },
    "id": "SFUdjfIC_ZsI",
    "outputId": "4a33cfc9-ffd9-45d4-d220-fe486303afbc"
   },
   "outputs": [
    {
     "data": {
      "text/html": [
       "\n",
       "  <div id=\"df-1b3e0a73-c29f-4e24-89c7-9260fcc283c7\">\n",
       "    <div class=\"colab-df-container\">\n",
       "      <div>\n",
       "<style scoped>\n",
       "    .dataframe tbody tr th:only-of-type {\n",
       "        vertical-align: middle;\n",
       "    }\n",
       "\n",
       "    .dataframe tbody tr th {\n",
       "        vertical-align: top;\n",
       "    }\n",
       "\n",
       "    .dataframe thead th {\n",
       "        text-align: right;\n",
       "    }\n",
       "</style>\n",
       "<table border=\"1\" class=\"dataframe\">\n",
       "  <thead>\n",
       "    <tr style=\"text-align: right;\">\n",
       "      <th></th>\n",
       "      <th>ride_id</th>\n",
       "      <th>payment_method</th>\n",
       "      <th>travel_from</th>\n",
       "      <th>car_type</th>\n",
       "      <th>max_capacity</th>\n",
       "      <th>number_of_tickets</th>\n",
       "      <th>year</th>\n",
       "      <th>month</th>\n",
       "      <th>day</th>\n",
       "      <th>hour</th>\n",
       "    </tr>\n",
       "  </thead>\n",
       "  <tbody>\n",
       "    <tr>\n",
       "      <th>0</th>\n",
       "      <td>1442</td>\n",
       "      <td>Mpesa</td>\n",
       "      <td>Migori</td>\n",
       "      <td>Bus</td>\n",
       "      <td>49</td>\n",
       "      <td>1.0</td>\n",
       "      <td>2017</td>\n",
       "      <td>10</td>\n",
       "      <td>290</td>\n",
       "      <td>7</td>\n",
       "    </tr>\n",
       "    <tr>\n",
       "      <th>1</th>\n",
       "      <td>5437</td>\n",
       "      <td>Mpesa</td>\n",
       "      <td>Migori</td>\n",
       "      <td>Bus</td>\n",
       "      <td>49</td>\n",
       "      <td>1.0</td>\n",
       "      <td>2017</td>\n",
       "      <td>11</td>\n",
       "      <td>323</td>\n",
       "      <td>7</td>\n",
       "    </tr>\n",
       "    <tr>\n",
       "      <th>2</th>\n",
       "      <td>5710</td>\n",
       "      <td>Mpesa</td>\n",
       "      <td>Keroka</td>\n",
       "      <td>Bus</td>\n",
       "      <td>49</td>\n",
       "      <td>1.0</td>\n",
       "      <td>2017</td>\n",
       "      <td>11</td>\n",
       "      <td>330</td>\n",
       "      <td>7</td>\n",
       "    </tr>\n",
       "    <tr>\n",
       "      <th>3</th>\n",
       "      <td>5777</td>\n",
       "      <td>Mpesa</td>\n",
       "      <td>Homa Bay</td>\n",
       "      <td>Bus</td>\n",
       "      <td>49</td>\n",
       "      <td>5.0</td>\n",
       "      <td>2017</td>\n",
       "      <td>11</td>\n",
       "      <td>331</td>\n",
       "      <td>7</td>\n",
       "    </tr>\n",
       "    <tr>\n",
       "      <th>4</th>\n",
       "      <td>5778</td>\n",
       "      <td>Mpesa</td>\n",
       "      <td>Migori</td>\n",
       "      <td>Bus</td>\n",
       "      <td>49</td>\n",
       "      <td>31.0</td>\n",
       "      <td>2017</td>\n",
       "      <td>11</td>\n",
       "      <td>331</td>\n",
       "      <td>7</td>\n",
       "    </tr>\n",
       "  </tbody>\n",
       "</table>\n",
       "</div>\n",
       "      <button class=\"colab-df-convert\" onclick=\"convertToInteractive('df-1b3e0a73-c29f-4e24-89c7-9260fcc283c7')\"\n",
       "              title=\"Convert this dataframe to an interactive table.\"\n",
       "              style=\"display:none;\">\n",
       "        \n",
       "  <svg xmlns=\"http://www.w3.org/2000/svg\" height=\"24px\"viewBox=\"0 0 24 24\"\n",
       "       width=\"24px\">\n",
       "    <path d=\"M0 0h24v24H0V0z\" fill=\"none\"/>\n",
       "    <path d=\"M18.56 5.44l.94 2.06.94-2.06 2.06-.94-2.06-.94-.94-2.06-.94 2.06-2.06.94zm-11 1L8.5 8.5l.94-2.06 2.06-.94-2.06-.94L8.5 2.5l-.94 2.06-2.06.94zm10 10l.94 2.06.94-2.06 2.06-.94-2.06-.94-.94-2.06-.94 2.06-2.06.94z\"/><path d=\"M17.41 7.96l-1.37-1.37c-.4-.4-.92-.59-1.43-.59-.52 0-1.04.2-1.43.59L10.3 9.45l-7.72 7.72c-.78.78-.78 2.05 0 2.83L4 21.41c.39.39.9.59 1.41.59.51 0 1.02-.2 1.41-.59l7.78-7.78 2.81-2.81c.8-.78.8-2.07 0-2.86zM5.41 20L4 18.59l7.72-7.72 1.47 1.35L5.41 20z\"/>\n",
       "  </svg>\n",
       "      </button>\n",
       "      \n",
       "  <style>\n",
       "    .colab-df-container {\n",
       "      display:flex;\n",
       "      flex-wrap:wrap;\n",
       "      gap: 12px;\n",
       "    }\n",
       "\n",
       "    .colab-df-convert {\n",
       "      background-color: #E8F0FE;\n",
       "      border: none;\n",
       "      border-radius: 50%;\n",
       "      cursor: pointer;\n",
       "      display: none;\n",
       "      fill: #1967D2;\n",
       "      height: 32px;\n",
       "      padding: 0 0 0 0;\n",
       "      width: 32px;\n",
       "    }\n",
       "\n",
       "    .colab-df-convert:hover {\n",
       "      background-color: #E2EBFA;\n",
       "      box-shadow: 0px 1px 2px rgba(60, 64, 67, 0.3), 0px 1px 3px 1px rgba(60, 64, 67, 0.15);\n",
       "      fill: #174EA6;\n",
       "    }\n",
       "\n",
       "    [theme=dark] .colab-df-convert {\n",
       "      background-color: #3B4455;\n",
       "      fill: #D2E3FC;\n",
       "    }\n",
       "\n",
       "    [theme=dark] .colab-df-convert:hover {\n",
       "      background-color: #434B5C;\n",
       "      box-shadow: 0px 1px 3px 1px rgba(0, 0, 0, 0.15);\n",
       "      filter: drop-shadow(0px 1px 2px rgba(0, 0, 0, 0.3));\n",
       "      fill: #FFFFFF;\n",
       "    }\n",
       "  </style>\n",
       "\n",
       "      <script>\n",
       "        const buttonEl =\n",
       "          document.querySelector('#df-1b3e0a73-c29f-4e24-89c7-9260fcc283c7 button.colab-df-convert');\n",
       "        buttonEl.style.display =\n",
       "          google.colab.kernel.accessAllowed ? 'block' : 'none';\n",
       "\n",
       "        async function convertToInteractive(key) {\n",
       "          const element = document.querySelector('#df-1b3e0a73-c29f-4e24-89c7-9260fcc283c7');\n",
       "          const dataTable =\n",
       "            await google.colab.kernel.invokeFunction('convertToInteractive',\n",
       "                                                     [key], {});\n",
       "          if (!dataTable) return;\n",
       "\n",
       "          const docLinkHtml = 'Like what you see? Visit the ' +\n",
       "            '<a target=\"_blank\" href=https://colab.research.google.com/notebooks/data_table.ipynb>data table notebook</a>'\n",
       "            + ' to learn more about interactive tables.';\n",
       "          element.innerHTML = '';\n",
       "          dataTable['output_type'] = 'display_data';\n",
       "          await google.colab.output.renderOutput(dataTable, element);\n",
       "          const docLink = document.createElement('div');\n",
       "          docLink.innerHTML = docLinkHtml;\n",
       "          element.appendChild(docLink);\n",
       "        }\n",
       "      </script>\n",
       "    </div>\n",
       "  </div>\n",
       "  "
      ],
      "text/plain": [
       "   ride_id payment_method travel_from car_type  max_capacity  \\\n",
       "0     1442          Mpesa      Migori      Bus            49   \n",
       "1     5437          Mpesa      Migori      Bus            49   \n",
       "2     5710          Mpesa      Keroka      Bus            49   \n",
       "3     5777          Mpesa    Homa Bay      Bus            49   \n",
       "4     5778          Mpesa      Migori      Bus            49   \n",
       "\n",
       "   number_of_tickets  year  month  day  hour  \n",
       "0                1.0  2017     10  290     7  \n",
       "1                1.0  2017     11  323     7  \n",
       "2                1.0  2017     11  330     7  \n",
       "3                5.0  2017     11  331     7  \n",
       "4               31.0  2017     11  331     7  "
      ]
     },
     "execution_count": 100,
     "metadata": {},
     "output_type": "execute_result"
    }
   ],
   "source": [
    "\n",
    "all_data.head()"
   ]
  },
  {
   "cell_type": "markdown",
   "metadata": {
    "id": "puBHyjWc0LSu"
   },
   "source": [
    "#EDA"
   ]
  },
  {
   "cell_type": "code",
   "execution_count": 102,
   "metadata": {
    "colab": {
     "base_uri": "https://localhost:8080/",
     "height": 143
    },
    "executionInfo": {
     "elapsed": 785,
     "status": "ok",
     "timestamp": 1655394625763,
     "user": {
      "displayName": "Muriithi Ruth Nduta",
      "userId": "02314034622241805526"
     },
     "user_tz": -180
    },
    "id": "Pu1UvUDsrREw",
    "outputId": "1e647a83-f84e-4fc6-bf70-2ff60567d92f"
   },
   "outputs": [
    {
     "data": {
      "text/html": [
       "\n",
       "  <div id=\"df-3337ab21-d7d4-432b-ae0b-51d56d58bfaf\">\n",
       "    <div class=\"colab-df-container\">\n",
       "      <div>\n",
       "<style scoped>\n",
       "    .dataframe tbody tr th:only-of-type {\n",
       "        vertical-align: middle;\n",
       "    }\n",
       "\n",
       "    .dataframe tbody tr th {\n",
       "        vertical-align: top;\n",
       "    }\n",
       "\n",
       "    .dataframe thead th {\n",
       "        text-align: right;\n",
       "    }\n",
       "</style>\n",
       "<table border=\"1\" class=\"dataframe\">\n",
       "  <thead>\n",
       "    <tr style=\"text-align: right;\">\n",
       "      <th></th>\n",
       "      <th>number_of_tickets</th>\n",
       "    </tr>\n",
       "    <tr>\n",
       "      <th>car_type</th>\n",
       "      <th></th>\n",
       "    </tr>\n",
       "  </thead>\n",
       "  <tbody>\n",
       "    <tr>\n",
       "      <th>Bus</th>\n",
       "      <td>715417.0</td>\n",
       "    </tr>\n",
       "    <tr>\n",
       "      <th>shuttle</th>\n",
       "      <td>177056.0</td>\n",
       "    </tr>\n",
       "  </tbody>\n",
       "</table>\n",
       "</div>\n",
       "      <button class=\"colab-df-convert\" onclick=\"convertToInteractive('df-3337ab21-d7d4-432b-ae0b-51d56d58bfaf')\"\n",
       "              title=\"Convert this dataframe to an interactive table.\"\n",
       "              style=\"display:none;\">\n",
       "        \n",
       "  <svg xmlns=\"http://www.w3.org/2000/svg\" height=\"24px\"viewBox=\"0 0 24 24\"\n",
       "       width=\"24px\">\n",
       "    <path d=\"M0 0h24v24H0V0z\" fill=\"none\"/>\n",
       "    <path d=\"M18.56 5.44l.94 2.06.94-2.06 2.06-.94-2.06-.94-.94-2.06-.94 2.06-2.06.94zm-11 1L8.5 8.5l.94-2.06 2.06-.94-2.06-.94L8.5 2.5l-.94 2.06-2.06.94zm10 10l.94 2.06.94-2.06 2.06-.94-2.06-.94-.94-2.06-.94 2.06-2.06.94z\"/><path d=\"M17.41 7.96l-1.37-1.37c-.4-.4-.92-.59-1.43-.59-.52 0-1.04.2-1.43.59L10.3 9.45l-7.72 7.72c-.78.78-.78 2.05 0 2.83L4 21.41c.39.39.9.59 1.41.59.51 0 1.02-.2 1.41-.59l7.78-7.78 2.81-2.81c.8-.78.8-2.07 0-2.86zM5.41 20L4 18.59l7.72-7.72 1.47 1.35L5.41 20z\"/>\n",
       "  </svg>\n",
       "      </button>\n",
       "      \n",
       "  <style>\n",
       "    .colab-df-container {\n",
       "      display:flex;\n",
       "      flex-wrap:wrap;\n",
       "      gap: 12px;\n",
       "    }\n",
       "\n",
       "    .colab-df-convert {\n",
       "      background-color: #E8F0FE;\n",
       "      border: none;\n",
       "      border-radius: 50%;\n",
       "      cursor: pointer;\n",
       "      display: none;\n",
       "      fill: #1967D2;\n",
       "      height: 32px;\n",
       "      padding: 0 0 0 0;\n",
       "      width: 32px;\n",
       "    }\n",
       "\n",
       "    .colab-df-convert:hover {\n",
       "      background-color: #E2EBFA;\n",
       "      box-shadow: 0px 1px 2px rgba(60, 64, 67, 0.3), 0px 1px 3px 1px rgba(60, 64, 67, 0.15);\n",
       "      fill: #174EA6;\n",
       "    }\n",
       "\n",
       "    [theme=dark] .colab-df-convert {\n",
       "      background-color: #3B4455;\n",
       "      fill: #D2E3FC;\n",
       "    }\n",
       "\n",
       "    [theme=dark] .colab-df-convert:hover {\n",
       "      background-color: #434B5C;\n",
       "      box-shadow: 0px 1px 3px 1px rgba(0, 0, 0, 0.15);\n",
       "      filter: drop-shadow(0px 1px 2px rgba(0, 0, 0, 0.3));\n",
       "      fill: #FFFFFF;\n",
       "    }\n",
       "  </style>\n",
       "\n",
       "      <script>\n",
       "        const buttonEl =\n",
       "          document.querySelector('#df-3337ab21-d7d4-432b-ae0b-51d56d58bfaf button.colab-df-convert');\n",
       "        buttonEl.style.display =\n",
       "          google.colab.kernel.accessAllowed ? 'block' : 'none';\n",
       "\n",
       "        async function convertToInteractive(key) {\n",
       "          const element = document.querySelector('#df-3337ab21-d7d4-432b-ae0b-51d56d58bfaf');\n",
       "          const dataTable =\n",
       "            await google.colab.kernel.invokeFunction('convertToInteractive',\n",
       "                                                     [key], {});\n",
       "          if (!dataTable) return;\n",
       "\n",
       "          const docLinkHtml = 'Like what you see? Visit the ' +\n",
       "            '<a target=\"_blank\" href=https://colab.research.google.com/notebooks/data_table.ipynb>data table notebook</a>'\n",
       "            + ' to learn more about interactive tables.';\n",
       "          element.innerHTML = '';\n",
       "          dataTable['output_type'] = 'display_data';\n",
       "          await google.colab.output.renderOutput(dataTable, element);\n",
       "          const docLink = document.createElement('div');\n",
       "          docLink.innerHTML = docLinkHtml;\n",
       "          element.appendChild(docLink);\n",
       "        }\n",
       "      </script>\n",
       "    </div>\n",
       "  </div>\n",
       "  "
      ],
      "text/plain": [
       "          number_of_tickets\n",
       "car_type                   \n",
       "Bus                715417.0\n",
       "shuttle            177056.0"
      ]
     },
     "execution_count": 102,
     "metadata": {},
     "output_type": "execute_result"
    }
   ],
   "source": [
    "ptab = all_data.pivot_table(index='car_type', values='number_of_tickets', aggfunc='sum')\n",
    "ptab"
   ]
  },
  {
   "cell_type": "code",
   "execution_count": 103,
   "metadata": {
    "colab": {
     "base_uri": "https://localhost:8080/"
    },
    "executionInfo": {
     "elapsed": 449,
     "status": "ok",
     "timestamp": 1655394639011,
     "user": {
      "displayName": "Muriithi Ruth Nduta",
      "userId": "02314034622241805526"
     },
     "user_tz": -180
    },
    "id": "99nXyUviDfZa",
    "outputId": "679d4e0c-8095-4cb4-d206-4770f6fc1b3b"
   },
   "outputs": [
    {
     "data": {
      "text/plain": [
       "Bus        31985\n",
       "shuttle    19660\n",
       "Name: car_type, dtype: int64"
      ]
     },
     "execution_count": 103,
     "metadata": {},
     "output_type": "execute_result"
    }
   ],
   "source": [
    "all_data[\"car_type\"].value_counts()\n",
    "\n",
    "# The bus is the most preferred means of transport"
   ]
  },
  {
   "cell_type": "code",
   "execution_count": 104,
   "metadata": {
    "colab": {
     "base_uri": "https://localhost:8080/",
     "height": 298
    },
    "executionInfo": {
     "elapsed": 944,
     "status": "ok",
     "timestamp": 1655394644040,
     "user": {
      "displayName": "Muriithi Ruth Nduta",
      "userId": "02314034622241805526"
     },
     "user_tz": -180
    },
    "id": "3TTxNf-v7P5N",
    "outputId": "c5052e7c-b8ee-4bc5-b0fa-44e777c1c72f"
   },
   "outputs": [
    {
     "data": {
      "text/plain": [
       "<matplotlib.axes._subplots.AxesSubplot at 0x7fda20d818d0>"
      ]
     },
     "execution_count": 104,
     "metadata": {},
     "output_type": "execute_result"
    },
    {
     "data": {
      "image/png": "[encoded data removed]",
      "text/plain": [
       "<Figure size 432x288 with 1 Axes>"
      ]
     },
     "metadata": {
      "needs_background": "light"
     },
     "output_type": "display_data"
    }
   ],
   "source": [
    "sns.countplot(x='car_type', \n",
    "              data = all_data,\n",
    "              palette = 'Set1')"
   ]
  },
  {
   "cell_type": "markdown",
   "metadata": {
    "id": "UtvJdj_u3t7_"
   },
   "source": [
    "There are 2 car types the Bus and Shuttle with a capacity of 49 and 11\n",
    " respectively.\n"
   ]
  },
  {
   "cell_type": "code",
   "execution_count": 26,
   "metadata": {
    "colab": {
     "base_uri": "https://localhost:8080/",
     "height": 297
    },
    "executionInfo": {
     "elapsed": 625,
     "status": "ok",
     "timestamp": 1655391356668,
     "user": {
      "displayName": "Muriithi Ruth Nduta",
      "userId": "02314034622241805526"
     },
     "user_tz": -180
    },
    "id": "JS7Ml9xV3FT4",
    "outputId": "20612d4a-0954-46fa-ac5f-6410ce7d9ed3"
   },
   "outputs": [
    {
     "data": {
      "text/plain": [
       "<matplotlib.axes._subplots.AxesSubplot at 0x7fda290f53d0>"
      ]
     },
     "execution_count": 26,
     "metadata": {},
     "output_type": "execute_result"
    },
    {
     "data": {
      "image/png": "[encoded data removed]",
      "text/plain": [
       "<Figure size 432x288 with 1 Axes>"
      ]
     },
     "metadata": {
      "needs_background": "light"
     },
     "output_type": "display_data"
    }
   ],
   "source": [
    "sns.kdeplot(x = 'hour' , data = all_data , color = 'black')"
   ]
  },
  {
   "cell_type": "code",
   "execution_count": 27,
   "metadata": {
    "colab": {
     "base_uri": "https://localhost:8080/",
     "height": 297
    },
    "executionInfo": {
     "elapsed": 25,
     "status": "ok",
     "timestamp": 1655391356669,
     "user": {
      "displayName": "Muriithi Ruth Nduta",
      "userId": "02314034622241805526"
     },
     "user_tz": -180
    },
    "id": "FyaXqr2p_icK",
    "outputId": "a26920f6-5874-41fe-953b-d5d66627bf5e"
   },
   "outputs": [
    {
     "data": {
      "text/plain": [
       "<matplotlib.axes._subplots.AxesSubplot at 0x7fda2900e5d0>"
      ]
     },
     "execution_count": 27,
     "metadata": {},
     "output_type": "execute_result"
    },
    {
     "data": {
      "image/png": "[encoded data removed]",
      "text/plain": [
       "<Figure size 432x288 with 1 Axes>"
      ]
     },
     "metadata": {
      "needs_background": "light"
     },
     "output_type": "display_data"
    }
   ],
   "source": [
    "# Which is the most preferred travel time?\n",
    "\n",
    "sns.countplot(x='hour', data=all_data)"
   ]
  },
  {
   "cell_type": "markdown",
   "metadata": {
    "id": "iC_w3tX626lM"
   },
   "source": [
    "Most customers travel at 7am"
   ]
  },
  {
   "cell_type": "markdown",
   "metadata": {
    "id": "pOOIgHChd0U7"
   },
   "source": [
    "2. Which are top towns people come from?"
   ]
  },
  {
   "cell_type": "code",
   "execution_count": 28,
   "metadata": {
    "colab": {
     "base_uri": "https://localhost:8080/"
    },
    "executionInfo": {
     "elapsed": 23,
     "status": "ok",
     "timestamp": 1655391356670,
     "user": {
      "displayName": "Muriithi Ruth Nduta",
      "userId": "02314034622241805526"
     },
     "user_tz": -180
    },
    "id": "djD9K-x8c4ze",
    "outputId": "e4b2b0b9-1e41-4306-e2b1-9cc73d5b146c"
   },
   "outputs": [
    {
     "data": {
      "text/plain": [
       "Kisii        23152\n",
       "Migori        7068\n",
       "Homa Bay      6357\n",
       "Sirare        4477\n",
       "Rongo         4043\n",
       "Kehancha      1941\n",
       "Awendo        1832\n",
       "Kijauri       1110\n",
       "Keroka        1009\n",
       "Nyachenge      546\n",
       "Rodi           448\n",
       "Mbita          403\n",
       "Ndhiwa         265\n",
       "Sori            65\n",
       "Keumbu          22\n",
       "Oyugis          17\n",
       "Kendu Bay        1\n",
       "Name: travel_from, dtype: int64"
      ]
     },
     "execution_count": 28,
     "metadata": {},
     "output_type": "execute_result"
    }
   ],
   "source": [
    "x = all_data['travel_from'].value_counts()\n",
    "x"
   ]
  },
  {
   "cell_type": "code",
   "execution_count": 29,
   "metadata": {
    "colab": {
     "base_uri": "https://localhost:8080/",
     "height": 298
    },
    "executionInfo": {
     "elapsed": 19,
     "status": "ok",
     "timestamp": 1655391356670,
     "user": {
      "displayName": "Muriithi Ruth Nduta",
      "userId": "02314034622241805526"
     },
     "user_tz": -180
    },
    "id": "WiMs3ijb2roy",
    "outputId": "76cab085-cb66-467b-eb37-ad7e27b0e4f6"
   },
   "outputs": [
    {
     "data": {
      "text/plain": [
       "<matplotlib.axes._subplots.AxesSubplot at 0x7fda28f9ea10>"
      ]
     },
     "execution_count": 29,
     "metadata": {},
     "output_type": "execute_result"
    },
    {
     "data": {
      "image/png": "[encoded data removed]",
      "text/plain": [
       "<Figure size 432x288 with 1 Axes>"
      ]
     },
     "metadata": {
      "needs_background": "light"
     },
     "output_type": "display_data"
    }
   ],
   "source": [
    "sns.countplot(x='travel_from', data=all_data, order=all_data.travel_from.value_counts().head(7).index)"
   ]
  },
  {
   "cell_type": "markdown",
   "metadata": {
    "id": "3E4dGaD0gqBF"
   },
   "source": [
    "3. which is the busiest month?"
   ]
  },
  {
   "cell_type": "code",
   "execution_count": 30,
   "metadata": {
    "colab": {
     "base_uri": "https://localhost:8080/",
     "height": 297
    },
    "executionInfo": {
     "elapsed": 15,
     "status": "ok",
     "timestamp": 1655391356671,
     "user": {
      "displayName": "Muriithi Ruth Nduta",
      "userId": "02314034622241805526"
     },
     "user_tz": -180
    },
    "id": "9GVZbX2LcpS-",
    "outputId": "0b374277-2411-4e02-aecd-2df57f8d073e"
   },
   "outputs": [
    {
     "data": {
      "text/plain": [
       "<matplotlib.axes._subplots.AxesSubplot at 0x7fda28f10d50>"
      ]
     },
     "execution_count": 30,
     "metadata": {},
     "output_type": "execute_result"
    },
    {
     "data": {
      "image/png": "[encoded data removed]",
      "text/plain": [
       "<Figure size 432x288 with 1 Axes>"
      ]
     },
     "metadata": {
      "needs_background": "light"
     },
     "output_type": "display_data"
    }
   ],
   "source": [
    "sns.countplot(x='month', data=all_data, order=all_data.month.value_counts().head(7).index)"
   ]
  },
  {
   "cell_type": "code",
   "execution_count": 70,
   "metadata": {
    "colab": {
     "base_uri": "https://localhost:8080/"
    },
    "executionInfo": {
     "elapsed": 431,
     "status": "ok",
     "timestamp": 1655392547849,
     "user": {
      "displayName": "Muriithi Ruth Nduta",
      "userId": "02314034622241805526"
     },
     "user_tz": -180
    },
    "id": "PHUJ4RAlFZI_",
    "outputId": "81094dfb-4f35-4e7f-d45b-bd53e2364908"
   },
   "outputs": [
    {
     "name": "stdout",
     "output_type": "stream",
     "text": [
      "<class 'pandas.core.frame.DataFrame'>\n",
      "RangeIndex: 52756 entries, 0 to 52755\n",
      "Data columns (total 10 columns):\n",
      " #   Column          Non-Null Count  Dtype   \n",
      "---  ------          --------------  -----   \n",
      " 0   seat_number     51645 non-null  category\n",
      " 1   payment_method  51645 non-null  category\n",
      " 2   travel_from     52756 non-null  category\n",
      " 3   travel_to       52756 non-null  category\n",
      " 4   car_type        52756 non-null  category\n",
      " 5   max_capacity    52756 non-null  int64   \n",
      " 6   year            52756 non-null  int64   \n",
      " 7   month           52756 non-null  int64   \n",
      " 8   day             52756 non-null  int64   \n",
      " 9   hour            52756 non-null  int64   \n",
      "dtypes: category(5), int64(5)\n",
      "memory usage: 2.3 MB\n"
     ]
    }
   ],
   "source": [
    "all_data.info()"
   ]
  },
  {
   "cell_type": "code",
   "execution_count": 74,
   "metadata": {
    "colab": {
     "base_uri": "https://localhost:8080/"
    },
    "executionInfo": {
     "elapsed": 5,
     "status": "ok",
     "timestamp": 1655392670716,
     "user": {
      "displayName": "Muriithi Ruth Nduta",
      "userId": "02314034622241805526"
     },
     "user_tz": -180
    },
    "id": "4TlO08fMFldu",
    "outputId": "7dbbfd25-5b74-4595-92ec-4946b5c91db0"
   },
   "outputs": [
    {
     "data": {
      "text/plain": [
       "Mpesa    51532\n",
       "Cash       113\n",
       "Name: payment_method, dtype: int64"
      ]
     },
     "execution_count": 74,
     "metadata": {},
     "output_type": "execute_result"
    }
   ],
   "source": [
    "all_data['payment_method'].value_counts()"
   ]
  },
  {
   "cell_type": "code",
   "execution_count": 31,
   "metadata": {
    "colab": {
     "base_uri": "https://localhost:8080/",
     "height": 451
    },
    "executionInfo": {
     "elapsed": 19,
     "status": "ok",
     "timestamp": 1655391505974,
     "user": {
      "displayName": "Muriithi Ruth Nduta",
      "userId": "02314034622241805526"
     },
     "user_tz": -180
    },
    "id": "cWHd-l1Ng34L",
    "outputId": "55320e7b-5df4-4a41-e1f0-09a7c4df9c73"
   },
   "outputs": [
    {
     "data": {
      "text/plain": [
       "<matplotlib.axes._subplots.AxesSubplot at 0x7fda23de4f50>"
      ]
     },
     "execution_count": 31,
     "metadata": {},
     "output_type": "execute_result"
    },
    {
     "data": {
      "image/png": "[encoded data removed]",
      "text/plain": [
       "<Figure size 864x504 with 2 Axes>"
      ]
     },
     "metadata": {
      "needs_background": "light"
     },
     "output_type": "display_data"
    }
   ],
   "source": [
    "#Checking for feature correlation\n",
    "plt.subplots(figsize=(12,7))\n",
    "sns.heatmap(all_data.corr(method='pearson'), annot=True)"
   ]
  },
  {
   "cell_type": "code",
   "execution_count": 105,
   "metadata": {
    "colab": {
     "base_uri": "https://localhost:8080/"
    },
    "executionInfo": {
     "elapsed": 425,
     "status": "ok",
     "timestamp": 1655394947259,
     "user": {
      "displayName": "Muriithi Ruth Nduta",
      "userId": "02314034622241805526"
     },
     "user_tz": -180
    },
    "id": "FN_fn1A1BcTs",
    "outputId": "557d86fc-8068-43c7-c589-3d1c3b91cb1b"
   },
   "outputs": [
    {
     "data": {
      "text/plain": [
       "Index(['ride_id', 'payment_method', 'travel_from', 'car_type', 'max_capacity',\n",
       "       'number_of_tickets', 'year', 'month', 'day', 'hour'],\n",
       "      dtype='object')"
      ]
     },
     "execution_count": 105,
     "metadata": {},
     "output_type": "execute_result"
    }
   ],
   "source": [
    "all_data.columns"
   ]
  },
  {
   "cell_type": "markdown",
   "metadata": {
    "id": "_0vtaBOEGKie"
   },
   "source": [
    "##Random Forest"
   ]
  },
  {
   "cell_type": "code",
   "execution_count": 182,
   "metadata": {
    "executionInfo": {
     "elapsed": 412,
     "status": "ok",
     "timestamp": 1655401222949,
     "user": {
      "displayName": "Muriithi Ruth Nduta",
      "userId": "02314034622241805526"
     },
     "user_tz": -180
    },
    "id": "ePhRFAJbOZsX"
   },
   "outputs": [],
   "source": [
    "#Separating features and labels\n",
    "X = all_data[['travel_from', 'car_type', 'max_capacity',\n",
    "       'year', 'month', 'day', 'hour']]\n",
    "y =all_data['number_of_tickets']"
   ]
  },
  {
   "cell_type": "code",
   "execution_count": 183,
   "metadata": {
    "executionInfo": {
     "elapsed": 3,
     "status": "ok",
     "timestamp": 1655401224818,
     "user": {
      "displayName": "Muriithi Ruth Nduta",
      "userId": "02314034622241805526"
     },
     "user_tz": -180
    },
    "id": "34gF60iDPApI"
   },
   "outputs": [],
   "source": [
    "X = pd.get_dummies(X)"
   ]
  },
  {
   "cell_type": "code",
   "execution_count": 184,
   "metadata": {
    "executionInfo": {
     "elapsed": 2,
     "status": "ok",
     "timestamp": 1655401227021,
     "user": {
      "displayName": "Muriithi Ruth Nduta",
      "userId": "02314034622241805526"
     },
     "user_tz": -180
    },
    "id": "lxbHw_JDOvhK"
   },
   "outputs": [],
   "source": [
    "#Split the data into a training set and testing set.\n",
    "from sklearn.model_selection import train_test_split\n",
    "\n",
    "X_train, X_test, y_train, y_test = train_test_split(X, y, test_size=0.2, random_state=0)"
   ]
  },
  {
   "cell_type": "code",
   "execution_count": 185,
   "metadata": {
    "executionInfo": {
     "elapsed": 3,
     "status": "ok",
     "timestamp": 1655401227402,
     "user": {
      "displayName": "Muriithi Ruth Nduta",
      "userId": "02314034622241805526"
     },
     "user_tz": -180
    },
    "id": "iMc3PUJCO19Y"
   },
   "outputs": [],
   "source": [
    "# We now need to perform feature scaling.\n",
    "from sklearn.preprocessing import StandardScaler\n",
    "\n",
    "sc = StandardScaler()\n",
    "X_train = sc.fit_transform(X_train)\n",
    "X_test = sc.transform(X_test)"
   ]
  },
  {
   "cell_type": "code",
   "execution_count": 186,
   "metadata": {
    "executionInfo": {
     "elapsed": 605,
     "status": "ok",
     "timestamp": 1655401229557,
     "user": {
      "displayName": "Muriithi Ruth Nduta",
      "userId": "02314034622241805526"
     },
     "user_tz": -180
    },
    "id": "8dBpkDTrPUIy"
   },
   "outputs": [],
   "source": [
    "# Peforming LDA\n",
    "\n",
    "from sklearn.discriminant_analysis import LinearDiscriminantAnalysis as LDA\n",
    "lda = LDA()\n",
    "X_train = lda.fit_transform(X_train, y_train)\n",
    "X_test = lda.transform(X_test)"
   ]
  },
  {
   "cell_type": "code",
   "execution_count": 187,
   "metadata": {
    "executionInfo": {
     "elapsed": 38378,
     "status": "ok",
     "timestamp": 1655401269520,
     "user": {
      "displayName": "Muriithi Ruth Nduta",
      "userId": "02314034622241805526"
     },
     "user_tz": -180
    },
    "id": "FbSOtJuUGtCW"
   },
   "outputs": [],
   "source": [
    "#Training and Making Predictions\n",
    "\n",
    "from sklearn.ensemble import RandomForestRegressor\n",
    "\n",
    "model = RandomForestRegressor()\n",
    "model.fit(X_train, y_train)\n",
    "y_pred = model.predict(X_test)\n"
   ]
  },
  {
   "cell_type": "code",
   "execution_count": 188,
   "metadata": {
    "colab": {
     "base_uri": "https://localhost:8080/"
    },
    "executionInfo": {
     "elapsed": 7,
     "status": "ok",
     "timestamp": 1655401271314,
     "user": {
      "displayName": "Muriithi Ruth Nduta",
      "userId": "02314034622241805526"
     },
     "user_tz": -180
    },
    "id": "x6dxmP_eaYkN",
    "outputId": "125cef9d-84ef-4cf2-e7dd-cf893b55d932"
   },
   "outputs": [
    {
     "name": "stdout",
     "output_type": "stream",
     "text": [
      "Results of sklearn.metrics:\n",
      "MAE: 2.9718975464358155\n",
      "MSE: 27.058455942925203\n",
      "RMSE: 5.201774307188385\n",
      "R-Squared: 0.8253769193534111\n"
     ]
    }
   ],
   "source": [
    "mae = metrics.mean_absolute_error(y_test, y_pred)\n",
    "mse = metrics.mean_squared_error(y_test, y_pred)\n",
    "rmse = np.sqrt(mse) # or mse**(0.5)  \n",
    "r2 = metrics.r2_score(y_test,y_pred)\n",
    "\n",
    "print(\"Results of sklearn.metrics:\")\n",
    "print(\"MAE:\",mae)\n",
    "print(\"MSE:\", mse)\n",
    "print(\"RMSE:\", rmse)\n",
    "print(\"R-Squared:\", r2)"
   ]
  },
  {
   "cell_type": "code",
   "execution_count": 189,
   "metadata": {
    "colab": {
     "base_uri": "https://localhost:8080/",
     "height": 388
    },
    "executionInfo": {
     "elapsed": 1117,
     "status": "ok",
     "timestamp": 1655401272427,
     "user": {
      "displayName": "Muriithi Ruth Nduta",
      "userId": "02314034622241805526"
     },
     "user_tz": -180
    },
    "id": "bc83DJKkV3yZ",
    "outputId": "111cf181-ff32-4149-c9f1-bf4d5d41cb04"
   },
   "outputs": [
    {
     "name": "stdout",
     "output_type": "stream",
     "text": [
      "R squared = 0.825\n"
     ]
    },
    {
     "data": {
      "image/png": "[encoded data removed]",
      "text/plain": [
       "<Figure size 360x360 with 1 Axes>"
      ]
     },
     "metadata": {
      "needs_background": "light"
     },
     "output_type": "display_data"
    }
   ],
   "source": [
    "import seaborn as sns\n",
    "\n",
    "sns.relplot(x=y_test, y=y_pred)\n",
    "\n",
    "import matplotlib.pyplot as plt\n",
    "plt.plot(np.linspace(-1, 17, 100),np.linspace(-1, 17, 100)) # add diagonal line\n",
    "\n",
    "print('R squared =', round(np.corrcoef(y_test, y=y_pred)[0,1]**2,3))"
   ]
  },
  {
   "cell_type": "markdown",
   "metadata": {
    "id": "t727IqEsTE_R"
   },
   "source": [
    "##XGB"
   ]
  },
  {
   "cell_type": "code",
   "execution_count": 190,
   "metadata": {
    "colab": {
     "base_uri": "https://localhost:8080/"
    },
    "executionInfo": {
     "elapsed": 97172,
     "status": "ok",
     "timestamp": 1655401369587,
     "user": {
      "displayName": "Muriithi Ruth Nduta",
      "userId": "02314034622241805526"
     },
     "user_tz": -180
    },
    "id": "bAEWJeIFQlsK",
    "outputId": "808e6d25-0881-4163-cede-278ac6c035e2"
   },
   "outputs": [
    {
     "name": "stdout",
     "output_type": "stream",
     "text": [
      "[17:41:20] WARNING: /workspace/src/objective/regression_obj.cu:152: reg:linear is now deprecated in favor of reg:squarederror.\n"
     ]
    }
   ],
   "source": [
    "from xgboost import XGBRegressor\n",
    "\n",
    "modelx = XGBRegressor(random_state=42, learning_rate=0.1, max_depth= 10, n_estimators=1000)\n",
    "modelx.fit(X_train, y_train)\n",
    "y_pred2 = modelx.predict(X_test)"
   ]
  },
  {
   "cell_type": "code",
   "execution_count": 191,
   "metadata": {
    "colab": {
     "base_uri": "https://localhost:8080/"
    },
    "executionInfo": {
     "elapsed": 38,
     "status": "ok",
     "timestamp": 1655401369589,
     "user": {
      "displayName": "Muriithi Ruth Nduta",
      "userId": "02314034622241805526"
     },
     "user_tz": -180
    },
    "id": "ak_rYruRTUEx",
    "outputId": "81c30f2e-cc76-46ee-d878-fca7567c72c7"
   },
   "outputs": [
    {
     "name": "stdout",
     "output_type": "stream",
     "text": [
      "Results of sklearn.metrics:\n",
      "MAE: 2.9544970699831135\n",
      "MSE: 26.878376958828976\n",
      "RMSE: 5.184436030932292\n",
      "R-Squared: 0.8265390679634027\n"
     ]
    }
   ],
   "source": [
    "mae = metrics.mean_absolute_error(y_test, y_pred2)\n",
    "mse = metrics.mean_squared_error(y_test, y_pred2)\n",
    "rmse = np.sqrt(mse) # or mse**(0.5)  \n",
    "r2 = metrics.r2_score(y_test,y_pred2)\n",
    "\n",
    "print(\"Results of sklearn.metrics:\")\n",
    "print(\"MAE:\",mae)\n",
    "print(\"MSE:\", mse)\n",
    "print(\"RMSE:\", rmse)\n",
    "print(\"R-Squared:\", r2)"
   ]
  },
  {
   "cell_type": "code",
   "execution_count": 192,
   "metadata": {
    "colab": {
     "base_uri": "https://localhost:8080/",
     "height": 388
    },
    "executionInfo": {
     "elapsed": 33,
     "status": "ok",
     "timestamp": 1655401369590,
     "user": {
      "displayName": "Muriithi Ruth Nduta",
      "userId": "02314034622241805526"
     },
     "user_tz": -180
    },
    "id": "Z32tBn0FbRPQ",
    "outputId": "edf3b8f4-ab51-4ca0-82dd-1cd4216c2bd2"
   },
   "outputs": [
    {
     "name": "stdout",
     "output_type": "stream",
     "text": [
      "R squared = 0.827\n"
     ]
    },
    {
     "data": {
      "image/png": "[encoded data removed]",
      "text/plain": [
       "<Figure size 360x360 with 1 Axes>"
      ]
     },
     "metadata": {
      "needs_background": "light"
     },
     "output_type": "display_data"
    }
   ],
   "source": [
    "import seaborn as sns\n",
    "\n",
    "sns.relplot(x=y_test, y=y_pred2)\n",
    "\n",
    "import matplotlib.pyplot as plt\n",
    "plt.plot(np.linspace(-1, 17, 100),np.linspace(-1, 17, 100)) # add diagonal line\n",
    "\n",
    "print('R squared =', round(np.corrcoef(y_test, y=y_pred2)[0,1]**2,3))"
   ]
  },
  {
   "cell_type": "code",
   "execution_count": 174,
   "metadata": {
    "executionInfo": {
     "elapsed": 651,
     "status": "ok",
     "timestamp": 1655399119900,
     "user": {
      "displayName": "Muriithi Ruth Nduta",
      "userId": "02314034622241805526"
     },
     "user_tz": -180
    },
    "id": "l18bM2NWeZS7"
   },
   "outputs": [],
   "source": [
    "# A parameter grid for XGBoost\n",
    "param_grid = {\n",
    "        'min_child_weight': [1, 5, 10],\n",
    "        'gamma': [0.5, 1, 1.5, 2, 5],\n",
    "        'subsample': [0.6, 0.8, 1.0],\n",
    "        'colsample_bytree': [0.6, 0.8, 1.0],\n",
    "        'max_depth': [3, 4, 5]\n",
    "        }"
   ]
  },
  {
   "cell_type": "code",
   "execution_count": 181,
   "metadata": {
    "colab": {
     "base_uri": "https://localhost:8080/",
     "height": 1000
    },
    "executionInfo": {
     "elapsed": 761428,
     "status": "error",
     "timestamp": 1655401213639,
     "user": {
      "displayName": "Muriithi Ruth Nduta",
      "userId": "02314034622241805526"
     },
     "user_tz": -180
    },
    "id": "mHKZRwFncs-y",
    "outputId": "c50265d7-7c0d-4b62-e93a-f24dade2cd8a"
   },
   "outputs": [
    {
     "name": "stdout",
     "output_type": "stream",
     "text": [
      "[17:27:41] WARNING: /workspace/src/objective/regression_obj.cu:152: reg:linear is now deprecated in favor of reg:squarederror.\n",
      "[17:27:42] WARNING: /workspace/src/objective/regression_obj.cu:152: reg:linear is now deprecated in favor of reg:squarederror.\n",
      "[17:27:44] WARNING: /workspace/src/objective/regression_obj.cu:152: reg:linear is now deprecated in favor of reg:squarederror.\n",
      "[17:27:45] WARNING: /workspace/src/objective/regression_obj.cu:152: reg:linear is now deprecated in favor of reg:squarederror.\n",
      "[17:27:46] WARNING: /workspace/src/objective/regression_obj.cu:152: reg:linear is now deprecated in favor of reg:squarederror.\n",
      "[17:27:48] WARNING: /workspace/src/objective/regression_obj.cu:152: reg:linear is now deprecated in favor of reg:squarederror.\n",
      "[17:27:49] WARNING: /workspace/src/objective/regression_obj.cu:152: reg:linear is now deprecated in favor of reg:squarederror.\n",
      "[17:27:50] WARNING: /workspace/src/objective/regression_obj.cu:152: reg:linear is now deprecated in favor of reg:squarederror.\n",
      "[17:27:52] WARNING: /workspace/src/objective/regression_obj.cu:152: reg:linear is now deprecated in favor of reg:squarederror.\n",
      "[17:27:53] WARNING: /workspace/src/objective/regression_obj.cu:152: reg:linear is now deprecated in favor of reg:squarederror.\n",
      "[17:27:54] WARNING: /workspace/src/objective/regression_obj.cu:152: reg:linear is now deprecated in favor of reg:squarederror.\n",
      "[17:27:55] WARNING: /workspace/src/objective/regression_obj.cu:152: reg:linear is now deprecated in favor of reg:squarederror.\n",
      "[17:27:56] WARNING: /workspace/src/objective/regression_obj.cu:152: reg:linear is now deprecated in favor of reg:squarederror.\n",
      "[17:27:57] WARNING: /workspace/src/objective/regression_obj.cu:152: reg:linear is now deprecated in favor of reg:squarederror.\n",
      "[17:27:59] WARNING: /workspace/src/objective/regression_obj.cu:152: reg:linear is now deprecated in favor of reg:squarederror.\n",
      "[17:28:00] WARNING: /workspace/src/objective/regression_obj.cu:152: reg:linear is now deprecated in favor of reg:squarederror.\n",
      "[17:28:01] WARNING: /workspace/src/objective/regression_obj.cu:152: reg:linear is now deprecated in favor of reg:squarederror.\n",
      "[17:28:02] WARNING: /workspace/src/objective/regression_obj.cu:152: reg:linear is now deprecated in favor of reg:squarederror.\n",
      "[17:28:04] WARNING: /workspace/src/objective/regression_obj.cu:152: reg:linear is now deprecated in favor of reg:squarederror.\n",
      "[17:28:05] WARNING: /workspace/src/objective/regression_obj.cu:152: reg:linear is now deprecated in favor of reg:squarederror.\n",
      "[17:28:07] WARNING: /workspace/src/objective/regression_obj.cu:152: reg:linear is now deprecated in favor of reg:squarederror.\n",
      "[17:28:08] WARNING: /workspace/src/objective/regression_obj.cu:152: reg:linear is now deprecated in favor of reg:squarederror.\n",
      "[17:28:09] WARNING: /workspace/src/objective/regression_obj.cu:152: reg:linear is now deprecated in favor of reg:squarederror.\n",
      "[17:28:10] WARNING: /workspace/src/objective/regression_obj.cu:152: reg:linear is now deprecated in favor of reg:squarederror.\n",
      "[17:28:11] WARNING: /workspace/src/objective/regression_obj.cu:152: reg:linear is now deprecated in favor of reg:squarederror.\n",
      "[17:28:13] WARNING: /workspace/src/objective/regression_obj.cu:152: reg:linear is now deprecated in favor of reg:squarederror.\n",
      "[17:28:14] WARNING: /workspace/src/objective/regression_obj.cu:152: reg:linear is now deprecated in favor of reg:squarederror.\n",
      "[17:28:15] WARNING: /workspace/src/objective/regression_obj.cu:152: reg:linear is now deprecated in favor of reg:squarederror.\n",
      "[17:28:16] WARNING: /workspace/src/objective/regression_obj.cu:152: reg:linear is now deprecated in favor of reg:squarederror.\n",
      "[17:28:17] WARNING: /workspace/src/objective/regression_obj.cu:152: reg:linear is now deprecated in favor of reg:squarederror.\n",
      "[17:28:18] WARNING: /workspace/src/objective/regression_obj.cu:152: reg:linear is now deprecated in favor of reg:squarederror.\n",
      "[17:28:20] WARNING: /workspace/src/objective/regression_obj.cu:152: reg:linear is now deprecated in favor of reg:squarederror.\n",
      "[17:28:21] WARNING: /workspace/src/objective/regression_obj.cu:152: reg:linear is now deprecated in favor of reg:squarederror.\n",
      "[17:28:22] WARNING: /workspace/src/objective/regression_obj.cu:152: reg:linear is now deprecated in favor of reg:squarederror.\n",
      "[17:28:24] WARNING: /workspace/src/objective/regression_obj.cu:152: reg:linear is now deprecated in favor of reg:squarederror.\n",
      "[17:28:25] WARNING: /workspace/src/objective/regression_obj.cu:152: reg:linear is now deprecated in favor of reg:squarederror.\n",
      "[17:28:26] WARNING: /workspace/src/objective/regression_obj.cu:152: reg:linear is now deprecated in favor of reg:squarederror.\n",
      "[17:28:28] WARNING: /workspace/src/objective/regression_obj.cu:152: reg:linear is now deprecated in favor of reg:squarederror.\n",
      "[17:28:29] WARNING: /workspace/src/objective/regression_obj.cu:152: reg:linear is now deprecated in favor of reg:squarederror.\n",
      "[17:28:30] WARNING: /workspace/src/objective/regression_obj.cu:152: reg:linear is now deprecated in favor of reg:squarederror.\n",
      "[17:28:31] WARNING: /workspace/src/objective/regression_obj.cu:152: reg:linear is now deprecated in favor of reg:squarederror.\n",
      "[17:28:33] WARNING: /workspace/src/objective/regression_obj.cu:152: reg:linear is now deprecated in favor of reg:squarederror.\n",
      "[17:28:34] WARNING: /workspace/src/objective/regression_obj.cu:152: reg:linear is now deprecated in favor of reg:squarederror.\n",
      "[17:28:35] WARNING: /workspace/src/objective/regression_obj.cu:152: reg:linear is now deprecated in favor of reg:squarederror.\n",
      "[17:28:36] WARNING: /workspace/src/objective/regression_obj.cu:152: reg:linear is now deprecated in favor of reg:squarederror.\n",
      "[17:28:37] WARNING: /workspace/src/objective/regression_obj.cu:152: reg:linear is now deprecated in favor of reg:squarederror.\n",
      "[17:28:39] WARNING: /workspace/src/objective/regression_obj.cu:152: reg:linear is now deprecated in favor of reg:squarederror.\n",
      "[17:28:40] WARNING: /workspace/src/objective/regression_obj.cu:152: reg:linear is now deprecated in favor of reg:squarederror.\n",
      "[17:28:42] WARNING: /workspace/src/objective/regression_obj.cu:152: reg:linear is now deprecated in favor of reg:squarederror.\n",
      "[17:28:44] WARNING: /workspace/src/objective/regression_obj.cu:152: reg:linear is now deprecated in favor of reg:squarederror.\n",
      "[17:28:45] WARNING: /workspace/src/objective/regression_obj.cu:152: reg:linear is now deprecated in favor of reg:squarederror.\n",
      "[17:28:47] WARNING: /workspace/src/objective/regression_obj.cu:152: reg:linear is now deprecated in favor of reg:squarederror.\n",
      "[17:28:49] WARNING: /workspace/src/objective/regression_obj.cu:152: reg:linear is now deprecated in favor of reg:squarederror.\n",
      "[17:28:50] WARNING: /workspace/src/objective/regression_obj.cu:152: reg:linear is now deprecated in favor of reg:squarederror.\n",
      "[17:28:52] WARNING: /workspace/src/objective/regression_obj.cu:152: reg:linear is now deprecated in favor of reg:squarederror.\n",
      "[17:28:53] WARNING: /workspace/src/objective/regression_obj.cu:152: reg:linear is now deprecated in favor of reg:squarederror.\n",
      "[17:28:55] WARNING: /workspace/src/objective/regression_obj.cu:152: reg:linear is now deprecated in favor of reg:squarederror.\n",
      "[17:28:56] WARNING: /workspace/src/objective/regression_obj.cu:152: reg:linear is now deprecated in favor of reg:squarederror.\n",
      "[17:28:57] WARNING: /workspace/src/objective/regression_obj.cu:152: reg:linear is now deprecated in favor of reg:squarederror.\n",
      "[17:28:59] WARNING: /workspace/src/objective/regression_obj.cu:152: reg:linear is now deprecated in favor of reg:squarederror.\n",
      "[17:29:00] WARNING: /workspace/src/objective/regression_obj.cu:152: reg:linear is now deprecated in favor of reg:squarederror.\n",
      "[17:29:02] WARNING: /workspace/src/objective/regression_obj.cu:152: reg:linear is now deprecated in favor of reg:squarederror.\n",
      "[17:29:04] WARNING: /workspace/src/objective/regression_obj.cu:152: reg:linear is now deprecated in favor of reg:squarederror.\n",
      "[17:29:05] WARNING: /workspace/src/objective/regression_obj.cu:152: reg:linear is now deprecated in favor of reg:squarederror.\n",
      "[17:29:07] WARNING: /workspace/src/objective/regression_obj.cu:152: reg:linear is now deprecated in favor of reg:squarederror.\n",
      "[17:29:09] WARNING: /workspace/src/objective/regression_obj.cu:152: reg:linear is now deprecated in favor of reg:squarederror.\n",
      "[17:29:10] WARNING: /workspace/src/objective/regression_obj.cu:152: reg:linear is now deprecated in favor of reg:squarederror.\n",
      "[17:29:12] WARNING: /workspace/src/objective/regression_obj.cu:152: reg:linear is now deprecated in favor of reg:squarederror.\n",
      "[17:29:13] WARNING: /workspace/src/objective/regression_obj.cu:152: reg:linear is now deprecated in favor of reg:squarederror.\n",
      "[17:29:16] WARNING: /workspace/src/objective/regression_obj.cu:152: reg:linear is now deprecated in favor of reg:squarederror.\n",
      "[17:29:18] WARNING: /workspace/src/objective/regression_obj.cu:152: reg:linear is now deprecated in favor of reg:squarederror.\n",
      "[17:29:19] WARNING: /workspace/src/objective/regression_obj.cu:152: reg:linear is now deprecated in favor of reg:squarederror.\n",
      "[17:29:21] WARNING: /workspace/src/objective/regression_obj.cu:152: reg:linear is now deprecated in favor of reg:squarederror.\n",
      "[17:29:22] WARNING: /workspace/src/objective/regression_obj.cu:152: reg:linear is now deprecated in favor of reg:squarederror.\n",
      "[17:29:23] WARNING: /workspace/src/objective/regression_obj.cu:152: reg:linear is now deprecated in favor of reg:squarederror.\n",
      "[17:29:25] WARNING: /workspace/src/objective/regression_obj.cu:152: reg:linear is now deprecated in favor of reg:squarederror.\n",
      "[17:29:26] WARNING: /workspace/src/objective/regression_obj.cu:152: reg:linear is now deprecated in favor of reg:squarederror.\n",
      "[17:29:28] WARNING: /workspace/src/objective/regression_obj.cu:152: reg:linear is now deprecated in favor of reg:squarederror.\n",
      "[17:29:30] WARNING: /workspace/src/objective/regression_obj.cu:152: reg:linear is now deprecated in favor of reg:squarederror.\n",
      "[17:29:31] WARNING: /workspace/src/objective/regression_obj.cu:152: reg:linear is now deprecated in favor of reg:squarederror.\n",
      "[17:29:33] WARNING: /workspace/src/objective/regression_obj.cu:152: reg:linear is now deprecated in favor of reg:squarederror.\n",
      "[17:29:35] WARNING: /workspace/src/objective/regression_obj.cu:152: reg:linear is now deprecated in favor of reg:squarederror.\n",
      "[17:29:36] WARNING: /workspace/src/objective/regression_obj.cu:152: reg:linear is now deprecated in favor of reg:squarederror.\n",
      "[17:29:38] WARNING: /workspace/src/objective/regression_obj.cu:152: reg:linear is now deprecated in favor of reg:squarederror.\n",
      "[17:29:39] WARNING: /workspace/src/objective/regression_obj.cu:152: reg:linear is now deprecated in favor of reg:squarederror.\n",
      "[17:29:41] WARNING: /workspace/src/objective/regression_obj.cu:152: reg:linear is now deprecated in favor of reg:squarederror.\n",
      "[17:29:42] WARNING: /workspace/src/objective/regression_obj.cu:152: reg:linear is now deprecated in favor of reg:squarederror.\n",
      "[17:29:44] WARNING: /workspace/src/objective/regression_obj.cu:152: reg:linear is now deprecated in favor of reg:squarederror.\n",
      "[17:29:45] WARNING: /workspace/src/objective/regression_obj.cu:152: reg:linear is now deprecated in favor of reg:squarederror.\n",
      "[17:29:46] WARNING: /workspace/src/objective/regression_obj.cu:152: reg:linear is now deprecated in favor of reg:squarederror.\n",
      "[17:29:48] WARNING: /workspace/src/objective/regression_obj.cu:152: reg:linear is now deprecated in favor of reg:squarederror.\n",
      "[17:29:50] WARNING: /workspace/src/objective/regression_obj.cu:152: reg:linear is now deprecated in favor of reg:squarederror.\n",
      "[17:29:52] WARNING: /workspace/src/objective/regression_obj.cu:152: reg:linear is now deprecated in favor of reg:squarederror.\n",
      "[17:29:55] WARNING: /workspace/src/objective/regression_obj.cu:152: reg:linear is now deprecated in favor of reg:squarederror.\n",
      "[17:29:57] WARNING: /workspace/src/objective/regression_obj.cu:152: reg:linear is now deprecated in favor of reg:squarederror.\n",
      "[17:29:59] WARNING: /workspace/src/objective/regression_obj.cu:152: reg:linear is now deprecated in favor of reg:squarederror.\n",
      "[17:30:01] WARNING: /workspace/src/objective/regression_obj.cu:152: reg:linear is now deprecated in favor of reg:squarederror.\n",
      "[17:30:03] WARNING: /workspace/src/objective/regression_obj.cu:152: reg:linear is now deprecated in favor of reg:squarederror.\n",
      "[17:30:05] WARNING: /workspace/src/objective/regression_obj.cu:152: reg:linear is now deprecated in favor of reg:squarederror.\n",
      "[17:30:07] WARNING: /workspace/src/objective/regression_obj.cu:152: reg:linear is now deprecated in favor of reg:squarederror.\n",
      "[17:30:08] WARNING: /workspace/src/objective/regression_obj.cu:152: reg:linear is now deprecated in favor of reg:squarederror.\n",
      "[17:30:10] WARNING: /workspace/src/objective/regression_obj.cu:152: reg:linear is now deprecated in favor of reg:squarederror.\n",
      "[17:30:12] WARNING: /workspace/src/objective/regression_obj.cu:152: reg:linear is now deprecated in favor of reg:squarederror.\n",
      "[17:30:14] WARNING: /workspace/src/objective/regression_obj.cu:152: reg:linear is now deprecated in favor of reg:squarederror.\n",
      "[17:30:15] WARNING: /workspace/src/objective/regression_obj.cu:152: reg:linear is now deprecated in favor of reg:squarederror.\n",
      "[17:30:17] WARNING: /workspace/src/objective/regression_obj.cu:152: reg:linear is now deprecated in favor of reg:squarederror.\n",
      "[17:30:19] WARNING: /workspace/src/objective/regression_obj.cu:152: reg:linear is now deprecated in favor of reg:squarederror.\n",
      "[17:30:21] WARNING: /workspace/src/objective/regression_obj.cu:152: reg:linear is now deprecated in favor of reg:squarederror.\n",
      "[17:30:23] WARNING: /workspace/src/objective/regression_obj.cu:152: reg:linear is now deprecated in favor of reg:squarederror.\n",
      "[17:30:25] WARNING: /workspace/src/objective/regression_obj.cu:152: reg:linear is now deprecated in favor of reg:squarederror.\n",
      "[17:30:27] WARNING: /workspace/src/objective/regression_obj.cu:152: reg:linear is now deprecated in favor of reg:squarederror.\n",
      "[17:30:29] WARNING: /workspace/src/objective/regression_obj.cu:152: reg:linear is now deprecated in favor of reg:squarederror.\n",
      "[17:30:31] WARNING: /workspace/src/objective/regression_obj.cu:152: reg:linear is now deprecated in favor of reg:squarederror.\n",
      "[17:30:33] WARNING: /workspace/src/objective/regression_obj.cu:152: reg:linear is now deprecated in favor of reg:squarederror.\n",
      "[17:30:35] WARNING: /workspace/src/objective/regression_obj.cu:152: reg:linear is now deprecated in favor of reg:squarederror.\n",
      "[17:30:37] WARNING: /workspace/src/objective/regression_obj.cu:152: reg:linear is now deprecated in favor of reg:squarederror.\n",
      "[17:30:39] WARNING: /workspace/src/objective/regression_obj.cu:152: reg:linear is now deprecated in favor of reg:squarederror.\n",
      "[17:30:40] WARNING: /workspace/src/objective/regression_obj.cu:152: reg:linear is now deprecated in favor of reg:squarederror.\n",
      "[17:30:42] WARNING: /workspace/src/objective/regression_obj.cu:152: reg:linear is now deprecated in favor of reg:squarederror.\n",
      "[17:30:44] WARNING: /workspace/src/objective/regression_obj.cu:152: reg:linear is now deprecated in favor of reg:squarederror.\n",
      "[17:30:45] WARNING: /workspace/src/objective/regression_obj.cu:152: reg:linear is now deprecated in favor of reg:squarederror.\n",
      "[17:30:48] WARNING: /workspace/src/objective/regression_obj.cu:152: reg:linear is now deprecated in favor of reg:squarederror.\n",
      "[17:30:50] WARNING: /workspace/src/objective/regression_obj.cu:152: reg:linear is now deprecated in favor of reg:squarederror.\n",
      "[17:30:52] WARNING: /workspace/src/objective/regression_obj.cu:152: reg:linear is now deprecated in favor of reg:squarederror.\n",
      "[17:30:54] WARNING: /workspace/src/objective/regression_obj.cu:152: reg:linear is now deprecated in favor of reg:squarederror.\n",
      "[17:30:56] WARNING: /workspace/src/objective/regression_obj.cu:152: reg:linear is now deprecated in favor of reg:squarederror.\n",
      "[17:30:58] WARNING: /workspace/src/objective/regression_obj.cu:152: reg:linear is now deprecated in favor of reg:squarederror.\n",
      "[17:31:00] WARNING: /workspace/src/objective/regression_obj.cu:152: reg:linear is now deprecated in favor of reg:squarederror.\n",
      "[17:31:02] WARNING: /workspace/src/objective/regression_obj.cu:152: reg:linear is now deprecated in favor of reg:squarederror.\n",
      "[17:31:03] WARNING: /workspace/src/objective/regression_obj.cu:152: reg:linear is now deprecated in favor of reg:squarederror.\n",
      "[17:31:05] WARNING: /workspace/src/objective/regression_obj.cu:152: reg:linear is now deprecated in favor of reg:squarederror.\n",
      "[17:31:07] WARNING: /workspace/src/objective/regression_obj.cu:152: reg:linear is now deprecated in favor of reg:squarederror.\n",
      "[17:31:09] WARNING: /workspace/src/objective/regression_obj.cu:152: reg:linear is now deprecated in favor of reg:squarederror.\n",
      "[17:31:10] WARNING: /workspace/src/objective/regression_obj.cu:152: reg:linear is now deprecated in favor of reg:squarederror.\n",
      "[17:31:12] WARNING: /workspace/src/objective/regression_obj.cu:152: reg:linear is now deprecated in favor of reg:squarederror.\n",
      "[17:31:14] WARNING: /workspace/src/objective/regression_obj.cu:152: reg:linear is now deprecated in favor of reg:squarederror.\n",
      "[17:31:15] WARNING: /workspace/src/objective/regression_obj.cu:152: reg:linear is now deprecated in favor of reg:squarederror.\n",
      "[17:31:17] WARNING: /workspace/src/objective/regression_obj.cu:152: reg:linear is now deprecated in favor of reg:squarederror.\n",
      "[17:31:18] WARNING: /workspace/src/objective/regression_obj.cu:152: reg:linear is now deprecated in favor of reg:squarederror.\n",
      "[17:31:19] WARNING: /workspace/src/objective/regression_obj.cu:152: reg:linear is now deprecated in favor of reg:squarederror.\n",
      "[17:31:21] WARNING: /workspace/src/objective/regression_obj.cu:152: reg:linear is now deprecated in favor of reg:squarederror.\n",
      "[17:31:22] WARNING: /workspace/src/objective/regression_obj.cu:152: reg:linear is now deprecated in favor of reg:squarederror.\n",
      "[17:31:23] WARNING: /workspace/src/objective/regression_obj.cu:152: reg:linear is now deprecated in favor of reg:squarederror.\n",
      "[17:31:24] WARNING: /workspace/src/objective/regression_obj.cu:152: reg:linear is now deprecated in favor of reg:squarederror.\n",
      "[17:31:26] WARNING: /workspace/src/objective/regression_obj.cu:152: reg:linear is now deprecated in favor of reg:squarederror.\n",
      "[17:31:27] WARNING: /workspace/src/objective/regression_obj.cu:152: reg:linear is now deprecated in favor of reg:squarederror.\n",
      "[17:31:28] WARNING: /workspace/src/objective/regression_obj.cu:152: reg:linear is now deprecated in favor of reg:squarederror.\n",
      "[17:31:29] WARNING: /workspace/src/objective/regression_obj.cu:152: reg:linear is now deprecated in favor of reg:squarederror.\n",
      "[17:31:30] WARNING: /workspace/src/objective/regression_obj.cu:152: reg:linear is now deprecated in favor of reg:squarederror.\n",
      "[17:31:31] WARNING: /workspace/src/objective/regression_obj.cu:152: reg:linear is now deprecated in favor of reg:squarederror.\n",
      "[17:31:33] WARNING: /workspace/src/objective/regression_obj.cu:152: reg:linear is now deprecated in favor of reg:squarederror.\n",
      "[17:31:34] WARNING: /workspace/src/objective/regression_obj.cu:152: reg:linear is now deprecated in favor of reg:squarederror.\n",
      "[17:31:35] WARNING: /workspace/src/objective/regression_obj.cu:152: reg:linear is now deprecated in favor of reg:squarederror.\n",
      "[17:31:37] WARNING: /workspace/src/objective/regression_obj.cu:152: reg:linear is now deprecated in favor of reg:squarederror.\n",
      "[17:31:38] WARNING: /workspace/src/objective/regression_obj.cu:152: reg:linear is now deprecated in favor of reg:squarederror.\n",
      "[17:31:39] WARNING: /workspace/src/objective/regression_obj.cu:152: reg:linear is now deprecated in favor of reg:squarederror.\n",
      "[17:31:41] WARNING: /workspace/src/objective/regression_obj.cu:152: reg:linear is now deprecated in favor of reg:squarederror.\n",
      "[17:31:42] WARNING: /workspace/src/objective/regression_obj.cu:152: reg:linear is now deprecated in favor of reg:squarederror.\n",
      "[17:31:43] WARNING: /workspace/src/objective/regression_obj.cu:152: reg:linear is now deprecated in favor of reg:squarederror.\n",
      "[17:31:44] WARNING: /workspace/src/objective/regression_obj.cu:152: reg:linear is now deprecated in favor of reg:squarederror.\n",
      "[17:31:46] WARNING: /workspace/src/objective/regression_obj.cu:152: reg:linear is now deprecated in favor of reg:squarederror.\n",
      "[17:31:47] WARNING: /workspace/src/objective/regression_obj.cu:152: reg:linear is now deprecated in favor of reg:squarederror.\n",
      "[17:31:48] WARNING: /workspace/src/objective/regression_obj.cu:152: reg:linear is now deprecated in favor of reg:squarederror.\n",
      "[17:31:49] WARNING: /workspace/src/objective/regression_obj.cu:152: reg:linear is now deprecated in favor of reg:squarederror.\n",
      "[17:31:50] WARNING: /workspace/src/objective/regression_obj.cu:152: reg:linear is now deprecated in favor of reg:squarederror.\n",
      "[17:31:51] WARNING: /workspace/src/objective/regression_obj.cu:152: reg:linear is now deprecated in favor of reg:squarederror.\n",
      "[17:31:53] WARNING: /workspace/src/objective/regression_obj.cu:152: reg:linear is now deprecated in favor of reg:squarederror.\n",
      "[17:31:54] WARNING: /workspace/src/objective/regression_obj.cu:152: reg:linear is now deprecated in favor of reg:squarederror.\n",
      "[17:31:55] WARNING: /workspace/src/objective/regression_obj.cu:152: reg:linear is now deprecated in favor of reg:squarederror.\n",
      "[17:31:57] WARNING: /workspace/src/objective/regression_obj.cu:152: reg:linear is now deprecated in favor of reg:squarederror.\n",
      "[17:31:58] WARNING: /workspace/src/objective/regression_obj.cu:152: reg:linear is now deprecated in favor of reg:squarederror.\n",
      "[17:31:59] WARNING: /workspace/src/objective/regression_obj.cu:152: reg:linear is now deprecated in favor of reg:squarederror.\n",
      "[17:32:00] WARNING: /workspace/src/objective/regression_obj.cu:152: reg:linear is now deprecated in favor of reg:squarederror.\n",
      "[17:32:02] WARNING: /workspace/src/objective/regression_obj.cu:152: reg:linear is now deprecated in favor of reg:squarederror.\n",
      "[17:32:03] WARNING: /workspace/src/objective/regression_obj.cu:152: reg:linear is now deprecated in favor of reg:squarederror.\n",
      "[17:32:04] WARNING: /workspace/src/objective/regression_obj.cu:152: reg:linear is now deprecated in favor of reg:squarederror.\n",
      "[17:32:05] WARNING: /workspace/src/objective/regression_obj.cu:152: reg:linear is now deprecated in favor of reg:squarederror.\n",
      "[17:32:06] WARNING: /workspace/src/objective/regression_obj.cu:152: reg:linear is now deprecated in favor of reg:squarederror.\n",
      "[17:32:07] WARNING: /workspace/src/objective/regression_obj.cu:152: reg:linear is now deprecated in favor of reg:squarederror.\n",
      "[17:32:09] WARNING: /workspace/src/objective/regression_obj.cu:152: reg:linear is now deprecated in favor of reg:squarederror.\n",
      "[17:32:10] WARNING: /workspace/src/objective/regression_obj.cu:152: reg:linear is now deprecated in favor of reg:squarederror.\n",
      "[17:32:11] WARNING: /workspace/src/objective/regression_obj.cu:152: reg:linear is now deprecated in favor of reg:squarederror.\n",
      "[17:32:13] WARNING: /workspace/src/objective/regression_obj.cu:152: reg:linear is now deprecated in favor of reg:squarederror.\n",
      "[17:32:15] WARNING: /workspace/src/objective/regression_obj.cu:152: reg:linear is now deprecated in favor of reg:squarederror.\n",
      "[17:32:16] WARNING: /workspace/src/objective/regression_obj.cu:152: reg:linear is now deprecated in favor of reg:squarederror.\n",
      "[17:32:18] WARNING: /workspace/src/objective/regression_obj.cu:152: reg:linear is now deprecated in favor of reg:squarederror.\n",
      "[17:32:20] WARNING: /workspace/src/objective/regression_obj.cu:152: reg:linear is now deprecated in favor of reg:squarederror.\n",
      "[17:32:21] WARNING: /workspace/src/objective/regression_obj.cu:152: reg:linear is now deprecated in favor of reg:squarederror.\n",
      "[17:32:23] WARNING: /workspace/src/objective/regression_obj.cu:152: reg:linear is now deprecated in favor of reg:squarederror.\n",
      "[17:32:24] WARNING: /workspace/src/objective/regression_obj.cu:152: reg:linear is now deprecated in favor of reg:squarederror.\n",
      "[17:32:26] WARNING: /workspace/src/objective/regression_obj.cu:152: reg:linear is now deprecated in favor of reg:squarederror.\n",
      "[17:32:27] WARNING: /workspace/src/objective/regression_obj.cu:152: reg:linear is now deprecated in favor of reg:squarederror.\n",
      "[17:32:29] WARNING: /workspace/src/objective/regression_obj.cu:152: reg:linear is now deprecated in favor of reg:squarederror.\n",
      "[17:32:30] WARNING: /workspace/src/objective/regression_obj.cu:152: reg:linear is now deprecated in favor of reg:squarederror.\n",
      "[17:32:31] WARNING: /workspace/src/objective/regression_obj.cu:152: reg:linear is now deprecated in favor of reg:squarederror.\n",
      "[17:32:33] WARNING: /workspace/src/objective/regression_obj.cu:152: reg:linear is now deprecated in favor of reg:squarederror.\n",
      "[17:32:34] WARNING: /workspace/src/objective/regression_obj.cu:152: reg:linear is now deprecated in favor of reg:squarederror.\n",
      "[17:32:36] WARNING: /workspace/src/objective/regression_obj.cu:152: reg:linear is now deprecated in favor of reg:squarederror.\n",
      "[17:32:38] WARNING: /workspace/src/objective/regression_obj.cu:152: reg:linear is now deprecated in favor of reg:squarederror.\n",
      "[17:32:40] WARNING: /workspace/src/objective/regression_obj.cu:152: reg:linear is now deprecated in favor of reg:squarederror.\n",
      "[17:32:41] WARNING: /workspace/src/objective/regression_obj.cu:152: reg:linear is now deprecated in favor of reg:squarederror.\n",
      "[17:32:43] WARNING: /workspace/src/objective/regression_obj.cu:152: reg:linear is now deprecated in favor of reg:squarederror.\n",
      "[17:32:44] WARNING: /workspace/src/objective/regression_obj.cu:152: reg:linear is now deprecated in favor of reg:squarederror.\n",
      "[17:32:46] WARNING: /workspace/src/objective/regression_obj.cu:152: reg:linear is now deprecated in favor of reg:squarederror.\n",
      "[17:32:47] WARNING: /workspace/src/objective/regression_obj.cu:152: reg:linear is now deprecated in favor of reg:squarederror.\n",
      "[17:32:49] WARNING: /workspace/src/objective/regression_obj.cu:152: reg:linear is now deprecated in favor of reg:squarederror.\n",
      "[17:32:50] WARNING: /workspace/src/objective/regression_obj.cu:152: reg:linear is now deprecated in favor of reg:squarederror.\n",
      "[17:32:52] WARNING: /workspace/src/objective/regression_obj.cu:152: reg:linear is now deprecated in favor of reg:squarederror.\n",
      "[17:32:53] WARNING: /workspace/src/objective/regression_obj.cu:152: reg:linear is now deprecated in favor of reg:squarederror.\n",
      "[17:32:54] WARNING: /workspace/src/objective/regression_obj.cu:152: reg:linear is now deprecated in favor of reg:squarederror.\n",
      "[17:32:56] WARNING: /workspace/src/objective/regression_obj.cu:152: reg:linear is now deprecated in favor of reg:squarederror.\n",
      "[17:32:58] WARNING: /workspace/src/objective/regression_obj.cu:152: reg:linear is now deprecated in favor of reg:squarederror.\n",
      "[17:32:59] WARNING: /workspace/src/objective/regression_obj.cu:152: reg:linear is now deprecated in favor of reg:squarederror.\n",
      "[17:33:01] WARNING: /workspace/src/objective/regression_obj.cu:152: reg:linear is now deprecated in favor of reg:squarederror.\n",
      "[17:33:03] WARNING: /workspace/src/objective/regression_obj.cu:152: reg:linear is now deprecated in favor of reg:squarederror.\n",
      "[17:33:04] WARNING: /workspace/src/objective/regression_obj.cu:152: reg:linear is now deprecated in favor of reg:squarederror.\n",
      "[17:33:06] WARNING: /workspace/src/objective/regression_obj.cu:152: reg:linear is now deprecated in favor of reg:squarederror.\n",
      "[17:33:07] WARNING: /workspace/src/objective/regression_obj.cu:152: reg:linear is now deprecated in favor of reg:squarederror.\n",
      "[17:33:09] WARNING: /workspace/src/objective/regression_obj.cu:152: reg:linear is now deprecated in favor of reg:squarederror.\n",
      "[17:33:10] WARNING: /workspace/src/objective/regression_obj.cu:152: reg:linear is now deprecated in favor of reg:squarederror.\n",
      "[17:33:12] WARNING: /workspace/src/objective/regression_obj.cu:152: reg:linear is now deprecated in favor of reg:squarederror.\n",
      "[17:33:13] WARNING: /workspace/src/objective/regression_obj.cu:152: reg:linear is now deprecated in favor of reg:squarederror.\n",
      "[17:33:15] WARNING: /workspace/src/objective/regression_obj.cu:152: reg:linear is now deprecated in favor of reg:squarederror.\n",
      "[17:33:16] WARNING: /workspace/src/objective/regression_obj.cu:152: reg:linear is now deprecated in favor of reg:squarederror.\n",
      "[17:33:18] WARNING: /workspace/src/objective/regression_obj.cu:152: reg:linear is now deprecated in favor of reg:squarederror.\n",
      "[17:33:19] WARNING: /workspace/src/objective/regression_obj.cu:152: reg:linear is now deprecated in favor of reg:squarederror.\n",
      "[17:33:21] WARNING: /workspace/src/objective/regression_obj.cu:152: reg:linear is now deprecated in favor of reg:squarederror.\n",
      "[17:33:23] WARNING: /workspace/src/objective/regression_obj.cu:152: reg:linear is now deprecated in favor of reg:squarederror.\n",
      "[17:33:25] WARNING: /workspace/src/objective/regression_obj.cu:152: reg:linear is now deprecated in favor of reg:squarederror.\n",
      "[17:33:27] WARNING: /workspace/src/objective/regression_obj.cu:152: reg:linear is now deprecated in favor of reg:squarederror.\n",
      "[17:33:29] WARNING: /workspace/src/objective/regression_obj.cu:152: reg:linear is now deprecated in favor of reg:squarederror.\n",
      "[17:33:31] WARNING: /workspace/src/objective/regression_obj.cu:152: reg:linear is now deprecated in favor of reg:squarederror.\n",
      "[17:33:33] WARNING: /workspace/src/objective/regression_obj.cu:152: reg:linear is now deprecated in favor of reg:squarederror.\n",
      "[17:33:35] WARNING: /workspace/src/objective/regression_obj.cu:152: reg:linear is now deprecated in favor of reg:squarederror.\n",
      "[17:33:37] WARNING: /workspace/src/objective/regression_obj.cu:152: reg:linear is now deprecated in favor of reg:squarederror.\n",
      "[17:33:39] WARNING: /workspace/src/objective/regression_obj.cu:152: reg:linear is now deprecated in favor of reg:squarederror.\n",
      "[17:33:40] WARNING: /workspace/src/objective/regression_obj.cu:152: reg:linear is now deprecated in favor of reg:squarederror.\n",
      "[17:33:42] WARNING: /workspace/src/objective/regression_obj.cu:152: reg:linear is now deprecated in favor of reg:squarederror.\n",
      "[17:33:44] WARNING: /workspace/src/objective/regression_obj.cu:152: reg:linear is now deprecated in favor of reg:squarederror.\n",
      "[17:33:45] WARNING: /workspace/src/objective/regression_obj.cu:152: reg:linear is now deprecated in favor of reg:squarederror.\n",
      "[17:33:47] WARNING: /workspace/src/objective/regression_obj.cu:152: reg:linear is now deprecated in favor of reg:squarederror.\n",
      "[17:33:49] WARNING: /workspace/src/objective/regression_obj.cu:152: reg:linear is now deprecated in favor of reg:squarederror.\n",
      "[17:33:51] WARNING: /workspace/src/objective/regression_obj.cu:152: reg:linear is now deprecated in favor of reg:squarederror.\n",
      "[17:33:53] WARNING: /workspace/src/objective/regression_obj.cu:152: reg:linear is now deprecated in favor of reg:squarederror.\n",
      "[17:33:55] WARNING: /workspace/src/objective/regression_obj.cu:152: reg:linear is now deprecated in favor of reg:squarederror.\n",
      "[17:33:57] WARNING: /workspace/src/objective/regression_obj.cu:152: reg:linear is now deprecated in favor of reg:squarederror.\n",
      "[17:33:59] WARNING: /workspace/src/objective/regression_obj.cu:152: reg:linear is now deprecated in favor of reg:squarederror.\n",
      "[17:34:01] WARNING: /workspace/src/objective/regression_obj.cu:152: reg:linear is now deprecated in favor of reg:squarederror.\n",
      "[17:34:03] WARNING: /workspace/src/objective/regression_obj.cu:152: reg:linear is now deprecated in favor of reg:squarederror.\n",
      "[17:34:05] WARNING: /workspace/src/objective/regression_obj.cu:152: reg:linear is now deprecated in favor of reg:squarederror.\n",
      "[17:34:07] WARNING: /workspace/src/objective/regression_obj.cu:152: reg:linear is now deprecated in favor of reg:squarederror.\n",
      "[17:34:08] WARNING: /workspace/src/objective/regression_obj.cu:152: reg:linear is now deprecated in favor of reg:squarederror.\n",
      "[17:34:10] WARNING: /workspace/src/objective/regression_obj.cu:152: reg:linear is now deprecated in favor of reg:squarederror.\n",
      "[17:34:12] WARNING: /workspace/src/objective/regression_obj.cu:152: reg:linear is now deprecated in favor of reg:squarederror.\n",
      "[17:34:13] WARNING: /workspace/src/objective/regression_obj.cu:152: reg:linear is now deprecated in favor of reg:squarederror.\n",
      "[17:34:15] WARNING: /workspace/src/objective/regression_obj.cu:152: reg:linear is now deprecated in favor of reg:squarederror.\n",
      "[17:34:17] WARNING: /workspace/src/objective/regression_obj.cu:152: reg:linear is now deprecated in favor of reg:squarederror.\n",
      "[17:34:19] WARNING: /workspace/src/objective/regression_obj.cu:152: reg:linear is now deprecated in favor of reg:squarederror.\n",
      "[17:34:21] WARNING: /workspace/src/objective/regression_obj.cu:152: reg:linear is now deprecated in favor of reg:squarederror.\n",
      "[17:34:23] WARNING: /workspace/src/objective/regression_obj.cu:152: reg:linear is now deprecated in favor of reg:squarederror.\n",
      "[17:34:25] WARNING: /workspace/src/objective/regression_obj.cu:152: reg:linear is now deprecated in favor of reg:squarederror.\n",
      "[17:34:27] WARNING: /workspace/src/objective/regression_obj.cu:152: reg:linear is now deprecated in favor of reg:squarederror.\n",
      "[17:34:29] WARNING: /workspace/src/objective/regression_obj.cu:152: reg:linear is now deprecated in favor of reg:squarederror.\n",
      "[17:34:31] WARNING: /workspace/src/objective/regression_obj.cu:152: reg:linear is now deprecated in favor of reg:squarederror.\n",
      "[17:34:33] WARNING: /workspace/src/objective/regression_obj.cu:152: reg:linear is now deprecated in favor of reg:squarederror.\n",
      "[17:34:35] WARNING: /workspace/src/objective/regression_obj.cu:152: reg:linear is now deprecated in favor of reg:squarederror.\n",
      "[17:34:37] WARNING: /workspace/src/objective/regression_obj.cu:152: reg:linear is now deprecated in favor of reg:squarederror.\n",
      "[17:34:39] WARNING: /workspace/src/objective/regression_obj.cu:152: reg:linear is now deprecated in favor of reg:squarederror.\n",
      "[17:34:41] WARNING: /workspace/src/objective/regression_obj.cu:152: reg:linear is now deprecated in favor of reg:squarederror.\n",
      "[17:34:42] WARNING: /workspace/src/objective/regression_obj.cu:152: reg:linear is now deprecated in favor of reg:squarederror.\n",
      "[17:34:44] WARNING: /workspace/src/objective/regression_obj.cu:152: reg:linear is now deprecated in favor of reg:squarederror.\n",
      "[17:34:45] WARNING: /workspace/src/objective/regression_obj.cu:152: reg:linear is now deprecated in favor of reg:squarederror.\n",
      "[17:34:47] WARNING: /workspace/src/objective/regression_obj.cu:152: reg:linear is now deprecated in favor of reg:squarederror.\n",
      "[17:34:48] WARNING: /workspace/src/objective/regression_obj.cu:152: reg:linear is now deprecated in favor of reg:squarederror.\n",
      "[17:34:50] WARNING: /workspace/src/objective/regression_obj.cu:152: reg:linear is now deprecated in favor of reg:squarederror.\n",
      "[17:34:51] WARNING: /workspace/src/objective/regression_obj.cu:152: reg:linear is now deprecated in favor of reg:squarederror.\n",
      "[17:34:52] WARNING: /workspace/src/objective/regression_obj.cu:152: reg:linear is now deprecated in favor of reg:squarederror.\n",
      "[17:34:53] WARNING: /workspace/src/objective/regression_obj.cu:152: reg:linear is now deprecated in favor of reg:squarederror.\n",
      "[17:34:55] WARNING: /workspace/src/objective/regression_obj.cu:152: reg:linear is now deprecated in favor of reg:squarederror.\n",
      "[17:34:56] WARNING: /workspace/src/objective/regression_obj.cu:152: reg:linear is now deprecated in favor of reg:squarederror.\n",
      "[17:34:57] WARNING: /workspace/src/objective/regression_obj.cu:152: reg:linear is now deprecated in favor of reg:squarederror.\n",
      "[17:34:58] WARNING: /workspace/src/objective/regression_obj.cu:152: reg:linear is now deprecated in favor of reg:squarederror.\n",
      "[17:34:59] WARNING: /workspace/src/objective/regression_obj.cu:152: reg:linear is now deprecated in favor of reg:squarederror.\n",
      "[17:35:01] WARNING: /workspace/src/objective/regression_obj.cu:152: reg:linear is now deprecated in favor of reg:squarederror.\n",
      "[17:35:02] WARNING: /workspace/src/objective/regression_obj.cu:152: reg:linear is now deprecated in favor of reg:squarederror.\n",
      "[17:35:03] WARNING: /workspace/src/objective/regression_obj.cu:152: reg:linear is now deprecated in favor of reg:squarederror.\n",
      "[17:35:04] WARNING: /workspace/src/objective/regression_obj.cu:152: reg:linear is now deprecated in favor of reg:squarederror.\n",
      "[17:35:06] WARNING: /workspace/src/objective/regression_obj.cu:152: reg:linear is now deprecated in favor of reg:squarederror.\n",
      "[17:35:07] WARNING: /workspace/src/objective/regression_obj.cu:152: reg:linear is now deprecated in favor of reg:squarederror.\n",
      "[17:35:08] WARNING: /workspace/src/objective/regression_obj.cu:152: reg:linear is now deprecated in favor of reg:squarederror.\n",
      "[17:35:10] WARNING: /workspace/src/objective/regression_obj.cu:152: reg:linear is now deprecated in favor of reg:squarederror.\n",
      "[17:35:11] WARNING: /workspace/src/objective/regression_obj.cu:152: reg:linear is now deprecated in favor of reg:squarederror.\n",
      "[17:35:12] WARNING: /workspace/src/objective/regression_obj.cu:152: reg:linear is now deprecated in favor of reg:squarederror.\n",
      "[17:35:13] WARNING: /workspace/src/objective/regression_obj.cu:152: reg:linear is now deprecated in favor of reg:squarederror.\n",
      "[17:35:15] WARNING: /workspace/src/objective/regression_obj.cu:152: reg:linear is now deprecated in favor of reg:squarederror.\n",
      "[17:35:16] WARNING: /workspace/src/objective/regression_obj.cu:152: reg:linear is now deprecated in favor of reg:squarederror.\n",
      "[17:35:17] WARNING: /workspace/src/objective/regression_obj.cu:152: reg:linear is now deprecated in favor of reg:squarederror.\n",
      "[17:35:18] WARNING: /workspace/src/objective/regression_obj.cu:152: reg:linear is now deprecated in favor of reg:squarederror.\n",
      "[17:35:19] WARNING: /workspace/src/objective/regression_obj.cu:152: reg:linear is now deprecated in favor of reg:squarederror.\n",
      "[17:35:20] WARNING: /workspace/src/objective/regression_obj.cu:152: reg:linear is now deprecated in favor of reg:squarederror.\n",
      "[17:35:21] WARNING: /workspace/src/objective/regression_obj.cu:152: reg:linear is now deprecated in favor of reg:squarederror.\n",
      "[17:35:23] WARNING: /workspace/src/objective/regression_obj.cu:152: reg:linear is now deprecated in favor of reg:squarederror.\n",
      "[17:35:24] WARNING: /workspace/src/objective/regression_obj.cu:152: reg:linear is now deprecated in favor of reg:squarederror.\n",
      "[17:35:25] WARNING: /workspace/src/objective/regression_obj.cu:152: reg:linear is now deprecated in favor of reg:squarederror.\n",
      "[17:35:27] WARNING: /workspace/src/objective/regression_obj.cu:152: reg:linear is now deprecated in favor of reg:squarederror.\n",
      "[17:35:28] WARNING: /workspace/src/objective/regression_obj.cu:152: reg:linear is now deprecated in favor of reg:squarederror.\n",
      "[17:35:29] WARNING: /workspace/src/objective/regression_obj.cu:152: reg:linear is now deprecated in favor of reg:squarederror.\n",
      "[17:35:31] WARNING: /workspace/src/objective/regression_obj.cu:152: reg:linear is now deprecated in favor of reg:squarederror.\n",
      "[17:35:32] WARNING: /workspace/src/objective/regression_obj.cu:152: reg:linear is now deprecated in favor of reg:squarederror.\n",
      "[17:35:33] WARNING: /workspace/src/objective/regression_obj.cu:152: reg:linear is now deprecated in favor of reg:squarederror.\n",
      "[17:35:34] WARNING: /workspace/src/objective/regression_obj.cu:152: reg:linear is now deprecated in favor of reg:squarederror.\n",
      "[17:35:35] WARNING: /workspace/src/objective/regression_obj.cu:152: reg:linear is now deprecated in favor of reg:squarederror.\n",
      "[17:35:36] WARNING: /workspace/src/objective/regression_obj.cu:152: reg:linear is now deprecated in favor of reg:squarederror.\n",
      "[17:35:38] WARNING: /workspace/src/objective/regression_obj.cu:152: reg:linear is now deprecated in favor of reg:squarederror.\n",
      "[17:35:39] WARNING: /workspace/src/objective/regression_obj.cu:152: reg:linear is now deprecated in favor of reg:squarederror.\n",
      "[17:35:40] WARNING: /workspace/src/objective/regression_obj.cu:152: reg:linear is now deprecated in favor of reg:squarederror.\n",
      "[17:35:41] WARNING: /workspace/src/objective/regression_obj.cu:152: reg:linear is now deprecated in favor of reg:squarederror.\n",
      "[17:35:43] WARNING: /workspace/src/objective/regression_obj.cu:152: reg:linear is now deprecated in favor of reg:squarederror.\n",
      "[17:35:45] WARNING: /workspace/src/objective/regression_obj.cu:152: reg:linear is now deprecated in favor of reg:squarederror.\n",
      "[17:35:47] WARNING: /workspace/src/objective/regression_obj.cu:152: reg:linear is now deprecated in favor of reg:squarederror.\n",
      "[17:35:48] WARNING: /workspace/src/objective/regression_obj.cu:152: reg:linear is now deprecated in favor of reg:squarederror.\n",
      "[17:35:50] WARNING: /workspace/src/objective/regression_obj.cu:152: reg:linear is now deprecated in favor of reg:squarederror.\n",
      "[17:35:51] WARNING: /workspace/src/objective/regression_obj.cu:152: reg:linear is now deprecated in favor of reg:squarederror.\n",
      "[17:35:53] WARNING: /workspace/src/objective/regression_obj.cu:152: reg:linear is now deprecated in favor of reg:squarederror.\n",
      "[17:35:54] WARNING: /workspace/src/objective/regression_obj.cu:152: reg:linear is now deprecated in favor of reg:squarederror.\n",
      "[17:35:56] WARNING: /workspace/src/objective/regression_obj.cu:152: reg:linear is now deprecated in favor of reg:squarederror.\n",
      "[17:35:57] WARNING: /workspace/src/objective/regression_obj.cu:152: reg:linear is now deprecated in favor of reg:squarederror.\n",
      "[17:35:59] WARNING: /workspace/src/objective/regression_obj.cu:152: reg:linear is now deprecated in favor of reg:squarederror.\n",
      "[17:36:00] WARNING: /workspace/src/objective/regression_obj.cu:152: reg:linear is now deprecated in favor of reg:squarederror.\n",
      "[17:36:02] WARNING: /workspace/src/objective/regression_obj.cu:152: reg:linear is now deprecated in favor of reg:squarederror.\n",
      "[17:36:03] WARNING: /workspace/src/objective/regression_obj.cu:152: reg:linear is now deprecated in favor of reg:squarederror.\n",
      "[17:36:05] WARNING: /workspace/src/objective/regression_obj.cu:152: reg:linear is now deprecated in favor of reg:squarederror.\n",
      "[17:36:06] WARNING: /workspace/src/objective/regression_obj.cu:152: reg:linear is now deprecated in favor of reg:squarederror.\n",
      "[17:36:08] WARNING: /workspace/src/objective/regression_obj.cu:152: reg:linear is now deprecated in favor of reg:squarederror.\n",
      "[17:36:10] WARNING: /workspace/src/objective/regression_obj.cu:152: reg:linear is now deprecated in favor of reg:squarederror.\n",
      "[17:36:12] WARNING: /workspace/src/objective/regression_obj.cu:152: reg:linear is now deprecated in favor of reg:squarederror.\n",
      "[17:36:13] WARNING: /workspace/src/objective/regression_obj.cu:152: reg:linear is now deprecated in favor of reg:squarederror.\n",
      "[17:36:15] WARNING: /workspace/src/objective/regression_obj.cu:152: reg:linear is now deprecated in favor of reg:squarederror.\n",
      "[17:36:16] WARNING: /workspace/src/objective/regression_obj.cu:152: reg:linear is now deprecated in favor of reg:squarederror.\n",
      "[17:36:18] WARNING: /workspace/src/objective/regression_obj.cu:152: reg:linear is now deprecated in favor of reg:squarederror.\n",
      "[17:36:19] WARNING: /workspace/src/objective/regression_obj.cu:152: reg:linear is now deprecated in favor of reg:squarederror.\n",
      "[17:36:21] WARNING: /workspace/src/objective/regression_obj.cu:152: reg:linear is now deprecated in favor of reg:squarederror.\n",
      "[17:36:22] WARNING: /workspace/src/objective/regression_obj.cu:152: reg:linear is now deprecated in favor of reg:squarederror.\n",
      "[17:36:23] WARNING: /workspace/src/objective/regression_obj.cu:152: reg:linear is now deprecated in favor of reg:squarederror.\n",
      "[17:36:25] WARNING: /workspace/src/objective/regression_obj.cu:152: reg:linear is now deprecated in favor of reg:squarederror.\n",
      "[17:36:26] WARNING: /workspace/src/objective/regression_obj.cu:152: reg:linear is now deprecated in favor of reg:squarederror.\n",
      "[17:36:28] WARNING: /workspace/src/objective/regression_obj.cu:152: reg:linear is now deprecated in favor of reg:squarederror.\n",
      "[17:36:30] WARNING: /workspace/src/objective/regression_obj.cu:152: reg:linear is now deprecated in favor of reg:squarederror.\n",
      "[17:36:31] WARNING: /workspace/src/objective/regression_obj.cu:152: reg:linear is now deprecated in favor of reg:squarederror.\n",
      "[17:36:33] WARNING: /workspace/src/objective/regression_obj.cu:152: reg:linear is now deprecated in favor of reg:squarederror.\n",
      "[17:36:35] WARNING: /workspace/src/objective/regression_obj.cu:152: reg:linear is now deprecated in favor of reg:squarederror.\n",
      "[17:36:36] WARNING: /workspace/src/objective/regression_obj.cu:152: reg:linear is now deprecated in favor of reg:squarederror.\n",
      "[17:36:38] WARNING: /workspace/src/objective/regression_obj.cu:152: reg:linear is now deprecated in favor of reg:squarederror.\n",
      "[17:36:39] WARNING: /workspace/src/objective/regression_obj.cu:152: reg:linear is now deprecated in favor of reg:squarederror.\n",
      "[17:36:41] WARNING: /workspace/src/objective/regression_obj.cu:152: reg:linear is now deprecated in favor of reg:squarederror.\n",
      "[17:36:42] WARNING: /workspace/src/objective/regression_obj.cu:152: reg:linear is now deprecated in favor of reg:squarederror.\n",
      "[17:36:44] WARNING: /workspace/src/objective/regression_obj.cu:152: reg:linear is now deprecated in favor of reg:squarederror.\n",
      "[17:36:45] WARNING: /workspace/src/objective/regression_obj.cu:152: reg:linear is now deprecated in favor of reg:squarederror.\n",
      "[17:36:46] WARNING: /workspace/src/objective/regression_obj.cu:152: reg:linear is now deprecated in favor of reg:squarederror.\n",
      "[17:36:48] WARNING: /workspace/src/objective/regression_obj.cu:152: reg:linear is now deprecated in favor of reg:squarederror.\n",
      "[17:36:49] WARNING: /workspace/src/objective/regression_obj.cu:152: reg:linear is now deprecated in favor of reg:squarederror.\n",
      "[17:36:51] WARNING: /workspace/src/objective/regression_obj.cu:152: reg:linear is now deprecated in favor of reg:squarederror.\n",
      "[17:36:53] WARNING: /workspace/src/objective/regression_obj.cu:152: reg:linear is now deprecated in favor of reg:squarederror.\n",
      "[17:36:55] WARNING: /workspace/src/objective/regression_obj.cu:152: reg:linear is now deprecated in favor of reg:squarederror.\n",
      "[17:36:57] WARNING: /workspace/src/objective/regression_obj.cu:152: reg:linear is now deprecated in favor of reg:squarederror.\n",
      "[17:37:00] WARNING: /workspace/src/objective/regression_obj.cu:152: reg:linear is now deprecated in favor of reg:squarederror.\n",
      "[17:37:01] WARNING: /workspace/src/objective/regression_obj.cu:152: reg:linear is now deprecated in favor of reg:squarederror.\n",
      "[17:37:03] WARNING: /workspace/src/objective/regression_obj.cu:152: reg:linear is now deprecated in favor of reg:squarederror.\n",
      "[17:37:05] WARNING: /workspace/src/objective/regression_obj.cu:152: reg:linear is now deprecated in favor of reg:squarederror.\n",
      "[17:37:07] WARNING: /workspace/src/objective/regression_obj.cu:152: reg:linear is now deprecated in favor of reg:squarederror.\n",
      "[17:37:09] WARNING: /workspace/src/objective/regression_obj.cu:152: reg:linear is now deprecated in favor of reg:squarederror.\n",
      "[17:37:11] WARNING: /workspace/src/objective/regression_obj.cu:152: reg:linear is now deprecated in favor of reg:squarederror.\n",
      "[17:37:12] WARNING: /workspace/src/objective/regression_obj.cu:152: reg:linear is now deprecated in favor of reg:squarederror.\n",
      "[17:37:14] WARNING: /workspace/src/objective/regression_obj.cu:152: reg:linear is now deprecated in favor of reg:squarederror.\n",
      "[17:37:16] WARNING: /workspace/src/objective/regression_obj.cu:152: reg:linear is now deprecated in favor of reg:squarederror.\n",
      "[17:37:17] WARNING: /workspace/src/objective/regression_obj.cu:152: reg:linear is now deprecated in favor of reg:squarederror.\n",
      "[17:37:19] WARNING: /workspace/src/objective/regression_obj.cu:152: reg:linear is now deprecated in favor of reg:squarederror.\n",
      "[17:37:21] WARNING: /workspace/src/objective/regression_obj.cu:152: reg:linear is now deprecated in favor of reg:squarederror.\n",
      "[17:37:24] WARNING: /workspace/src/objective/regression_obj.cu:152: reg:linear is now deprecated in favor of reg:squarederror.\n",
      "[17:37:26] WARNING: /workspace/src/objective/regression_obj.cu:152: reg:linear is now deprecated in favor of reg:squarederror.\n",
      "[17:37:28] WARNING: /workspace/src/objective/regression_obj.cu:152: reg:linear is now deprecated in favor of reg:squarederror.\n",
      "[17:37:30] WARNING: /workspace/src/objective/regression_obj.cu:152: reg:linear is now deprecated in favor of reg:squarederror.\n",
      "[17:37:31] WARNING: /workspace/src/objective/regression_obj.cu:152: reg:linear is now deprecated in favor of reg:squarederror.\n",
      "[17:37:33] WARNING: /workspace/src/objective/regression_obj.cu:152: reg:linear is now deprecated in favor of reg:squarederror.\n",
      "[17:37:35] WARNING: /workspace/src/objective/regression_obj.cu:152: reg:linear is now deprecated in favor of reg:squarederror.\n",
      "[17:37:37] WARNING: /workspace/src/objective/regression_obj.cu:152: reg:linear is now deprecated in favor of reg:squarederror.\n",
      "[17:37:39] WARNING: /workspace/src/objective/regression_obj.cu:152: reg:linear is now deprecated in favor of reg:squarederror.\n",
      "[17:37:40] WARNING: /workspace/src/objective/regression_obj.cu:152: reg:linear is now deprecated in favor of reg:squarederror.\n",
      "[17:37:42] WARNING: /workspace/src/objective/regression_obj.cu:152: reg:linear is now deprecated in favor of reg:squarederror.\n",
      "[17:37:44] WARNING: /workspace/src/objective/regression_obj.cu:152: reg:linear is now deprecated in favor of reg:squarederror.\n",
      "[17:37:46] WARNING: /workspace/src/objective/regression_obj.cu:152: reg:linear is now deprecated in favor of reg:squarederror.\n",
      "[17:37:48] WARNING: /workspace/src/objective/regression_obj.cu:152: reg:linear is now deprecated in favor of reg:squarederror.\n",
      "[17:37:50] WARNING: /workspace/src/objective/regression_obj.cu:152: reg:linear is now deprecated in favor of reg:squarederror.\n",
      "[17:37:52] WARNING: /workspace/src/objective/regression_obj.cu:152: reg:linear is now deprecated in favor of reg:squarederror.\n",
      "[17:37:54] WARNING: /workspace/src/objective/regression_obj.cu:152: reg:linear is now deprecated in favor of reg:squarederror.\n",
      "[17:37:56] WARNING: /workspace/src/objective/regression_obj.cu:152: reg:linear is now deprecated in favor of reg:squarederror.\n",
      "[17:37:58] WARNING: /workspace/src/objective/regression_obj.cu:152: reg:linear is now deprecated in favor of reg:squarederror.\n",
      "[17:38:00] WARNING: /workspace/src/objective/regression_obj.cu:152: reg:linear is now deprecated in favor of reg:squarederror.\n",
      "[17:38:02] WARNING: /workspace/src/objective/regression_obj.cu:152: reg:linear is now deprecated in favor of reg:squarederror.\n",
      "[17:38:03] WARNING: /workspace/src/objective/regression_obj.cu:152: reg:linear is now deprecated in favor of reg:squarederror.\n",
      "[17:38:05] WARNING: /workspace/src/objective/regression_obj.cu:152: reg:linear is now deprecated in favor of reg:squarederror.\n",
      "[17:38:07] WARNING: /workspace/src/objective/regression_obj.cu:152: reg:linear is now deprecated in favor of reg:squarederror.\n",
      "[17:38:09] WARNING: /workspace/src/objective/regression_obj.cu:152: reg:linear is now deprecated in favor of reg:squarederror.\n",
      "[17:38:10] WARNING: /workspace/src/objective/regression_obj.cu:152: reg:linear is now deprecated in favor of reg:squarederror.\n",
      "[17:38:12] WARNING: /workspace/src/objective/regression_obj.cu:152: reg:linear is now deprecated in favor of reg:squarederror.\n",
      "[17:38:14] WARNING: /workspace/src/objective/regression_obj.cu:152: reg:linear is now deprecated in favor of reg:squarederror.\n",
      "[17:38:15] WARNING: /workspace/src/objective/regression_obj.cu:152: reg:linear is now deprecated in favor of reg:squarederror.\n",
      "[17:38:16] WARNING: /workspace/src/objective/regression_obj.cu:152: reg:linear is now deprecated in favor of reg:squarederror.\n",
      "[17:38:18] WARNING: /workspace/src/objective/regression_obj.cu:152: reg:linear is now deprecated in favor of reg:squarederror.\n",
      "[17:38:19] WARNING: /workspace/src/objective/regression_obj.cu:152: reg:linear is now deprecated in favor of reg:squarederror.\n",
      "[17:38:21] WARNING: /workspace/src/objective/regression_obj.cu:152: reg:linear is now deprecated in favor of reg:squarederror.\n",
      "[17:38:22] WARNING: /workspace/src/objective/regression_obj.cu:152: reg:linear is now deprecated in favor of reg:squarederror.\n",
      "[17:38:23] WARNING: /workspace/src/objective/regression_obj.cu:152: reg:linear is now deprecated in favor of reg:squarederror.\n",
      "[17:38:24] WARNING: /workspace/src/objective/regression_obj.cu:152: reg:linear is now deprecated in favor of reg:squarederror.\n",
      "[17:38:25] WARNING: /workspace/src/objective/regression_obj.cu:152: reg:linear is now deprecated in favor of reg:squarederror.\n",
      "[17:38:27] WARNING: /workspace/src/objective/regression_obj.cu:152: reg:linear is now deprecated in favor of reg:squarederror.\n",
      "[17:38:28] WARNING: /workspace/src/objective/regression_obj.cu:152: reg:linear is now deprecated in favor of reg:squarederror.\n",
      "[17:38:29] WARNING: /workspace/src/objective/regression_obj.cu:152: reg:linear is now deprecated in favor of reg:squarederror.\n",
      "[17:38:30] WARNING: /workspace/src/objective/regression_obj.cu:152: reg:linear is now deprecated in favor of reg:squarederror.\n",
      "[17:38:31] WARNING: /workspace/src/objective/regression_obj.cu:152: reg:linear is now deprecated in favor of reg:squarederror.\n",
      "[17:38:32] WARNING: /workspace/src/objective/regression_obj.cu:152: reg:linear is now deprecated in favor of reg:squarederror.\n",
      "[17:38:34] WARNING: /workspace/src/objective/regression_obj.cu:152: reg:linear is now deprecated in favor of reg:squarederror.\n",
      "[17:38:35] WARNING: /workspace/src/objective/regression_obj.cu:152: reg:linear is now deprecated in favor of reg:squarederror.\n",
      "[17:38:36] WARNING: /workspace/src/objective/regression_obj.cu:152: reg:linear is now deprecated in favor of reg:squarederror.\n",
      "[17:38:38] WARNING: /workspace/src/objective/regression_obj.cu:152: reg:linear is now deprecated in favor of reg:squarederror.\n",
      "[17:38:39] WARNING: /workspace/src/objective/regression_obj.cu:152: reg:linear is now deprecated in favor of reg:squarederror.\n",
      "[17:38:40] WARNING: /workspace/src/objective/regression_obj.cu:152: reg:linear is now deprecated in favor of reg:squarederror.\n",
      "[17:38:42] WARNING: /workspace/src/objective/regression_obj.cu:152: reg:linear is now deprecated in favor of reg:squarederror.\n",
      "[17:38:43] WARNING: /workspace/src/objective/regression_obj.cu:152: reg:linear is now deprecated in favor of reg:squarederror.\n",
      "[17:38:44] WARNING: /workspace/src/objective/regression_obj.cu:152: reg:linear is now deprecated in favor of reg:squarederror.\n",
      "[17:38:45] WARNING: /workspace/src/objective/regression_obj.cu:152: reg:linear is now deprecated in favor of reg:squarederror.\n",
      "[17:38:46] WARNING: /workspace/src/objective/regression_obj.cu:152: reg:linear is now deprecated in favor of reg:squarederror.\n",
      "[17:38:47] WARNING: /workspace/src/objective/regression_obj.cu:152: reg:linear is now deprecated in favor of reg:squarederror.\n",
      "[17:38:49] WARNING: /workspace/src/objective/regression_obj.cu:152: reg:linear is now deprecated in favor of reg:squarederror.\n",
      "[17:38:50] WARNING: /workspace/src/objective/regression_obj.cu:152: reg:linear is now deprecated in favor of reg:squarederror.\n",
      "[17:38:51] WARNING: /workspace/src/objective/regression_obj.cu:152: reg:linear is now deprecated in favor of reg:squarederror.\n",
      "[17:38:52] WARNING: /workspace/src/objective/regression_obj.cu:152: reg:linear is now deprecated in favor of reg:squarederror.\n",
      "[17:38:53] WARNING: /workspace/src/objective/regression_obj.cu:152: reg:linear is now deprecated in favor of reg:squarederror.\n",
      "[17:38:55] WARNING: /workspace/src/objective/regression_obj.cu:152: reg:linear is now deprecated in favor of reg:squarederror.\n",
      "[17:38:56] WARNING: /workspace/src/objective/regression_obj.cu:152: reg:linear is now deprecated in favor of reg:squarederror.\n",
      "[17:38:58] WARNING: /workspace/src/objective/regression_obj.cu:152: reg:linear is now deprecated in favor of reg:squarederror.\n",
      "[17:38:59] WARNING: /workspace/src/objective/regression_obj.cu:152: reg:linear is now deprecated in favor of reg:squarederror.\n",
      "[17:39:00] WARNING: /workspace/src/objective/regression_obj.cu:152: reg:linear is now deprecated in favor of reg:squarederror.\n",
      "[17:39:01] WARNING: /workspace/src/objective/regression_obj.cu:152: reg:linear is now deprecated in favor of reg:squarederror.\n",
      "[17:39:02] WARNING: /workspace/src/objective/regression_obj.cu:152: reg:linear is now deprecated in favor of reg:squarederror.\n",
      "[17:39:04] WARNING: /workspace/src/objective/regression_obj.cu:152: reg:linear is now deprecated in favor of reg:squarederror.\n",
      "[17:39:05] WARNING: /workspace/src/objective/regression_obj.cu:152: reg:linear is now deprecated in favor of reg:squarederror.\n",
      "[17:39:06] WARNING: /workspace/src/objective/regression_obj.cu:152: reg:linear is now deprecated in favor of reg:squarederror.\n",
      "[17:39:07] WARNING: /workspace/src/objective/regression_obj.cu:152: reg:linear is now deprecated in favor of reg:squarederror.\n",
      "[17:39:08] WARNING: /workspace/src/objective/regression_obj.cu:152: reg:linear is now deprecated in favor of reg:squarederror.\n",
      "[17:39:09] WARNING: /workspace/src/objective/regression_obj.cu:152: reg:linear is now deprecated in favor of reg:squarederror.\n",
      "[17:39:12] WARNING: /workspace/src/objective/regression_obj.cu:152: reg:linear is now deprecated in favor of reg:squarederror.\n",
      "[17:39:13] WARNING: /workspace/src/objective/regression_obj.cu:152: reg:linear is now deprecated in favor of reg:squarederror.\n",
      "[17:39:15] WARNING: /workspace/src/objective/regression_obj.cu:152: reg:linear is now deprecated in favor of reg:squarederror.\n",
      "[17:39:17] WARNING: /workspace/src/objective/regression_obj.cu:152: reg:linear is now deprecated in favor of reg:squarederror.\n",
      "[17:39:19] WARNING: /workspace/src/objective/regression_obj.cu:152: reg:linear is now deprecated in favor of reg:squarederror.\n",
      "[17:39:20] WARNING: /workspace/src/objective/regression_obj.cu:152: reg:linear is now deprecated in favor of reg:squarederror.\n",
      "[17:39:22] WARNING: /workspace/src/objective/regression_obj.cu:152: reg:linear is now deprecated in favor of reg:squarederror.\n",
      "[17:39:23] WARNING: /workspace/src/objective/regression_obj.cu:152: reg:linear is now deprecated in favor of reg:squarederror.\n",
      "[17:39:25] WARNING: /workspace/src/objective/regression_obj.cu:152: reg:linear is now deprecated in favor of reg:squarederror.\n",
      "[17:39:26] WARNING: /workspace/src/objective/regression_obj.cu:152: reg:linear is now deprecated in favor of reg:squarederror.\n",
      "[17:39:28] WARNING: /workspace/src/objective/regression_obj.cu:152: reg:linear is now deprecated in favor of reg:squarederror.\n",
      "[17:39:29] WARNING: /workspace/src/objective/regression_obj.cu:152: reg:linear is now deprecated in favor of reg:squarederror.\n",
      "[17:39:30] WARNING: /workspace/src/objective/regression_obj.cu:152: reg:linear is now deprecated in favor of reg:squarederror.\n",
      "[17:39:32] WARNING: /workspace/src/objective/regression_obj.cu:152: reg:linear is now deprecated in favor of reg:squarederror.\n",
      "[17:39:33] WARNING: /workspace/src/objective/regression_obj.cu:152: reg:linear is now deprecated in favor of reg:squarederror.\n",
      "[17:39:35] WARNING: /workspace/src/objective/regression_obj.cu:152: reg:linear is now deprecated in favor of reg:squarederror.\n",
      "[17:39:38] WARNING: /workspace/src/objective/regression_obj.cu:152: reg:linear is now deprecated in favor of reg:squarederror.\n",
      "[17:39:41] WARNING: /workspace/src/objective/regression_obj.cu:152: reg:linear is now deprecated in favor of reg:squarederror.\n",
      "[17:39:44] WARNING: /workspace/src/objective/regression_obj.cu:152: reg:linear is now deprecated in favor of reg:squarederror.\n",
      "[17:39:47] WARNING: /workspace/src/objective/regression_obj.cu:152: reg:linear is now deprecated in favor of reg:squarederror.\n",
      "[17:39:50] WARNING: /workspace/src/objective/regression_obj.cu:152: reg:linear is now deprecated in favor of reg:squarederror.\n",
      "[17:39:51] WARNING: /workspace/src/objective/regression_obj.cu:152: reg:linear is now deprecated in favor of reg:squarederror.\n",
      "[17:39:53] WARNING: /workspace/src/objective/regression_obj.cu:152: reg:linear is now deprecated in favor of reg:squarederror.\n",
      "[17:39:54] WARNING: /workspace/src/objective/regression_obj.cu:152: reg:linear is now deprecated in favor of reg:squarederror.\n",
      "[17:39:56] WARNING: /workspace/src/objective/regression_obj.cu:152: reg:linear is now deprecated in favor of reg:squarederror.\n",
      "[17:39:57] WARNING: /workspace/src/objective/regression_obj.cu:152: reg:linear is now deprecated in favor of reg:squarederror.\n",
      "[17:39:59] WARNING: /workspace/src/objective/regression_obj.cu:152: reg:linear is now deprecated in favor of reg:squarederror.\n",
      "[17:40:00] WARNING: /workspace/src/objective/regression_obj.cu:152: reg:linear is now deprecated in favor of reg:squarederror.\n",
      "[17:40:02] WARNING: /workspace/src/objective/regression_obj.cu:152: reg:linear is now deprecated in favor of reg:squarederror.\n",
      "[17:40:03] WARNING: /workspace/src/objective/regression_obj.cu:152: reg:linear is now deprecated in favor of reg:squarederror.\n",
      "[17:40:05] WARNING: /workspace/src/objective/regression_obj.cu:152: reg:linear is now deprecated in favor of reg:squarederror.\n",
      "[17:40:06] WARNING: /workspace/src/objective/regression_obj.cu:152: reg:linear is now deprecated in favor of reg:squarederror.\n",
      "[17:40:08] WARNING: /workspace/src/objective/regression_obj.cu:152: reg:linear is now deprecated in favor of reg:squarederror.\n",
      "[17:40:10] WARNING: /workspace/src/objective/regression_obj.cu:152: reg:linear is now deprecated in favor of reg:squarederror.\n",
      "[17:40:12] WARNING: /workspace/src/objective/regression_obj.cu:152: reg:linear is now deprecated in favor of reg:squarederror.\n",
      "[17:40:13] WARNING: /workspace/src/objective/regression_obj.cu:152: reg:linear is now deprecated in favor of reg:squarederror.\n",
      "[17:40:16] WARNING: /workspace/src/objective/regression_obj.cu:152: reg:linear is now deprecated in favor of reg:squarederror.\n",
      "[17:40:18] WARNING: /workspace/src/objective/regression_obj.cu:152: reg:linear is now deprecated in favor of reg:squarederror.\n",
      "[17:40:20] WARNING: /workspace/src/objective/regression_obj.cu:152: reg:linear is now deprecated in favor of reg:squarederror.\n",
      "[17:40:21] WARNING: /workspace/src/objective/regression_obj.cu:152: reg:linear is now deprecated in favor of reg:squarederror.\n"
     ]
    },
    {
     "ename": "KeyboardInterrupt",
     "evalue": "ignored",
     "output_type": "error",
     "traceback": [
      "\u001b[0;31m---------------------------------------------------------------------------\u001b[0m",
      "\u001b[0;31mKeyboardInterrupt\u001b[0m                         Traceback (most recent call last)",
      "\u001b[0;32m<ipython-input-181-2c662c70e23a>\u001b[0m in \u001b[0;36m<module>\u001b[0;34m()\u001b[0m\n\u001b[1;32m      3\u001b[0m \u001b[0;32mfrom\u001b[0m \u001b[0msklearn\u001b[0m\u001b[0;34m.\u001b[0m\u001b[0mmodel_selection\u001b[0m \u001b[0;32mimport\u001b[0m \u001b[0mtrain_test_split\u001b[0m\u001b[0;34m\u001b[0m\u001b[0;34m\u001b[0m\u001b[0m\n\u001b[1;32m      4\u001b[0m \u001b[0;31m# X_train, X_test, y_train, y_test = train_test_split(X, y, random_state=42)\u001b[0m\u001b[0;34m\u001b[0m\u001b[0;34m\u001b[0m\u001b[0;34m\u001b[0m\u001b[0m\n\u001b[0;32m----> 5\u001b[0;31m \u001b[0mgrid\u001b[0m\u001b[0;34m.\u001b[0m\u001b[0mfit\u001b[0m\u001b[0;34m(\u001b[0m\u001b[0mX_train\u001b[0m\u001b[0;34m,\u001b[0m \u001b[0my_train\u001b[0m\u001b[0;34m)\u001b[0m\u001b[0;34m\u001b[0m\u001b[0;34m\u001b[0m\u001b[0m\n\u001b[0m\u001b[1;32m      6\u001b[0m \u001b[0;31m# print(grid.score(xvalid, yvalid))\u001b[0m\u001b[0;34m\u001b[0m\u001b[0;34m\u001b[0m\u001b[0;34m\u001b[0m\u001b[0m\n\u001b[1;32m      7\u001b[0m \u001b[0mprint\u001b[0m\u001b[0;34m(\u001b[0m\u001b[0mgrid\u001b[0m\u001b[0;34m.\u001b[0m\u001b[0mbest_params_\u001b[0m\u001b[0;34m)\u001b[0m\u001b[0;34m\u001b[0m\u001b[0;34m\u001b[0m\u001b[0m\n",
      "\u001b[0;32m/usr/local/lib/python3.7/dist-packages/sklearn/model_selection/_search.py\u001b[0m in \u001b[0;36mfit\u001b[0;34m(self, X, y, groups, **fit_params)\u001b[0m\n\u001b[1;32m    889\u001b[0m                 \u001b[0;32mreturn\u001b[0m \u001b[0mresults\u001b[0m\u001b[0;34m\u001b[0m\u001b[0;34m\u001b[0m\u001b[0m\n\u001b[1;32m    890\u001b[0m \u001b[0;34m\u001b[0m\u001b[0m\n\u001b[0;32m--> 891\u001b[0;31m             \u001b[0mself\u001b[0m\u001b[0;34m.\u001b[0m\u001b[0m_run_search\u001b[0m\u001b[0;34m(\u001b[0m\u001b[0mevaluate_candidates\u001b[0m\u001b[0;34m)\u001b[0m\u001b[0;34m\u001b[0m\u001b[0;34m\u001b[0m\u001b[0m\n\u001b[0m\u001b[1;32m    892\u001b[0m \u001b[0;34m\u001b[0m\u001b[0m\n\u001b[1;32m    893\u001b[0m             \u001b[0;31m# multimetric is determined here because in the case of a callable\u001b[0m\u001b[0;34m\u001b[0m\u001b[0;34m\u001b[0m\u001b[0;34m\u001b[0m\u001b[0m\n",
      "\u001b[0;32m/usr/local/lib/python3.7/dist-packages/sklearn/model_selection/_search.py\u001b[0m in \u001b[0;36m_run_search\u001b[0;34m(self, evaluate_candidates)\u001b[0m\n\u001b[1;32m   1390\u001b[0m     \u001b[0;32mdef\u001b[0m \u001b[0m_run_search\u001b[0m\u001b[0;34m(\u001b[0m\u001b[0mself\u001b[0m\u001b[0;34m,\u001b[0m \u001b[0mevaluate_candidates\u001b[0m\u001b[0;34m)\u001b[0m\u001b[0;34m:\u001b[0m\u001b[0;34m\u001b[0m\u001b[0;34m\u001b[0m\u001b[0m\n\u001b[1;32m   1391\u001b[0m         \u001b[0;34m\"\"\"Search all candidates in param_grid\"\"\"\u001b[0m\u001b[0;34m\u001b[0m\u001b[0;34m\u001b[0m\u001b[0m\n\u001b[0;32m-> 1392\u001b[0;31m         \u001b[0mevaluate_candidates\u001b[0m\u001b[0;34m(\u001b[0m\u001b[0mParameterGrid\u001b[0m\u001b[0;34m(\u001b[0m\u001b[0mself\u001b[0m\u001b[0;34m.\u001b[0m\u001b[0mparam_grid\u001b[0m\u001b[0;34m)\u001b[0m\u001b[0;34m)\u001b[0m\u001b[0;34m\u001b[0m\u001b[0;34m\u001b[0m\u001b[0m\n\u001b[0m\u001b[1;32m   1393\u001b[0m \u001b[0;34m\u001b[0m\u001b[0m\n\u001b[1;32m   1394\u001b[0m \u001b[0;34m\u001b[0m\u001b[0m\n",
      "\u001b[0;32m/usr/local/lib/python3.7/dist-packages/sklearn/model_selection/_search.py\u001b[0m in \u001b[0;36mevaluate_candidates\u001b[0;34m(candidate_params, cv, more_results)\u001b[0m\n\u001b[1;32m    849\u001b[0m                     )\n\u001b[1;32m    850\u001b[0m                     for (cand_idx, parameters), (split_idx, (train, test)) in product(\n\u001b[0;32m--> 851\u001b[0;31m                         \u001b[0menumerate\u001b[0m\u001b[0;34m(\u001b[0m\u001b[0mcandidate_params\u001b[0m\u001b[0;34m)\u001b[0m\u001b[0;34m,\u001b[0m \u001b[0menumerate\u001b[0m\u001b[0;34m(\u001b[0m\u001b[0mcv\u001b[0m\u001b[0;34m.\u001b[0m\u001b[0msplit\u001b[0m\u001b[0;34m(\u001b[0m\u001b[0mX\u001b[0m\u001b[0;34m,\u001b[0m \u001b[0my\u001b[0m\u001b[0;34m,\u001b[0m \u001b[0mgroups\u001b[0m\u001b[0;34m)\u001b[0m\u001b[0;34m)\u001b[0m\u001b[0;34m\u001b[0m\u001b[0;34m\u001b[0m\u001b[0m\n\u001b[0m\u001b[1;32m    852\u001b[0m                     )\n\u001b[1;32m    853\u001b[0m                 )\n",
      "\u001b[0;32m/usr/local/lib/python3.7/dist-packages/joblib/parallel.py\u001b[0m in \u001b[0;36m__call__\u001b[0;34m(self, iterable)\u001b[0m\n\u001b[1;32m   1044\u001b[0m                 \u001b[0mself\u001b[0m\u001b[0;34m.\u001b[0m\u001b[0m_iterating\u001b[0m \u001b[0;34m=\u001b[0m \u001b[0mself\u001b[0m\u001b[0;34m.\u001b[0m\u001b[0m_original_iterator\u001b[0m \u001b[0;32mis\u001b[0m \u001b[0;32mnot\u001b[0m \u001b[0;32mNone\u001b[0m\u001b[0;34m\u001b[0m\u001b[0;34m\u001b[0m\u001b[0m\n\u001b[1;32m   1045\u001b[0m \u001b[0;34m\u001b[0m\u001b[0m\n\u001b[0;32m-> 1046\u001b[0;31m             \u001b[0;32mwhile\u001b[0m \u001b[0mself\u001b[0m\u001b[0;34m.\u001b[0m\u001b[0mdispatch_one_batch\u001b[0m\u001b[0;34m(\u001b[0m\u001b[0miterator\u001b[0m\u001b[0;34m)\u001b[0m\u001b[0;34m:\u001b[0m\u001b[0;34m\u001b[0m\u001b[0;34m\u001b[0m\u001b[0m\n\u001b[0m\u001b[1;32m   1047\u001b[0m                 \u001b[0;32mpass\u001b[0m\u001b[0;34m\u001b[0m\u001b[0;34m\u001b[0m\u001b[0m\n\u001b[1;32m   1048\u001b[0m \u001b[0;34m\u001b[0m\u001b[0m\n",
      "\u001b[0;32m/usr/local/lib/python3.7/dist-packages/joblib/parallel.py\u001b[0m in \u001b[0;36mdispatch_one_batch\u001b[0;34m(self, iterator)\u001b[0m\n\u001b[1;32m    859\u001b[0m                 \u001b[0;32mreturn\u001b[0m \u001b[0;32mFalse\u001b[0m\u001b[0;34m\u001b[0m\u001b[0;34m\u001b[0m\u001b[0m\n\u001b[1;32m    860\u001b[0m             \u001b[0;32melse\u001b[0m\u001b[0;34m:\u001b[0m\u001b[0;34m\u001b[0m\u001b[0;34m\u001b[0m\u001b[0m\n\u001b[0;32m--> 861\u001b[0;31m                 \u001b[0mself\u001b[0m\u001b[0;34m.\u001b[0m\u001b[0m_dispatch\u001b[0m\u001b[0;34m(\u001b[0m\u001b[0mtasks\u001b[0m\u001b[0;34m)\u001b[0m\u001b[0;34m\u001b[0m\u001b[0;34m\u001b[0m\u001b[0m\n\u001b[0m\u001b[1;32m    862\u001b[0m                 \u001b[0;32mreturn\u001b[0m \u001b[0;32mTrue\u001b[0m\u001b[0;34m\u001b[0m\u001b[0;34m\u001b[0m\u001b[0m\n\u001b[1;32m    863\u001b[0m \u001b[0;34m\u001b[0m\u001b[0m\n",
      "\u001b[0;32m/usr/local/lib/python3.7/dist-packages/joblib/parallel.py\u001b[0m in \u001b[0;36m_dispatch\u001b[0;34m(self, batch)\u001b[0m\n\u001b[1;32m    777\u001b[0m         \u001b[0;32mwith\u001b[0m \u001b[0mself\u001b[0m\u001b[0;34m.\u001b[0m\u001b[0m_lock\u001b[0m\u001b[0;34m:\u001b[0m\u001b[0;34m\u001b[0m\u001b[0;34m\u001b[0m\u001b[0m\n\u001b[1;32m    778\u001b[0m             \u001b[0mjob_idx\u001b[0m \u001b[0;34m=\u001b[0m \u001b[0mlen\u001b[0m\u001b[0;34m(\u001b[0m\u001b[0mself\u001b[0m\u001b[0;34m.\u001b[0m\u001b[0m_jobs\u001b[0m\u001b[0;34m)\u001b[0m\u001b[0;34m\u001b[0m\u001b[0;34m\u001b[0m\u001b[0m\n\u001b[0;32m--> 779\u001b[0;31m             \u001b[0mjob\u001b[0m \u001b[0;34m=\u001b[0m \u001b[0mself\u001b[0m\u001b[0;34m.\u001b[0m\u001b[0m_backend\u001b[0m\u001b[0;34m.\u001b[0m\u001b[0mapply_async\u001b[0m\u001b[0;34m(\u001b[0m\u001b[0mbatch\u001b[0m\u001b[0;34m,\u001b[0m \u001b[0mcallback\u001b[0m\u001b[0;34m=\u001b[0m\u001b[0mcb\u001b[0m\u001b[0;34m)\u001b[0m\u001b[0;34m\u001b[0m\u001b[0;34m\u001b[0m\u001b[0m\n\u001b[0m\u001b[1;32m    780\u001b[0m             \u001b[0;31m# A job can complete so quickly than its callback is\u001b[0m\u001b[0;34m\u001b[0m\u001b[0;34m\u001b[0m\u001b[0;34m\u001b[0m\u001b[0m\n\u001b[1;32m    781\u001b[0m             \u001b[0;31m# called before we get here, causing self._jobs to\u001b[0m\u001b[0;34m\u001b[0m\u001b[0;34m\u001b[0m\u001b[0;34m\u001b[0m\u001b[0m\n",
      "\u001b[0;32m/usr/local/lib/python3.7/dist-packages/joblib/_parallel_backends.py\u001b[0m in \u001b[0;36mapply_async\u001b[0;34m(self, func, callback)\u001b[0m\n\u001b[1;32m    206\u001b[0m     \u001b[0;32mdef\u001b[0m \u001b[0mapply_async\u001b[0m\u001b[0;34m(\u001b[0m\u001b[0mself\u001b[0m\u001b[0;34m,\u001b[0m \u001b[0mfunc\u001b[0m\u001b[0;34m,\u001b[0m \u001b[0mcallback\u001b[0m\u001b[0;34m=\u001b[0m\u001b[0;32mNone\u001b[0m\u001b[0;34m)\u001b[0m\u001b[0;34m:\u001b[0m\u001b[0;34m\u001b[0m\u001b[0;34m\u001b[0m\u001b[0m\n\u001b[1;32m    207\u001b[0m         \u001b[0;34m\"\"\"Schedule a func to be run\"\"\"\u001b[0m\u001b[0;34m\u001b[0m\u001b[0;34m\u001b[0m\u001b[0m\n\u001b[0;32m--> 208\u001b[0;31m         \u001b[0mresult\u001b[0m \u001b[0;34m=\u001b[0m \u001b[0mImmediateResult\u001b[0m\u001b[0;34m(\u001b[0m\u001b[0mfunc\u001b[0m\u001b[0;34m)\u001b[0m\u001b[0;34m\u001b[0m\u001b[0;34m\u001b[0m\u001b[0m\n\u001b[0m\u001b[1;32m    209\u001b[0m         \u001b[0;32mif\u001b[0m \u001b[0mcallback\u001b[0m\u001b[0;34m:\u001b[0m\u001b[0;34m\u001b[0m\u001b[0;34m\u001b[0m\u001b[0m\n\u001b[1;32m    210\u001b[0m             \u001b[0mcallback\u001b[0m\u001b[0;34m(\u001b[0m\u001b[0mresult\u001b[0m\u001b[0;34m)\u001b[0m\u001b[0;34m\u001b[0m\u001b[0;34m\u001b[0m\u001b[0m\n",
      "\u001b[0;32m/usr/local/lib/python3.7/dist-packages/joblib/_parallel_backends.py\u001b[0m in \u001b[0;36m__init__\u001b[0;34m(self, batch)\u001b[0m\n\u001b[1;32m    570\u001b[0m         \u001b[0;31m# Don't delay the application, to avoid keeping the input\u001b[0m\u001b[0;34m\u001b[0m\u001b[0;34m\u001b[0m\u001b[0;34m\u001b[0m\u001b[0m\n\u001b[1;32m    571\u001b[0m         \u001b[0;31m# arguments in memory\u001b[0m\u001b[0;34m\u001b[0m\u001b[0;34m\u001b[0m\u001b[0;34m\u001b[0m\u001b[0m\n\u001b[0;32m--> 572\u001b[0;31m         \u001b[0mself\u001b[0m\u001b[0;34m.\u001b[0m\u001b[0mresults\u001b[0m \u001b[0;34m=\u001b[0m \u001b[0mbatch\u001b[0m\u001b[0;34m(\u001b[0m\u001b[0;34m)\u001b[0m\u001b[0;34m\u001b[0m\u001b[0;34m\u001b[0m\u001b[0m\n\u001b[0m\u001b[1;32m    573\u001b[0m \u001b[0;34m\u001b[0m\u001b[0m\n\u001b[1;32m    574\u001b[0m     \u001b[0;32mdef\u001b[0m \u001b[0mget\u001b[0m\u001b[0;34m(\u001b[0m\u001b[0mself\u001b[0m\u001b[0;34m)\u001b[0m\u001b[0;34m:\u001b[0m\u001b[0;34m\u001b[0m\u001b[0;34m\u001b[0m\u001b[0m\n",
      "\u001b[0;32m/usr/local/lib/python3.7/dist-packages/joblib/parallel.py\u001b[0m in \u001b[0;36m__call__\u001b[0;34m(self)\u001b[0m\n\u001b[1;32m    261\u001b[0m         \u001b[0;32mwith\u001b[0m \u001b[0mparallel_backend\u001b[0m\u001b[0;34m(\u001b[0m\u001b[0mself\u001b[0m\u001b[0;34m.\u001b[0m\u001b[0m_backend\u001b[0m\u001b[0;34m,\u001b[0m \u001b[0mn_jobs\u001b[0m\u001b[0;34m=\u001b[0m\u001b[0mself\u001b[0m\u001b[0;34m.\u001b[0m\u001b[0m_n_jobs\u001b[0m\u001b[0;34m)\u001b[0m\u001b[0;34m:\u001b[0m\u001b[0;34m\u001b[0m\u001b[0;34m\u001b[0m\u001b[0m\n\u001b[1;32m    262\u001b[0m             return [func(*args, **kwargs)\n\u001b[0;32m--> 263\u001b[0;31m                     for func, args, kwargs in self.items]\n\u001b[0m\u001b[1;32m    264\u001b[0m \u001b[0;34m\u001b[0m\u001b[0m\n\u001b[1;32m    265\u001b[0m     \u001b[0;32mdef\u001b[0m \u001b[0m__reduce__\u001b[0m\u001b[0;34m(\u001b[0m\u001b[0mself\u001b[0m\u001b[0;34m)\u001b[0m\u001b[0;34m:\u001b[0m\u001b[0;34m\u001b[0m\u001b[0;34m\u001b[0m\u001b[0m\n",
      "\u001b[0;32m/usr/local/lib/python3.7/dist-packages/joblib/parallel.py\u001b[0m in \u001b[0;36m<listcomp>\u001b[0;34m(.0)\u001b[0m\n\u001b[1;32m    261\u001b[0m         \u001b[0;32mwith\u001b[0m \u001b[0mparallel_backend\u001b[0m\u001b[0;34m(\u001b[0m\u001b[0mself\u001b[0m\u001b[0;34m.\u001b[0m\u001b[0m_backend\u001b[0m\u001b[0;34m,\u001b[0m \u001b[0mn_jobs\u001b[0m\u001b[0;34m=\u001b[0m\u001b[0mself\u001b[0m\u001b[0;34m.\u001b[0m\u001b[0m_n_jobs\u001b[0m\u001b[0;34m)\u001b[0m\u001b[0;34m:\u001b[0m\u001b[0;34m\u001b[0m\u001b[0;34m\u001b[0m\u001b[0m\n\u001b[1;32m    262\u001b[0m             return [func(*args, **kwargs)\n\u001b[0;32m--> 263\u001b[0;31m                     for func, args, kwargs in self.items]\n\u001b[0m\u001b[1;32m    264\u001b[0m \u001b[0;34m\u001b[0m\u001b[0m\n\u001b[1;32m    265\u001b[0m     \u001b[0;32mdef\u001b[0m \u001b[0m__reduce__\u001b[0m\u001b[0;34m(\u001b[0m\u001b[0mself\u001b[0m\u001b[0;34m)\u001b[0m\u001b[0;34m:\u001b[0m\u001b[0;34m\u001b[0m\u001b[0;34m\u001b[0m\u001b[0m\n",
      "\u001b[0;32m/usr/local/lib/python3.7/dist-packages/sklearn/utils/fixes.py\u001b[0m in \u001b[0;36m__call__\u001b[0;34m(self, *args, **kwargs)\u001b[0m\n\u001b[1;32m    214\u001b[0m     \u001b[0;32mdef\u001b[0m \u001b[0m__call__\u001b[0m\u001b[0;34m(\u001b[0m\u001b[0mself\u001b[0m\u001b[0;34m,\u001b[0m \u001b[0;34m*\u001b[0m\u001b[0margs\u001b[0m\u001b[0;34m,\u001b[0m \u001b[0;34m**\u001b[0m\u001b[0mkwargs\u001b[0m\u001b[0;34m)\u001b[0m\u001b[0;34m:\u001b[0m\u001b[0;34m\u001b[0m\u001b[0;34m\u001b[0m\u001b[0m\n\u001b[1;32m    215\u001b[0m         \u001b[0;32mwith\u001b[0m \u001b[0mconfig_context\u001b[0m\u001b[0;34m(\u001b[0m\u001b[0;34m**\u001b[0m\u001b[0mself\u001b[0m\u001b[0;34m.\u001b[0m\u001b[0mconfig\u001b[0m\u001b[0;34m)\u001b[0m\u001b[0;34m:\u001b[0m\u001b[0;34m\u001b[0m\u001b[0;34m\u001b[0m\u001b[0m\n\u001b[0;32m--> 216\u001b[0;31m             \u001b[0;32mreturn\u001b[0m \u001b[0mself\u001b[0m\u001b[0;34m.\u001b[0m\u001b[0mfunction\u001b[0m\u001b[0;34m(\u001b[0m\u001b[0;34m*\u001b[0m\u001b[0margs\u001b[0m\u001b[0;34m,\u001b[0m \u001b[0;34m**\u001b[0m\u001b[0mkwargs\u001b[0m\u001b[0;34m)\u001b[0m\u001b[0;34m\u001b[0m\u001b[0;34m\u001b[0m\u001b[0m\n\u001b[0m\u001b[1;32m    217\u001b[0m \u001b[0;34m\u001b[0m\u001b[0m\n\u001b[1;32m    218\u001b[0m \u001b[0;34m\u001b[0m\u001b[0m\n",
      "\u001b[0;32m/usr/local/lib/python3.7/dist-packages/sklearn/model_selection/_validation.py\u001b[0m in \u001b[0;36m_fit_and_score\u001b[0;34m(estimator, X, y, scorer, train, test, verbose, parameters, fit_params, return_train_score, return_parameters, return_n_test_samples, return_times, return_estimator, split_progress, candidate_progress, error_score)\u001b[0m\n\u001b[1;32m    678\u001b[0m             \u001b[0mestimator\u001b[0m\u001b[0;34m.\u001b[0m\u001b[0mfit\u001b[0m\u001b[0;34m(\u001b[0m\u001b[0mX_train\u001b[0m\u001b[0;34m,\u001b[0m \u001b[0;34m**\u001b[0m\u001b[0mfit_params\u001b[0m\u001b[0;34m)\u001b[0m\u001b[0;34m\u001b[0m\u001b[0;34m\u001b[0m\u001b[0m\n\u001b[1;32m    679\u001b[0m         \u001b[0;32melse\u001b[0m\u001b[0;34m:\u001b[0m\u001b[0;34m\u001b[0m\u001b[0;34m\u001b[0m\u001b[0m\n\u001b[0;32m--> 680\u001b[0;31m             \u001b[0mestimator\u001b[0m\u001b[0;34m.\u001b[0m\u001b[0mfit\u001b[0m\u001b[0;34m(\u001b[0m\u001b[0mX_train\u001b[0m\u001b[0;34m,\u001b[0m \u001b[0my_train\u001b[0m\u001b[0;34m,\u001b[0m \u001b[0;34m**\u001b[0m\u001b[0mfit_params\u001b[0m\u001b[0;34m)\u001b[0m\u001b[0;34m\u001b[0m\u001b[0;34m\u001b[0m\u001b[0m\n\u001b[0m\u001b[1;32m    681\u001b[0m \u001b[0;34m\u001b[0m\u001b[0m\n\u001b[1;32m    682\u001b[0m     \u001b[0;32mexcept\u001b[0m \u001b[0mException\u001b[0m\u001b[0;34m:\u001b[0m\u001b[0;34m\u001b[0m\u001b[0;34m\u001b[0m\u001b[0m\n",
      "\u001b[0;32m/usr/local/lib/python3.7/dist-packages/xgboost/sklearn.py\u001b[0m in \u001b[0;36mfit\u001b[0;34m(self, X, y, sample_weight, eval_set, eval_metric, early_stopping_rounds, verbose, xgb_model, sample_weight_eval_set, callbacks)\u001b[0m\n\u001b[1;32m    394\u001b[0m                               \u001b[0mevals_result\u001b[0m\u001b[0;34m=\u001b[0m\u001b[0mevals_result\u001b[0m\u001b[0;34m,\u001b[0m \u001b[0mobj\u001b[0m\u001b[0;34m=\u001b[0m\u001b[0mobj\u001b[0m\u001b[0;34m,\u001b[0m \u001b[0mfeval\u001b[0m\u001b[0;34m=\u001b[0m\u001b[0mfeval\u001b[0m\u001b[0;34m,\u001b[0m\u001b[0;34m\u001b[0m\u001b[0;34m\u001b[0m\u001b[0m\n\u001b[1;32m    395\u001b[0m                               \u001b[0mverbose_eval\u001b[0m\u001b[0;34m=\u001b[0m\u001b[0mverbose\u001b[0m\u001b[0;34m,\u001b[0m \u001b[0mxgb_model\u001b[0m\u001b[0;34m=\u001b[0m\u001b[0mxgb_model\u001b[0m\u001b[0;34m,\u001b[0m\u001b[0;34m\u001b[0m\u001b[0;34m\u001b[0m\u001b[0m\n\u001b[0;32m--> 396\u001b[0;31m                               callbacks=callbacks)\n\u001b[0m\u001b[1;32m    397\u001b[0m \u001b[0;34m\u001b[0m\u001b[0m\n\u001b[1;32m    398\u001b[0m         \u001b[0;32mif\u001b[0m \u001b[0mevals_result\u001b[0m\u001b[0;34m:\u001b[0m\u001b[0;34m\u001b[0m\u001b[0;34m\u001b[0m\u001b[0m\n",
      "\u001b[0;32m/usr/local/lib/python3.7/dist-packages/xgboost/training.py\u001b[0m in \u001b[0;36mtrain\u001b[0;34m(params, dtrain, num_boost_round, evals, obj, feval, maximize, early_stopping_rounds, evals_result, verbose_eval, xgb_model, callbacks, learning_rates)\u001b[0m\n\u001b[1;32m    214\u001b[0m                            \u001b[0mevals\u001b[0m\u001b[0;34m=\u001b[0m\u001b[0mevals\u001b[0m\u001b[0;34m,\u001b[0m\u001b[0;34m\u001b[0m\u001b[0;34m\u001b[0m\u001b[0m\n\u001b[1;32m    215\u001b[0m                            \u001b[0mobj\u001b[0m\u001b[0;34m=\u001b[0m\u001b[0mobj\u001b[0m\u001b[0;34m,\u001b[0m \u001b[0mfeval\u001b[0m\u001b[0;34m=\u001b[0m\u001b[0mfeval\u001b[0m\u001b[0;34m,\u001b[0m\u001b[0;34m\u001b[0m\u001b[0;34m\u001b[0m\u001b[0m\n\u001b[0;32m--> 216\u001b[0;31m                            xgb_model=xgb_model, callbacks=callbacks)\n\u001b[0m\u001b[1;32m    217\u001b[0m \u001b[0;34m\u001b[0m\u001b[0m\n\u001b[1;32m    218\u001b[0m \u001b[0;34m\u001b[0m\u001b[0m\n",
      "\u001b[0;32m/usr/local/lib/python3.7/dist-packages/xgboost/training.py\u001b[0m in \u001b[0;36m_train_internal\u001b[0;34m(params, dtrain, num_boost_round, evals, obj, feval, xgb_model, callbacks)\u001b[0m\n\u001b[1;32m     72\u001b[0m         \u001b[0;31m# Skip the first update if it is a recovery step.\u001b[0m\u001b[0;34m\u001b[0m\u001b[0;34m\u001b[0m\u001b[0;34m\u001b[0m\u001b[0m\n\u001b[1;32m     73\u001b[0m         \u001b[0;32mif\u001b[0m \u001b[0mversion\u001b[0m \u001b[0;34m%\u001b[0m \u001b[0;36m2\u001b[0m \u001b[0;34m==\u001b[0m \u001b[0;36m0\u001b[0m\u001b[0;34m:\u001b[0m\u001b[0;34m\u001b[0m\u001b[0;34m\u001b[0m\u001b[0m\n\u001b[0;32m---> 74\u001b[0;31m             \u001b[0mbst\u001b[0m\u001b[0;34m.\u001b[0m\u001b[0mupdate\u001b[0m\u001b[0;34m(\u001b[0m\u001b[0mdtrain\u001b[0m\u001b[0;34m,\u001b[0m \u001b[0mi\u001b[0m\u001b[0;34m,\u001b[0m \u001b[0mobj\u001b[0m\u001b[0;34m)\u001b[0m\u001b[0;34m\u001b[0m\u001b[0;34m\u001b[0m\u001b[0m\n\u001b[0m\u001b[1;32m     75\u001b[0m             \u001b[0mbst\u001b[0m\u001b[0;34m.\u001b[0m\u001b[0msave_rabit_checkpoint\u001b[0m\u001b[0;34m(\u001b[0m\u001b[0;34m)\u001b[0m\u001b[0;34m\u001b[0m\u001b[0;34m\u001b[0m\u001b[0m\n\u001b[1;32m     76\u001b[0m             \u001b[0mversion\u001b[0m \u001b[0;34m+=\u001b[0m \u001b[0;36m1\u001b[0m\u001b[0;34m\u001b[0m\u001b[0;34m\u001b[0m\u001b[0m\n",
      "\u001b[0;32m/usr/local/lib/python3.7/dist-packages/xgboost/core.py\u001b[0m in \u001b[0;36mupdate\u001b[0;34m(self, dtrain, iteration, fobj)\u001b[0m\n\u001b[1;32m   1107\u001b[0m         \u001b[0;32mif\u001b[0m \u001b[0mfobj\u001b[0m \u001b[0;32mis\u001b[0m \u001b[0;32mNone\u001b[0m\u001b[0;34m:\u001b[0m\u001b[0;34m\u001b[0m\u001b[0;34m\u001b[0m\u001b[0m\n\u001b[1;32m   1108\u001b[0m             _check_call(_LIB.XGBoosterUpdateOneIter(self.handle, ctypes.c_int(iteration),\n\u001b[0;32m-> 1109\u001b[0;31m                                                     dtrain.handle))\n\u001b[0m\u001b[1;32m   1110\u001b[0m         \u001b[0;32melse\u001b[0m\u001b[0;34m:\u001b[0m\u001b[0;34m\u001b[0m\u001b[0;34m\u001b[0m\u001b[0m\n\u001b[1;32m   1111\u001b[0m             \u001b[0mpred\u001b[0m \u001b[0;34m=\u001b[0m \u001b[0mself\u001b[0m\u001b[0;34m.\u001b[0m\u001b[0mpredict\u001b[0m\u001b[0;34m(\u001b[0m\u001b[0mdtrain\u001b[0m\u001b[0;34m)\u001b[0m\u001b[0;34m\u001b[0m\u001b[0;34m\u001b[0m\u001b[0m\n",
      "\u001b[0;31mKeyboardInterrupt\u001b[0m: "
     ]
    }
   ],
   "source": [
    "from sklearn.model_selection import GridSearchCV\n",
    "grid = GridSearchCV( XGBRegressor(random_state=42, learning_rate=0.1, max_depth= 10, n_estimators=50), param_grid)\n",
    "from sklearn.model_selection import train_test_split\n",
    "# X_train, X_test, y_train, y_test = train_test_split(X, y, random_state=42)\n",
    "grid.fit(X_train, y_train)\n",
    "# print(grid.score(xvalid, yvalid))\n",
    "print(grid.best_params_)\n",
    "print(grid.best_score_)"
   ]
  },
  {
   "cell_type": "code",
   "execution_count": 140,
   "metadata": {
    "colab": {
     "base_uri": "https://localhost:8080/"
    },
    "executionInfo": {
     "elapsed": 5,
     "status": "ok",
     "timestamp": 1655396727208,
     "user": {
      "displayName": "Muriithi Ruth Nduta",
      "userId": "02314034622241805526"
     },
     "user_tz": -180
    },
    "id": "Mpc4mGUDPp4S",
    "outputId": "2a961247-1af8-44ef-f1a6-4c15569ff9b4"
   },
   "outputs": [
    {
     "data": {
      "text/plain": [
       "array([0.3643219 , 0.10696297, 0.04229978, 0.05359033, 0.03553979,\n",
       "       0.04106957, 0.02166936, 0.02844705, 0.01227706, 0.0227729 ,\n",
       "       0.0197899 , 0.01321996, 0.01346371, 0.03846417, 0.01355553,\n",
       "       0.01562296, 0.01473248, 0.02129326, 0.01953538, 0.01236636,\n",
       "       0.03857893, 0.01448552, 0.03594112], dtype=float32)"
      ]
     },
     "execution_count": 140,
     "metadata": {},
     "output_type": "execute_result"
    }
   ],
   "source": [
    "modelx.feature_importances_"
   ]
  },
  {
   "cell_type": "code",
   "execution_count": 180,
   "metadata": {
    "colab": {
     "base_uri": "https://localhost:8080/",
     "height": 542
    },
    "executionInfo": {
     "elapsed": 2943,
     "status": "ok",
     "timestamp": 1655400370099,
     "user": {
      "displayName": "Muriithi Ruth Nduta",
      "userId": "02314034622241805526"
     },
     "user_tz": -180
    },
    "id": "9FclK8iYg5nJ",
    "outputId": "4284493e-985c-4c19-d397-b98f65660a24"
   },
   "outputs": [
    {
     "data": {
      "text/html": [
       "<html>\n",
       "<head><meta charset=\"utf-8\" /></head>\n",
       "<body>\n",
       "    <div>            <script src=\"https://cdnjs.cloudflare.com/ajax/libs/mathjax/2.7.5/MathJax.js?config=TeX-AMS-MML_SVG\"></script><script type=\"text/javascript\">if (window.MathJax) {MathJax.Hub.Config({SVG: {font: \"STIX-Web\"}});}</script>                <script type=\"text/javascript\">window.PlotlyConfig = {MathJaxConfig: 'local'};</script>\n",
       "        <script src=\"https://cdn.plot.ly/plotly-2.8.3.min.js\"></script>                <div id=\"a428501b-cc52-4c7a-933f-ca3cc2d5b41c\" class=\"plotly-graph-div\" style=\"height:525px; width:500px;\"></div>            <script type=\"text/javascript\">                                    window.PLOTLYENV=window.PLOTLYENV || {};                                    if (document.getElementById(\"a428501b-cc52-4c7a-933f-ca3cc2d5b41c\")) {                    Plotly.newPlot(                        \"a428501b-cc52-4c7a-933f-ca3cc2d5b41c\",                        [{\"hovertemplate\":\"x=%{x}<br>y=%{y}<extra></extra>\",\"legendgroup\":\"\",\"marker\":{\"color\":\"#636efa\",\"symbol\":\"circle\"},\"mode\":\"markers\",\"name\":\"\",\"showlegend\":false,\"x\":[19.0,6.0,3.0,7.0,16.0,35.0,8.0,10.0,36.0,21.0,36.0,19.0,2.0,26.0,11.0,10.0,25.0,1.0,6.0,30.0,10.0,31.0,24.0,2.0,11.0,9.0,40.0,47.0,4.0,11.0,11.0,10.0,47.0,31.0,30.0,41.0,3.0,11.0,3.0,7.0,47.0,5.0,16.0,30.0,6.0,36.0,10.0,9.0,11.0,46.0,11.0,9.0,9.0,6.0,1.0,1.0,1.0,9.0,37.0,32.0,30.0,17.0,9.0,45.0,9.0,10.0,9.0,26.0,37.0,14.0,11.0,8.0,27.0,10.0,35.0,37.0,25.0,11.0,47.0,21.0,11.0,16.0,30.0,21.0,2.0,24.0,10.0,8.0,10.0,6.0,11.0,8.0,11.0,2.0,9.0,25.0,30.0,40.0,9.0,32.0,9.0,11.0,5.0,11.0,3.0,10.0,47.0,9.0,9.0,30.0,8.0,11.0,23.0,35.0,11.0,26.0,46.0,10.0,8.0,47.0,10.0,33.0,22.0,25.0,33.0,36.0,32.0,25.0,5.0,24.0,35.0,11.0,2.0,6.0,47.0,19.0,8.0,11.0,16.0,10.0,28.0,18.0,20.0,6.0,10.0,11.0,10.0,9.0,16.0,9.0,11.0,38.0,16.0,7.0,19.0,31.0,11.0,11.0,1.0,7.0,11.0,1.0,11.0,8.0,7.0,14.0,21.0,21.0,1.0,17.0,11.0,27.0,21.0,31.0,32.0,37.0,11.0,21.0,3.0,48.0,19.0,3.0,37.0,14.0,31.0,5.0,10.0,10.0,28.0,18.0,44.0,24.0,11.0,10.0,47.0,1.0,8.0,10.0,22.0,6.0,12.0,1.0,34.0,24.0,48.0,25.0,28.0,29.0,8.0,27.0,14.0,30.0,16.0,7.0,11.0,36.0,11.0,4.0,9.0,11.0,29.0,10.0,4.0,34.0,21.0,5.0,15.0,18.0,7.0,11.0,9.0,10.0,11.0,32.0,7.0,8.0,32.0,2.0,10.0,3.0,11.0,21.0,22.0,28.0,46.0,10.0,22.0,11.0,11.0,27.0,17.0,1.0,14.0,11.0,47.0,10.0,10.0,10.0,27.0,28.0,4.0,31.0,9.0,6.0,23.0,9.0,9.0,15.0,11.0,12.0,2.0,1.0,33.0,1.0,38.0,25.0,49.0,21.0,20.0,7.0,16.0,43.0,36.0,47.0,36.0,21.0,11.0,13.0,30.0,20.0,9.0,11.0,31.0,21.0,25.0,19.0,9.0,19.0,11.0,6.0,18.0,7.0,17.0,35.0,11.0,28.0,5.0,46.0,33.0,9.0,9.0,5.0,36.0,12.0,2.0,20.0,19.0,21.0,21.0,2.0,35.0,10.0,15.0,10.0,21.0,36.0,31.0,1.0,38.0,33.0,11.0,10.0,40.0,11.0,30.0,8.0,11.0,8.0,14.0,21.0,25.0,30.0,15.0,1.0,9.0,11.0,17.0,21.0,6.0,18.0,7.0,8.0,29.0,10.0,12.0,34.0,11.0,2.0,23.0,11.0,47.0,24.0,23.0,1.0,23.0,7.0,37.0,31.0,33.0,25.0,11.0,11.0,12.0,10.0,7.0,1.0,44.0,10.0,32.0,9.0,10.0,7.0,32.0,3.0,11.0,16.0,10.0,10.0,21.0,8.0,3.0,11.0,8.0,11.0,5.0,6.0,10.0,9.0,19.0,43.0,29.0,11.0,29.0,36.0,27.0,1.0,14.0,35.0,47.0,4.0,31.0,8.0,34.0,31.0,10.0,19.0,5.0,10.0,11.0,5.0,35.0,8.0,27.0,13.0,32.0,13.0,36.0,11.0,8.0,11.0,8.0,18.0,10.0,10.0,10.0,31.0,5.0,47.0,11.0,9.0,11.0,4.0,44.0,4.0,24.0,26.0,11.0,7.0,18.0,11.0,16.0,9.0,24.0,21.0,11.0,43.0,3.0,8.0,47.0,9.0,7.0,11.0,3.0,7.0,7.0,11.0,8.0,11.0,3.0,6.0,11.0,47.0,27.0,20.0,43.0,7.0,6.0,31.0,27.0,11.0,13.0,7.0,11.0,27.0,8.0,9.0,11.0,21.0,8.0,11.0,11.0,12.0,10.0,30.0,10.0,20.0,10.0,11.0,21.0,10.0,10.0,35.0,14.0,5.0,10.0,37.0,26.0,20.0,33.0,9.0,9.0,26.0,11.0,12.0,37.0,31.0,11.0,33.0,5.0,10.0,11.0,11.0,30.0,2.0,32.0,10.0,7.0,9.0,36.0,11.0,11.0,11.0,8.0,11.0,6.0,34.0,11.0,41.0,11.0,3.0,11.0,5.0,23.0,7.0,27.0,11.0,39.0,11.0,10.0,11.0,17.0,32.0,11.0,9.0,5.0,45.0,8.0,36.0,11.0,11.0,29.0,41.0,11.0,32.0,11.0,11.0,28.0,11.0,13.0,36.0,5.0,26.0,11.0,8.0,34.0,10.0,23.0,10.0,18.0,11.0,46.0,33.0,11.0,9.0,11.0,39.0,14.0,2.0,9.0,32.0,8.0,43.0,10.0,6.0,21.0,21.0,38.0,11.0,11.0,10.0,48.0,8.0,5.0,9.0,6.0,3.0,8.0,26.0,11.0,22.0,48.0,19.0,44.0,11.0,4.0,21.0,3.0,14.0,14.0,17.0,10.0,11.0,5.0,31.0,10.0,15.0,9.0,11.0,9.0,10.0,25.0,11.0,49.0,10.0,45.0,47.0,3.0,10.0,32.0,4.0,11.0,31.0,11.0,41.0,45.0,17.0,31.0,15.0,11.0,11.0,3.0,8.0,2.0,16.0,8.0,11.0,2.0,31.0,10.0,6.0,30.0,10.0,7.0,11.0,48.0,25.0,11.0,19.0,9.0,8.0,9.0,11.0,7.0,47.0,32.0,4.0,15.0,23.0,6.0,11.0,47.0,11.0,30.0,3.0,9.0,32.0,28.0,46.0,11.0,10.0,31.0,16.0,1.0,41.0,11.0,9.0,10.0,11.0,11.0,37.0,10.0,48.0,11.0,11.0,23.0,35.0,4.0,11.0,25.0,11.0,5.0,11.0,47.0,20.0,7.0,36.0,7.0,27.0,42.0,23.0,46.0,20.0,35.0,36.0,10.0,11.0,17.0,2.0,5.0,15.0,10.0,26.0,19.0,38.0,27.0,1.0,10.0,46.0,13.0,11.0,10.0,20.0,46.0,8.0,1.0,11.0,1.0,11.0,47.0,22.0,13.0,11.0,25.0,31.0,20.0,33.0,11.0,1.0,26.0,5.0,25.0,10.0,9.0,35.0,13.0,32.0,10.0,10.0,21.0,32.0,45.0,39.0,1.0,11.0,11.0,32.0,11.0,2.0,9.0,30.0,6.0,11.0,35.0,35.0,10.0,11.0,17.0,17.0,11.0,16.0,2.0,9.0,40.0,9.0,2.0,31.0,2.0,15.0,7.0,24.0,9.0,12.0,27.0,10.0,26.0,10.0,26.0,11.0,21.0,5.0,11.0,5.0,8.0,40.0,11.0,10.0,31.0,11.0,9.0,18.0,22.0,11.0,35.0,11.0,39.0,11.0,38.0,16.0,11.0,30.0,12.0,36.0,11.0,8.0,16.0,10.0,31.0,18.0,47.0,19.0,18.0,10.0,23.0,2.0,40.0,23.0,46.0,10.0,32.0,25.0,11.0,20.0,7.0,9.0,8.0,8.0,4.0,7.0,35.0,5.0,11.0,8.0,12.0,7.0,11.0,11.0,35.0,11.0,27.0,10.0,27.0,10.0,34.0,4.0,11.0,11.0,26.0,9.0,48.0,11.0,1.0,9.0,9.0,4.0,8.0,4.0,49.0,7.0,11.0,27.0,21.0,12.0,9.0,31.0,2.0,47.0,47.0,11.0,10.0,35.0,32.0,11.0,13.0,11.0,12.0,47.0,10.0,8.0,5.0,30.0,32.0,5.0,10.0,10.0,35.0,37.0,8.0,23.0,32.0,46.0,12.0,11.0,9.0,23.0,15.0,48.0,8.0,33.0,31.0,6.0,6.0,11.0,14.0,11.0,10.0,9.0,32.0,34.0,11.0,10.0,11.0,5.0,23.0,46.0,12.0,47.0,5.0,4.0,45.0,11.0,39.0,9.0,14.0,36.0,17.0,33.0,27.0,25.0,6.0,10.0,8.0,11.0,11.0,25.0,10.0,9.0,33.0,11.0,27.0,36.0,10.0,21.0,30.0,27.0,9.0,7.0,9.0,37.0,42.0,3.0,24.0,33.0,8.0,2.0,37.0,23.0,42.0,7.0,17.0,10.0,31.0,9.0,1.0,33.0,10.0,40.0,32.0,27.0,25.0,10.0,34.0,33.0,18.0,4.0,13.0,7.0,30.0,10.0,10.0,10.0,11.0,10.0,8.0,20.0,11.0,10.0,42.0,9.0,11.0,9.0,25.0,10.0,13.0,11.0,21.0,11.0,1.0,6.0,46.0,28.0,9.0,41.0,6.0,16.0,28.0,7.0,10.0,49.0,11.0,11.0,32.0,25.0,34.0,16.0,11.0,10.0,7.0,27.0,29.0,11.0,9.0,8.0,26.0,11.0,32.0,27.0,8.0,10.0,7.0,23.0,29.0,2.0,13.0,1.0,11.0,10.0,21.0,32.0,9.0,11.0,9.0,31.0,25.0,46.0,2.0,24.0,5.0,10.0,16.0,4.0,44.0,24.0,48.0,48.0,25.0,32.0,16.0,2.0,8.0,48.0,21.0,47.0,9.0,15.0,11.0,11.0,20.0,10.0,19.0,11.0,37.0,46.0,11.0,20.0,2.0,7.0,48.0,3.0,44.0,17.0,10.0,11.0,11.0,24.0,11.0,38.0,38.0,20.0,5.0,42.0,11.0,9.0,18.0,26.0,31.0,10.0,21.0,28.0,44.0,11.0,9.0,5.0,13.0,1.0,19.0,2.0,14.0,9.0,4.0,5.0,10.0,38.0,11.0,22.0,31.0,10.0,11.0,11.0,11.0,6.0,47.0,15.0,18.0,33.0,47.0,18.0,11.0,26.0,25.0,11.0,10.0,8.0,21.0,23.0,9.0,21.0,28.0,20.0,11.0,31.0,20.0,35.0,45.0,11.0,13.0,29.0,11.0,8.0,49.0,15.0,2.0,9.0,13.0,21.0,27.0,33.0,11.0,37.0,11.0,11.0,11.0,9.0,36.0,4.0,15.0,27.0,11.0,23.0,28.0,31.0,11.0,8.0,9.0,19.0,43.0,20.0,11.0,12.0,14.0,10.0,10.0,10.0,8.0,14.0,9.0,2.0,46.0,11.0,11.0,50.0,10.0,26.0,46.0,5.0,11.0,11.0,28.0,13.0,36.0,33.0,21.0,1.0,1.0,11.0,11.0,9.0,18.0,10.0,23.0,45.0,12.0,11.0,1.0,3.0,3.0,3.0,24.0,9.0,11.0,10.0,1.0,11.0,11.0,30.0,2.0,23.0,11.0,6.0,10.0,15.0,28.0,7.0,11.0,8.0,39.0,8.0,11.0,10.0,9.0,9.0,10.0,28.0,36.0,20.0,15.0,25.0,30.0,11.0,2.0,2.0,6.0,10.0,6.0,24.0,21.0,46.0,28.0,11.0,11.0,1.0,5.0,18.0,6.0,8.0,11.0,10.0,33.0,12.0,8.0,11.0,22.0,36.0,23.0,11.0,45.0,21.0,1.0,11.0,1.0,9.0,11.0,24.0,36.0,11.0,11.0,7.0,9.0,9.0,4.0,32.0,42.0,19.0,9.0,12.0,3.0,28.0,46.0,11.0,9.0,11.0,2.0,46.0,11.0,11.0,11.0,6.0,34.0,39.0,42.0,11.0,11.0,8.0,24.0,2.0,22.0,44.0,9.0,30.0,11.0,10.0,3.0,18.0,12.0,11.0,26.0,25.0,42.0,2.0,12.0,33.0,9.0,29.0,3.0,8.0,2.0,13.0,11.0,43.0,18.0,17.0,9.0,34.0,45.0,10.0,8.0,23.0,9.0,12.0,2.0,4.0,7.0,4.0,30.0,43.0,15.0,21.0,11.0,11.0,1.0,43.0,44.0,27.0,1.0,2.0,24.0,11.0,11.0,6.0,30.0,35.0,47.0,8.0,7.0,20.0,11.0,11.0,28.0,16.0,4.0,8.0,9.0,39.0,9.0,10.0,22.0,8.0,21.0,11.0,3.0,46.0,9.0,6.0,11.0,49.0,17.0,39.0,23.0,11.0,27.0,7.0,7.0,14.0,10.0,15.0,10.0,45.0,10.0,2.0,11.0,3.0,33.0,25.0,26.0,10.0,5.0,19.0,10.0,11.0,17.0,8.0,20.0,9.0,28.0,10.0,6.0,26.0,10.0,8.0,9.0,18.0,35.0,20.0,8.0,11.0,20.0,18.0,33.0,11.0,11.0,11.0,3.0,14.0,30.0,5.0,11.0,10.0,9.0,11.0,7.0,22.0,24.0,32.0,8.0,6.0,10.0,37.0,9.0,5.0,11.0,10.0,2.0,15.0,36.0,25.0,15.0,43.0,22.0,12.0,30.0,11.0,11.0,12.0,31.0,8.0,21.0,14.0,33.0,10.0,31.0,1.0,22.0,2.0,29.0,28.0,7.0,11.0,10.0,31.0,47.0,8.0,12.0,28.0,7.0,30.0,12.0,29.0,12.0,12.0,47.0,10.0,27.0,9.0,22.0,34.0,36.0,11.0,7.0,11.0,37.0,10.0,8.0,14.0,37.0,31.0,47.0,11.0,42.0,5.0,1.0,10.0,21.0,9.0,21.0,10.0,18.0,10.0,34.0,8.0,34.0,17.0,40.0,11.0,9.0,36.0,10.0,35.0,21.0,10.0,14.0,17.0,9.0,47.0,11.0,30.0,11.0,10.0,33.0,8.0,10.0,49.0,9.0,26.0,22.0,7.0,21.0,11.0,8.0,11.0,19.0,11.0,36.0,17.0,11.0,43.0,9.0,6.0,8.0,48.0,9.0,24.0,24.0,17.0,30.0,10.0,9.0,11.0,32.0,11.0,11.0,10.0,11.0,11.0,11.0,18.0,7.0,5.0,11.0,42.0,4.0,8.0,9.0,33.0,9.0,27.0,21.0,48.0,10.0,5.0,3.0,25.0,30.0,30.0,47.0,30.0,11.0,26.0,1.0,33.0,11.0,11.0,3.0,33.0,11.0,34.0,11.0,8.0,11.0,21.0,11.0,9.0,29.0,11.0,11.0,8.0,38.0,10.0,28.0,3.0,27.0,9.0,7.0,7.0,19.0,11.0,44.0,10.0,1.0,10.0,6.0,11.0,26.0,11.0,24.0,10.0,11.0,24.0,14.0,11.0,9.0,26.0,6.0,36.0,29.0,7.0,3.0,6.0,11.0,13.0,13.0,6.0,6.0,23.0,27.0,29.0,37.0,25.0,8.0,9.0,1.0,47.0,31.0,33.0,29.0,2.0,5.0,10.0,48.0,11.0,46.0,33.0,4.0,9.0,46.0,33.0,31.0,11.0,36.0,13.0,25.0,11.0,7.0,9.0,7.0,11.0,20.0,11.0,11.0,4.0,11.0,4.0,46.0,13.0,11.0,47.0,11.0,21.0,34.0,7.0,8.0,1.0,39.0,9.0,15.0,10.0,19.0,9.0,33.0,1.0,9.0,11.0,11.0,13.0,9.0,7.0,23.0,25.0,23.0,34.0,10.0,8.0,7.0,9.0,47.0,11.0,34.0,7.0,14.0,13.0,38.0,11.0,18.0,11.0,10.0,12.0,19.0,4.0,37.0,10.0,11.0,12.0,18.0,11.0,10.0,5.0,3.0,11.0,11.0,9.0,11.0,10.0,14.0,11.0,25.0,13.0,10.0,1.0,18.0,9.0,11.0,17.0,8.0,8.0,6.0,12.0,7.0,8.0,25.0,11.0,18.0,18.0,11.0,4.0,11.0,9.0,3.0,9.0,11.0,11.0,47.0,28.0,30.0,8.0,8.0,36.0,23.0,8.0,11.0,11.0,4.0,29.0,11.0,15.0,4.0,46.0,36.0,49.0,11.0,11.0,11.0,6.0,31.0,23.0,9.0,4.0,15.0,15.0,15.0,27.0,10.0,11.0,11.0,8.0,39.0,11.0,9.0,1.0,13.0,7.0,4.0,16.0,11.0,7.0,9.0,2.0,24.0,25.0,6.0,11.0,31.0,19.0,26.0,34.0,34.0,36.0,11.0,1.0,10.0,42.0,8.0,1.0,8.0,11.0,10.0,43.0,11.0,8.0,11.0,2.0,12.0,3.0,33.0,11.0,9.0,30.0,10.0,10.0,11.0,11.0,11.0,36.0,9.0,6.0,11.0,47.0,10.0,31.0,11.0,11.0,11.0,22.0,18.0,11.0,9.0,44.0,17.0,11.0,11.0,7.0,10.0,26.0,9.0,21.0,5.0,13.0,9.0,22.0,33.0,10.0,10.0,11.0,21.0,19.0,11.0,11.0,8.0,33.0,31.0,11.0,10.0,6.0,9.0,33.0,11.0,10.0,45.0,1.0,31.0,9.0,17.0,4.0,47.0,21.0,29.0,11.0,8.0,33.0,4.0,10.0,23.0,11.0,24.0,11.0,13.0,24.0,16.0,10.0,36.0,11.0,30.0,10.0,11.0,11.0,18.0,3.0,24.0,11.0,5.0,6.0,21.0,2.0,44.0,29.0,29.0,4.0,48.0,11.0,26.0,17.0,4.0,16.0,25.0,1.0,19.0,10.0,24.0,5.0,10.0,48.0,8.0,10.0,36.0,36.0,7.0,15.0,36.0,31.0,36.0,9.0,7.0,30.0,30.0,11.0,11.0,31.0,17.0,11.0,26.0,11.0,43.0,25.0,11.0,4.0,23.0,2.0,35.0,27.0,33.0,12.0,33.0,18.0,1.0,14.0,8.0,11.0,1.0,39.0,4.0,5.0,36.0,10.0,17.0,4.0,1.0,10.0,20.0,28.0,23.0,11.0,10.0,10.0,11.0,10.0,24.0,10.0,24.0,4.0,34.0,8.0,9.0,12.0,7.0,11.0,38.0,50.0,1.0,11.0,11.0,37.0,22.0,11.0,6.0,31.0,11.0,11.0,10.0,7.0,9.0,8.0,18.0,9.0,20.0,9.0,16.0,25.0,18.0,8.0,11.0,36.0,8.0,8.0,5.0,3.0,32.0,8.0,4.0,11.0,11.0,1.0,5.0,8.0,10.0,11.0,1.0,23.0,26.0,8.0,3.0,14.0,4.0,11.0,8.0,46.0,19.0,6.0,28.0,11.0,36.0,11.0,22.0,11.0,9.0,39.0,19.0,31.0,10.0,11.0,29.0,24.0,2.0,9.0,11.0,6.0,35.0,21.0,4.0,10.0,7.0,11.0,10.0,33.0,10.0,8.0,16.0,21.0,47.0,10.0,45.0,9.0,12.0,7.0,28.0,11.0,13.0,10.0,11.0,30.0,12.0,10.0,29.0,15.0,2.0,7.0,8.0,19.0,35.0,39.0,11.0,7.0,8.0,16.0,3.0,6.0,18.0,11.0,10.0,8.0,12.0,12.0,29.0,11.0,2.0,16.0,47.0,47.0,21.0,37.0,30.0,11.0,18.0,11.0,25.0,18.0,13.0,36.0,11.0,48.0,30.0,46.0,46.0,32.0,23.0,9.0,23.0,22.0,11.0,11.0,8.0,9.0,1.0,46.0,16.0,5.0,10.0,26.0,18.0,7.0,19.0,8.0,10.0,3.0,3.0,21.0,43.0,11.0,11.0,37.0,26.0,17.0,32.0,11.0,11.0,46.0,12.0,11.0,23.0,12.0,27.0,28.0,13.0,1.0,32.0,11.0,36.0,37.0,9.0,7.0,43.0,47.0,7.0,6.0,35.0,9.0,3.0,13.0,11.0,10.0,37.0,11.0,7.0,21.0,8.0,11.0,30.0,10.0,7.0,11.0,10.0,11.0,35.0,20.0,11.0,45.0,5.0,49.0,33.0,8.0,11.0,26.0,24.0,11.0,7.0,43.0,33.0,8.0,9.0,16.0,11.0,8.0,7.0,11.0,21.0,23.0,2.0,27.0,11.0,22.0,4.0,11.0,9.0,11.0,10.0,11.0,10.0,26.0,47.0,34.0,21.0,27.0,11.0,2.0,11.0,16.0,10.0,11.0,10.0,3.0,33.0,45.0,9.0,31.0,6.0,23.0,10.0,32.0,19.0,17.0,10.0,37.0,11.0,7.0,33.0,13.0,26.0,16.0,14.0,20.0,11.0,11.0,3.0,10.0,47.0,38.0,10.0,5.0,9.0,6.0,26.0,11.0,32.0,2.0,46.0,2.0,48.0,2.0,5.0,8.0,5.0,8.0,14.0,2.0,9.0,2.0,11.0,47.0,6.0,11.0,10.0,22.0,11.0,5.0,45.0,36.0,31.0,5.0,1.0,11.0,8.0,7.0,11.0,11.0,23.0,8.0,9.0,11.0,11.0,4.0,3.0,4.0,11.0,13.0,1.0,11.0,11.0,47.0,8.0,16.0,23.0,7.0,11.0,31.0,9.0,11.0,50.0,11.0,39.0,41.0,8.0,11.0,11.0,30.0,12.0,21.0,5.0,10.0,35.0,4.0,17.0,11.0,25.0,46.0,4.0,10.0,2.0,3.0,9.0,4.0,31.0,11.0,10.0,20.0,15.0,26.0,2.0,37.0,9.0,36.0,11.0,7.0,32.0,23.0,11.0,8.0,4.0,9.0,11.0,4.0,11.0,5.0,13.0,13.0,32.0,9.0,11.0,10.0,22.0,25.0,11.0,46.0,23.0,43.0,9.0,16.0,15.0,11.0,1.0,47.0,47.0,12.0,8.0,5.0,32.0,4.0,7.0,41.0,9.0,7.0,9.0,10.0,2.0,21.0,11.0,11.0,28.0,19.0,25.0,11.0,9.0,45.0,15.0,7.0,11.0,35.0,2.0,46.0,34.0,33.0,11.0,19.0,11.0,22.0,8.0,11.0,6.0,24.0,2.0,7.0,11.0,10.0,32.0,6.0,10.0,2.0,20.0,18.0,31.0,7.0,36.0,11.0,4.0,11.0,25.0,24.0,3.0,10.0,11.0,39.0,35.0,11.0,44.0,10.0,3.0,38.0,10.0,11.0,9.0,6.0,9.0,38.0,4.0,10.0,22.0,29.0,19.0,25.0,33.0,11.0,11.0,35.0,11.0,44.0,40.0,34.0,35.0,34.0,4.0,11.0,22.0,19.0,7.0,11.0,5.0,31.0,26.0,11.0,20.0,21.0,5.0,9.0,9.0,7.0,13.0,8.0,2.0,21.0,11.0,31.0,4.0,8.0,27.0,11.0,23.0,31.0,8.0,11.0,31.0,7.0,43.0,34.0,38.0,3.0,9.0,8.0,19.0,8.0,31.0,11.0,32.0,10.0,9.0,21.0,9.0,9.0,1.0,10.0,32.0,26.0,8.0,3.0,11.0,9.0,11.0,10.0,1.0,35.0,11.0,11.0,13.0,7.0,11.0,33.0,11.0,17.0,7.0,13.0,8.0,18.0,12.0,11.0,8.0,1.0,9.0,1.0,27.0,18.0,11.0,8.0,7.0,9.0,29.0,3.0,11.0,29.0,10.0,12.0,6.0,10.0,14.0,11.0,33.0,9.0,9.0,9.0,9.0,13.0,36.0,6.0,27.0,11.0,21.0,37.0,4.0,38.0,28.0,29.0,27.0,26.0,11.0,11.0,11.0,11.0,44.0,17.0,34.0,3.0,8.0,15.0,10.0,34.0,9.0,11.0,47.0,23.0,5.0,31.0,18.0,10.0,20.0,29.0,20.0,3.0,31.0,11.0,21.0,11.0,8.0,42.0,11.0,2.0,44.0,10.0,11.0,11.0,32.0,19.0,21.0,10.0,30.0,11.0,45.0,4.0,36.0,10.0,49.0,8.0,24.0,31.0,5.0,1.0,10.0,43.0,34.0,5.0,11.0,5.0,19.0,29.0,7.0,8.0,11.0,33.0,10.0,4.0,11.0,8.0,47.0,36.0,13.0,33.0,9.0,15.0,25.0,33.0,7.0,11.0,11.0,9.0,7.0,5.0,15.0,8.0,16.0,10.0,40.0,10.0,23.0,11.0,25.0,36.0,5.0,35.0,9.0,17.0,11.0,48.0,8.0,17.0,16.0,37.0,7.0,10.0,34.0,4.0,5.0,33.0,9.0,10.0,33.0,7.0,37.0,11.0,43.0,11.0,31.0,27.0,46.0,9.0,30.0,23.0,11.0,11.0,8.0,11.0,4.0,10.0,1.0,13.0,18.0,7.0,36.0,34.0,6.0,32.0,45.0,12.0,9.0,29.0,13.0,47.0,8.0,10.0,23.0,11.0,7.0,10.0,8.0,24.0,14.0,15.0,11.0,9.0,9.0,45.0,2.0,11.0,11.0,11.0,15.0,29.0,10.0,3.0,8.0,10.0,29.0,6.0,9.0,2.0,11.0,4.0,7.0,1.0,4.0,36.0,48.0,3.0,8.0,11.0,10.0,38.0,37.0,48.0,19.0,24.0,23.0,38.0,11.0,11.0,10.0,24.0,26.0,26.0,10.0,11.0,18.0,6.0,9.0,8.0,4.0,9.0,18.0,28.0,7.0,21.0,5.0,31.0,30.0,30.0,3.0,15.0,8.0,34.0,19.0,36.0,25.0,11.0,7.0,32.0,26.0,36.0,11.0,11.0,47.0,11.0,9.0,11.0,21.0,11.0,10.0,25.0,5.0,32.0,27.0,38.0,45.0,31.0,24.0,19.0,12.0,32.0,21.0,28.0,11.0,21.0,7.0,5.0,3.0,7.0,17.0,12.0,24.0,9.0,2.0,9.0,9.0,11.0,11.0,19.0,3.0,34.0,46.0,2.0,4.0,31.0,48.0,25.0,6.0,11.0,4.0,50.0,24.0,11.0,25.0,9.0,43.0,17.0,46.0,11.0,4.0,11.0,9.0,17.0,36.0,14.0,7.0,33.0,8.0,47.0,19.0,11.0,27.0,31.0,6.0,3.0,46.0,35.0,11.0,7.0,12.0,31.0,13.0,6.0,25.0,32.0,17.0,10.0,12.0,2.0,26.0,10.0,11.0,12.0,28.0,19.0,2.0,9.0,5.0,6.0,9.0,47.0,12.0,6.0,9.0,17.0,13.0,21.0,10.0,10.0,2.0,19.0,31.0,10.0,21.0,6.0,36.0,11.0,21.0,13.0,37.0,10.0,43.0,45.0,3.0,16.0,45.0,9.0,6.0,25.0,8.0,35.0,11.0,11.0,25.0,13.0,4.0,30.0,14.0,10.0,11.0,29.0,11.0,6.0,4.0,11.0,1.0,14.0,11.0,47.0,31.0,30.0,22.0,35.0,28.0,11.0,11.0,12.0,9.0,31.0,8.0,9.0,47.0,19.0,34.0,36.0,8.0,11.0,46.0,11.0,47.0,32.0,10.0,31.0,34.0,36.0,31.0,11.0,24.0,35.0,9.0,5.0,10.0,29.0,9.0,37.0,9.0,31.0,11.0,21.0,11.0,1.0,8.0,11.0,25.0,11.0,11.0,13.0,33.0,19.0,5.0,7.0,14.0,16.0,11.0,11.0,11.0,33.0,46.0,43.0,12.0,14.0,11.0,11.0,11.0,11.0,18.0,2.0,46.0,11.0,9.0,5.0,1.0,7.0,45.0,11.0,30.0,8.0,25.0,47.0,23.0,30.0,49.0,8.0,30.0,25.0,9.0,47.0,4.0,3.0,9.0,29.0,10.0,1.0,32.0,11.0,3.0,10.0,27.0,24.0,1.0,11.0,7.0,38.0,10.0,38.0,25.0,32.0,6.0,27.0,11.0,10.0,37.0,9.0,11.0,24.0,33.0,8.0,7.0,11.0,33.0,11.0,32.0,11.0,11.0,43.0,9.0,35.0,11.0,9.0,8.0,11.0,38.0,11.0,11.0,19.0,2.0,25.0,32.0,5.0,16.0,9.0,9.0,35.0,11.0,8.0,3.0,25.0,7.0,34.0,31.0,10.0,11.0,1.0,21.0,12.0,28.0,8.0,48.0,20.0,27.0,15.0,1.0,38.0,24.0,45.0,10.0,24.0,8.0,34.0,25.0,11.0,10.0,11.0,25.0,4.0,11.0,9.0,33.0,11.0,9.0,32.0,6.0,48.0,2.0,36.0,47.0,10.0,11.0,2.0,25.0,3.0,2.0,11.0,32.0,11.0,16.0,16.0,35.0,20.0,23.0,9.0,10.0,11.0,28.0,29.0,11.0,7.0,7.0,3.0,47.0,2.0,8.0,4.0,9.0,10.0,11.0,9.0,10.0,12.0,38.0,16.0,14.0,32.0,10.0,26.0,31.0,11.0,11.0,3.0,1.0,8.0,11.0,17.0,8.0,11.0,11.0,34.0,11.0,23.0,34.0,4.0,9.0,3.0,29.0,11.0,34.0,10.0,11.0,25.0,44.0,39.0,12.0,2.0,21.0,10.0,26.0,11.0,2.0,39.0,47.0,10.0,27.0,15.0,2.0,4.0,6.0,23.0,21.0,10.0,33.0,11.0,28.0,11.0,25.0,10.0,26.0,10.0,14.0,9.0,11.0,4.0,4.0,42.0,3.0,33.0,33.0,9.0,10.0,47.0,12.0,31.0,30.0,12.0,11.0,10.0,38.0,9.0,11.0,16.0,11.0,21.0,8.0,32.0,11.0,6.0,18.0,39.0,19.0,11.0,5.0,13.0,9.0,32.0,1.0,39.0,11.0,5.0,47.0,10.0,10.0,14.0,28.0,47.0,11.0,47.0,9.0,47.0,10.0,23.0,11.0,15.0,35.0,10.0,11.0,4.0,13.0,4.0,8.0,20.0,12.0,36.0,11.0,30.0,11.0,10.0,5.0,2.0,26.0,1.0,11.0,8.0,10.0,9.0,6.0,39.0,10.0,28.0,7.0,26.0,9.0,9.0,4.0,4.0,16.0,10.0,8.0,25.0,10.0,16.0,10.0,4.0,32.0,21.0,9.0,10.0,11.0,21.0,4.0,11.0,31.0,26.0,36.0,10.0,37.0,11.0,8.0,22.0,11.0,11.0,11.0,6.0,2.0,24.0,11.0,4.0,41.0,4.0,8.0,48.0,2.0,28.0,11.0,9.0,39.0,11.0,7.0,10.0,4.0,11.0,38.0,28.0,11.0,5.0,29.0,20.0,11.0,11.0,11.0,6.0,10.0,34.0,12.0,47.0,9.0,10.0,18.0,11.0,11.0,27.0,8.0,18.0,40.0,9.0,11.0,8.0,28.0,11.0,3.0,11.0,1.0,11.0,30.0,12.0,21.0,23.0,11.0,11.0,5.0,31.0,11.0,13.0,10.0,8.0,21.0,1.0,11.0,8.0,1.0,30.0,8.0,8.0,4.0,10.0,18.0,27.0,34.0,7.0,11.0,19.0,26.0,8.0,6.0,11.0,4.0,11.0,32.0,8.0,11.0,12.0,7.0,31.0,9.0,10.0,3.0,11.0,4.0,11.0,35.0,7.0,37.0,10.0,13.0,13.0,11.0,24.0,4.0,10.0,11.0,26.0,25.0,10.0,24.0,11.0,8.0,22.0,11.0,8.0,21.0,36.0,11.0,10.0,27.0,30.0,10.0,11.0,11.0,19.0,4.0,10.0,26.0,46.0,9.0,9.0,11.0,36.0,9.0,11.0,3.0,11.0,5.0,30.0,25.0,30.0,36.0,34.0,47.0,1.0,10.0,11.0,32.0,8.0,24.0,11.0,39.0,2.0,5.0,47.0,9.0,10.0,11.0,1.0,12.0,5.0,47.0,10.0,28.0,1.0,11.0,11.0,11.0,13.0,9.0,10.0,25.0,12.0,5.0,34.0,10.0,49.0,21.0,9.0,9.0,49.0,6.0,37.0,5.0,25.0,4.0,32.0,37.0,3.0,31.0,9.0,7.0,4.0,18.0,35.0,4.0,19.0,4.0,19.0,8.0,4.0,11.0,23.0,29.0,11.0,8.0,11.0,37.0,11.0,3.0,11.0,34.0,1.0,11.0,38.0,10.0,12.0,11.0,8.0,1.0,29.0,3.0,28.0,11.0,35.0,26.0,11.0,9.0,11.0,33.0,33.0,8.0,18.0,10.0,13.0,3.0,10.0,4.0,14.0,31.0,14.0,11.0,9.0,11.0,37.0,9.0,42.0,11.0,37.0,10.0,9.0,32.0,29.0,36.0,11.0,9.0,45.0,10.0,37.0,21.0,9.0,12.0,5.0,2.0,11.0,11.0,33.0,5.0,9.0,1.0,33.0,11.0,47.0,7.0,11.0,6.0,18.0,13.0,9.0,10.0,11.0,10.0,12.0,4.0,13.0,37.0,35.0,10.0,10.0,27.0,8.0,16.0,16.0,9.0,22.0,49.0,11.0,23.0,11.0,11.0,32.0,10.0,10.0,7.0,8.0,47.0,30.0,36.0,22.0,10.0,32.0,33.0,6.0,5.0,9.0,7.0,29.0,33.0,30.0,1.0,18.0,6.0,33.0,27.0,25.0,47.0,19.0,1.0,16.0,39.0,47.0,34.0,11.0,4.0,10.0,24.0,8.0,6.0,9.0,16.0,9.0,11.0,11.0,3.0,28.0,1.0,25.0,7.0,36.0,19.0,26.0,8.0,10.0,1.0,29.0,40.0,1.0,30.0,5.0,31.0,11.0,47.0,10.0,9.0,11.0,47.0,11.0,17.0,33.0,24.0,25.0,21.0,40.0,6.0,20.0,22.0,11.0,7.0,46.0,11.0,10.0,11.0,3.0,45.0,33.0,9.0,4.0,11.0,3.0,23.0,32.0,33.0,36.0,28.0,27.0,29.0,49.0,29.0,28.0,9.0,9.0,20.0,33.0,11.0,11.0,16.0,36.0,2.0,8.0,11.0,9.0,8.0,9.0,36.0,4.0,4.0,12.0,4.0,8.0,1.0,30.0,21.0,22.0,8.0,47.0,3.0,34.0,5.0,10.0,11.0,1.0,3.0,11.0,23.0,20.0,37.0,7.0,10.0,2.0,4.0,8.0,10.0,9.0,31.0,7.0,27.0,40.0,11.0,6.0,32.0,10.0,9.0,8.0,21.0,11.0,4.0,1.0,16.0,11.0,31.0,1.0,25.0,4.0,42.0,2.0,7.0,9.0,5.0,11.0,21.0,18.0,26.0,5.0,9.0,15.0,37.0,42.0,2.0,27.0,1.0,11.0,10.0,8.0,14.0,11.0,6.0,39.0,31.0,13.0,26.0,31.0,27.0,24.0,6.0,8.0,30.0,11.0,8.0,8.0,16.0,10.0,5.0,11.0,10.0,3.0,28.0,9.0,7.0,11.0,10.0,26.0,11.0,26.0,10.0,10.0,33.0,10.0,10.0,34.0,11.0,21.0,6.0,6.0,8.0,37.0,31.0,23.0,37.0,11.0,9.0,11.0,11.0,15.0,46.0,34.0,2.0,22.0,4.0,18.0,35.0,5.0,11.0,43.0,8.0,31.0,11.0,11.0,11.0,41.0,3.0,2.0,17.0,11.0,11.0,8.0,2.0,34.0,32.0,4.0,31.0,3.0,8.0,5.0,11.0,4.0,8.0,19.0,11.0,10.0,5.0,35.0,5.0,5.0,1.0,14.0,29.0,29.0,24.0,11.0,21.0,8.0,6.0,11.0,9.0,36.0,24.0,8.0,38.0,5.0,31.0,11.0,23.0,19.0,31.0,28.0,11.0,41.0,8.0,22.0,43.0,11.0,11.0,11.0,11.0,11.0,10.0,17.0,12.0,23.0,10.0,24.0,1.0,9.0,31.0,45.0,3.0,6.0,11.0,30.0,11.0,7.0,28.0,7.0,9.0,1.0,8.0,44.0,10.0,11.0,30.0,49.0,1.0,34.0,32.0,5.0,10.0,3.0,8.0,30.0,11.0,11.0,11.0,7.0,11.0,37.0,8.0,2.0,46.0,7.0,10.0,19.0,19.0,9.0,27.0,2.0,14.0,3.0,10.0,11.0,3.0,11.0,28.0,5.0,37.0,11.0,11.0,32.0,32.0,21.0,11.0,3.0,25.0,9.0,9.0,11.0,11.0,11.0,24.0,2.0,10.0,31.0,15.0,47.0,35.0,29.0,14.0,11.0,34.0,25.0,5.0,33.0,26.0,5.0,47.0,1.0,18.0,18.0,1.0,6.0,16.0,3.0,46.0,10.0,11.0,5.0,21.0,10.0,10.0,7.0,19.0,11.0,11.0,33.0,11.0,11.0,11.0,19.0,17.0,14.0,11.0,48.0,45.0,7.0,13.0,2.0,20.0,3.0,27.0,18.0,37.0,8.0,11.0,46.0,10.0,1.0,9.0,28.0,7.0,12.0,6.0,9.0,11.0,11.0,27.0,11.0,19.0,18.0,5.0,47.0,10.0,33.0,4.0,11.0,13.0,31.0,11.0,10.0,7.0,5.0,9.0,46.0,34.0,47.0,8.0,1.0,31.0,10.0,4.0,11.0,18.0,11.0,47.0,5.0,9.0,13.0,12.0,37.0,6.0,26.0,5.0,6.0,17.0,15.0,24.0,10.0,47.0,11.0,19.0,1.0,7.0,8.0,11.0,10.0,9.0,40.0,1.0,33.0,23.0,2.0,40.0,41.0,8.0,9.0,28.0,31.0,11.0,11.0,3.0,2.0,5.0,9.0,20.0,9.0,11.0,11.0,37.0,27.0,36.0,27.0,9.0,11.0,19.0,33.0,11.0,26.0,4.0,12.0,25.0,8.0,19.0,11.0,7.0,5.0,10.0,5.0,24.0,34.0,11.0,11.0,34.0,21.0,7.0,9.0,9.0,23.0,30.0,11.0,47.0,30.0,28.0,21.0,34.0,10.0,10.0,11.0,8.0,7.0,11.0,11.0,11.0,11.0,8.0,27.0,11.0,11.0,31.0,10.0,31.0,10.0,11.0,21.0,27.0,11.0,4.0,4.0,4.0,8.0,7.0,11.0,6.0,28.0,10.0,9.0,11.0,41.0,4.0,11.0,12.0,48.0,10.0,7.0,11.0,10.0,11.0,23.0,11.0,9.0,25.0,9.0,9.0,24.0,8.0,2.0,10.0,11.0,39.0,9.0,5.0,11.0,24.0,5.0,4.0,19.0,9.0,11.0,18.0,7.0,15.0,6.0,21.0,16.0,31.0,40.0,6.0,5.0,9.0,34.0,31.0,15.0,11.0,8.0,10.0,14.0,40.0,8.0,9.0,33.0,50.0,1.0,32.0,11.0,21.0,29.0,32.0,16.0,15.0,9.0,27.0,21.0,11.0,21.0,48.0,20.0,10.0,11.0,11.0,32.0,11.0,16.0,8.0,30.0,10.0,22.0,6.0,10.0,7.0,17.0,39.0,15.0,33.0,11.0,21.0,43.0,13.0,8.0,12.0,39.0,14.0,9.0,11.0,35.0,11.0,11.0,4.0,11.0,3.0,47.0,10.0,2.0,21.0,5.0,6.0,32.0,48.0,28.0,8.0,38.0,8.0,9.0,31.0,19.0,31.0,23.0,15.0,36.0,2.0,18.0,11.0,6.0,4.0,10.0,36.0,6.0,40.0,18.0,8.0,9.0,36.0,31.0,8.0,35.0,11.0,11.0,23.0,7.0,11.0,33.0,21.0,9.0,10.0,11.0,19.0,10.0,11.0,11.0,8.0,10.0,11.0,10.0,41.0,9.0,2.0,10.0,11.0,10.0,8.0,11.0,30.0,4.0,7.0,10.0,7.0,11.0,33.0,11.0,11.0,45.0,15.0,35.0,44.0,10.0,40.0,8.0,11.0,8.0,11.0,48.0,11.0,6.0,11.0,15.0,30.0,18.0,7.0,18.0,38.0,26.0,10.0,15.0,11.0,42.0,33.0,11.0,11.0,11.0,9.0,11.0,11.0,32.0,24.0,31.0,8.0,11.0,9.0,31.0,8.0,11.0,32.0,13.0,11.0,7.0,9.0,4.0,30.0,11.0,8.0,1.0,16.0,21.0,28.0,10.0,13.0,11.0,11.0,32.0,8.0,12.0,11.0,2.0,4.0,11.0,43.0,27.0,9.0,8.0,15.0,31.0,11.0,21.0,45.0,23.0,10.0,11.0,34.0,13.0,3.0,11.0,10.0,11.0,11.0,28.0,8.0,10.0,2.0,12.0,8.0,28.0,46.0,2.0,48.0,48.0,20.0,9.0,31.0,9.0,10.0,11.0,9.0,47.0,13.0,11.0,31.0,6.0,38.0,4.0,39.0,28.0,10.0,11.0,9.0,18.0,35.0,11.0,21.0,10.0,29.0,7.0,10.0,11.0,7.0,20.0,11.0,31.0,21.0,4.0,27.0,1.0,11.0,10.0,10.0,10.0,1.0,1.0,10.0,11.0,8.0,19.0,13.0,10.0,7.0,10.0,10.0,7.0,38.0,43.0,1.0,34.0,6.0,48.0,18.0,11.0,10.0,35.0,14.0,10.0,27.0,13.0,9.0,11.0,35.0,6.0,34.0,43.0,11.0,10.0,23.0,1.0,33.0,33.0,11.0,5.0,42.0,35.0,9.0,5.0,30.0,6.0,9.0,28.0,31.0,31.0,12.0,8.0,11.0,11.0,10.0,20.0,32.0,34.0,30.0,38.0,7.0,25.0,46.0,7.0,10.0,26.0,33.0,35.0,10.0,26.0,9.0,10.0,7.0,30.0,12.0,10.0,3.0,20.0,34.0,9.0,27.0,6.0,31.0,7.0,23.0,1.0,11.0,6.0,27.0,11.0,28.0,33.0,4.0,38.0,36.0,43.0,6.0,19.0,17.0,10.0,31.0,6.0,46.0,9.0,10.0,3.0,14.0,23.0,19.0,24.0,29.0,42.0,24.0,6.0,8.0,8.0,11.0,13.0,24.0,10.0,10.0,2.0,12.0,11.0,10.0,9.0,15.0,10.0,31.0,23.0,10.0,14.0,10.0,20.0,8.0,10.0,12.0,16.0,1.0,2.0,8.0,15.0,11.0,11.0,2.0,11.0,34.0,10.0,33.0,5.0,11.0,42.0,11.0,2.0,10.0,1.0,5.0,46.0,7.0,19.0,3.0,6.0,33.0,11.0,10.0,10.0,10.0,30.0,21.0,9.0,17.0,11.0,5.0,11.0,11.0,11.0,11.0,10.0,33.0,12.0,11.0,47.0,38.0,34.0,33.0,20.0,13.0,27.0,4.0,36.0,10.0,8.0,3.0,8.0,11.0,11.0,27.0,1.0,11.0,33.0,8.0,38.0,11.0,36.0,30.0,4.0,7.0,46.0,11.0,4.0,30.0,8.0,2.0,32.0,10.0,9.0,20.0,28.0,11.0,8.0,10.0,13.0,43.0,11.0,11.0,9.0,37.0,13.0,35.0,11.0,4.0,11.0,21.0,10.0,11.0,16.0,28.0,9.0,25.0,11.0,11.0,36.0,2.0,9.0,1.0,41.0,10.0,33.0,4.0,37.0,10.0,9.0,16.0,12.0,33.0,22.0,11.0,11.0,10.0,13.0,9.0,17.0,30.0,11.0,46.0,20.0,11.0,34.0,26.0,11.0,13.0,21.0,19.0,31.0,37.0,24.0,10.0,47.0,3.0,11.0,24.0,11.0,39.0,47.0,26.0,8.0,33.0,3.0,10.0,21.0,11.0,8.0,24.0,11.0,6.0,1.0,11.0,11.0,35.0,11.0,3.0,11.0,27.0,27.0,47.0,11.0,49.0,11.0,25.0,11.0,27.0,11.0,11.0,36.0,43.0,11.0,14.0,7.0,6.0,33.0,11.0,2.0,29.0,3.0,32.0,11.0,25.0,11.0,11.0,6.0,19.0,30.0,26.0,4.0,10.0,11.0,11.0,9.0,3.0,25.0,39.0,3.0,5.0,20.0,19.0,3.0,31.0,11.0,26.0,7.0,11.0,11.0,19.0,27.0,38.0,10.0,34.0,11.0,18.0,11.0,25.0,11.0,24.0,5.0,25.0,4.0,3.0,12.0,8.0,7.0,10.0,18.0,7.0,7.0,11.0,11.0,28.0,39.0,10.0,14.0,7.0,10.0,30.0,7.0,28.0,43.0,3.0,26.0,11.0,32.0,19.0,8.0,19.0,8.0,11.0,8.0,29.0,48.0,21.0,9.0,3.0,26.0,46.0,7.0,26.0,11.0,28.0,11.0,40.0,1.0,5.0,26.0,9.0,26.0,10.0,28.0,10.0,22.0,1.0,11.0,11.0,10.0,11.0,1.0,33.0,14.0,1.0,16.0,11.0,44.0,9.0,9.0,19.0,45.0,4.0,8.0,8.0,10.0,8.0,46.0,5.0,38.0,11.0,11.0,9.0,20.0,10.0,37.0,26.0,8.0,1.0,35.0,10.0,10.0,16.0,9.0,3.0,33.0,9.0,7.0,1.0,11.0,11.0,14.0,34.0,9.0,7.0,10.0,24.0,1.0,12.0,11.0,6.0,10.0,6.0,4.0,5.0,10.0,11.0,10.0,9.0,16.0,32.0,31.0,11.0,49.0,8.0,11.0,38.0,13.0,20.0,1.0,9.0,24.0,18.0,8.0,17.0,11.0,46.0,10.0,48.0,21.0,5.0,11.0,25.0,48.0,23.0,12.0,31.0,11.0,11.0,34.0,19.0,11.0,10.0,11.0,8.0,34.0,23.0,11.0,11.0,9.0,9.0,9.0,7.0,9.0,13.0,10.0,11.0,15.0,9.0,3.0,31.0,27.0,11.0,7.0,10.0,22.0,10.0,11.0,11.0,11.0,7.0,11.0,11.0,10.0,7.0,11.0,37.0,8.0,10.0,21.0,47.0,8.0,13.0,21.0,48.0,15.0,9.0,1.0,11.0,1.0,1.0,30.0,8.0,11.0,21.0,11.0,27.0,11.0,32.0,11.0,8.0,29.0,11.0,1.0,9.0,6.0,11.0,8.0,20.0,19.0,36.0,49.0,13.0,11.0,31.0,4.0,5.0,11.0,30.0,11.0,33.0,20.0,20.0,9.0,31.0,47.0,19.0,9.0,9.0,14.0,6.0,47.0,11.0,27.0,46.0,31.0,6.0,9.0,3.0,45.0,37.0,11.0,8.0,8.0,20.0,25.0,44.0,11.0,11.0,7.0,10.0,4.0,47.0,6.0,32.0,4.0,11.0,11.0,1.0,45.0,11.0,23.0,3.0,11.0,17.0,9.0,1.0,10.0,11.0,9.0,30.0,14.0,6.0,3.0,11.0,9.0,11.0,28.0,43.0,31.0,11.0,9.0,6.0,11.0,45.0,5.0,47.0,17.0,8.0,31.0,8.0,11.0,10.0,43.0,3.0,11.0,31.0,10.0,1.0,10.0,2.0,9.0,4.0,37.0,9.0,21.0,5.0,21.0,10.0,11.0,1.0,48.0,11.0,1.0,11.0,22.0,10.0,32.0,10.0,41.0,11.0,11.0,1.0,14.0,3.0,26.0,11.0,8.0,21.0,47.0,10.0,39.0,36.0,4.0,11.0,18.0,8.0,1.0,33.0,8.0,5.0,35.0,11.0,2.0,11.0,8.0,7.0,4.0,11.0,1.0,33.0,3.0,20.0,8.0,44.0,27.0,10.0,11.0,46.0,17.0,46.0,10.0,47.0,11.0,7.0,10.0,28.0,1.0,24.0,46.0,3.0,11.0,45.0,47.0,34.0,47.0,1.0,1.0,47.0,8.0,4.0,9.0,10.0,7.0,14.0,44.0,37.0,37.0,2.0,27.0,44.0,11.0,9.0,8.0,21.0,15.0,34.0,5.0,9.0,11.0,11.0,12.0,29.0,8.0,11.0,41.0,12.0,11.0,10.0,9.0,11.0,8.0,21.0,11.0,11.0,4.0,13.0,33.0,30.0,30.0,1.0,25.0,8.0,25.0,20.0,1.0,40.0,48.0,22.0,10.0,28.0,1.0,21.0,22.0,46.0,16.0,20.0,6.0,10.0,6.0,17.0,9.0,9.0,14.0,11.0,17.0,21.0,11.0,11.0,20.0,11.0,10.0,17.0,38.0,11.0,27.0,13.0,8.0,11.0,10.0,29.0,16.0,10.0,24.0,10.0,11.0,33.0,26.0,7.0,22.0,8.0,25.0,7.0,11.0,7.0,33.0,8.0,4.0,38.0,10.0,9.0,10.0,2.0,9.0,37.0,9.0,32.0,1.0,12.0,13.0,11.0,6.0,47.0,10.0,1.0,47.0,29.0,10.0,5.0,10.0,6.0,11.0,6.0,6.0,8.0,17.0,16.0,11.0,11.0,9.0,11.0,11.0,11.0,27.0,34.0,16.0,10.0,33.0,11.0,16.0,28.0,19.0,19.0,46.0,28.0,7.0,11.0,12.0,11.0,38.0,9.0,15.0,8.0,26.0,11.0,23.0,10.0,9.0,9.0,20.0,37.0,31.0,10.0,21.0,12.0,11.0,24.0,44.0,11.0,11.0,32.0,12.0,40.0,36.0,3.0,33.0,14.0,6.0,10.0,23.0,47.0,33.0,29.0,25.0,11.0,27.0,16.0,15.0,28.0,43.0,28.0,27.0,6.0,7.0,29.0,18.0,2.0,14.0,29.0,9.0,8.0,4.0,11.0,10.0,16.0,11.0,11.0,22.0,11.0,36.0,9.0,35.0,4.0,8.0,30.0,32.0,1.0,10.0,11.0,11.0,20.0,11.0,27.0,37.0,47.0,10.0,9.0,1.0,34.0,40.0,11.0,6.0,18.0,5.0,11.0,21.0,3.0,10.0,11.0,1.0,38.0,11.0,24.0,10.0,11.0,8.0,10.0,10.0,33.0,5.0,11.0,8.0,37.0,11.0,2.0,11.0,46.0,8.0,15.0,10.0,3.0,12.0,7.0,10.0,7.0,28.0,33.0,36.0,28.0,3.0,36.0,11.0,12.0,8.0,35.0,30.0,34.0,34.0,8.0,15.0,7.0,11.0,12.0,11.0,11.0,6.0,30.0,23.0,46.0,13.0,25.0,11.0,24.0,47.0,47.0,8.0,11.0,9.0,18.0,6.0,23.0,11.0,36.0,8.0,23.0,8.0,15.0,33.0,29.0,11.0,10.0,27.0,1.0,26.0,34.0,11.0,11.0,26.0,32.0,11.0,28.0,11.0,10.0,13.0,14.0,40.0,10.0,13.0,25.0,11.0,11.0,9.0,4.0,9.0,8.0,16.0,34.0,23.0,33.0,7.0,31.0,27.0,40.0,30.0,43.0,11.0,10.0,10.0,8.0,6.0,31.0,24.0,1.0,23.0,11.0,32.0,7.0,18.0,19.0,9.0,9.0,11.0,11.0,10.0,32.0,12.0,10.0,6.0,1.0,16.0,35.0,9.0,25.0,10.0,4.0,34.0,11.0,11.0,9.0,11.0,30.0,5.0,8.0,11.0,9.0,9.0,11.0,8.0,25.0,10.0,1.0,9.0,25.0,47.0,21.0,43.0,6.0,8.0,31.0,11.0,1.0,3.0,7.0,11.0,9.0,11.0,38.0,25.0,11.0,33.0,1.0,32.0,9.0,10.0,40.0,22.0,5.0,10.0,9.0,39.0,46.0,47.0,19.0,33.0,11.0,33.0,10.0,22.0,8.0,7.0,32.0,10.0,7.0,19.0,17.0,4.0,35.0,31.0,14.0,11.0,8.0,30.0,24.0,19.0,25.0,5.0,11.0,9.0,15.0,16.0,10.0,24.0,32.0,5.0,13.0,23.0,35.0,10.0,10.0,10.0,1.0,11.0,2.0,10.0,28.0,21.0,5.0,13.0,8.0,35.0,10.0,33.0,11.0,10.0,20.0,9.0,10.0,25.0,9.0,16.0,49.0,14.0,10.0,10.0,3.0,11.0,48.0,9.0,8.0,10.0,3.0,14.0,46.0,48.0,8.0,10.0,30.0,11.0,9.0,7.0,11.0,43.0,16.0,7.0,31.0,8.0,11.0,44.0,11.0,10.0,46.0,50.0,10.0,1.0,19.0,30.0,16.0,21.0,9.0,11.0,31.0,29.0,28.0,3.0,20.0,38.0,10.0,18.0,12.0,7.0,12.0,24.0,11.0,5.0,37.0,11.0,11.0,7.0,2.0,7.0,2.0,11.0,31.0,27.0,11.0,16.0,3.0,11.0,25.0,7.0,11.0,9.0,10.0,9.0,5.0,13.0,11.0,11.0,25.0,40.0,47.0,20.0,11.0,12.0,7.0,29.0,11.0,33.0,9.0,18.0,39.0,25.0,17.0,17.0,34.0,27.0,10.0,21.0,11.0,9.0,17.0,24.0,2.0,37.0,17.0,6.0,11.0,11.0,6.0,10.0,25.0,24.0,21.0,19.0,10.0,28.0,11.0,6.0,10.0,32.0,11.0,7.0,21.0,10.0,4.0,29.0,14.0,22.0,40.0,11.0,27.0,11.0,17.0,32.0,6.0,5.0,11.0,48.0,29.0,11.0,11.0,10.0,9.0,11.0,31.0,7.0,47.0,27.0,32.0,8.0,1.0,7.0,23.0,4.0,1.0,29.0,24.0,12.0,10.0,3.0,4.0,5.0,11.0,11.0,22.0,25.0,36.0,20.0,5.0,1.0,9.0,9.0,7.0,10.0,4.0,36.0,11.0,33.0,47.0,18.0,10.0,23.0,36.0,35.0,11.0,47.0,11.0,10.0,12.0,5.0,11.0,21.0,18.0,31.0,10.0,28.0,10.0,10.0,16.0,21.0,11.0,9.0,7.0,11.0,11.0,15.0,38.0,30.0,7.0,28.0,15.0,32.0,7.0,32.0,2.0,21.0,11.0,11.0,31.0,40.0,1.0,6.0,12.0,21.0,22.0,7.0,10.0,33.0,24.0,39.0,4.0,18.0,3.0,2.0,23.0,36.0,30.0,10.0,25.0,21.0,2.0,1.0,8.0,11.0,9.0,9.0,37.0,11.0,3.0,47.0,11.0,47.0,4.0,40.0,11.0,6.0,9.0,37.0,29.0,49.0,23.0,34.0,11.0,10.0,11.0,32.0,10.0,8.0,19.0,5.0,21.0,5.0,12.0,9.0,9.0,26.0,27.0,3.0,13.0,37.0,19.0,8.0,23.0,8.0,6.0,11.0,36.0,7.0,30.0,31.0,6.0,2.0,15.0,26.0,6.0,6.0,22.0,7.0,9.0,38.0,9.0,8.0,10.0,3.0,11.0,8.0,43.0,10.0,11.0,49.0,18.0,4.0,2.0,11.0,21.0,11.0,14.0,16.0,11.0,10.0,13.0,35.0,9.0,8.0,37.0,7.0,15.0,35.0,1.0,17.0,6.0,11.0,5.0,23.0,10.0,15.0,11.0,11.0,22.0,11.0,25.0,10.0,9.0,7.0,7.0,24.0,8.0,9.0,16.0,32.0,12.0,3.0,2.0,11.0,22.0,4.0,9.0,11.0,11.0,4.0,16.0,11.0,21.0,26.0,9.0,10.0,33.0,17.0,11.0,21.0,7.0,8.0,9.0,11.0,11.0,23.0,10.0,17.0,20.0,11.0,28.0,11.0,37.0,14.0,2.0,32.0,4.0,32.0,33.0,4.0,47.0,14.0,33.0,11.0,11.0,2.0,9.0,11.0,18.0,40.0,10.0,8.0,10.0,12.0,16.0,10.0,27.0,6.0,1.0,24.0,27.0,12.0,11.0,27.0,9.0,7.0,38.0,37.0,17.0,10.0,13.0,10.0,31.0,11.0,16.0,8.0,1.0,9.0,3.0,7.0,10.0,35.0,43.0,11.0,20.0,1.0,24.0,46.0,6.0,16.0,23.0,30.0,1.0,11.0,24.0,31.0,11.0,8.0,9.0,32.0,31.0,33.0,10.0,43.0,45.0,11.0,11.0,2.0,4.0,36.0,11.0,48.0,11.0,30.0,11.0,31.0,32.0,4.0,11.0,43.0,37.0,11.0,26.0,11.0,33.0,7.0,11.0,32.0,46.0,11.0,1.0,28.0,32.0,9.0,28.0,36.0,3.0,29.0,27.0,12.0,21.0,30.0,33.0,9.0,6.0,6.0,6.0,6.0,25.0,15.0,16.0,27.0,8.0,11.0,9.0,11.0,4.0,11.0,29.0,23.0,20.0,30.0,3.0,1.0,33.0,11.0,28.0,47.0,30.0,32.0,7.0,30.0,11.0,41.0,45.0,13.0,10.0,11.0,48.0,9.0,10.0,6.0,10.0,10.0,17.0,9.0,12.0,4.0,29.0,2.0,6.0,11.0,11.0,5.0,29.0,32.0,10.0,47.0,10.0,16.0,22.0,43.0,27.0,7.0,43.0,36.0,19.0,17.0,10.0,21.0,14.0,20.0,24.0,10.0,32.0,10.0,11.0,6.0,17.0,25.0,9.0,5.0,47.0,2.0,13.0,20.0,26.0,25.0,8.0,11.0,11.0,43.0,11.0,17.0,10.0,32.0,9.0,33.0,6.0,34.0,10.0,11.0,46.0,8.0,46.0,19.0,19.0,32.0,7.0,8.0,11.0,11.0,32.0,46.0,9.0,9.0,8.0,35.0,10.0,10.0,11.0,10.0,35.0,19.0,11.0,1.0,11.0,10.0,38.0,31.0,10.0,11.0,27.0,33.0,2.0,36.0,32.0,28.0,13.0,5.0,10.0,13.0,11.0,11.0,11.0,6.0,36.0,11.0,10.0,11.0,38.0,11.0,18.0,8.0,11.0,6.0,10.0,25.0,13.0,4.0,10.0,14.0,8.0,8.0,10.0,10.0,8.0,10.0,42.0,27.0,15.0,29.0,11.0,3.0,34.0,29.0,37.0,1.0,9.0,4.0,46.0,11.0,9.0,11.0,8.0,5.0,11.0,46.0,18.0,48.0,22.0,8.0,33.0,32.0,28.0,30.0,46.0,6.0,46.0,11.0,1.0,11.0,5.0,30.0,30.0,6.0,48.0,16.0,11.0,15.0,25.0,11.0,11.0,10.0,11.0,8.0,13.0,30.0,11.0,11.0,21.0,11.0,9.0,1.0,24.0,11.0,24.0,27.0,18.0,9.0,16.0,5.0,27.0,34.0,11.0,47.0,12.0,28.0,41.0,8.0,28.0,17.0,36.0,36.0,3.0,17.0,48.0,26.0,7.0,36.0,9.0,38.0,9.0,10.0,13.0,16.0,36.0,10.0,11.0,23.0,9.0,2.0,27.0,7.0,20.0,11.0,6.0,9.0,7.0,2.0,17.0,11.0,39.0,9.0,9.0,10.0,21.0,29.0,11.0,31.0,3.0,12.0,32.0,23.0,8.0,43.0,1.0,33.0,8.0,45.0,11.0,36.0,10.0,11.0,33.0,32.0,9.0,5.0,9.0,18.0,10.0,9.0,20.0,16.0,10.0,11.0,2.0,10.0,11.0,10.0,11.0,33.0,7.0,10.0,11.0,12.0,28.0,11.0,24.0,11.0,4.0,29.0,28.0,27.0,48.0,32.0,5.0,39.0,46.0,1.0,34.0,32.0,21.0,12.0,5.0,9.0,10.0,27.0,18.0,43.0,18.0,21.0,7.0,24.0,10.0,9.0,7.0,8.0,2.0,28.0,11.0,6.0,11.0,7.0,7.0,27.0,11.0,8.0,23.0,23.0,30.0,13.0,13.0,34.0,40.0,24.0,11.0,24.0,9.0,11.0,23.0,11.0,27.0,8.0,18.0,33.0,4.0,11.0,35.0,7.0,10.0,13.0,27.0,11.0,31.0,26.0,22.0,11.0,22.0,16.0,9.0,4.0,6.0,10.0,20.0,8.0,9.0,30.0,10.0,11.0,19.0,8.0,36.0,11.0,8.0,7.0,29.0,5.0,29.0,12.0,1.0,11.0,9.0,17.0,10.0,31.0,24.0,30.0,21.0,14.0,11.0,11.0,4.0,10.0,11.0,17.0,15.0,11.0,30.0,11.0,11.0,11.0,11.0,11.0,11.0,11.0,21.0,40.0,1.0,47.0,24.0,7.0,38.0,12.0,10.0,11.0,11.0,23.0,9.0,10.0,11.0,12.0,4.0,1.0,2.0,23.0,31.0,11.0,12.0,11.0,5.0,11.0,11.0,8.0,8.0,8.0,40.0,11.0,11.0,11.0,9.0,17.0,10.0,9.0,11.0,11.0,10.0,1.0,9.0,11.0,4.0,1.0,2.0,11.0,10.0,12.0,48.0,9.0,11.0,7.0,1.0,5.0,9.0,9.0,37.0,38.0,10.0,4.0,11.0,7.0,38.0,8.0,8.0,40.0,22.0,11.0,25.0,2.0,8.0,47.0,5.0,34.0,7.0,25.0,26.0,10.0,1.0,8.0,3.0,22.0,2.0,4.0,8.0,47.0,11.0,11.0,8.0,10.0,11.0,26.0,11.0,38.0,8.0,11.0,12.0,7.0,11.0,11.0,31.0,37.0,13.0,11.0,5.0,11.0,11.0,45.0,5.0,8.0,6.0,11.0,12.0,20.0,11.0,33.0,10.0,35.0,9.0,22.0,28.0,10.0,36.0,30.0,28.0,10.0,11.0,5.0,4.0,28.0,8.0,8.0,11.0,37.0,5.0,2.0,8.0,10.0,11.0,20.0,11.0,31.0,11.0,4.0,11.0,6.0,2.0,7.0,23.0,23.0,4.0,7.0,10.0,37.0,32.0,6.0,43.0,5.0,47.0,11.0,9.0,6.0,39.0,47.0,30.0,11.0,48.0,32.0,43.0,1.0,8.0,8.0,38.0,37.0,18.0,16.0,14.0,24.0,21.0,11.0,37.0,11.0,10.0,6.0,33.0,11.0,21.0,2.0,11.0,10.0,47.0,36.0,6.0,5.0,29.0,8.0,7.0,29.0,35.0,46.0,8.0,27.0,37.0,10.0,1.0,11.0,44.0,10.0,10.0,3.0,9.0,4.0,11.0,18.0,7.0,11.0,10.0,11.0,11.0,11.0,10.0,11.0,28.0,34.0,19.0,35.0,11.0,33.0,9.0,11.0,17.0,1.0,38.0,30.0,11.0,11.0,1.0,10.0,1.0,11.0,11.0,4.0,1.0,1.0,3.0,35.0,34.0,3.0,20.0,1.0,12.0,10.0,23.0,15.0,11.0,11.0,13.0,11.0,28.0,8.0,3.0,9.0,11.0,46.0,2.0,6.0,20.0,37.0,36.0,11.0,10.0,24.0,34.0,32.0,5.0,31.0,22.0,24.0,20.0,12.0,17.0,13.0,22.0,14.0,8.0,43.0,11.0,2.0,1.0,24.0,11.0,33.0,6.0,10.0,16.0,35.0,11.0,31.0,43.0,9.0,9.0,33.0,8.0,46.0,15.0,19.0,34.0,45.0,15.0,2.0,32.0,29.0,20.0,3.0,11.0,8.0,19.0,10.0,11.0,11.0,31.0,23.0,1.0,25.0,11.0,9.0,11.0,21.0,11.0,15.0,27.0,1.0,32.0,14.0,2.0,23.0,3.0,28.0,21.0,1.0,6.0,1.0,3.0,9.0,10.0,47.0,12.0,23.0,11.0,32.0,29.0,46.0,28.0,8.0,36.0,45.0,9.0,33.0,32.0,9.0,11.0,33.0,10.0,10.0,8.0,35.0,10.0,24.0,1.0,9.0,37.0,6.0,28.0,27.0,7.0,6.0,7.0,1.0,26.0,1.0,11.0,7.0,30.0,11.0,45.0,6.0,11.0,7.0,8.0,11.0,32.0,11.0,45.0,33.0,4.0,33.0,8.0,11.0,38.0,11.0,47.0,28.0,5.0,47.0,38.0,11.0,30.0,31.0,11.0,20.0,28.0,18.0,5.0,5.0,49.0,9.0,34.0,7.0,40.0,48.0,18.0,7.0,21.0,8.0,10.0,9.0,6.0,11.0,8.0,10.0,22.0,32.0,11.0,23.0,47.0,11.0,18.0,4.0,27.0,1.0,9.0,17.0,22.0,4.0,19.0,36.0,29.0,9.0,46.0,11.0,23.0,11.0,11.0,5.0,24.0,30.0,30.0,6.0,4.0,11.0,10.0,15.0,9.0,16.0,8.0,11.0,21.0,47.0,17.0,32.0,11.0,1.0,20.0,47.0,21.0,43.0,26.0,2.0,26.0,5.0,8.0,10.0,13.0,4.0,10.0,32.0,19.0,46.0,11.0,46.0,23.0,28.0,33.0,5.0,5.0,11.0,10.0,7.0,38.0,15.0,39.0,4.0,9.0,47.0,23.0,10.0,11.0,14.0,6.0,10.0,7.0,6.0,9.0,29.0,19.0,1.0,11.0,31.0,9.0,11.0,9.0,10.0,1.0,8.0,20.0,4.0,26.0,11.0,8.0,14.0,2.0,33.0,27.0,33.0,5.0,47.0,47.0,3.0,1.0,10.0,5.0,19.0,7.0,5.0,11.0,11.0,14.0,37.0,4.0,31.0,28.0,24.0,4.0,19.0,2.0,12.0,26.0,11.0,16.0,10.0,31.0,28.0,21.0,15.0,7.0,36.0,8.0,13.0,25.0,22.0,11.0,5.0,20.0,8.0,35.0,10.0,30.0,11.0,27.0,11.0,5.0,28.0,36.0,10.0,24.0,12.0,11.0,11.0,32.0,10.0,11.0,11.0,27.0,10.0,23.0,11.0,15.0,32.0,6.0,25.0,9.0,10.0,14.0,11.0,12.0,7.0,3.0,30.0,23.0,23.0,11.0,11.0,21.0,1.0,13.0,13.0,43.0,8.0,11.0,9.0,5.0,32.0,19.0,31.0,36.0,18.0,18.0,31.0,47.0,11.0,1.0,11.0,10.0,11.0,47.0,10.0,11.0,29.0,1.0,11.0,7.0,15.0,12.0,44.0,11.0,11.0,11.0,36.0,39.0,26.0,6.0,27.0,9.0,10.0,33.0,7.0,24.0,43.0,6.0,26.0,26.0,30.0,8.0,31.0,1.0,11.0,27.0,11.0,13.0,47.0,47.0,32.0,12.0,17.0,22.0,6.0,46.0,31.0,34.0,8.0,14.0,10.0,11.0,12.0,8.0,24.0,30.0,18.0,7.0,18.0,17.0,30.0,9.0,11.0,36.0,10.0,11.0,22.0,2.0,12.0,10.0,11.0,27.0,32.0,8.0,30.0,13.0,41.0,12.0,11.0,4.0,2.0,30.0,11.0,16.0,31.0,47.0,19.0,11.0,47.0,4.0,21.0,10.0,10.0,3.0,12.0,1.0,45.0,11.0,26.0,34.0,22.0,8.0,28.0,32.0,11.0,25.0,43.0,30.0,29.0,8.0,4.0,21.0,11.0,1.0,46.0,7.0,6.0,12.0,18.0,8.0,33.0,33.0,34.0,49.0,1.0,38.0,2.0,24.0,21.0,17.0,10.0,27.0,11.0,33.0,19.0,10.0,19.0,9.0,19.0,29.0,16.0,47.0,44.0,49.0,8.0,1.0,11.0,15.0,18.0,9.0,34.0,23.0,27.0,32.0,11.0,49.0,33.0,6.0,41.0,1.0,20.0,3.0,9.0,8.0,31.0,7.0,15.0,6.0,48.0,8.0,34.0,40.0,1.0,10.0,6.0,15.0,18.0,7.0,33.0,11.0,3.0,10.0,31.0,10.0,7.0,10.0,2.0,23.0,17.0,11.0,10.0,11.0,10.0,11.0,27.0,26.0,10.0,47.0,5.0,28.0,47.0,10.0,17.0,11.0,10.0,9.0,27.0,48.0,49.0,9.0,9.0,8.0,36.0,10.0,16.0,12.0,29.0,15.0,20.0,11.0,16.0,31.0,46.0,1.0,20.0,11.0,24.0,27.0,11.0,10.0,10.0,11.0,6.0,3.0,9.0,46.0,11.0,2.0,39.0,10.0,11.0,3.0,3.0,37.0,10.0,32.0,18.0,11.0,16.0,11.0,17.0,24.0,10.0,14.0,12.0,4.0,11.0,3.0,6.0,11.0,9.0,1.0,18.0,36.0,47.0,11.0,6.0,18.0,13.0,1.0,30.0,30.0,10.0,23.0,10.0,3.0,27.0,11.0,5.0,17.0,3.0,9.0,3.0,21.0,11.0,9.0,5.0,10.0,10.0,21.0,25.0,4.0,21.0,27.0,4.0,12.0,4.0,33.0,1.0,8.0,23.0,26.0,10.0,11.0,18.0,45.0,11.0,1.0,9.0,37.0,11.0,6.0,10.0,31.0,9.0,23.0,34.0,36.0,43.0,7.0,1.0,36.0,8.0,11.0,21.0,11.0,10.0,38.0,19.0,10.0,43.0,4.0,7.0,34.0,11.0,9.0,21.0,5.0,1.0,11.0,2.0,28.0,7.0,5.0,9.0,16.0,3.0,1.0,1.0,34.0,11.0,9.0,21.0,25.0,8.0,28.0,11.0,11.0,9.0,11.0,10.0,19.0,11.0,20.0,10.0,11.0,30.0,9.0,2.0,23.0,10.0,34.0,21.0,11.0,29.0,8.0,47.0,4.0,7.0,31.0,16.0,16.0,11.0,20.0,11.0,16.0,11.0,39.0,10.0,28.0,9.0,9.0,21.0,10.0,10.0,20.0,30.0,11.0,4.0,25.0,25.0,9.0,8.0,10.0,27.0,10.0,21.0,2.0,4.0,11.0,27.0,37.0,9.0,5.0,8.0,25.0,2.0,11.0,10.0,30.0,32.0,15.0,11.0,1.0,11.0,11.0,32.0,43.0,10.0,11.0,8.0,33.0,10.0,3.0,9.0,31.0,7.0,10.0,28.0,11.0,10.0,6.0,27.0,9.0,20.0,11.0,13.0,7.0,11.0,10.0,46.0,45.0,11.0,11.0,44.0,5.0,5.0,11.0,12.0,11.0,23.0,7.0,12.0,6.0,10.0,11.0,21.0,11.0,9.0,27.0,25.0,18.0,4.0,9.0,9.0,17.0,19.0,4.0,22.0,46.0,42.0,11.0,42.0,10.0,40.0,34.0,30.0,6.0,33.0,32.0,11.0,8.0,11.0,13.0,21.0,18.0,12.0,3.0,11.0,11.0,1.0,11.0,1.0,26.0,11.0,9.0,1.0,11.0,40.0,5.0,11.0,39.0,10.0,11.0,11.0,29.0,11.0,29.0,11.0,19.0,11.0,10.0,31.0,11.0,10.0,3.0,32.0,19.0,24.0,2.0,8.0,8.0,22.0,10.0,20.0,3.0,11.0,2.0,48.0,28.0,17.0,21.0,16.0,11.0,26.0,8.0,9.0,5.0,1.0,18.0,6.0,30.0,37.0,32.0,48.0,10.0,24.0,1.0,9.0,2.0,11.0,4.0,11.0,9.0,47.0,10.0,9.0,46.0,13.0,7.0,2.0,27.0,8.0,6.0,21.0,4.0,11.0,2.0,11.0,43.0,3.0,6.0,32.0,6.0,11.0,8.0,32.0,11.0,11.0,7.0,5.0,31.0,5.0,11.0,17.0,10.0,27.0,15.0,30.0,11.0,10.0,25.0,11.0,10.0,43.0,20.0,47.0,7.0,1.0,31.0,31.0,1.0,29.0,11.0,9.0,5.0,5.0,11.0,9.0,29.0,11.0,7.0,45.0,47.0,7.0,37.0,11.0,25.0,6.0,7.0,45.0,3.0,48.0,8.0,11.0,6.0,1.0,7.0,8.0,23.0,31.0,11.0,8.0,11.0,11.0,38.0,4.0,47.0,4.0,6.0,9.0,19.0,3.0,22.0,3.0,31.0,11.0,22.0,7.0,11.0,7.0,5.0,11.0,37.0,8.0,11.0,30.0,48.0,17.0,28.0,28.0,23.0,4.0,3.0,30.0,27.0,11.0,11.0,35.0,26.0,7.0,11.0,7.0,38.0,26.0,25.0,11.0,11.0,37.0,28.0,9.0,32.0,8.0,22.0,19.0,3.0,15.0,10.0,3.0,16.0,11.0,27.0,11.0,26.0,10.0,19.0,39.0,6.0,17.0,17.0,40.0,11.0,29.0,2.0,11.0,11.0,4.0,38.0,30.0,38.0,10.0,46.0,11.0,10.0,47.0,10.0,28.0,10.0,1.0,10.0,14.0,46.0,10.0,11.0,1.0,31.0,11.0,27.0,23.0,11.0,45.0,18.0,15.0,10.0,13.0,2.0,10.0,1.0,24.0,37.0,30.0,29.0,20.0,40.0,10.0,11.0,15.0,5.0,46.0,28.0,47.0,14.0,10.0,11.0,29.0,17.0,5.0,38.0,9.0,24.0,11.0,10.0,31.0,16.0,9.0,37.0,22.0,31.0,23.0,12.0,36.0,4.0,11.0,9.0,21.0,12.0,43.0,3.0,8.0,10.0,39.0,32.0,21.0,10.0,11.0,38.0,47.0,10.0,47.0,9.0,9.0,11.0,33.0,12.0,1.0,29.0,11.0,6.0,26.0,26.0,12.0,3.0,10.0,20.0,22.0,8.0,49.0,11.0,32.0,8.0,10.0,7.0,27.0,9.0,20.0,7.0,10.0,10.0,3.0,18.0,9.0,11.0,11.0,5.0,37.0,10.0,9.0,31.0,8.0,3.0,5.0,38.0,36.0,3.0,4.0,20.0,10.0,9.0,11.0,30.0,38.0,11.0,36.0,11.0,3.0,21.0,3.0,27.0,7.0,32.0,11.0,34.0,11.0,11.0,11.0,19.0,4.0,20.0,22.0,11.0,2.0,3.0,8.0,10.0,40.0,9.0,4.0,36.0,11.0,3.0,34.0,11.0,7.0,28.0,20.0,13.0,9.0,32.0,9.0,3.0,9.0,12.0,9.0,31.0,2.0,22.0,3.0,21.0,10.0,19.0,8.0,21.0,11.0,31.0,37.0,8.0,15.0,22.0,27.0,19.0,21.0,26.0,8.0,11.0,7.0,30.0,10.0,49.0,5.0,36.0,9.0,15.0,8.0,4.0,8.0,5.0,37.0,6.0,20.0,38.0,41.0,5.0,32.0,8.0,11.0,10.0,9.0,4.0,11.0,26.0,13.0,9.0,11.0,26.0,18.0,11.0,11.0,5.0,18.0,11.0,47.0,11.0,11.0,29.0,9.0,3.0,11.0,11.0,44.0,23.0,2.0,9.0,11.0,15.0,35.0,47.0,47.0,26.0,8.0,26.0,30.0,12.0,12.0,11.0,18.0,33.0,22.0,8.0,7.0,47.0,46.0,1.0,12.0,27.0,11.0,15.0,11.0,23.0,11.0,11.0,44.0,11.0,25.0,8.0,2.0,47.0,9.0,13.0,11.0,12.0,24.0,7.0,11.0,20.0,13.0,26.0,14.0,19.0,8.0,10.0,43.0,16.0,8.0,8.0,11.0,48.0,11.0,18.0,5.0,21.0,45.0,11.0,17.0,5.0,11.0,26.0,46.0,30.0,6.0,10.0,1.0,49.0,23.0,40.0,34.0,10.0,9.0,38.0,38.0,31.0,6.0,15.0,9.0,24.0,11.0,16.0,9.0,11.0,12.0,9.0,29.0,8.0,8.0,27.0,1.0,9.0,26.0,10.0,11.0,11.0,23.0,24.0,32.0,24.0,10.0,12.0,47.0,4.0,11.0,21.0,26.0,4.0,4.0,21.0,37.0,6.0,48.0,3.0,11.0,29.0,9.0,3.0,20.0,9.0,35.0,11.0,4.0,11.0,7.0,48.0,12.0,10.0,11.0,30.0,10.0,43.0,7.0,33.0,11.0,40.0,9.0,29.0,9.0,8.0,35.0,30.0,31.0,9.0,15.0,10.0,13.0,28.0,11.0,27.0,47.0,19.0,9.0,1.0,11.0,24.0,11.0,32.0,28.0,5.0,10.0,7.0,38.0,38.0,30.0,11.0,11.0,11.0,20.0,11.0,28.0,34.0,30.0,34.0,5.0,11.0,15.0,31.0,9.0,33.0,10.0,9.0,43.0,35.0,14.0,11.0,11.0,24.0,44.0,6.0,11.0,33.0,9.0,5.0,10.0,11.0,11.0,27.0,31.0,6.0,31.0,18.0,8.0,3.0,36.0,12.0,23.0,11.0,47.0,4.0,11.0,43.0,9.0,31.0,46.0,11.0,11.0,18.0,29.0,11.0,23.0,11.0,11.0,6.0,2.0,38.0,11.0,1.0,4.0,11.0,21.0,10.0,36.0,45.0,9.0,11.0,11.0,11.0,5.0,20.0,11.0,24.0,25.0,2.0,23.0,11.0,12.0,11.0,11.0,8.0,26.0,2.0,15.0,8.0,43.0,11.0,23.0,9.0,11.0,7.0,20.0,9.0,48.0,26.0,27.0,6.0,16.0,19.0,9.0,7.0,8.0,33.0,21.0,12.0,11.0,10.0,24.0,27.0,36.0,13.0,16.0,27.0,30.0,21.0,34.0,10.0,25.0,11.0,25.0,4.0,46.0,32.0,26.0,6.0,18.0,21.0,11.0,11.0,41.0,32.0,8.0,46.0,9.0,11.0,14.0,5.0,11.0,11.0,11.0,36.0,12.0,8.0,11.0,8.0,19.0,3.0,29.0,34.0,14.0,1.0,11.0,9.0,47.0,26.0,11.0,5.0,7.0,11.0,22.0,34.0,36.0,10.0,29.0,13.0,3.0,8.0,8.0,13.0,28.0,32.0,11.0,4.0,5.0,22.0,11.0,8.0,30.0,9.0,2.0,8.0,1.0,9.0,16.0,9.0,10.0,9.0,29.0,27.0,11.0,42.0,12.0,28.0,11.0,12.0,2.0,34.0,46.0,34.0,11.0,28.0,21.0,24.0,5.0,11.0,36.0,16.0,10.0,35.0,7.0,5.0,9.0,35.0,19.0,10.0,11.0,31.0,6.0,14.0,18.0,31.0,5.0,11.0,2.0,8.0,10.0,12.0,8.0,9.0,9.0,8.0,23.0,48.0,1.0,11.0,10.0,30.0,10.0,6.0,18.0,10.0,30.0,37.0,10.0,8.0,47.0,4.0,16.0,29.0,11.0,10.0,1.0,31.0,10.0,1.0,17.0,47.0,9.0,11.0,36.0,8.0,9.0,35.0,11.0,47.0,13.0,21.0,11.0,27.0,11.0,4.0,11.0,11.0,11.0,10.0,25.0,10.0,9.0,10.0,33.0,6.0,21.0,12.0,7.0,1.0,11.0,10.0,8.0,8.0,1.0,11.0,47.0,7.0,5.0,13.0,2.0,6.0,11.0,47.0,9.0,11.0,1.0,25.0,23.0,7.0,21.0,16.0,6.0,37.0,28.0,11.0,8.0,4.0,16.0,48.0,27.0,12.0,21.0,11.0,2.0,11.0,11.0,4.0,11.0,19.0,1.0,10.0,11.0,10.0,44.0,7.0,31.0,32.0,11.0,21.0,47.0,11.0,28.0,21.0,10.0,12.0,5.0,25.0,9.0,1.0,11.0,4.0,10.0,5.0,11.0,1.0,8.0,20.0,11.0,9.0,18.0,20.0,8.0,17.0,10.0,14.0,14.0,1.0,27.0,11.0,2.0,18.0,19.0,25.0,10.0,18.0,28.0,47.0,26.0,10.0,23.0,10.0,30.0,3.0,11.0,48.0,33.0,41.0,7.0,8.0,11.0,3.0,17.0,11.0,1.0,11.0,4.0,6.0,19.0,12.0,34.0,11.0,9.0,19.0,19.0,3.0,21.0,9.0,12.0,5.0,10.0,11.0,21.0,40.0,33.0,10.0,11.0,11.0,39.0,9.0,8.0,7.0,10.0,11.0,9.0,9.0,32.0,12.0,23.0,2.0,24.0,7.0,34.0,9.0,36.0,20.0,8.0,24.0,10.0,11.0,10.0,33.0,4.0,23.0,2.0,9.0,6.0,1.0,8.0,29.0,47.0,1.0,18.0,5.0,7.0,40.0,32.0,6.0,41.0,17.0,19.0,10.0,8.0,4.0,25.0,38.0,24.0,11.0,7.0,9.0,11.0,8.0,25.0,29.0,32.0,10.0,11.0,5.0,10.0,18.0,11.0,10.0,27.0,43.0,14.0,47.0,32.0,11.0,3.0,21.0,11.0,8.0,5.0,24.0,43.0,20.0,13.0,10.0,19.0,47.0,11.0,8.0,11.0,10.0,2.0,11.0,7.0,11.0,8.0,11.0,33.0,12.0,31.0,16.0,7.0,32.0,2.0,33.0,8.0,3.0,31.0,17.0,47.0,45.0,29.0,10.0,31.0,10.0,11.0,11.0,18.0,8.0,11.0,5.0,11.0,10.0,7.0,11.0,8.0,12.0,10.0,10.0,9.0,5.0,1.0,2.0,11.0,8.0,11.0,30.0,8.0,35.0,26.0,13.0,11.0,9.0,6.0,28.0,11.0,11.0,15.0,36.0,17.0,24.0,2.0,11.0,46.0,2.0,9.0,1.0,7.0,8.0,6.0,24.0,10.0,24.0,45.0,31.0,21.0,7.0,11.0,32.0,11.0,11.0,36.0,4.0,47.0,11.0,29.0,10.0,34.0,11.0,29.0,1.0,27.0,31.0,7.0,27.0,11.0,11.0,11.0,25.0,9.0,34.0,19.0,34.0,29.0,3.0,9.0,11.0,30.0,36.0,30.0,39.0,10.0,15.0,11.0,10.0,11.0,8.0,20.0,30.0,10.0,41.0,42.0,11.0,11.0,31.0,46.0,2.0,8.0,11.0,10.0,4.0,10.0,11.0,24.0,39.0,8.0,10.0,27.0,11.0,26.0,43.0,10.0,6.0,27.0,24.0,24.0,8.0,1.0,3.0,5.0,46.0,3.0,29.0,9.0,14.0,22.0,9.0,46.0,11.0,19.0,13.0,47.0,9.0,30.0,26.0,21.0,10.0,20.0,1.0,34.0,18.0,6.0,24.0,11.0,28.0,6.0,9.0,27.0,12.0,2.0,7.0,6.0,27.0,31.0,1.0,9.0,10.0,10.0,11.0,11.0,9.0,11.0,47.0,6.0,6.0,10.0,4.0,9.0,8.0,36.0,47.0,8.0,15.0,48.0,17.0,2.0,3.0,5.0,33.0,11.0,4.0,10.0,36.0,9.0,40.0,10.0,49.0,11.0,10.0,28.0,30.0,18.0,30.0,30.0,9.0,4.0,32.0,43.0,12.0,16.0,11.0,11.0,45.0,3.0,10.0,21.0,28.0,42.0,10.0,26.0,36.0,20.0,11.0,47.0,27.0,43.0,9.0,11.0,11.0,38.0,8.0,33.0,1.0,8.0,47.0,2.0,47.0,11.0,33.0,13.0,7.0,23.0,10.0,10.0,47.0,11.0,3.0,19.0,49.0,34.0,47.0,11.0,11.0,24.0,11.0,11.0,21.0,5.0,11.0,6.0,24.0,9.0,10.0,11.0,9.0,38.0,13.0,3.0,10.0,11.0,30.0,10.0,3.0,10.0,4.0,26.0,9.0,32.0,39.0,10.0,8.0,29.0,31.0,34.0,4.0,11.0,9.0,2.0,10.0,9.0,16.0,27.0,20.0,1.0,12.0,11.0,29.0,8.0,9.0,2.0,8.0,1.0,36.0,20.0,11.0,10.0,33.0,16.0,25.0,11.0,3.0,4.0,31.0,10.0,31.0,25.0,9.0,2.0,11.0,8.0,1.0,18.0,27.0,3.0,9.0,17.0,10.0,5.0,7.0,7.0,17.0,10.0,5.0,5.0,47.0,5.0,11.0,8.0,6.0,8.0,40.0,11.0,24.0,8.0,24.0,21.0,46.0,32.0,24.0,7.0,11.0,8.0,37.0,1.0,1.0,11.0,35.0,13.0,26.0,11.0,10.0,14.0,26.0,27.0,9.0,9.0,47.0,4.0,8.0,9.0,1.0,10.0,48.0,12.0,10.0,24.0,28.0,23.0,23.0,24.0,1.0,1.0,2.0,8.0,41.0,20.0,34.0,31.0,14.0,32.0,8.0,37.0,1.0,1.0,10.0,38.0,14.0,11.0,29.0,21.0,10.0,40.0,31.0,19.0,10.0,11.0,14.0,46.0,36.0,11.0,29.0,6.0,21.0,34.0,30.0,30.0,11.0,9.0,9.0,30.0,11.0,11.0,43.0,11.0,8.0,11.0,8.0,11.0,3.0,32.0,44.0,11.0,26.0,9.0,11.0,46.0,11.0,10.0,11.0,11.0,31.0,23.0,1.0,34.0,11.0,11.0,15.0,1.0,11.0,11.0,37.0,6.0,20.0,35.0,10.0,9.0,10.0,20.0,43.0,12.0,36.0,47.0,7.0,11.0,46.0,18.0,9.0,2.0,10.0,11.0,44.0,6.0,11.0,1.0,6.0,9.0,11.0,26.0,10.0,27.0,36.0,37.0,11.0,1.0,11.0,26.0,1.0,30.0,9.0,7.0,10.0,13.0,11.0,12.0,27.0,25.0,11.0,32.0,11.0,21.0,6.0,27.0,11.0,9.0,24.0,11.0,6.0,8.0,21.0,16.0,11.0,8.0,32.0,5.0,27.0,40.0,10.0,47.0,33.0,47.0,39.0,29.0,33.0,16.0,23.0,4.0,27.0,11.0,35.0,10.0,7.0,26.0,11.0,10.0,11.0,35.0,32.0,8.0,7.0,10.0,13.0,11.0,11.0,11.0,12.0,28.0,8.0,20.0,37.0,11.0,49.0,6.0,36.0,18.0,9.0,3.0,40.0,23.0,24.0,27.0,11.0,11.0,10.0,48.0,3.0,11.0,11.0,33.0,11.0,9.0,5.0,35.0,8.0,37.0,11.0,2.0,3.0,11.0,6.0,11.0,11.0,18.0,11.0,6.0,18.0,32.0,11.0,1.0,28.0,11.0,45.0,11.0,10.0,1.0,33.0,35.0,34.0,11.0,37.0,2.0,9.0,10.0,46.0,11.0,9.0,10.0,8.0,49.0,27.0,3.0,37.0,12.0,3.0,5.0,34.0,11.0,39.0,26.0,46.0,11.0,34.0,2.0,15.0,11.0,36.0,11.0,33.0,12.0,10.0,31.0,4.0,7.0,32.0,8.0,19.0,13.0,3.0,3.0,19.0,11.0,43.0,20.0,36.0,11.0,47.0,46.0,10.0,5.0,36.0,43.0,11.0,47.0,44.0,30.0,30.0,8.0,23.0,11.0,4.0,9.0,21.0,13.0,20.0,11.0,46.0,2.0,6.0,25.0,6.0,37.0,18.0,11.0,8.0,30.0,33.0,9.0,34.0,26.0,21.0,46.0,17.0,11.0,8.0,47.0,9.0,10.0,10.0,14.0,6.0,11.0,30.0,8.0,9.0,29.0,11.0,12.0,8.0,32.0,7.0,10.0,9.0,4.0,21.0,11.0,14.0,10.0,11.0,9.0,1.0,22.0,7.0,39.0,10.0,45.0,35.0,6.0,12.0,16.0,24.0,20.0,39.0,29.0,2.0,9.0,12.0,10.0,47.0,11.0,9.0,44.0,13.0,32.0,36.0,29.0,13.0,11.0,9.0,35.0,38.0,5.0,15.0,1.0,11.0,9.0,5.0,8.0,45.0,14.0,8.0,4.0,3.0,10.0,8.0,16.0,11.0,11.0,7.0,20.0,26.0,14.0,4.0,5.0,3.0,8.0,9.0,27.0,5.0,20.0,22.0,9.0,23.0,47.0,15.0,11.0,8.0,37.0,10.0,9.0,18.0,8.0,10.0,11.0,11.0,43.0,36.0,21.0,32.0,33.0,35.0,7.0,10.0,38.0,22.0,24.0,30.0,10.0,7.0,18.0,17.0,8.0,11.0,9.0,47.0,4.0,11.0,10.0,2.0,30.0,10.0,40.0,9.0,14.0,11.0,11.0,16.0,11.0,13.0,32.0,6.0,6.0,27.0,43.0,11.0,10.0,31.0,18.0,13.0,2.0,8.0,2.0,11.0,13.0,31.0,11.0,33.0,46.0,11.0,5.0,39.0,27.0,29.0,26.0,28.0,47.0,10.0,10.0,1.0,13.0,10.0,36.0,3.0,4.0,10.0,9.0,14.0,11.0,11.0,28.0,9.0,9.0,24.0,11.0,29.0,11.0,46.0,11.0,11.0,11.0,49.0,8.0,35.0,32.0,11.0,49.0,25.0,46.0,32.0,9.0,1.0,11.0,10.0,18.0,43.0,1.0,36.0,11.0,5.0,11.0,6.0,12.0,9.0,46.0,9.0,19.0,45.0,8.0,11.0,11.0,11.0,11.0,25.0,11.0,10.0,36.0,10.0,15.0,8.0,35.0,11.0,11.0,27.0,36.0,48.0,7.0,12.0,42.0,31.0,10.0,11.0,2.0,21.0,5.0,10.0,17.0,10.0,45.0,38.0,19.0,43.0,11.0,34.0,11.0,35.0,11.0,12.0,9.0,16.0,15.0,31.0,2.0,34.0,6.0,2.0,22.0,11.0,28.0,8.0,11.0,45.0,9.0,11.0,17.0,28.0,4.0,5.0,48.0,30.0,26.0,11.0,46.0,20.0,24.0,10.0,1.0,38.0,26.0,18.0,8.0,11.0,8.0,13.0,9.0,47.0,32.0,18.0,28.0,32.0,11.0,11.0,24.0,35.0,42.0,26.0,43.0,2.0,7.0,11.0,12.0,37.0,33.0,16.0,31.0,8.0,11.0,11.0,33.0,38.0,27.0,11.0,19.0,31.0,36.0,9.0,11.0,10.0,33.0,4.0,40.0,19.0,4.0,45.0,30.0,46.0,31.0,10.0,11.0,28.0,11.0,21.0,9.0,18.0,11.0,41.0,8.0,19.0,36.0,17.0,17.0,8.0,36.0,6.0,36.0,40.0,9.0,21.0,11.0,9.0,40.0,20.0,7.0,7.0,34.0,11.0,3.0,11.0,20.0,34.0,7.0,48.0,28.0,30.0,10.0,11.0,6.0,47.0,15.0,45.0,3.0,22.0,1.0,6.0,31.0,11.0,5.0,12.0,39.0,46.0,28.0,15.0,48.0,29.0,36.0,26.0,9.0,10.0,7.0,11.0,18.0,28.0,5.0,11.0,19.0,10.0,4.0,6.0,7.0,30.0,25.0,39.0,27.0,8.0,9.0,9.0,11.0,7.0,11.0,1.0,11.0,7.0,11.0,19.0,9.0,7.0,11.0,11.0,9.0,6.0,12.0,29.0,5.0,25.0,11.0,11.0,11.0,1.0,34.0,44.0,10.0,20.0,11.0,34.0,11.0,37.0,33.0,46.0,19.0,19.0,24.0,36.0,10.0,10.0,19.0,34.0,43.0,30.0,7.0,34.0,24.0,11.0,7.0,10.0,11.0,10.0,25.0,36.0,3.0,31.0,18.0,23.0,4.0,36.0,27.0,11.0,8.0,32.0,11.0,11.0,16.0,9.0,47.0,27.0,11.0,35.0,29.0,47.0,10.0,48.0,22.0,10.0,29.0,4.0,16.0,32.0,7.0,1.0,15.0,13.0,11.0,27.0,11.0,7.0,39.0,10.0,11.0,8.0,1.0,5.0,7.0,37.0,11.0,23.0,2.0,11.0,1.0,11.0,13.0,5.0,20.0,5.0,24.0,11.0,9.0,47.0,11.0,11.0,5.0,10.0,7.0,33.0,13.0,9.0,48.0,9.0,32.0,11.0,7.0,48.0,19.0,6.0,11.0,35.0,36.0,17.0,10.0,10.0,15.0,28.0,11.0,9.0,21.0,1.0,31.0,11.0,6.0,10.0,19.0,1.0,29.0,21.0,11.0,10.0,13.0,6.0,11.0,28.0,9.0,12.0,11.0,34.0,31.0,9.0,24.0,11.0,15.0,8.0,29.0,27.0,10.0,47.0,9.0,10.0,10.0,2.0,11.0,3.0,21.0,37.0],\"xaxis\":\"x\",\"y\":[27.475200653076172,9.156953811645508,4.7776312828063965,9.242424964904785,15.473954200744629,35.001441955566406,7.996076583862305,16.877378463745117,30.663244247436523,19.60224723815918,35.99114990234375,17.587162017822266,1.339753270149231,18.244314193725586,9.65657901763916,9.502883911132812,23.754228591918945,23.526592254638672,9.870559692382812,27.84946060180664,30.071735382080078,31.006669998168945,21.84358787536621,10.920591354370117,9.530702590942383,9.84430980682373,37.93001937866211,47.00284957885742,26.63436508178711,10.679605484008789,9.11967945098877,9.679831504821777,46.99599838256836,28.057844161987305,30.00508689880371,34.48563766479492,8.713781356811523,10.520357131958008,3.1563148498535156,7.003795623779297,46.998661041259766,4.267751216888428,14.500277519226074,25.410003662109375,6.602923393249512,29.408544540405273,10.687082290649414,8.89129638671875,10.993144035339355,37.91913986206055,10.856571197509766,8.693962097167969,22.28112030029297,4.387641906738281,19.714494705200195,1.3288731575012207,0.9064426422119141,24.315523147583008,30.387727737426758,22.494768142700195,25.410003662109375,17.010578155517578,26.362995147705078,36.22519302368164,26.375328063964844,9.082252502441406,8.338081359863281,20.05224609375,35.71189880371094,30.119539260864258,10.541581153869629,8.693962097167969,19.873363494873047,9.413833618164062,24.315523147583008,36.99260711669922,20.371816635131836,9.790945053100586,47.620914459228516,14.916802406311035,10.835552215576172,26.525732040405273,29.999711990356445,18.09085464477539,1.9978814125061035,20.918170928955078,9.44794750213623,8.039347648620605,9.115116119384766,8.460498809814453,9.141189575195312,8.107210159301758,10.99409294128418,2.065821647644043,9.001666069030762,20.595388412475586,29.99683952331543,33.56051254272461,8.633648872375488,23.519306182861328,9.587163925170898,9.797906875610352,20.42546272277832,10.381697654724121,25.957242965698242,9.56700611114502,46.997802734375,8.99744987487793,9.419493675231934,29.99683952331543,7.627941131591797,9.56700611114502,29.321218490600586,35.00796127319336,10.544890403747559,21.156641006469727,45.997249603271484,8.236068725585938,8.640508651733398,46.99638366699219,9.928576469421387,29.590959548950195,15.393094062805176,23.754228591918945,33.005069732666016,26.94347381591797,30.92401885986328,29.592025756835938,9.84430980682373,23.998390197753906,34.9942626953125,9.11967945098877,5.189692974090576,8.69974136352539,47.620914459228516,18.997039794921875,7.504640102386475,10.995823860168457,15.991143226623535,8.738661766052246,30.55196762084961,18.016664505004883,20.450990676879883,9.221919059753418,9.221919059753418,10.99845027923584,10.283023834228516,10.122078895568848,15.473954200744629,9.906736373901367,9.763666152954102,37.99930953979492,14.461886405944824,9.797906875610352,19.003185272216797,30.995933532714844,10.697667121887207,10.040701866149902,7.007467269897461,10.118329048156738,10.993144035339355,4.258342742919922,9.248682975769043,10.221784591674805,14.408916473388672,11.66545295715332,21.84358787536621,21.274024963378906,14.916802406311035,16.99944496154785,9.597822189331055,21.843034744262695,14.734152793884277,31.006669998168945,31.99564552307129,30.699308395385742,8.31916618347168,16.56827163696289,5.796634674072266,42.02029037475586,13.548666000366211,5.913297176361084,29.336801528930664,9.179049491882324,25.496606826782227,12.553204536437988,10.01028060913086,10.001493453979492,22.03073501586914,16.765838623046875,35.842891693115234,23.99805450439453,9.241464614868164,10.697667121887207,46.9987907409668,6.535529136657715,8.602619171142578,8.322591781616211,19.15656280517578,7.054643154144287,12.001913070678711,1.005506992340088,25.632394790649414,26.852859497070312,47.99650955200195,23.91277503967285,27.99620246887207,28.995824813842773,8.002328872680664,23.638214111328125,12.141694068908691,30.00508689880371,17.405820846557617,6.997419834136963,10.998455047607422,27.66988754272461,9.759340286254883,5.147008419036865,8.378629684448242,11.000055313110352,29.0078182220459,10.9439115524292,8.31916618347168,32.537940979003906,19.813705444335938,5.332787036895752,22.129304885864258,21.969318389892578,20.213895797729492,8.48351001739502,9.514188766479492,10.740139961242676,10.45630168914795,23.853290557861328,26.64225959777832,9.43702507019043,25.714561462402344,2.4009413719177246,20.28461456298828,9.1986083984375,9.451903343200684,23.780994415283203,15.077001571655273,23.785011291503906,45.997802734375,10.850137710571289,21.998300552368164,10.628399848937988,9.969718933105469,24.315523147583008,12.16746997833252,1.9947494268417358,11.569097518920898,9.581221580505371,47.620914459228516,10.0013427734375,9.994285583496094,9.248682975769043,24.315523147583008,19.278383255004883,8.85281753540039,24.901968002319336,10.835552215576172,5.9947357177734375,22.366025924682617,9.502883911132812,20.45374870300293,15.709458351135254,9.219836235046387,19.476003646850586,9.946722030639648,3.210815668106079,32.99683380126953,8.983305931091309,27.952220916748047,28.268943786621094,48.99613952636719,21.019262313842773,18.733646392822266,8.746747016906738,15.987632751464844,42.99686813354492,27.218637466430664,46.994224548339844,30.663244247436523,17.284626007080078,8.810291290283203,29.740053176879883,25.92588996887207,12.995943069458008,15.001258850097656,10.476469039916992,24.901968002319336,20.99810218811035,20.019515991210938,16.49820327758789,7.639676094055176,14.400047302246094,8.713781356811523,5.981548309326172,12.19556713104248,9.679831504821777,17.587162017822266,31.158069610595703,10.998025894165039,27.99620246887207,5.022397518157959,45.997802734375,29.592025756835938,30.50636100769043,8.088218688964844,9.84430980682373,27.218637466430664,11.997007369995117,2.32420015335083,20.004802703857422,19.001972198486328,25.04163932800293,17.587162017822266,7.748178482055664,29.48801040649414,9.80870532989502,21.661216735839844,8.943957328796387,17.405820846557617,31.158069610595703,25.04163932800293,1.3623926639556885,32.43260955810547,32.99541091918945,10.57845687866211,9.682534217834473,33.56051254272461,10.541581153869629,29.99683952331543,9.419493675231934,8.865527153015137,6.588192939758301,14.537103652954102,20.45374870300293,20.371816635131836,29.590959548950195,23.519306182861328,1.1002154350280762,9.242424964904785,9.849834442138672,19.803693771362305,24.577510833740234,3.7558839321136475,12.19556713104248,6.691022872924805,8.288782119750977,30.231857299804688,9.733537673950195,9.895668029785156,25.632394790649414,10.221784591674805,2.015681266784668,20.42546272277832,10.365739822387695,46.99192810058594,23.988248825073242,22.366025924682617,1.0595879554748535,18.911413192749023,7.7152509689331055,28.614229202270508,29.738821029663086,32.993812561035156,29.592025756835938,9.550253868103027,10.829497337341309,8.201923370361328,9.681183815002441,7.504640102386475,1.1269822120666504,36.112125396728516,6.6991963386535645,24.310861587524414,7.351441860198975,9.860928535461426,9.11596965789795,25.91309928894043,21.179426193237305,10.856571197509766,15.997506141662598,10.427149772644043,9.773877143859863,12.373611450195312,7.141944885253906,17.89529800415039,10.99726390838623,6.691022872924805,10.14265251159668,6.588314056396484,8.002328872680664,10.156126976013184,10.063267707824707,18.997039794921875,42.99686813354492,26.297454833984375,10.246305465698242,28.997222900390625,27.256427764892578,23.781116485595703,1.7698317766189575,9.395392417907715,31.158069610595703,47.0009651184082,9.80880355834961,30.999521255493164,6.901545524597168,30.42774200439453,21.923738479614258,9.772513389587402,14.1329984664917,9.082252502441406,9.502883911132812,9.969718933105469,8.369281768798828,29.48801040649414,9.242424964904785,27.00169563293457,12.992823600769043,28.268943786621094,12.995943069458008,30.663244247436523,10.59737491607666,8.541007995605469,10.995881080627441,8.000629425048828,23.00409698486328,9.219836235046387,10.005820274353027,9.852216720581055,21.923738479614258,4.009233474731445,46.995967864990234,9.766607284545898,8.02731990814209,14.500277519226074,6.602923393249512,36.112125396728516,4.020537376403809,20.604387283325195,23.607511520385742,10.998504638671875,9.230316162109375,24.901968002319336,9.43702507019043,23.89678955078125,15.077001571655273,19.944631576538086,15.388163566589355,8.896449089050293,42.99401092529297,3.0101723670959473,9.892024040222168,47.620914459228516,10.68853759765625,10.350077629089355,8.48351001739502,20.05224609375,9.179049491882324,19.278383255004883,9.500535011291504,9.210433006286621,10.80385684967041,6.05025577545166,19.73688507080078,8.997162818908691,46.995967864990234,25.873310089111328,18.733646392822266,42.998661041259766,4.995509624481201,8.31916618347168,23.780994415283203,22.798389434814453,10.998025894165039,17.405820846557617,8.465921401977539,10.381697654724121,23.781116485595703,9.969718933105469,10.381697654724121,10.495339393615723,25.91309928894043,10.586669921875,10.427149772644043,10.554993629455566,11.994372367858887,9.994285583496094,25.716320037841797,31.726186752319336,24.66521644592285,8.902944564819336,10.368123054504395,12.373611450195312,27.66988754272461,9.681183815002441,35.00192642211914,11.99402904510498,9.575180053710938,10.350077629089355,29.336801528930664,29.499216079711914,17.1180419921875,33.00881576538086,24.901968002319336,13.41028881072998,21.156641006469727,10.266822814941406,10.592345237731934,28.614229202270508,25.80888557434082,10.592345237731934,29.590959548950195,11.089024543762207,42.02029037475586,9.942845344543457,10.490150451660156,30.00508689880371,14.575881958007812,28.268943786621094,10.36550521850586,7.040772438049316,9.928576469421387,35.99114990234375,7.625458240509033,9.847271919250488,10.118329048156738,15.709458351135254,10.381697654724121,21.803836822509766,32.452537536621094,9.11967945098877,32.854618072509766,9.879791259765625,10.592345237731934,8.69974136352539,11.089024543762207,18.911413192749023,7.008370876312256,25.76912498474121,9.514188766479492,38.99041748046875,8.454893112182617,26.64225959777832,10.99732780456543,17.010578155517578,25.662134170532227,10.68676471710205,9.00023078918457,3.7932779788970947,34.59677505493164,9.597822189331055,30.071735382080078,9.960344314575195,14.500277519226074,30.42774200439453,34.48563766479492,10.45630168914795,25.133337020874023,10.804454803466797,10.861279487609863,24.212739944458008,10.995823860168457,13.004796028137207,27.218637466430664,4.426253318786621,25.416730880737305,6.93670654296875,7.995055675506592,34.00274658203125,7.504640102386475,16.12637710571289,8.760438919067383,18.00796890258789,10.80385684967041,37.736480712890625,27.82107925415039,9.969718933105469,7.153273105621338,8.939754486083984,32.79817199707031,36.112125396728516,1.3437848091125488,8.378629684448242,32.00121307373047,9.540509223937988,35.850181579589844,8.975748062133789,14.461886405944824,17.740100860595703,20.450990676879883,34.54588317871094,8.871127128601074,8.539920806884766,5.731368064880371,47.99726486206055,9.018501281738281,8.078539848327637,8.775500297546387,8.454893112182617,7.954699993133545,8.338081359863281,21.274024963378906,9.995233535766602,22.541593551635742,47.99702453613281,17.587162017822266,44.00151824951172,8.871127128601074,6.752384662628174,16.56827163696289,3.033259868621826,16.369544982910156,9.32358169555664,10.541001319885254,10.156126976013184,9.6758394241333,7.098461151123047,19.73688507080078,9.995266914367676,12.503498077392578,9.237875938415527,10.246305465698242,7.866329669952393,10.72044849395752,25.002897262573242,9.980335235595703,48.99251174926758,8.899945259094238,34.59677505493164,46.99638366699219,4.579533100128174,9.171902656555176,32.00285339355469,4.027744293212891,10.9991455078125,30.4870548248291,10.266822814941406,32.854618072509766,44.99885177612305,14.65749740600586,19.73688507080078,14.999898910522461,10.476469039916992,10.511218070983887,1.974338412284851,9.070283889770508,17.7393856048584,26.680423736572266,8.39653205871582,9.430000305175781,6.963834285736084,31.000059127807617,17.89529800415039,7.313355445861816,23.42812728881836,27.54661750793457,6.995100021362305,10.835552215576172,47.99775695800781,19.935617446899414,9.906736373901367,19.004840850830078,8.583192825317383,7.954699993133545,9.735618591308594,7.748178482055664,26.64225959777832,46.99599838256836,30.231857299804688,6.401970863342285,23.853290557861328,26.297454833984375,5.984412670135498,10.717995643615723,47.620914459228516,9.852216720581055,30.00508689880371,3.0129892826080322,7.153273105621338,23.853290557861328,27.99620246887207,45.997249603271484,8.31916618347168,9.777139663696289,23.89678955078125,37.91913986206055,1.6532773971557617,32.854618072509766,10.064301490783691,9.777139663696289,9.681183815002441,10.586669921875,10.365739822387695,30.387727737426758,12.902419090270996,47.99650955200195,10.775094985961914,9.947319030761719,20.42546272277832,25.603776931762695,9.829642295837402,10.99702262878418,20.064613342285156,10.409048080444336,7.3435773849487305,9.11596965789795,46.9987907409668,30.663244247436523,12.553204536437988,31.158069610595703,8.899945259094238,31.609806060791016,32.537940979003906,19.53264808654785,37.91913986206055,30.663244247436523,35.00192642211914,36.00187301635742,10.221784591674805,10.317821502685547,15.670316696166992,2.744178533554077,5.413442611694336,21.128253936767578,9.241464614868164,26.003833770751953,18.99648666381836,37.99930953979492,27.005123138427734,6.015940189361572,9.98723030090332,45.997249603271484,12.998995780944824,9.766607284545898,9.681888580322266,17.56698226928711,45.997249603271484,9.09880256652832,12.141694068908691,9.969718933105469,1.0033429861068726,8.693962097167969,46.995967864990234,21.998300552368164,16.726442337036133,10.99990177154541,29.374073028564453,28.057844161987305,31.158069610595703,27.82107925415039,10.313663482666016,10.158352851867676,22.04709815979004,10.541001319885254,29.592025756835938,10.018941879272461,10.68676471710205,35.00192642211914,15.670316696166992,26.375328063964844,10.92224407196045,9.790945053100586,26.351974487304688,31.99564552307129,34.90902328491211,38.512874603271484,0.23732537031173706,8.746747016906738,10.99732780456543,23.853290557861328,10.856571197509766,3.5823662281036377,9.811812400817871,25.410003662109375,4.5472540855407715,10.381697654724121,26.680423736572266,24.171995162963867,8.769991874694824,10.850137710571289,22.12224769592285,12.429961204528809,10.234940528869629,11.089024543762207,1.991423487663269,8.994399070739746,38.736236572265625,8.697182655334473,4.3253631591796875,31.000316619873047,1.3322724103927612,21.128253936767578,6.853824615478516,24.007240295410156,9.682534217834473,11.99968147277832,23.609622955322266,9.765138626098633,21.63426399230957,10.427149772644043,26.003833770751953,9.860928535461426,21.84358787536621,5.758303165435791,10.246305465698242,7.141944885253906,9.759340286254883,39.998443603515625,9.84430980682373,9.797906875610352,22.88440704345703,10.742227554321289,7.183191776275635,23.526592254638672,15.393094062805176,10.998504638671875,27.475200653076172,10.064301490783691,26.982847213745117,11.016449928283691,31.630979537963867,26.525732040405273,9.559950828552246,25.716320037841797,11.482075691223145,27.218637466430664,10.592345237731934,7.993649959564209,24.68092155456543,10.359712600708008,31.000059127807617,19.154489517211914,47.00069046020508,13.548666000366211,22.28112030029297,9.797906875610352,25.763399124145508,2.232391357421875,37.93001937866211,18.42357635498047,45.99475860595703,25.4044189453125,22.494768142700195,25.002897262573242,10.365739822387695,19.944631576538086,9.067644119262695,10.381697654724121,8.693962097167969,8.602619171142578,3.2186527252197266,5.758303165435791,30.20746421813965,14.808056831359863,9.946722030639648,9.281310081481934,9.658766746520996,6.990784168243408,10.490150451660156,9.942845344543457,29.48801040649414,9.763666152954102,23.00409698486328,10.336026191711426,23.00409698486328,10.365926742553711,31.9293212890625,2.5104126930236816,10.993144035339355,10.850137710571289,21.63426399230957,6.539216041564941,42.02029037475586,10.221784591674805,7.004608154296875,21.274024963378906,9.2840576171875,2.6750311851501465,7.512174129486084,7.625458240509033,35.85371398925781,7.015378952026367,9.759340286254883,21.843034744262695,14.916802406311035,11.988693237304688,9.067644119262695,27.67022705078125,3.327256202697754,46.998661041259766,46.99692153930664,9.340072631835938,13.539600372314453,35.00796127319336,26.525732040405273,10.5140962600708,10.326692581176758,10.72044849395752,10.153800964355469,47.620914459228516,8.09500503540039,7.625458240509033,19.73688507080078,30.00423240661621,25.133337020874023,7.15513277053833,10.001874923706055,8.675458908081055,24.171995162963867,29.321218490600586,7.254617214202881,24.071151733398438,32.00121307373047,45.996177673339844,8.861492156982422,10.99732780456543,8.693962097167969,19.433168411254883,27.218637466430664,42.02029037475586,8.738802909851074,29.592025756835938,23.446805953979492,22.320348739624023,8.378629684448242,9.11596965789795,12.373611450195312,10.99732780456543,8.583192825317383,8.89129638671875,32.00285339355469,26.883281707763672,9.696348190307617,10.427149772644043,9.241464614868164,4.187923431396484,25.763399124145508,45.99378204345703,10.006096839904785,46.99798583984375,6.964953899383545,6.588314056396484,36.22519302368164,18.238765716552734,38.999176025390625,8.85281753540039,14.00961971282959,26.05099105834961,26.883281707763672,30.570194244384766,27.005123138427734,23.754228591918945,5.508527755737305,9.928576469421387,9.505334854125977,10.9439115524292,10.697667121887207,29.374073028564453,8.697182655334473,9.242424964904785,32.99541091918945,9.966476440429688,21.179426193237305,31.158069610595703,8.378629684448242,20.993404388427734,25.416730880737305,18.238765716552734,9.094226837158203,9.678961753845215,18.911413192749023,30.119539260864258,32.537940979003906,2.9981679916381836,26.852859497070312,28.15795135498047,5.731368064880371,5.3191728591918945,30.119539260864258,28.022289276123047,41.99911117553711,9.323162078857422,14.828089714050293,9.860928535461426,26.351974487304688,9.502883911132812,1.203853726387024,33.005611419677734,9.969718933105469,39.99506759643555,26.884931564331055,18.296010971069336,25.000686645507812,10.844480514526367,27.874961853027344,32.99541091918945,30.50636100769043,7.773681640625,13.01048469543457,16.56827163696289,29.99603271484375,9.995233535766602,8.871127128601074,9.681183815002441,10.544890403747559,8.792859077453613,8.002328872680664,31.158069610595703,9.995789527893066,26.64225959777832,32.537940979003906,8.983305931091309,10.5322265625,5.98490047454834,20.019515991210938,10.359712600708008,17.9636173248291,10.9439115524292,20.450990676879883,10.350077629089355,1.2590973377227783,9.870559692382812,45.996177673339844,21.873645782470703,9.11596965789795,32.854618072509766,4.857731342315674,23.89678955078125,20.28461456298828,8.738802909851074,9.656206130981445,47.620914459228516,9.164668083190918,10.156126976013184,25.133337020874023,25.002897262573242,30.42774200439453,14.500277519226074,10.204249382019043,20.213895797729492,10.523683547973633,25.76912498474121,29.48801040649414,9.281310081481934,9.349064826965332,8.282562255859375,19.2474422454834,10.722643852233887,25.133337020874023,25.76912498474121,7.15513277053833,10.118329048156738,12.503498077392578,25.763399124145508,29.48801040649414,1.004012107849121,12.994884490966797,4.217761993408203,9.597822189331055,9.43702507019043,12.920171737670898,25.714561462402344,5.98490047454834,11.004542350769043,8.99148178100586,29.42477798461914,24.071151733398438,46.00259780883789,2.0989341735839844,23.988248825073242,8.792859077453613,5.731368064880371,15.987632751464844,3.9798433780670166,44.00151824951172,18.270484924316406,47.997196197509766,47.99726486206055,19.935617446899414,31.99564552307129,36.39832305908203,31.726186752319336,8.000604629516602,47.99650955200195,19.813705444335938,46.9987907409668,10.040785789489746,25.410003662109375,10.998025894165039,9.514188766479492,24.97792625427246,12.995943069458008,10.523683547973633,8.4884614944458,24.352920532226562,45.99378204345703,10.99732780456543,20.018321990966797,12.16746997833252,6.996899127960205,37.93001937866211,2.015800952911377,44.0019645690918,21.843034744262695,10.001592636108398,10.994297981262207,10.266822814941406,23.99805450439453,10.666604995727539,34.54588317871094,38.512874603271484,30.663244247436523,7.313355445861816,32.537940979003906,10.835552215576172,7.3435773849487305,30.50636100769043,26.0007266998291,25.496606826782227,8.780579566955566,16.56827163696289,21.128253936767578,44.0019645690918,9.906736373901367,9.219836235046387,14.21430492401123,15.077001571655273,1.1752930879592896,25.662134170532227,15.388163566589355,13.98234748840332,8.85281753540039,10.427149772644043,4.999924182891846,9.80870532989502,31.156108856201172,10.994222640991211,19.15656280517578,30.4870548248291,8.871421813964844,10.99726390838623,10.742227554321289,9.735618591308594,25.4044189453125,46.998661041259766,16.1119384765625,15.001258850097656,29.590959548950195,47.00284957885742,20.19036293029785,10.5140962600708,25.99367904663086,19.803693771362305,10.68676471710205,9.955982208251953,30.32391357421875,22.582822799682617,23.010623931884766,8.427267074584961,17.40412139892578,27.99620246887207,11.624399185180664,10.995881080627441,26.351974487304688,21.843034744262695,30.55196762084961,34.90902328491211,10.722643852233887,13.01048469543457,29.0078182220459,9.430000305175781,13.54343032836914,35.85371398925781,16.877378463745117,1.9548879861831665,9.765138626098633,11.033487319946289,18.09085464477539,23.00409698486328,30.570194244384766,9.09880256652832,26.362995147705078,9.969718933105469,8.539920806884766,10.991684913635254,6.539216041564941,30.663244247436523,19.73688507080078,22.439050674438477,21.179426193237305,10.032327651977539,19.154489517211914,24.97792625427246,25.80888557434082,9.656206130981445,7.154903411865234,8.851678848266602,19.003185272216797,30.32391357421875,22.632150650024414,17.1180419921875,8.460498809814453,13.98695182800293,9.860928535461426,9.10533618927002,8.871127128601074,10.158352851867676,11.99402904510498,9.995789527893066,1.3344175815582275,45.994571685791016,23.33725929260254,9.772513389587402,49.99711608886719,10.40802001953125,26.00403594970703,45.999725341796875,7.400132179260254,10.381697654724121,8.690523147583008,21.685449600219727,9.870559692382812,29.740053176879883,32.99637985229492,15.163762092590332,3.319344997406006,8.633648872375488,10.409048080444336,10.063267707824707,8.496435165405273,18.529537200927734,10.427149772644043,28.022289276123047,44.99885177612305,7.335439205169678,9.070283889770508,4.893561363220215,2.995349168777466,8.201923370361328,2.994144916534424,18.270484924316406,15.572004318237305,9.54249382019043,9.46860408782959,2.1591782569885254,10.117622375488281,9.892024040222168,22.632150650024414,1.9971930980682373,19.433168411254883,10.409048080444336,10.222282409667969,9.895668029785156,14.997430801391602,30.55196762084961,6.602923393249512,10.365926742553711,8.323841094970703,38.999664306640625,11.089024543762207,9.748970031738281,8.378629684448242,9.00070571899414,10.283023834228516,9.860928535461426,24.863012313842773,30.071735382080078,19.450876235961914,15.709458351135254,21.969318389892578,23.42812728881836,8.760438919067383,9.179049491882324,30.40837287902832,5.986456871032715,9.821782112121582,5.990248203277588,25.416730880737305,26.351974487304688,45.994571685791016,36.22519302368164,9.947319030761719,9.895668029785156,6.700711250305176,8.780579566955566,15.001258850097656,24.863012313842773,6.901545524597168,10.628399848937988,10.336026191711426,30.498313903808594,15.466238021850586,6.82099723815918,10.666604995727539,22.541593551635742,28.179967880249023,20.40758514404297,10.998455047607422,38.277015686035156,20.992916107177734,0.9955214858055115,9.349064826965332,1.0380412340164185,17.587162017822266,9.960344314575195,19.476003646850586,26.94347381591797,10.99409294128418,10.222282409667969,23.109643936157227,10.722643852233887,9.115116119384766,4.267751216888428,27.075727462768555,32.537940979003906,24.69544219970703,9.514188766479492,11.016449928283691,4.223789691925049,22.235429763793945,45.994571685791016,9.115116119384766,8.041500091552734,10.592345237731934,2.0289082527160645,45.997249603271484,8.39653205871582,10.14265251159668,9.094226837158203,14.734152793884277,34.00274658203125,26.982847213745117,41.99809646606445,9.242424964904785,11.012453079223633,7.884226322174072,19.476003646850586,2.0413503646850586,18.63237953186035,44.0019645690918,10.060790061950684,29.996978759765625,10.586669921875,7.954699993133545,2.9921557903289795,12.817111015319824,11.994645118713379,9.84430980682373,26.00403594970703,29.348880767822266,41.99911117553711,4.426253318786621,12.011707305908203,26.1195125579834,9.735618591308594,29.42477798461914,6.255199909210205,9.067644119262695,2.000239372253418,12.995943069458008,9.908280372619629,42.99686813354492,17.997316360473633,17.002220153808594,7.866329669952393,33.999298095703125,38.277015686035156,10.317821502685547,8.713411331176758,24.071151733398438,9.349064826965332,8.648005485534668,8.045228004455566,7.504640102386475,5.997465133666992,3.978276014328003,26.556333541870117,30.50636100769043,14.997430801391602,27.018346786499023,10.40802001953125,10.45630168914795,0.9989442825317383,42.99585723876953,36.112125396728516,22.798389434814453,2.180516242980957,1.4856054782867432,23.99805450439453,8.780579566955566,10.666604995727539,8.169167518615723,25.416730880737305,35.001441955566406,46.995967864990234,10.040193557739258,6.989535808563232,17.042400360107422,10.222282409667969,10.63845443725586,28.582120895385742,14.875356674194336,8.454893112182617,9.43702507019043,9.960344314575195,26.64225959777832,9.540509223937988,10.018657684326172,26.884931564331055,7.822807788848877,21.019262313842773,10.998517036437988,22.88440704345703,45.99345779418945,9.713384628295898,3.648829936981201,8.871127128601074,48.99613952636719,23.853290557861328,38.999176025390625,28.022289276123047,9.56700611114502,25.957242965698242,6.05025577545166,6.281477928161621,11.99402904510498,9.906736373901367,22.235429763793945,10.36550521850586,38.277015686035156,10.350667953491211,1.9989911317825317,9.849834442138672,14.136956214904785,32.99785614013672,24.999570846557617,29.499216079711914,10.554993629455566,10.493741989135742,12.553204536437988,9.80870532989502,8.454893112182617,22.12224769592285,8.747855186462402,18.733646392822266,9.514188766479492,27.99066734313965,9.46860408782959,7.842427730560303,20.05224609375,9.892024040222168,9.505334854125977,24.901968002319336,23.00409698486328,35.001441955566406,22.632150650024414,8.12769889831543,10.995881080627441,24.97792625427246,21.969318389892578,29.590959548950195,8.910222053527832,10.350667953491211,8.80319881439209,5.823558807373047,12.800344467163086,29.999919891357422,4.997771739959717,10.99409294128418,9.164668083190918,9.84430980682373,7.232919692993164,9.281310081481934,26.884931564331055,23.999563217163086,23.853290557861328,8.738802909851074,18.296010971069336,10.520357131958008,30.699308395385742,22.28112030029297,4.996291160583496,9.597822189331055,10.158352851867676,2.655425786972046,19.476003646850586,36.003604888916016,20.019515991210938,12.503498077392578,35.850181579589844,26.362995147705078,9.879791259765625,19.6906795501709,10.234940528869629,9.980452537536621,10.162007331848145,29.738821029663086,7.15513277053833,20.994707107543945,9.32358169555664,29.590959548950195,8.769991874694824,29.841331481933594,4.512623310089111,15.393094062805176,3.9726712703704834,21.661216735839844,24.66521644592285,9.413833618164062,11.012453079223633,8.792859077453613,30.991554260253906,46.994224548339844,9.748970031738281,11.051886558532715,20.28461456298828,10.350077629089355,23.42812728881836,11.994372367858887,30.231857299804688,10.162007331848145,10.666939735412598,46.998661041259766,9.852216720581055,21.843034744262695,8.496435165405273,18.63237953186035,32.537940979003906,28.179967880249023,10.490150451660156,28.611780166625977,9.188109397888184,26.362995147705078,6.717398166656494,5.731368064880371,11.501047134399414,31.783798217773438,29.738821029663086,46.998661041259766,9.980335235595703,32.537940979003906,5.001076698303223,21.110631942749023,10.5140962600708,20.45374870300293,10.005820274353027,20.450990676879883,7.954699993133545,16.765838623046875,10.64426326751709,32.85118865966797,9.620121002197266,32.452537536621094,15.670316696166992,39.997127532958984,11.00089168548584,7.94112491607666,36.003604888916016,9.773877143859863,27.475200653076172,12.902419090270996,8.805720329284668,16.307275772094727,13.539600372314453,8.153589248657227,46.99692153930664,10.68853759765625,25.716320037841797,10.427149772644043,10.01028060913086,29.592025756835938,23.1031494140625,10.586669921875,48.99251174926758,10.15092658996582,23.607511520385742,22.003564834594727,6.602923393249512,23.519948959350586,10.998025894165039,5.731368064880371,10.118329048156738,16.470333099365234,8.454893112182617,26.05099105834961,10.920591354370117,8.114023208618164,35.850181579589844,10.592345237731934,4.790234088897705,8.236068725585938,47.99726486206055,18.2598876953125,25.416730880737305,25.80888557434082,18.09085464477539,29.999919891357422,10.158352851867676,8.09500503540039,10.628399848937988,23.853290557861328,10.628399848937988,10.064301490783691,8.693962097167969,21.63426399230957,10.991684913635254,26.1195125579834,16.870800018310547,12.39598274230957,4.223789691925049,9.230316162109375,41.99911117553711,15.466238021850586,13.029292106628418,10.592345237731934,32.99124526977539,8.153589248657227,24.69544219970703,23.519948959350586,47.99726486206055,8.48351001739502,6.401970863342285,3.0168240070343018,24.071151733398438,29.99603271484375,28.840938568115234,46.99192810058594,30.4870548248291,8.4884614944458,21.274024963378906,6.105732440948486,29.592025756835938,9.713384628295898,8.843239784240723,1.9981863498687744,23.33725929260254,10.222282409667969,30.42774200439453,9.6758394241333,7.994096279144287,10.409048080444336,19.7540283203125,9.313423156738281,10.185461044311523,28.582120895385742,10.850137710571289,9.80880355834961,9.630424499511719,38.512874603271484,10.020134925842285,22.03073501586914,2.057485580444336,23.638214111328125,9.500535011291504,7.00200891494751,7.764986515045166,15.466238021850586,10.427149772644043,35.842891693115234,7.773681640625,1.0837786197662354,9.219836235046387,6.002307891845703,10.204249382019043,22.439050674438477,10.829497337341309,20.604387283325195,9.850554466247559,9.502883911132812,23.999563217163086,11.80432415008545,9.514188766479492,9.11596965789795,23.607511520385742,6.009033203125,36.00187301635742,23.29714012145996,15.393094062805176,2.345165967941284,7.808913707733154,10.266822814941406,25.920970916748047,9.234587669372559,8.322591781616211,7.054643154144287,18.42357635498047,22.732879638671875,22.619237899780273,26.362995147705078,22.582822799682617,6.088072776794434,8.675458908081055,14.187427520751953,46.998390197753906,21.803836822509766,33.005069732666016,30.231857299804688,7.884226322174072,8.152338027954102,7.954699993133545,47.99775695800781,10.99702262878418,45.994571685791016,29.374073028564453,4.140833854675293,29.408544540405273,46.00041198730469,32.992645263671875,21.923738479614258,10.554993629455566,27.66988754272461,20.10324478149414,20.371816635131836,8.690523147583008,7.008370876312256,10.060790061950684,4.779237747192383,9.550253868103027,13.398948669433594,10.742227554321289,10.986357688903809,22.399988174438477,10.381697654724121,3.3030242919921875,37.736480712890625,20.918170928955078,9.852216720581055,46.998268127441406,10.084214210510254,19.60224723815918,33.99497985839844,9.240228652954102,8.602619171142578,9.733537673950195,32.79817199707031,8.114023208618164,15.000530242919922,9.336779594421387,10.523683547973633,8.378629684448242,32.992645263671875,5.008938312530518,26.362995147705078,10.040701866149902,7.351441860198975,16.65341567993164,10.5140962600708,10.317821502685547,23.01753044128418,23.7995548248291,19.99322509765625,32.85118865966797,9.928576469421387,7.348369598388672,9.679831504821777,15.159608840942383,46.99798583984375,9.630424499511719,33.98360061645508,10.118329048156738,35.85371398925781,12.19556713104248,27.952220916748047,9.681888580322266,19.154489517211914,10.427149772644043,13.398948669433594,11.002155303955078,27.256427764892578,4.020241737365723,26.362995147705078,8.697182655334473,9.471043586730957,21.685449600219727,18.000484466552734,9.413833618164062,10.740139961242676,8.687482833862305,6.93670654296875,8.10945987701416,10.40802001953125,8.322591781616211,10.835552215576172,7.954699993133545,11.457505226135254,10.365739822387695,29.374073028564453,7.884226322174072,10.001718521118164,5.289759635925293,24.901968002319336,18.2598876953125,10.844480514526367,23.853290557861328,10.80385684967041,9.766607284545898,5.796634674072266,18.552160263061523,8.114023208618164,7.993649959564209,29.348880767822266,10.80385684967041,15.330228805541992,24.901968002319336,8.69974136352539,8.454893112182617,10.350667953491211,9.11596965789795,7.275472164154053,9.084016799926758,9.681183815002441,9.681183815002441,47.00284957885742,27.99620246887207,19.714494705200195,9.617493629455566,17.120807647705078,28.179967880249023,17.441856384277344,6.588192939758301,7.748178482055664,10.266822814941406,8.805720329284668,27.475200653076172,10.99732780456543,14.013325691223145,4.5073347091674805,45.99475860595703,29.740053176879883,48.99613952636719,10.829497337341309,10.99726390838623,10.5140962600708,8.323841094970703,26.351974487304688,26.297454833984375,8.943548202514648,9.602051734924316,22.320348739624023,12.39598274230957,21.128253936767578,17.89529800415039,13.837700843811035,8.690523147583008,10.476469039916992,28.15795135498047,38.99041748046875,10.628399848937988,8.496435165405273,1.061462163925171,10.601349830627441,9.678961753845215,23.754228591918945,14.013325691223145,17.1180419921875,9.658766746520996,20.45374870300293,4.40212869644165,19.450876235961914,20.371816635131836,7.880949020385742,9.281310081481934,21.923738479614258,17.587162017822266,23.607511520385742,33.98360061645508,27.840452194213867,27.256427764892578,9.430000305175781,6.35015869140625,10.5322265625,32.537940979003906,22.732879638671875,1.4576520919799805,10.666939735412598,10.679605484008789,9.084016799926758,42.99401092529297,9.6758394241333,9.766607284545898,10.998025894165039,1.3288731575012207,12.00167465209961,6.597984790802002,29.374073028564453,9.766607284545898,6.992883682250977,29.590959548950195,9.617493629455566,8.687482833862305,9.188109397888184,9.56700611114502,10.995823860168457,29.408544540405273,9.748970031738281,8.39653205871582,10.80385684967041,46.99638366699219,10.0013427734375,23.446805953979492,10.664217948913574,9.188109397888184,10.995823860168457,22.003564834594727,16.935317993164062,8.939754486083984,9.070283889770508,35.842891693115234,18.09085464477539,8.369281768798828,10.43274211883545,7.348369598388672,10.554993629455566,26.375328063964844,7.351441860198975,15.388163566589355,8.747855186462402,23.456981658935547,10.14426326751709,24.754528045654297,33.005611419677734,10.43274211883545,8.713411331176758,10.511218070983887,27.018346786499023,16.65341567993164,10.511218070983887,10.717995643615723,10.222282409667969,32.99637985229492,27.67022705078125,10.717995643615723,9.092676162719727,5.3191728591918945,8.675458908081055,33.005069732666016,9.759340286254883,9.955982208251953,44.99947738647461,1.004004716873169,31.004650115966797,9.500535011291504,10.92224407196045,12.937507629394531,46.994224548339844,19.813705444335938,26.297454833984375,9.46860408782959,9.766607284545898,27.82107925415039,13.548666000366211,8.31916618347168,23.004825592041016,9.617493629455566,35.85371398925781,10.365926742553711,13.01048469543457,20.918170928955078,12.800344467163086,10.92224407196045,30.663244247436523,10.57845687866211,29.99211883544922,6.550624847412109,9.413833618164062,10.993144035339355,30.50636100769043,14.136956214904785,20.10324478149414,10.313663482666016,3.866230010986328,4.790234088897705,19.7540283203125,23.526592254638672,35.842891693115234,28.582120895385742,30.231857299804688,6.2656707763671875,47.997196197509766,9.43702507019043,18.244314193725586,17.010578155517578,26.63436508178711,27.075727462768555,20.595388412475586,1.0017023086547852,18.99648666381836,13.398948669433594,27.67022705078125,30.570194244384766,9.018501281738281,47.99775695800781,9.11967945098877,8.998104095458984,36.00187301635742,26.05099105834961,8.899945259094238,12.937507629394531,28.317298889160156,29.841331481933594,29.408544540405273,23.446805953979492,8.633648872375488,29.999711990356445,28.840938568115234,9.906736373901367,9.735618591308594,26.351974487304688,10.920591354370117,10.368123054504395,26.003833770751953,10.9439115524292,42.99401092529297,20.064613342285156,9.514188766479492,14.1329984664917,21.090696334838867,5.337945938110352,29.48801040649414,24.69544219970703,28.73668098449707,11.998053550720215,33.005611419677734,12.817111015319824,1.037380337715149,11.66545295715332,9.847271919250488,7.748178482055664,12.19556713104248,38.999176025390625,8.48351001739502,21.259599685668945,26.94347381591797,10.185461044311523,26.883281707763672,5.413442611694336,1.1948213577270508,10.118329048156738,32.7888298034668,28.582120895385742,20.30341911315918,9.681888580322266,8.780579566955566,10.009057998657227,9.766607284545898,10.43274211883545,32.537940979003906,10.679605484008789,23.991466522216797,3.885821580886841,32.452537536621094,8.693962097167969,9.612786293029785,7.604070663452148,7.275472164154053,10.998504638671875,28.611780166625977,49.99711608886719,1.9328851699829102,9.656206130981445,9.84430980682373,30.387727737426758,20.902135848999023,9.488468170166016,4.387641906738281,29.42477798461914,10.511218070983887,10.313663482666016,9.620121002197266,6.998477458953857,9.765138626098633,24.310861587524414,23.607511520385742,8.899945259094238,20.450990676879883,8.282562255859375,23.89678955078125,23.7995548248291,15.14138412475586,9.980452537536621,8.078539848327637,26.94347381591797,9.980452537536621,9.09880256652832,8.078539848327637,1.995975136756897,31.99604606628418,7.770124912261963,10.687082290649414,9.11596965789795,10.313663482666016,30.498313903808594,23.609622955322266,8.002328872680664,10.381697654724121,10.546378135681152,3.0250580310821533,17.441856384277344,29.499216079711914,6.671680450439453,8.009519577026367,9.179049491882324,4.12709903717041,9.847055435180664,8.712608337402344,45.997802734375,13.532759666442871,5.758303165435791,27.998817443847656,10.80385684967041,28.179967880249023,9.46860408782959,26.362995147705078,10.9991455078125,9.164668083190918,38.99663162231445,27.475200653076172,24.901968002319336,10.57845687866211,8.323841094970703,22.28112030029297,20.918170928955078,1.9910085201263428,5.98490047454834,10.5140962600708,5.913297176361084,24.171995162963867,25.04163932800293,5.823558807373047,9.084016799926758,4.995509624481201,10.511218070983887,8.096148490905762,25.4044189453125,8.780579566955566,10.920591354370117,27.075727462768555,19.60224723815918,46.98927688598633,10.002735137939453,44.99821090698242,9.240228652954102,10.350077629089355,9.847271919250488,28.00888442993164,10.99702262878418,11.100743293762207,9.777139663696289,8.441993713378906,25.716320037841797,18.552160263061523,9.237875938415527,27.475200653076172,19.476003646850586,12.553204536437988,9.908280372619629,8.465921401977539,27.840452194213867,30.20746421813965,38.999176025390625,15.269937515258789,9.156953811645508,7.954699993133545,19.450876235961914,2.9926869869232178,8.322591781616211,17.99289321899414,10.122078895568848,8.31916618347168,8.713411331176758,10.162007331848145,8.210210800170898,29.000484466552734,10.999865531921387,8.225568771362305,24.68092155456543,47.00284957885742,46.98927688598633,20.99810218811035,32.452537536621094,22.632150650024414,10.45630168914795,12.817111015319824,10.68676471710205,21.225496292114258,18.529537200927734,12.993623733520508,27.018346786499023,10.995823860168457,47.99702453613281,26.556333541870117,45.999725341796875,45.99345779418945,26.745168685913086,19.154489517211914,18.270484924316406,23.29714012145996,12.943619728088379,10.993144035339355,10.835552215576172,8.747855186462402,10.546378135681152,1.9885834455490112,46.00041198730469,39.58482360839844,7.15513277053833,9.777139663696289,26.375328063964844,19.154489517211914,9.219836235046387,23.638214111328125,8.01833724975586,9.242424964904785,2.987351417541504,4.267751216888428,26.94347381591797,42.99401092529297,10.850137710571289,7.232919692993164,30.119539260864258,23.607511520385742,17.002220153808594,32.00121307373047,8.939754486083984,9.418399810791016,45.997802734375,7.471621513366699,9.575180053710938,23.010623931884766,12.010062217712402,23.638214111328125,19.278383255004883,20.918170928955078,1.024850845336914,26.745168685913086,9.461868286132812,31.609806060791016,30.387727737426758,10.122078895568848,10.410309791564941,42.99401092529297,46.997802734375,9.323162078857422,5.713758945465088,34.99894332885742,8.114023208618164,2.997218608856201,18.42357635498047,10.546378135681152,10.003549575805664,29.321218490600586,10.409048080444336,9.879791259765625,18.271249771118164,13.029292106628418,10.063267707824707,29.590959548950195,27.475200653076172,7.822807788848877,9.892024040222168,9.860928535461426,10.381697654724121,34.9942626953125,13.398948669433594,9.980452537536621,36.22519302368164,7.471621513366699,35.85371398925781,32.993812561035156,8.104333877563477,10.68853759765625,21.274024963378906,25.143035888671875,10.994833946228027,7.764986515045166,36.39832305908203,32.99124526977539,25.92588996887207,9.955982208251953,14.41190242767334,9.514188766479492,8.69974136352539,15.393094062805176,9.488468170166016,21.007232666015625,21.090696334838867,1.9857206344604492,25.957242965698242,10.234940528869629,22.541593551635742,6.401970863342285,10.43274211883545,7.237369060516357,9.341938972473145,9.928576469421387,10.36550521850586,9.336779594421387,25.995681762695312,46.98927688598633,26.04893684387207,16.56827163696289,18.296010971069336,9.240228652954102,5.731368064880371,9.681183815002441,13.605818748474121,10.313663482666016,17.89529800415039,10.279484748840332,2.2458415031433105,32.99124526977539,38.277015686035156,8.640508651733398,23.89678955078125,9.681888580322266,19.99322509765625,9.6734619140625,23.519306182861328,25.662134170532227,18.09085464477539,10.060790061950684,36.99260711669922,10.861279487609863,8.896449089050293,33.005558013916016,12.504154205322266,25.995681762695312,11.371526718139648,30.119539260864258,20.002288818359375,8.48351001739502,9.955982208251953,37.736480712890625,9.99148941040039,47.00284957885742,34.54588317871094,8.496367454528809,27.952220916748047,9.765138626098633,8.169167518615723,21.259599685668945,21.63426399230957,31.991926193237305,1.974338412284851,45.996177673339844,1.995338797569275,37.93001937866211,26.737552642822266,7.098461151123047,9.413833618164062,8.441993713378906,6.103486061096191,10.523048400878906,4.43198823928833,9.850554466247559,4.779237747192383,8.851678848266602,39.58482360839844,7.350316047668457,10.68853759765625,9.860928535461426,28.317298889160156,10.835552215576172,0.9933739304542542,38.277015686035156,27.018346786499023,21.803836822509766,4.003914833068848,2.4267940521240234,10.687082290649414,9.1986083984375,5.319528102874756,10.02706527709961,11.012764930725098,23.29714012145996,7.7152509689331055,9.500535011291504,10.381697654724121,9.995233535766602,4.020537376403809,8.89129638671875,3.8434274196624756,10.234940528869629,12.998995780944824,1.1545518636703491,9.471043586730957,10.628399848937988,46.995967864990234,5.823558807373047,37.91913986206055,26.297454833984375,4.995509624481201,9.763666152954102,30.995933532714844,10.117622375488281,9.221919059753418,49.99711608886719,10.541581153869629,32.79817199707031,34.87192916870117,24.310861587524414,9.906736373901367,8.31916618347168,29.99603271484375,8.861492156982422,17.740100860595703,4.994842529296875,9.454665184020996,30.20746421813965,4.12709903717041,17.010578155517578,9.656206130981445,25.00792121887207,45.997802734375,2.5104126930236816,8.378629684448242,3.9726712703704834,1.6829396486282349,8.02731990814209,3.6218154430389404,24.68092155456543,9.164668083190918,9.906736373901367,22.632150650024414,22.235429763793945,21.63426399230957,2.0054807662963867,31.783798217773438,9.514188766479492,36.003604888916016,9.681183815002441,9.658766746520996,26.375328063964844,20.144268035888672,9.092676162719727,9.748970031738281,11.624399185180664,15.159608840942383,10.998455047607422,4.005602836608887,10.409048080444336,3.685103178024292,9.234587669372559,15.388163566589355,26.745168685913086,8.738802909851074,9.766607284545898,9.164668083190918,15.077001571655273,29.374073028564453,10.990925788879395,45.999725341796875,23.004825592041016,42.998661041259766,8.12769889831543,15.473954200744629,12.937507629394531,10.804454803466797,12.19556713104248,47.620914459228516,47.00069046020508,9.584091186523438,7.504640102386475,9.171902656555176,32.00121307373047,3.978276014328003,9.341938972473145,34.48563766479492,8.000604629516602,4.337683200836182,24.315523147583008,9.428250312805176,1.7230864763259888,27.018346786499023,9.2840576171875,9.80870532989502,22.235429763793945,16.726442337036133,26.04893684387207,9.514188766479492,9.242424964904785,34.59677505493164,23.853290557861328,9.43702507019043,10.122078895568848,35.00796127319336,29.13665199279785,46.00259780883789,26.04893684387207,30.570194244384766,10.995823860168457,17.587162017822266,11.005985260009766,12.943619728088379,6.088072776794434,9.955982208251953,4.7776312828063965,23.99805450439453,1.4865577220916748,10.523683547973633,9.461868286132812,9.852216720581055,25.91309928894043,8.712608337402344,9.892024040222168,29.13665199279785,17.56698226928711,12.817111015319824,19.73688507080078,9.581221580505371,31.609806060791016,9.559950828552246,7.748178482055664,9.681183815002441,20.813552856445312,25.143035888671875,2.999202251434326,9.847055435180664,10.998504638671875,38.99041748046875,24.171995162963867,9.765138626098633,44.0019645690918,8.871421813964844,2.003565788269043,34.54588317871094,10.001874923706055,10.861279487609863,8.041500091552734,9.413833618164062,10.118329048156738,28.611780166625977,23.42812728881836,9.852216720581055,26.884931564331055,29.0078182220459,15.466238021850586,29.592025756835938,29.592025756835938,9.43702507019043,9.461868286132812,30.55196762084961,7.773681640625,35.842891693115234,39.997310638427734,25.632394790649414,29.48801040649414,32.85118865966797,9.430000305175781,10.221784591674805,12.943619728088379,25.662134170532227,8.640508651733398,9.413833618164062,8.602619171142578,30.998397827148438,20.05224609375,9.242424964904785,19.433168411254883,12.920171737670898,19.007795333862305,9.530702590942383,8.902944564819336,9.018501281738281,11.0606689453125,5.5728068351745605,2.5962443351745605,14.734152793884277,10.99409294128418,26.534093856811523,1.994201898574829,8.12769889831543,22.366025924682617,10.090502738952637,20.144268035888672,27.67022705078125,5.829280853271484,10.688407897949219,30.998397827148438,8.088218688964844,42.99401092529297,27.840452194213867,32.844085693359375,8.693962097167969,9.43702507019043,7.351441860198975,22.950653076171875,8.496435165405273,23.780994415283203,8.53842544555664,26.745168685913086,9.56700611114502,8.000604629516602,17.587162017822266,25.416730880737305,10.313663482666016,1.4366247653961182,8.210210800170898,31.99564552307129,21.274024963378906,6.964953899383545,2.904538869857788,10.998504638671875,10.221784591674805,10.9439115524292,8.11920166015625,2.971752643585205,25.603776931762695,8.939754486083984,10.722643852233887,12.992823600769043,10.350077629089355,9.849834442138672,30.498313903808594,9.906736373901367,17.003286361694336,25.714561462402344,10.601349830627441,9.482412338256836,20.19036293029785,9.336779594421387,9.413833618164062,8.784574508666992,1.7230864763259888,7.073886394500732,2.9620859622955322,25.873310089111328,12.817111015319824,10.350077629089355,7.993649959564209,6.98020601272583,7.748178482055664,26.297454833984375,3.1708714962005615,10.856571197509766,22.28112030029297,8.712608337402344,11.988964080810547,19.450876235961914,22.399988174438477,35.85371398925781,10.336026191711426,32.99124526977539,9.43702507019043,7.533474445343018,18.270484924316406,9.759340286254883,14.808056831359863,26.05099105834961,5.984412670135498,18.238765716552734,10.266822814941406,23.780994415283203,24.352920532226562,5.99843168258667,32.844085693359375,21.685449600219727,27.475200653076172,31.609806060791016,25.99367904663086,10.844480514526367,10.802189826965332,9.54249382019043,10.835552215576172,44.00151824951172,17.740100860595703,27.874961853027344,2.9044342041015625,6.610294818878174,14.40882682800293,7.054643154144287,28.022289276123047,18.280439376831055,10.850137710571289,47.00284957885742,19.99322509765625,3.9935100078582764,23.780994415283203,16.307275772094727,8.465921401977539,13.54343032836914,27.475200653076172,22.619237899780273,8.583192825317383,29.42477798461914,10.861279487609863,21.012971878051758,9.43702507019043,7.7152509689331055,32.537940979003906,10.57845687866211,5.319528102874756,35.842891693115234,10.679605484008789,9.323162078857422,21.156641006469727,26.884931564331055,12.553204536437988,14.21430492401123,9.928576469421387,29.999711990356445,10.717995643615723,34.59677505493164,4.5073347091674805,29.740053176879883,10.004541397094727,35.85371398925781,9.87511157989502,25.714561462402344,30.4870548248291,7.748178482055664,1.0141328573226929,8.55649185180664,42.998661041259766,27.840452194213867,4.40212869644165,23.33725929260254,8.780579566955566,14.408916473388672,29.48801040649414,9.070283889770508,7.627941131591797,9.748970031738281,32.99683380126953,9.928576469421387,6.93670654296875,10.476469039916992,9.969718933105469,47.620914459228516,26.05099105834961,9.234587669372559,32.99683380126953,9.860928535461426,27.218637466430664,29.348880767822266,32.992645263671875,6.998477458953857,23.33725929260254,10.266822814941406,8.041500091552734,7.153273105621338,9.84430980682373,23.42812728881836,8.078539848327637,14.461886405944824,16.65165138244629,39.997127532958984,10.802189826965332,23.01753044128418,10.722643852233887,23.91277503967285,31.158069610595703,9.847055435180664,35.00192642211914,9.428250312805176,10.920591354370117,10.994833946228027,42.02029037475586,6.691022872924805,21.63426399230957,27.075727462768555,30.119539260864258,6.993087291717529,10.00570011138916,26.04893684387207,4.02739143371582,6.401970863342285,26.63436508178711,10.040701866149902,10.554993629455566,30.498313903808594,7.348369598388672,36.99675369262695,9.849834442138672,42.99686813354492,10.991684913635254,29.738821029663086,24.901968002319336,45.999725341796875,9.581221580505371,24.577510833740234,19.433168411254883,9.164668083190918,10.996517181396484,10.742227554321289,10.988614082336426,2.4397573471069336,7.604070663452148,0.9423951506614685,20.918170928955078,15.753804206848145,6.998477458953857,29.740053176879883,27.840452194213867,12.278754234313965,31.99564552307129,34.90902328491211,10.006096839904785,7.350316047668457,23.29714012145996,16.49820327758789,46.998661041259766,23.1031494140625,10.313663482666016,16.12637710571289,10.586669921875,19.278383255004883,9.821782112121582,9.237875938415527,19.747390747070312,35.85371398925781,20.813552856445312,10.15092658996582,8.99744987487793,8.041500091552734,36.22519302368164,2.2625644207000732,9.995233535766602,9.540509223937988,9.847055435180664,23.1031494140625,28.582120895385742,7.28986120223999,8.819260597229004,7.494722843170166,9.428250312805176,26.852859497070312,8.760438919067383,7.153273105621338,0.9989442825317383,10.381697654724121,9.130666732788086,4.995509624481201,1.7708396911621094,7.748178482055664,27.66988754272461,47.620914459228516,2.2458415031433105,7.822807788848877,9.995789527893066,8.738661766052246,31.726186752319336,30.387727737426758,37.93001937866211,14.408916473388672,20.10324478149414,29.321218490600586,31.726186752319336,10.336026191711426,8.690523147583008,7.954699993133545,32.537940979003906,26.0007266998291,22.12224769592285,7.604070663452148,9.43702507019043,24.212739944458008,6.0016703605651855,9.500535011291504,19.53264808654785,3.9954185485839844,8.427267074584961,14.40882682800293,20.28461456298828,5.731368064880371,26.94347381591797,7.748178482055664,26.694372177124023,29.999711990356445,28.840938568115234,6.964953899383545,16.1119384765625,7.994096279144287,30.42774200439453,13.029292106628418,26.05099105834961,25.00792121887207,10.722643852233887,28.611780166625977,23.526592254638672,26.0007266998291,26.05099105834961,10.64426326751709,10.02706527709961,46.998268127441406,9.908280372619629,7.183191776275635,10.995823860168457,17.9636173248291,9.80880355834961,9.550253868103027,23.91277503967285,7.141944885253906,23.519306182861328,18.296010971069336,34.54588317871094,34.59677505493164,23.89678955078125,23.999563217163086,24.69544219970703,10.897185325622559,25.133337020874023,25.662134170532227,27.99798011779785,10.409048080444336,20.993404388427734,10.410309791564941,6.05025577545166,3.0250580310821533,8.693962097167969,10.541001319885254,7.471621513366699,15.269937515258789,10.040701866149902,14.734152793884277,7.232919692993164,8.633648872375488,10.156126976013184,10.040701866149902,18.99648666381836,2.670177459716797,32.452537536621094,37.736480712890625,9.620121002197266,6.103486061096191,25.80888557434082,47.99702453613281,20.019515991210938,9.242424964904785,10.060790061950684,2.4397573471069336,49.99711608886719,23.991466522216797,9.658766746520996,23.7995548248291,24.315523147583008,42.998661041259766,20.019515991210938,45.999725341796875,10.835552215576172,3.251772165298462,9.682534217834473,8.693962097167969,15.670316696166992,36.003604888916016,18.244314193725586,8.276784896850586,28.15795135498047,8.014013290405273,46.998268127441406,18.989883422851562,10.266822814941406,24.901968002319336,30.570194244384766,8.631359100341797,3.060079574584961,46.00041198730469,26.680423736572266,10.628399848937988,9.630424499511719,8.819260597229004,30.99718475341797,29.740053176879883,8.80319881439209,25.000686645507812,25.714561462402344,16.1119384765625,10.002735137939453,10.350077629089355,1.5135667324066162,25.995681762695312,9.612786293029785,10.381697654724121,11.995833396911621,28.582120895385742,18.989883422851562,1.9696658849716187,21.000459671020508,3.8434274196624756,5.5728068351745605,8.09500503540039,46.998390197753906,11.998053550720215,8.169167518615723,8.602619171142578,10.92224407196045,10.326692581176758,14.21430492401123,7.842427730560303,26.05099105834961,1.330939769744873,19.00380516052246,30.991554260253906,8.55649185180664,14.21430492401123,8.747855186462402,28.179967880249023,9.43702507019043,15.163762092590332,16.49820327758789,32.452537536621094,9.502883911132812,42.99401092529297,36.22519302368164,9.418399810791016,19.450876235961914,36.22519302368164,8.152338027954102,18.271249771118164,20.064613342285156,8.687482833862305,24.171995162963867,10.493741989135742,10.666604995727539,29.374073028564453,13.01048469543457,23.89678955078125,26.054685592651367,16.307275772094727,10.317821502685547,9.955982208251953,22.28112030029297,10.99726390838623,4.410327911376953,4.5073347091674805,10.99732780456543,5.85891580581665,26.04893684387207,9.11967945098877,39.58482360839844,20.213895797729492,23.42812728881836,20.902135848999023,31.158069610595703,27.99798011779785,8.640508651733398,9.797906875610352,9.336779594421387,18.270484924316406,25.143035888671875,8.104333877563477,8.000604629516602,46.99192810058594,22.950653076171875,36.112125396728516,28.280874252319336,7.141944885253906,10.57845687866211,45.99378204345703,17.40412139892578,46.98927688598633,26.375328063964844,9.906736373901367,25.04163932800293,33.999534606933594,27.66988754272461,24.68092155456543,9.540509223937988,20.10324478149414,30.20746421813965,10.68853759765625,5.092333793640137,10.427149772644043,28.995824813842773,9.500535011291504,36.996299743652344,18.270484924316406,24.68092155456543,10.998504638671875,19.7540283203125,10.63845443725586,11.138962745666504,9.521025657653809,10.063267707824707,29.348880767822266,10.544890403747559,10.72044849395752,7.884226322174072,29.374073028564453,25.662134170532227,5.007905006408691,8.896449089050293,14.537103652954102,15.99955940246582,10.804454803466797,8.865527153015137,10.546378135681152,30.570194244384766,45.99760437011719,36.39832305908203,8.648005485534668,14.00961971282959,9.514188766479492,10.844480514526367,10.266822814941406,10.544890403747559,15.042795181274414,4.426253318786621,45.996177673339844,9.241464614868164,9.341938972473145,2.969033718109131,23.519948959350586,7.003795623779297,34.90902328491211,9.461868286132812,29.996978759765625,6.994082927703857,29.374073028564453,39.58482360839844,31.783798217773438,25.92588996887207,35.85371398925781,8.039347648620605,30.00508689880371,23.754228591918945,9.790945053100586,46.98927688598633,8.31916618347168,2.9510011672973633,8.282562255859375,28.997222900390625,32.844085693359375,1.8774213790893555,32.00566864013672,10.856571197509766,2.015800952911377,8.322591781616211,22.732879638671875,35.85371398925781,8.104333877563477,9.850554466247559,9.540509223937988,27.952220916748047,11.051886558532715,32.43260955810547,18.2598876953125,31.990934371948242,7.822807788848877,21.179426193237305,10.541581153869629,9.612786293029785,28.614229202270508,9.419493675231934,10.664217948913574,23.998390197753906,32.992645263671875,9.482412338256836,9.242424964904785,10.204249382019043,33.005611419677734,9.43702507019043,26.375328063964844,10.993144035339355,10.317821502685547,35.850181579589844,9.502883911132812,24.171995162963867,10.9439115524292,8.000604629516602,9.1986083984375,9.240228652954102,34.54588317871094,10.040701866149902,10.222282409667969,18.989883422851562,14.21430492401123,20.813552856445312,23.853290557861328,7.348369598388672,15.99972152709961,8.943548202514648,8.55649185180664,24.315523147583008,10.664217948913574,8.000629425048828,3.866230010986328,25.873310089111328,5.85891580581665,33.999298095703125,30.991554260253906,8.851678848266602,10.476469039916992,9.32358169555664,23.780994415283203,8.201923370361328,27.998817443847656,8.236068725585938,47.997196197509766,15.159608840942383,18.296010971069336,23.853290557861328,7.003795623779297,31.156108856201172,21.84358787536621,44.99821090698242,10.313663482666016,19.450876235961914,9.969718933105469,27.840452194213867,22.00276756286621,10.835552215576172,10.313663482666016,9.550253868103027,29.592025756835938,4.380093574523926,10.222282409667969,9.336779594421387,29.592025756835938,10.43274211883545,9.955982208251953,25.91309928894043,5.146968841552734,47.997196197509766,2.2377116680145264,27.256427764892578,46.99692153930664,9.998895645141602,9.428250312805176,3.47019362449646,24.999570846557617,12.16746997833252,8.225568771362305,7.748178482055664,23.109643936157227,8.640508651733398,12.629714012145996,20.604387283325195,35.00192642211914,18.733646392822266,19.154489517211914,9.790945053100586,9.1986083984375,9.777139663696289,21.730865478515625,26.694372177124023,27.82107925415039,7.7152509689331055,8.633648872375488,4.301308631896973,47.00284957885742,1.004012107849121,9.617493629455566,28.611780166625977,9.612786293029785,6.550624847412109,9.210433006286621,8.583192825317383,9.995789527893066,9.336779594421387,34.54588317871094,12.629714012145996,9.179049491882324,25.91309928894043,7.009324073791504,25.995664596557617,23.89678955078125,10.281373023986816,10.541581153869629,7.748178482055664,1.0243124961853027,8.002328872680664,10.99409294128418,15.670316696166992,7.2040886878967285,7.400132179260254,9.946722030639648,28.022289276123047,10.995823860168457,19.007795333862305,30.42774200439453,7.232919692993164,10.835552215576172,9.125033378601074,22.28112030029297,10.541581153869629,36.112125396728516,8.943957328796387,8.53842544555664,22.582822799682617,44.00151824951172,38.99041748046875,12.504154205322266,1.9857206344604492,20.450990676879883,9.980452537536621,25.99367904663086,10.57845687866211,2.060293674468994,38.999664306640625,46.98927688598633,10.156126976013184,21.179426193237305,14.013325691223145,2.0083625316619873,8.776022911071777,15.269937515258789,23.008995056152344,18.280439376831055,26.63436508178711,27.54661750793457,10.994222640991211,24.212739944458008,11.004788398742676,19.803693771362305,10.9439115524292,28.73668098449707,9.682534217834473,36.112125396728516,7.350316047668457,9.908280372619629,8.85281753540039,4.005834579467773,32.537940979003906,2.670177459716797,32.99637985229492,32.99683380126953,8.152338027954102,10.266822814941406,46.99599838256836,19.476003646850586,25.04163932800293,30.00508689880371,10.666939735412598,10.060790061950684,10.368123054504395,27.952220916748047,9.960344314575195,10.995881080627441,13.605818748474121,10.57845687866211,26.94347381591797,25.92588996887207,26.375328063964844,10.850137710571289,8.323841094970703,17.997316360473633,26.64225959777832,16.65341567993164,27.82107925415039,7.809635162353516,14.808056831359863,8.02731990814209,23.109643936157227,1.6914563179016113,38.99663162231445,9.678961753845215,4.002847671508789,46.99192810058594,10.001592636108398,9.575180053710938,13.98695182800293,23.456981658935547,47.0009651184082,10.996692657470703,46.994224548339844,6.255199909210205,46.99638366699219,9.341938972473145,19.99322509765625,10.122078895568848,23.519306182861328,35.00796127319336,10.365926742553711,10.63845443725586,3.9782981872558594,12.996866226196289,8.784574508666992,6.82099723815918,15.159608840942383,11.988964080810547,30.071735382080078,23.33725929260254,22.129304885864258,16.629207611083984,9.681183815002441,29.590959548950195,10.326692581176758,22.692930221557617,2.0611062049865723,9.960344314575195,9.094226837158203,9.092676162719727,18.280439376831055,14.461886405944824,38.99041748046875,10.014894485473633,21.873645782470703,8.114023208618164,23.607511520385742,9.164668083190918,7.073886394500732,28.614229202270508,3.993882417678833,27.952220916748047,10.350667953491211,10.40802001953125,29.374073028564453,9.612786293029785,11.089024543762207,7.954699993133545,5.99843168258667,31.99564552307129,12.373611450195312,9.141189575195312,10.856571197509766,10.204249382019043,19.694976806640625,9.821599960327148,9.860928535461426,22.88440704345703,23.607511520385742,28.280874252319336,5.731368064880371,28.614229202270508,10.99702262878418,8.004148483276367,26.362995147705078,10.80385684967041,10.9439115524292,15.269937515258789,7.348369598388672,2.2804880142211914,23.998390197753906,10.68676471710205,4.380093574523926,32.854618072509766,4.006198883056641,6.103486061096191,47.99726486206055,2.0231802463531494,24.863012313842773,9.09880256652832,9.777139663696289,38.99663162231445,10.427149772644043,4.589243412017822,8.896449089050293,9.430000305175781,8.107210159301758,31.726186752319336,28.582120895385742,10.688407897949219,8.153642654418945,23.29714012145996,32.7888298034668,8.539920806884766,9.821782112121582,6.93670654296875,10.381697654724121,10.009057998657227,32.23894500732422,11.096822738647461,46.997802734375,9.790945053100586,8.233926773071289,18.00796890258789,10.63845443725586,9.241464614868164,26.989118576049805,9.234587669372559,18.529537200927734,33.56051254272461,8.738661766052246,10.476469039916992,8.583192825317383,22.03073501586914,7.773681640625,4.280797004699707,10.9439115524292,1.0105512142181396,9.242424964904785,23.1031494140625,11.998053550720215,19.60224723815918,18.911413192749023,11.00089168548584,10.592345237731934,3.9935100078582764,26.351974487304688,10.118329048156738,12.992823600769043,10.679605484008789,6.610294818878174,23.519948959350586,1.0141100883483887,10.742227554321289,17.120807647705078,1.6879287958145142,25.410003662109375,6.588192939758301,10.920591354370117,8.690523147583008,9.995028495788574,21.356021881103516,17.89529800415039,36.112125396728516,8.322591781616211,8.792859077453613,14.808056831359863,16.629207611083984,10.350077629089355,4.99957799911499,9.852216720581055,9.104650497436523,9.092676162719727,25.91309928894043,6.901545524597168,10.998455047607422,9.821599960327148,21.730865478515625,26.534093856811523,9.1986083984375,8.975748062133789,2.3538146018981934,10.998025894165039,3.993882417678833,10.742227554321289,35.00796127319336,14.649272918701172,36.996299743652344,10.117622375488281,12.996866226196289,18.63237953186035,8.871127128601074,20.918170928955078,4.002761363983154,9.349064826965332,7.809635162353516,21.356021881103516,20.813552856445312,10.775094985961914,24.002975463867188,10.995902061462402,7.994295120239258,26.362995147705078,16.369544982910156,6.442307472229004,25.662134170532227,36.003604888916016,8.31916618347168,10.697667121887207,27.005123138427734,23.42812728881836,8.792859077453613,9.060643196105957,10.740139961242676,16.65165138244629,4.008625507354736,32.844085693359375,21.156641006469727,45.99475860595703,8.89129638671875,9.00023078918457,10.68676471710205,30.663244247436523,10.266822814941406,8.454893112182617,27.874961853027344,10.350077629089355,5.034372329711914,19.714494705200195,29.374073028564453,29.999711990356445,36.003604888916016,36.112125396728516,39.58482360839844,1.771356463432312,10.01028060913086,10.45630168914795,22.494768142700195,7.954699993133545,20.918170928955078,9.281310081481934,38.512874603271484,19.714494705200195,3.300205945968628,46.998268127441406,7.604070663452148,8.851678848266602,8.441993713378906,1.9920270442962646,7.471621513366699,9.980452537536621,46.9987907409668,10.490150451660156,28.00888442993164,1.0595879554748535,9.678961753845215,9.772513389587402,9.942845344543457,23.456981658935547,10.266822814941406,8.10945987701416,23.91277503967285,9.813167572021484,4.995810031890869,26.04893684387207,9.969718933105469,48.99251174926758,19.694976806640625,29.408544540405273,9.960344314575195,47.620914459228516,5.483877658843994,29.336801528930664,20.30341911315918,28.268943786621094,3.244023561477661,31.991926193237305,28.614229202270508,20.371816635131836,22.88440704345703,10.365739822387695,8.153589248657227,4.0048322677612305,35.842891693115234,30.55196762084961,4.12709903717041,16.49820327758789,4.0251264572143555,28.280874252319336,9.313423156738281,3.56744384765625,13.54343032836914,29.321218490600586,22.320348739624023,8.896449089050293,9.242424964904785,9.46860408782959,35.71189880371094,10.988614082336426,2.9906675815582275,8.078539848327637,32.537940979003906,2.2950990200042725,10.775094985961914,28.611780166625977,10.156126976013184,10.592345237731934,10.993144035339355,10.80385684967041,21.63426399230957,29.0078182220459,12.16746997833252,27.998817443847656,10.586669921875,24.315523147583008,20.05224609375,10.266822814941406,9.237875938415527,10.313663482666016,26.737552642822266,33.00881576538086,9.1986083984375,25.603776931762695,8.288782119750977,20.918170928955078,5.713758945465088,9.28718090057373,3.986009359359741,26.64225959777832,20.213895797729492,12.141694068908691,10.99732780456543,9.617493629455566,10.996517181396484,24.352920532226562,9.852216720581055,41.99911117553711,8.738802909851074,30.699308395385742,10.666604995727539,9.094226837158203,31.991926193237305,23.8516845703125,31.609806060791016,10.802189826965332,10.03610897064209,38.277015686035156,9.482412338256836,30.119539260864258,15.163762092590332,7.154903411865234,11.995833396911621,30.20746421813965,1.3364520072937012,8.843239784240723,10.14426326751709,32.99541091918945,4.00518798828125,18.911413192749023,9.248682975769043,26.737552642822266,10.995823860168457,47.620914459228516,8.31916618347168,9.092676162719727,8.810291290283203,15.753804206848145,37.93001937866211,8.633648872375488,8.871421813964844,9.946722030639648,9.248682975769043,10.57845687866211,2.697736978530884,11.100743293762207,30.387727737426758,35.00796127319336,9.612786293029785,9.906736373901367,17.89529800415039,37.93001937866211,15.987632751464844,15.99972152709961,10.204249382019043,15.709458351135254,47.620914459228516,10.409048080444336,26.556333541870117,10.427149772644043,9.00070571899414,24.310861587524414,9.56700611114502,8.612759590148926,9.171902656555176,9.748970031738281,46.99599838256836,22.129304885864258,26.05099105834961,21.225496292114258,8.896449089050293,32.00285339355469,28.15795135498047,24.863012313842773,8.769991874694824,9.530702590942383,9.070283889770508,28.998144149780273,30.498313903808594,29.99683952331543,4.319788455963135,18.014389038085938,6.009033203125,27.82107925415039,23.781116485595703,20.064613342285156,46.99638366699219,10.523683547973633,1.0056889057159424,23.785011291503906,38.512874603271484,47.620914459228516,32.537940979003906,7.809635162353516,9.164668083190918,9.955982208251953,26.852859497070312,7.124060153961182,6.010397911071777,10.185461044311523,23.89678955078125,8.078539848327637,10.266822814941406,10.350077629089355,10.040193557739258,19.278383255004883,24.310861587524414,21.969318389892578,9.43702507019043,27.256427764892578,16.470333099365234,26.375328063964844,8.000604629516602,7.504640102386475,1.99806547164917,22.320348739624023,39.998443603515625,1.6355774402618408,30.00508689880371,3.6484577655792236,30.991554260253906,8.690523147583008,47.620914459228516,10.427149772644043,9.514188766479492,10.717995643615723,47.620914459228516,9.946722030639648,17.018728256225586,29.348880767822266,15.269937515258789,29.374073028564453,22.582822799682617,37.93001937866211,5.981548309326172,26.680423736572266,18.552160263061523,10.546378135681152,26.054685592651367,45.99760437011719,8.69974136352539,10.9439115524292,10.317821502685547,3.0621354579925537,44.99821090698242,25.4044189453125,8.041500091552734,4.014425277709961,9.906736373901367,2.9910173416137695,18.42357635498047,22.494768142700195,32.99637985229492,28.317298889160156,30.55196762084961,21.179426193237305,29.42477798461914,48.99613952636719,30.231857299804688,27.99066734313965,25.416730880737305,8.85281753540039,17.120807647705078,28.73668098449707,10.476469039916992,10.98391342163086,13.41028881072998,36.00187301635742,9.141189575195312,14.40882682800293,9.969718933105469,8.640508651733398,8.792859077453613,8.09500503540039,27.256427764892578,4.005602836608887,36.22519302368164,11.990532875061035,4.067871570587158,9.56700611114502,1.363874912261963,28.791826248168945,21.007232666015625,18.688840866088867,7.141944885253906,46.98927688598633,10.234940528869629,33.999298095703125,5.092333793640137,9.681183815002441,9.060643196105957,1.114912748336792,3.0167300701141357,10.520357131958008,20.45374870300293,18.59160041809082,35.71189880371094,12.39598274230957,10.060790061950684,1.341630220413208,28.614229202270508,6.994082927703857,10.861279487609863,9.428250312805176,25.143035888671875,22.692930221557617,27.005123138427734,33.56051254272461,10.495339393615723,5.337945938110352,25.714561462402344,9.612786293029785,5.98490047454834,8.99744987487793,12.373611450195312,9.892024040222168,5.007058620452881,30.40837287902832,34.87192916870117,10.740139961242676,19.73688507080078,1.025252103805542,29.348880767822266,1.994201898574829,41.99911117553711,6.722919940948486,8.631359100341797,8.693962097167969,4.495079040527344,9.461868286132812,17.9636173248291,14.575264930725098,26.00403594970703,19.73688507080078,10.064301490783691,14.999186515808105,29.321218490600586,41.99809646606445,2.003565788269043,22.366025924682617,1.2084128856658936,21.10901641845703,10.365739822387695,7.625458240509033,25.45445442199707,9.852216720581055,8.690523147583008,38.999176025390625,25.496606826782227,15.077001571655273,19.2474422454834,30.999521255493164,23.781116485595703,23.988248825073242,13.708575248718262,7.195193767547607,22.129304885864258,10.68676471710205,8.322591781616211,9.849834442138672,27.075727462768555,10.003549575805664,5.092333793640137,10.80385684967041,10.697667121887207,3.456214189529419,21.873645782470703,6.255199909210205,7.153273105621338,12.429961204528809,10.427149772644043,26.00403594970703,8.39653205871582,26.003833770751953,10.856571197509766,9.11967945098877,23.33725929260254,25.4044189453125,8.583192825317383,30.42774200439453,10.717995643615723,18.271249771118164,10.523048400878906,7.512174129486084,7.1070709228515625,30.119539260864258,26.351974487304688,28.280874252319336,35.71189880371094,9.54249382019043,8.738661766052246,10.544890403747559,12.817111015319824,13.539600372314453,37.736480712890625,33.993064880371094,2.2461965084075928,28.317298889160156,7.335439205169678,16.935317993164062,30.55196762084961,8.31916618347168,10.381697654724121,42.99401092529297,8.002328872680664,29.42477798461914,10.493741989135742,10.68676471710205,10.992530822753906,32.7888298034668,9.797906875610352,32.85118865966797,17.740100860595703,10.99409294128418,7.809635162353516,10.040193557739258,18.05691909790039,33.993064880371094,26.884931564331055,20.371816635131836,23.89678955078125,2.024087429046631,9.681183815002441,4.993259429931641,10.68853759765625,7.2040886878967285,9.018501281738281,19.014780044555664,10.994833946228027,10.381697654724121,12.902419090270996,30.20746421813965,3.2022435665130615,7.141944885253906,1.5647714138031006,12.141694068908691,26.694372177124023,28.997222900390625,24.002975463867188,9.581221580505371,20.994707107543945,7.254617214202881,9.125033378601074,9.821782112121582,8.693962097167969,36.003604888916016,25.143035888671875,10.118329048156738,31.726186752319336,4.998076915740967,31.000059127807617,9.797906875610352,20.30341911315918,27.256427764892578,31.004650115966797,21.128253936767578,10.234940528869629,34.48563766479492,8.114023208618164,18.688840866088867,42.99686813354492,10.995881080627441,12.373611450195312,10.804454803466797,10.835552215576172,10.234940528869629,10.001718521118164,21.843034744262695,10.185461044311523,26.556333541870117,7.3435773849487305,25.143035888671875,10.281373023986816,6.550624847412109,28.057844161987305,44.99885177612305,24.310861587524414,9.713384628295898,10.628399848937988,29.590959548950195,8.369281768798828,8.152338027954102,21.128253936767578,12.429961204528809,8.539920806884766,3.0069618225097656,8.975748062133789,35.842891693115234,10.032327651977539,10.5140962600708,25.92588996887207,48.99613952636719,8.210210800170898,26.04893684387207,30.92401885986328,4.147703170776367,10.00570011138916,22.494768142700195,9.242424964904785,25.716320037841797,10.664217948913574,10.234940528869629,10.993144035339355,6.488003730773926,10.493741989135742,35.71189880371094,9.625418663024902,1.006745457649231,45.996177673339844,6.970462799072266,8.169167518615723,24.69544219970703,19.001972198486328,9.104625701904297,23.00409698486328,1.073438048362732,9.32358169555664,6.255199909210205,8.851678848266602,10.5140962600708,5.85891580581665,10.775094985961914,20.28461456298828,9.980452537536621,29.336801528930664,8.760438919067383,10.998504638671875,23.109643936157227,26.525732040405273,20.99810218811035,9.847055435180664,6.540287494659424,20.064613342285156,7.348369598388672,26.745168685913086,10.511218070983887,9.060643196105957,9.060643196105957,26.852859497070312,5.731368064880371,7.009324073791504,31.000059127807617,21.661216735839844,47.620914459228516,34.99894332885742,30.231857299804688,20.595388412475586,10.63845443725586,27.840452194213867,19.935617446899414,4.43198823928833,29.499216079711914,23.607511520385742,19.2474422454834,47.0009651184082,4.766252040863037,18.016664505004883,15.753804206848145,-0.04335695505142212,13.708575248718262,15.987632751464844,8.460498809814453,37.736480712890625,10.001592636108398,10.99702262878418,8.943548202514648,20.45374870300293,19.095613479614258,9.43702507019043,12.503498077392578,13.532759666442871,10.99702262878418,9.188109397888184,30.498313903808594,9.658766746520996,8.865527153015137,10.592345237731934,17.587162017822266,17.010578155517578,12.373611450195312,9.56700611114502,47.99702453613281,44.99947738647461,9.46860408782959,13.003825187683105,1.7692304849624634,16.765838623046875,2.904538869857788,26.989118576049805,18.000484466552734,36.99657440185547,8.690523147583008,10.998025894165039,37.91913986206055,10.740139961242676,1.0320539474487305,8.53842544555664,21.730865478515625,8.441993713378906,9.895668029785156,4.790234088897705,9.428250312805176,8.760438919067383,8.871127128601074,28.057844161987305,9.67371654510498,19.00380516052246,24.901968002319336,6.488003730773926,46.998661041259766,10.117622375488281,33.005611419677734,2.8332536220550537,9.763666152954102,12.504154205322266,22.88440704345703,10.43274211883545,9.581221580505371,9.581221580505371,10.02706527709961,7.999932289123535,45.994571685791016,28.022289276123047,46.998390197753906,7.997486114501953,2.162523031234741,25.920970916748047,27.66988754272461,3.885821580886841,8.843239784240723,18.016664505004883,10.592345237731934,47.620914459228516,4.388388633728027,9.852216720581055,12.504154205322266,11.010771751403809,30.387727737426758,24.171995162963867,25.995681762695312,30.387727737426758,18.271249771118164,13.539600372314453,12.503498077392578,21.84358787536621,10.359712600708008,46.99599838256836,10.991684913635254,14.808056831359863,1.3133270740509033,8.769991874694824,9.241464614868164,10.742227554321289,8.465921401977539,9.682534217834473,39.997127532958984,4.991277694702148,29.499216079711914,18.42357635498047,3.7635490894317627,39.997310638427734,32.7888298034668,9.060643196105957,10.234940528869629,28.582120895385742,31.004650115966797,9.995789527893066,11.004542350769043,2.3379998207092285,4.388388633728027,5.092333793640137,8.633648872375488,13.398948669433594,8.4884614944458,8.865527153015137,10.99409294128418,36.99675369262695,24.754528045654297,28.179967880249023,25.873310089111328,18.270484924316406,9.104625701904297,27.256427764892578,26.63436508178711,9.916993141174316,26.010507583618164,4.267751216888428,10.592345237731934,20.595388412475586,8.338081359863281,25.143035888671875,9.581221580505371,7.348369598388672,4.0048322677612305,15.330228805541992,20.42546272277832,21.63426399230957,25.632394790649414,10.040193557739258,10.844480514526367,28.022289276123047,20.992916107177734,7.880949020385742,10.040701866149902,8.693962097167969,22.541593551635742,22.632150650024414,8.441993713378906,46.994224548339844,29.590959548950195,23.785011291503906,20.994707107543945,28.022289276123047,10.283023834228516,25.4044189453125,10.064301490783691,9.946722030639648,8.896449089050293,9.521025657653809,9.811812400817871,10.997157096862793,9.461868286132812,7.2040886878967285,28.057844161987305,8.693962097167969,7.1081223487854,31.004650115966797,9.980452537536621,24.901968002319336,8.843239784240723,7.748178482055664,18.280439376831055,25.957242965698242,10.998504638671875,3.9662346839904785,9.584091186523438,3.9991297721862793,8.583192825317383,6.602923393249512,10.9439115524292,6.015528202056885,28.582120895385742,8.693962097167969,10.03610897064209,10.68853759765625,34.48563766479492,2.697736978530884,10.45630168914795,22.494768142700195,47.997196197509766,10.427149772644043,4.426253318786621,10.68853759765625,8.12769889831543,15.269937515258789,20.45374870300293,10.829497337341309,7.183191776275635,19.803693771362305,10.122078895568848,9.928576469421387,18.270484924316406,8.583192825317383,2.1153855323791504,9.6734619140625,9.955982208251953,32.79817199707031,8.687482833862305,7.275472164154053,10.156126976013184,32.537940979003906,12.943619728088379,20.05224609375,22.950653076171875,8.088218688964844,9.681183815002441,17.99289321899414,8.088218688964844,25.410003662109375,18.296010971069336,19.60224723815918,26.680423736572266,29.841331481933594,38.736236572265625,8.169167518615723,9.80870532989502,8.478806495666504,33.993316650390625,27.67022705078125,35.850181579589844,10.281373023986816,9.766607284545898,9.505334854125977,9.32358169555664,33.56051254272461,6.588192939758301,10.185461044311523,33.00881576538086,49.99711608886719,1.2647910118103027,26.375328063964844,10.99409294128418,19.694976806640625,26.852859497070312,28.268943786621094,20.604387283325195,20.813552856445312,8.088218688964844,23.781116485595703,17.284626007080078,10.740139961242676,20.450990676879883,47.99702453613281,13.54343032836914,8.869175910949707,10.998504638671875,10.336026191711426,27.075727462768555,10.998504638671875,13.605818748474121,9.895668029785156,25.416730880737305,10.490150451660156,16.877378463745117,8.465921401977539,10.850137710571289,7.154903411865234,12.429961204528809,26.64225959777832,14.997430801391602,32.99541091918945,10.996517181396484,17.40412139892578,30.32391357421875,16.65341567993164,7.954699993133545,10.162007331848145,38.99663162231445,19.935617446899414,8.583192825317383,10.994833946228027,34.99894332885742,9.219836235046387,8.690523147583008,4.7776312828063965,14.500277519226074,5.713758945465088,39.58482360839844,11.096822738647461,1.974338412284851,16.56827163696289,6.964953899383545,7.512174129486084,23.519306182861328,47.620914459228516,22.03073501586914,8.640508651733398,31.156108856201172,9.630424499511719,9.696348190307617,21.923738479614258,13.870853424072266,31.006669998168945,19.007795333862305,14.537103652954102,31.609806060791016,20.05224609375,15.042795181274414,9.946722030639648,8.69974136352539,5.147008419036865,10.520357131958008,29.740053176879883,5.189692974090576,39.997310638427734,15.641234397888184,9.115116119384766,9.502883911132812,30.071735382080078,25.143035888671875,8.53842544555664,30.55196762084961,10.995823860168457,9.067644119262695,23.0134334564209,8.276784896850586,7.880949020385742,32.99785614013672,19.694976806640625,10.040701866149902,22.399988174438477,10.829497337341309,19.004840850830078,9.219836235046387,10.336026191711426,10.45630168914795,9.43702507019043,10.158352851867676,10.59737491607666,5.99843168258667,32.7888298034668,6.752384662628174,5.829280853271484,8.712608337402344,10.9439115524292,8.712608337402344,9.242424964904785,10.313663482666016,19.6906795501709,5.007058620452881,6.996160507202148,20.28461456298828,8.48351001739502,9.811812400817871,29.374073028564453,10.313663482666016,8.078539848327637,34.59677505493164,13.539600372314453,24.171995162963867,44.0019645690918,10.5140962600708,40.00143814086914,9.969718933105469,9.461868286132812,9.237875938415527,8.48351001739502,37.93001937866211,10.204249382019043,9.419493675231934,26.982847213745117,19.154489517211914,25.416730880737305,14.40882682800293,4.337683200836182,34.90902328491211,31.630979537963867,19.2474422454834,10.001718521118164,14.999186515808105,9.696348190307617,41.99911117553711,33.00881576538086,10.57845687866211,11.016449928283691,10.9439115524292,6.700711250305176,10.99726390838623,10.742227554321289,25.714561462402344,25.80888557434082,20.213895797729492,8.48351001739502,10.118329048156738,9.505334854125977,30.991554260253906,8.323841094970703,10.381697654724121,32.00566864013672,15.077001571655273,8.910222053527832,14.408916473388672,8.541007995605469,3.4890120029449463,19.6906795501709,10.998455047607422,8.583192825317383,2.5004003047943115,14.461886405944824,27.018346786499023,27.99620246887207,7.764986515045166,12.995943069458008,9.210433006286621,10.381697654724121,22.494768142700195,8.48351001739502,10.897185325622559,7.822807788848877,1.733683705329895,4.147703170776367,9.242424964904785,33.637657165527344,25.957242965698242,8.851678848266602,7.884226322174072,21.661216735839844,26.534093856811523,10.998455047607422,12.902419090270996,44.99947738647461,16.12637710571289,13.398948669433594,11.482075691223145,28.022289276123047,15.388163566589355,6.597984790802002,9.847271919250488,9.56700611114502,8.667430877685547,8.738661766052246,27.99798011779785,5.5728068351745605,9.84430980682373,10.018941879272461,12.001913070678711,11.033487319946289,20.28461456298828,46.00259780883789,20.019515991210938,47.620914459228516,47.99775695800781,19.944631576538086,8.4884614944458,29.42477798461914,9.219836235046387,10.313663482666016,9.682534217834473,9.419493675231934,46.99192810058594,33.56051254272461,9.413833618164062,27.67022705078125,9.550253868103027,28.611780166625977,3.56744384765625,38.99663162231445,27.998817443847656,10.156126976013184,9.630424499511719,6.597984790802002,18.014389038085938,34.99894332885742,10.554993629455566,21.012971878051758,9.451903343200684,22.619237899780273,7.764986515045166,10.02706527709961,9.242424964904785,6.105732440948486,30.663244247436523,8.813923835754395,30.991554260253906,15.163762092590332,3.6216118335723877,17.89529800415039,1.0017603635787964,10.997157096862793,10.317821502685547,10.381697654724121,16.877378463745117,10.427149772644043,7.728072643280029,9.860928535461426,8.53842544555664,8.465921401977539,13.029292106628418,21.923738479614258,7.054643154144287,5.319528102874756,10.313663482666016,8.697182655334473,10.359712600708008,38.00333023071289,30.32391357421875,16.870800018310547,26.883281707763672,5.152792453765869,47.997196197509766,12.19556713104248,10.991684913635254,10.740139961242676,31.158069610595703,14.408916473388672,8.851678848266602,26.362995147705078,14.808056831359863,6.992883682250977,10.336026191711426,24.315523147583008,12.278754234313965,33.999298095703125,42.998661041259766,10.687082290649414,9.56700611114502,28.280874252319336,1.0278211832046509,23.33725929260254,26.737552642822266,9.748970031738281,8.869175910949707,32.537940979003906,24.171995162963867,9.955982208251953,8.869175910949707,25.416730880737305,15.269937515258789,7.3435773849487305,21.685449600219727,21.923738479614258,31.004650115966797,9.821599960327148,8.738802909851074,9.430000305175781,10.688407897949219,9.241464614868164,17.7393856048584,26.525732040405273,30.42774200439453,30.4870548248291,37.99930953979492,7.351441860198975,20.064613342285156,46.00259780883789,8.000604629516602,9.281310081481934,21.63426399230957,25.4044189453125,34.99894332885742,9.955982208251953,22.439050674438477,8.843239784240723,8.85281753540039,9.797906875610352,19.714494705200195,10.162007331848145,10.001874923706055,0.6625483632087708,20.018321990966797,27.840452194213867,9.11596965789795,24.754528045654297,15.163762092590332,20.213895797729492,8.153589248657227,20.45374870300293,6.717398166656494,8.503989219665527,9.759340286254883,24.754528045654297,10.99732780456543,21.873645782470703,29.499216079711914,8.210210800170898,34.54588317871094,29.408544540405273,30.50636100769043,5.5728068351745605,13.548666000366211,10.92224407196045,10.520357131958008,30.999521255493164,14.21430492401123,45.999725341796875,8.943548202514648,9.237875938415527,10.006096839904785,13.060247421264648,18.566936492919922,17.587162017822266,32.537940979003906,29.42477798461914,41.99911117553711,25.76912498474121,6.0016703605651855,9.130666732788086,8.114023208618164,10.829497337341309,29.740053176879883,30.387727737426758,10.283023834228516,9.56700611114502,2.015681266784668,11.482075691223145,8.810291290283203,7.504640102386475,8.153589248657227,14.998991012573242,10.688407897949219,22.88440704345703,17.441856384277344,13.539600372314453,26.982847213745117,10.5322265625,20.002288818359375,8.738802909851074,9.28718090057373,10.427149772644043,15.473954200744629,4.005702972412109,1.5154728889465332,10.281373023986816,27.218637466430664,10.80385684967041,9.656206130981445,2.0453007221221924,10.9439115524292,32.85118865966797,9.084016799926758,33.005069732666016,4.5001373291015625,10.775094985961914,41.99809646606445,9.811812400817871,10.090502738952637,9.104625701904297,1.0200304985046387,8.687482833862305,45.999725341796875,14.205988883972168,12.553204536437988,2.990751266479492,9.106949806213379,26.1195125579834,11.005985260009766,8.85281753540039,26.05099105834961,7.604070663452148,24.577510833740234,25.662134170532227,9.514188766479492,14.828089714050293,7.748178482055664,32.23894500732422,10.5140962600708,8.454893112182617,10.586669921875,8.902944564819336,9.696348190307617,32.993812561035156,8.009519577026367,7.625458240509033,47.00069046020508,38.00333023071289,32.537940979003906,29.499216079711914,19.450876235961914,12.278754234313965,25.873310089111328,7.105653762817383,29.740053176879883,10.060790061950684,6.374258995056152,1.997369647026062,17.284626007080078,10.697667121887207,9.766607284545898,18.238765716552734,8.819260597229004,8.851678848266602,30.570194244384766,10.040193557739258,31.156108856201172,10.495339393615723,31.158069610595703,30.00508689880371,8.805720329284668,7.00200891494751,46.00007247924805,10.72044849395752,3.9907643795013428,22.129304885864258,10.920591354370117,7.336984634399414,25.714561462402344,9.482412338256836,8.000604629516602,32.7888298034668,20.28461456298828,10.99732780456543,7.822807788848877,10.861279487609863,15.092095375061035,30.50636100769043,10.998025894165039,9.581221580505371,10.835552215576172,31.783798217773438,8.631359100341797,31.158069610595703,10.5322265625,9.43702507019043,10.45630168914795,20.992916107177734,22.129304885864258,9.281310081481934,22.04709815979004,27.998828887939453,10.14426326751709,29.374073028564453,10.998025894165039,17.1180419921875,36.00187301635742,1.5089216232299805,9.230316162109375,2.90547251701355,32.854618072509766,8.780579566955566,33.005069732666016,6.088072776794434,28.614229202270508,10.336026191711426,8.45565414428711,15.99955940246582,10.162007331848145,33.005069732666016,12.943619728088379,10.57845687866211,8.640508651733398,9.323162078857422,29.740053176879883,7.955259323120117,18.09085464477539,23.1031494140625,10.998455047607422,45.99475860595703,13.54343032836914,10.57845687866211,27.874961853027344,18.244314193725586,10.313663482666016,9.870559692382812,17.740100860595703,14.400047302246094,31.000316619873047,32.452537536621094,25.76912498474121,7.842427730560303,39.58482360839844,7.611948490142822,10.040785789489746,30.387727737426758,10.628399848937988,38.99041748046875,47.620914459228516,21.156641006469727,9.067644119262695,32.992645263671875,8.713781356811523,9.682534217834473,19.813705444335938,9.550253868103027,7.512174129486084,30.387727737426758,10.117622375488281,12.278754234313965,1.632645845413208,10.999865531921387,10.14426326751709,26.680423736572266,9.80870532989502,23.519306182861328,8.31916618347168,27.00169563293457,18.296010971069336,46.99638366699219,8.4884614944458,35.85371398925781,9.908280372619629,22.582822799682617,9.928576469421387,26.989118576049805,10.998517036437988,11.033487319946289,36.003604888916016,42.99686813354492,10.554993629455566,13.54343032836914,8.899945259094238,5.758303165435791,32.993812561035156,10.350077629089355,9.141189575195312,22.619237899780273,3.007795810699463,23.519306182861328,9.281310081481934,18.2598876953125,9.733537673950195,9.765138626098633,8.631359100341797,13.837700843811035,25.716320037841797,16.629207611083984,21.923738479614258,7.773681640625,10.313663482666016,10.995823860168457,8.85281753540039,2.6750311851501465,25.873310089111328,38.99663162231445,2.0154409408569336,8.99744987487793,26.680423736572266,25.143035888671875,2.0154409408569336,29.738821029663086,10.99478816986084,25.995664596557617,8.896449089050293,10.998504638671875,9.766607284545898,18.529537200927734,31.609806060791016,31.156108856201172,7.808913707733154,33.999298095703125,10.060790061950684,30.50636100769043,8.427267074584961,25.00792121887207,8.865527153015137,27.67022705078125,4.983372688293457,22.582822799682617,2.8057963848114014,3.669200897216797,9.813167572021484,8.675458908081055,12.553204536437988,23.29714012145996,19.60224723815918,7.015378952026367,7.697887897491455,9.658766746520996,8.865527153015137,28.003875732421875,26.64225959777832,10.92224407196045,11.457505226135254,9.916993141174316,9.895668029785156,28.791826248168945,10.920591354370117,27.99620246887207,33.637657165527344,9.849834442138672,21.63426399230957,9.879791259765625,26.375328063964844,25.662134170532227,9.6758394241333,28.280874252319336,11.335996627807617,9.550253868103027,9.763666152954102,26.297454833984375,47.620914459228516,24.577510833740234,8.85281753540039,4.5472540855407715,25.995681762695312,45.99378204345703,10.57845687866211,23.607511520385742,10.36550521850586,24.97792625427246,8.107210159301758,39.997310638427734,1.9743553400039673,6.853824615478516,22.692930221557617,10.122078895568848,25.99367904663086,10.740139961242676,27.99620246887207,8.11920166015625,22.003564834594727,1.4128532409667969,10.279484748840332,10.996517181396484,14.734152793884277,10.664217948913574,20.10324478149414,29.348880767822266,20.595388412475586,20.994707107543945,39.58482360839844,10.427149772644043,44.0019645690918,7.533474445343018,8.427267074584961,25.143035888671875,34.90902328491211,12.344225883483887,9.80880355834961,8.02731990814209,10.040785789489746,9.242424964904785,37.91913986206055,9.171902656555176,38.512874603271484,10.43274211883545,10.59737491607666,6.550624847412109,13.54343032836914,9.340072631835938,26.362995147705078,21.259599685668945,5.719028949737549,1.0446184873580933,30.55196762084961,8.780579566955566,7.604070663452148,15.99972152709961,9.811812400817871,2.9921557903289795,30.498313903808594,9.6758394241333,9.179049491882324,1.0575509071350098,10.222282409667969,14.500277519226074,18.688840866088867,33.999534606933594,9.84430980682373,7.348369598388672,9.237875938415527,21.84358787536621,4.005702972412109,8.648005485534668,9.115116119384766,15.14138412475586,9.980452537536621,5.758303165435791,2.4267940521240234,2.969033718109131,7.773681640625,10.063267707824707,9.018501281738281,8.996414184570312,22.494768142700195,32.00566864013672,24.68092155456543,9.125774383544922,48.99613952636719,9.790945053100586,17.40412139892578,27.952220916748047,13.004796028137207,18.59160041809082,17.7393856048584,14.828089714050293,23.988248825073242,24.212739944458008,8.236068725585938,30.32391357421875,16.369544982910156,37.91913986206055,8.2536039352417,47.99702453613281,20.994707107543945,5.147008419036865,9.44794750213623,22.582822799682617,47.99775695800781,19.007795333862305,12.003874778747559,21.923738479614258,9.461868286132812,9.759340286254883,33.993316650390625,19.004840850830078,10.368123054504395,8.747855186462402,8.769991874694824,10.80385684967041,32.85118865966797,19.99322509765625,8.896449089050293,8.871127128601074,9.811812400817871,10.59737491607666,7.94112491607666,8.225568771362305,8.539920806884766,34.48563766479492,8.55649185180664,6.93670654296875,13.175929069519043,9.349064826965332,8.427267074584961,21.923738479614258,22.798389434814453,10.493741989135742,9.735618591308594,8.378629684448242,15.393094062805176,9.115116119384766,10.586669921875,9.679831504821777,9.349064826965332,5.87497615814209,9.471043586730957,10.592345237731934,9.617493629455566,10.040701866149902,10.995823860168457,30.387727737426758,9.612786293029785,9.773877143859863,24.577510833740234,47.620914459228516,7.154903411865234,11.033487319946289,21.012971878051758,47.99650955200195,35.850181579589844,6.550624847412109,1.2271983623504639,9.219836235046387,10.920591354370117,8.667430877685547,23.42812728881836,7.996076583862305,9.56700611114502,21.274024963378906,10.68676471710205,25.957242965698242,10.688407897949219,31.99564552307129,10.118329048156738,9.759340286254883,29.0078182220459,10.381697654724121,18.296010971069336,8.338081359863281,9.106949806213379,10.99702262878418,7.7152509689331055,12.995943069458008,25.143035888671875,29.408544540405273,47.620914459228516,14.875356674194336,9.419493675231934,24.68092155456543,24.315523147583008,8.153642654418945,10.717995643615723,25.416730880737305,10.664217948913574,33.005069732666016,20.018321990966797,27.874961853027344,10.185461044311523,31.000316619873047,47.0009651184082,13.029292106628418,9.454665184020996,9.094226837158203,16.369544982910156,7.504640102386475,46.99798583984375,9.219836235046387,25.76912498474121,45.996177673339844,30.998397827148438,5.999936103820801,8.871127128601074,2.609614849090576,34.59677505493164,35.71189880371094,10.381697654724121,10.350077629089355,13.54343032836914,31.158069610595703,22.00276756286621,36.112125396728516,10.359712600708008,10.266822814941406,9.281310081481934,10.018657684326172,4.041860580444336,46.995967864990234,14.461886405944824,26.884931564331055,3.9907643795013428,10.99702262878418,10.554993629455566,36.39832305908203,34.90902328491211,9.821782112121582,19.53264808654785,9.125774383544922,10.45630168914795,19.803693771362305,8.039347648620605,6.37567138671875,8.775500297546387,9.575180053710938,6.992883682250977,29.999711990356445,16.307275772094727,28.179967880249023,30.55196762084961,11.00089168548584,10.153800964355469,10.717995643615723,19.278383255004883,33.637657165527344,30.991554260253906,10.99726390838623,8.282562255859375,18.296010971069336,16.369544982910156,36.22519302368164,5.01668119430542,46.98927688598633,12.429961204528809,8.014013290405273,25.496606826782227,8.775500297546387,10.994833946228027,9.860928535461426,35.850181579589844,4.875239849090576,10.99409294128418,31.006669998168945,9.985366821289062,6.847545146942139,8.096148490905762,7.141944885253906,10.283023834228516,10.687082290649414,29.336801528930664,9.852216720581055,20.99810218811035,4.976169109344482,21.007232666015625,9.56700611114502,9.240228652954102,1.0540733337402344,47.99702453613281,9.219836235046387,1.6554627418518066,10.99990177154541,18.688840866088867,14.734152793884277,23.526592254638672,9.966476440429688,34.87192916870117,10.511218070983887,9.733537673950195,5.986456871032715,12.001913070678711,3.648829936981201,28.73668098449707,10.717995643615723,8.693962097167969,17.40412139892578,46.998390197753906,9.219836235046387,38.999664306640625,28.179967880249023,7.335439205169678,10.279484748840332,18.000484466552734,8.45565414428711,10.266822814941406,33.005558013916016,9.765138626098633,14.013325691223145,27.475200653076172,10.995823860168457,4.875239849090576,10.666604995727539,6.671680450439453,5.228572368621826,14.1329984664917,9.550253868103027,2.7682223320007324,32.99637985229492,6.05025577545166,17.7393856048584,7.141944885253906,44.0019645690918,31.609806060791016,8.169167518615723,8.114023208618164,45.997249603271484,12.429961204528809,37.736480712890625,10.554993629455566,47.620914459228516,10.359712600708008,7.001534938812256,30.071735382080078,22.03073501586914,1.9985792636871338,25.416730880737305,45.99345779418945,6.717398166656494,9.505334854125977,34.59677505493164,47.0009651184082,28.022289276123047,46.99192810058594,1.2441176176071167,1.1569602489471436,46.99692153930664,8.465921401977539,15.466238021850586,8.899945259094238,9.847271919250488,16.629207611083984,25.632394790649414,36.112125396728516,26.362995147705078,31.783798217773438,1.9000625610351562,22.798389434814453,44.00151824951172,10.592345237731934,10.040701866149902,8.104333877563477,16.56827163696289,21.661216735839844,27.840452194213867,5.007058620452881,7.533474445343018,10.040785789489746,10.994833946228027,8.210210800170898,29.0078182220459,8.687482833862305,10.99726390838623,32.854618072509766,10.159984588623047,9.094226837158203,7.3435773849487305,9.00023078918457,9.906736373901367,8.288782119750977,21.007232666015625,10.740139961242676,10.45630168914795,23.754228591918945,12.278754234313965,29.348880767822266,29.99683952331543,29.99211883544922,1.0037627220153809,22.00276756286621,11.0606689453125,20.371816635131836,20.002288818359375,1.2244598865509033,37.93001937866211,47.99775695800781,20.19036293029785,8.713411331176758,24.66521644592285,1.00728440284729,27.018346786499023,19.15656280517578,45.997249603271484,17.405820846557617,18.733646392822266,8.865527153015137,8.697182655334473,7.639676094055176,10.541001319885254,7.313355445861816,15.159608840942383,13.98234748840332,8.441993713378906,25.04163932800293,17.284626007080078,10.664217948913574,10.856571197509766,24.97792625427246,9.916993141174316,10.520357131958008,14.649272918701172,32.844085693359375,10.381697654724121,22.798389434814453,8.631359100341797,10.63845443725586,10.804454803466797,8.871421813964844,21.661216735839844,15.99955940246582,8.31916618347168,20.604387283325195,10.740139961242676,10.476469039916992,26.737552642822266,20.05224609375,10.005820274353027,20.902135848999023,8.738802909851074,28.268943786621094,8.441993713378906,8.810291290283203,27.256427764892578,29.499216079711914,9.413833618164062,9.6734619140625,32.844085693359375,8.747855186462402,9.790945053100586,9.56700611114502,13.532759666442871,10.063267707824707,29.336801528930664,8.738802909851074,26.375328063964844,3.121943473815918,9.658766746520996,15.077001571655273,7.822807788848877,21.225496292114258,39.58482360839844,9.413833618164062,1.2766900062561035,46.99192810058594,28.995824813842773,8.583192825317383,5.022397518157959,10.697667121887207,8.427267074584961,7.748178482055664,7.054643154144287,5.992401599884033,10.586669921875,23.853290557861328,12.278754234313965,9.759340286254883,7.809635162353516,8.943957328796387,10.835552215576172,10.740139961242676,8.107210159301758,19.069488525390625,27.840452194213867,12.278754234313965,8.612759590148926,32.99683380126953,9.230316162109375,14.41190242767334,27.99066734313965,18.05691909790039,17.587162017822266,46.00259780883789,23.456981658935547,8.10945987701416,9.313423156738281,11.016449928283691,10.835552215576172,32.43260955810547,9.323162078857422,15.709458351135254,9.413833618164062,25.995681762695312,9.656206130981445,20.42546272277832,10.003549575805664,10.313663482666016,9.46860408782959,24.66521644592285,24.352920532226562,23.780994415283203,10.697667121887207,12.373611450195312,12.003874778747559,8.997162818908691,20.918170928955078,44.0019645690918,9.210433006286621,9.772513389587402,23.109643936157227,9.547243118286133,33.56051254272461,36.003604888916016,3.1708714962005615,29.590959548950195,12.001913070678711,4.387641906738281,8.851678848266602,19.154489517211914,46.994224548339844,33.005558013916016,21.661216735839844,21.225496292114258,9.735618591308594,21.843034744262695,14.461886405944824,16.1119384765625,28.582120895385742,36.39832305908203,28.00888442993164,25.961265563964844,10.222282409667969,8.810291290283203,22.320348739624023,19.694976806640625,6.93670654296875,14.008509635925293,23.29714012145996,10.5140962600708,9.210433006286621,22.399988174438477,9.811812400817871,9.221919059753418,26.525732040405273,10.266822814941406,9.559950828552246,15.077001571655273,8.99744987487793,31.609806060791016,9.001429557800293,35.001441955566406,4.005603790283203,9.242424964904785,30.071735382080078,32.00285339355469,1.0216394662857056,9.336779594421387,10.844480514526367,9.995789527893066,13.398948669433594,9.575180053710938,27.005123138427734,30.699308395385742,46.997802734375,10.40802001953125,9.852216720581055,1.594382643699646,31.9293212890625,39.997310638427734,9.790945053100586,28.179967880249023,16.870800018310547,8.4884614944458,9.849834442138672,16.56827163696289,1.6829396486282349,9.916993141174316,9.171902656555176,3.2342681884765625,38.512874603271484,9.879791259765625,21.84358787536621,9.221919059753418,10.804454803466797,7.625458240509033,42.02029037475586,9.018501281738281,29.499216079711914,3.8434274196624756,9.860928535461426,6.691022872924805,36.99675369262695,10.994833946228027,1.959429383277893,10.427149772644043,45.997249603271484,5.5728068351745605,35.850181579589844,7.237369060516357,9.67371654510498,16.12637710571289,5.332787036895752,10.861279487609863,9.581221580505371,21.730865478515625,33.005558013916016,35.99114990234375,20.28461456298828,9.125033378601074,26.94347381591797,9.797906875610352,18.02159881591797,8.039347648620605,24.171995162963867,25.92588996887207,32.23894500732422,33.99497985839844,6.308621406555176,25.410003662109375,5.85891580581665,10.99409294128418,12.504154205322266,10.861279487609863,10.722643852233887,8.338081359863281,30.00423240661621,20.40758514404297,46.00259780883789,13.003825187683105,24.071151733398438,10.9439115524292,25.416730880737305,46.99192810058594,46.995967864990234,5.413442611694336,10.850137710571289,9.419493675231934,15.753804206848145,7.842427730560303,20.30341911315918,10.998504638671875,36.003604888916016,9.620121002197266,25.763399124145508,9.946722030639648,23.519306182861328,33.005611419677734,26.852859497070312,10.064301490783691,9.995233535766602,25.76912498474121,1.0842970609664917,23.607511520385742,26.883281707763672,10.990925788879395,10.044332504272461,26.375328063964844,23.526592254638672,9.849834442138672,24.97792625427246,9.514188766479492,8.805720329284668,12.994884490966797,36.112125396728516,39.997310638427734,8.693962097167969,33.56051254272461,23.754228591918945,10.993144035339355,10.246305465698242,9.612786293029785,9.80880355834961,8.712608337402344,5.829280853271484,16.018552780151367,33.993316650390625,18.566936492919922,25.4044189453125,10.14426326751709,22.88440704345703,19.873363494873047,39.997310638427734,29.99211883544922,30.32391357421875,9.488468170166016,8.478806495666504,9.620121002197266,9.587163925170898,8.454893112182617,25.80888557434082,15.269937515258789,8.751274108886719,23.0134334564209,10.995902061462402,30.231857299804688,9.230316162109375,15.753804206848145,14.808056831359863,9.908280372619629,9.612786293029785,9.895668029785156,9.681888580322266,10.283023834228516,31.990934371948242,21.685449600219727,10.266822814941406,9.735618591308594,3.0123119354248047,23.785011291503906,29.48801040649414,9.09880256652832,20.371816635131836,8.452345848083496,5.413442611694336,36.112125396728516,9.790945053100586,9.790945053100586,9.130666732788086,8.997162818908691,29.99211883544922,12.39598274230957,10.427149772644043,10.99726390838623,8.633648872375488,10.835552215576172,9.188109397888184,9.681183815002441,25.00792121887207,10.350077629089355,7.748056411743164,8.996414184570312,26.04893684387207,46.99798583984375,19.813705444335938,35.850181579589844,8.288782119750977,6.595830917358398,31.006669998168945,10.511218070983887,19.15656280517578,8.169167518615723,9.171902656555176,9.575180053710938,8.152338027954102,10.664217948913574,28.611780166625977,26.04893684387207,10.234940528869629,32.99124526977539,1.366619348526001,31.99564552307129,7.770124912261963,22.129304885864258,40.00143814086914,18.688840866088867,24.171995162963867,38.277015686035156,7.949967384338379,38.999664306640625,45.996177673339844,47.0009651184082,17.587162017822266,29.499216079711914,10.679605484008789,29.592025756835938,8.31916618347168,24.754528045654297,9.11967945098877,9.630424499511719,22.494768142700195,10.313663482666016,8.282562255859375,14.808056831359863,16.1119384765625,36.22519302368164,35.00796127319336,31.000316619873047,11.457505226135254,9.348132133483887,6.853824615478516,22.632150650024414,25.76912498474121,22.950653076171875,29.348880767822266,30.20746421813965,9.772513389587402,8.693962097167969,12.344225883483887,14.461886405944824,10.666604995727539,23.990018844604492,23.526592254638672,4.223789691925049,12.992823600769043,19.154489517211914,29.48801040649414,9.860928535461426,9.772513389587402,9.990943908691406,1.0035209655761719,9.811812400817871,4.318058013916016,10.001874923706055,24.97792625427246,17.284626007080078,7.748178482055664,16.65341567993164,7.995055675506592,35.00192642211914,9.995233535766602,26.1195125579834,10.99845027923584,9.451903343200684,20.450990676879883,8.088218688964844,10.032327651977539,23.7995548248291,27.018346786499023,13.41028881072998,47.620914459228516,18.244314193725586,9.990943908691406,7.105653762817383,8.323841094970703,10.63845443725586,47.99702453613281,9.341938972473145,9.060643196105957,9.242424964904785,6.6991963386535645,14.008509635925293,45.99378204345703,47.620914459228516,8.01833724975586,6.781066417694092,30.00423240661621,10.409048080444336,13.41028881072998,6.853824615478516,10.861279487609863,30.50636100769043,13.708575248718262,7.016765117645264,25.04163932800293,8.540450096130371,10.493741989135742,36.112125396728516,10.99732780456543,8.12769889831543,45.996177673339844,49.99711608886719,9.340072631835938,1.5195173025131226,28.280874252319336,30.071735382080078,15.99972152709961,18.280439376831055,9.696348190307617,8.776022911071777,29.841331481933594,30.42774200439453,27.99605369567871,14.916802406311035,24.97792625427246,38.00333023071289,9.892024040222168,17.99289321899414,9.933945655822754,8.153589248657227,11.994645118713379,25.714561462402344,10.829497337341309,7.880949020385742,29.321218490600586,9.348132133483887,8.910222053527832,8.738661766052246,1.5623524188995361,8.041500091552734,1.738956093788147,9.413833618164062,22.88440704345703,17.89529800415039,10.493741989135742,14.828089714050293,6.488003730773926,10.804454803466797,28.268943786621094,9.2840576171875,11.000258445739746,9.2840576171875,7.808913707733154,8.09500503540039,4.009233474731445,19.069488525390625,10.68853759765625,9.221919059753418,20.813552856445312,37.93001937866211,46.99638366699219,25.716320037841797,10.63845443725586,9.584091186523438,10.427149772644043,29.000484466552734,9.41210651397705,32.992645263671875,7.94112491607666,19.694976806640625,26.982847213745117,29.321218490600586,16.074037551879883,15.670316696166992,32.452537536621094,22.366025924682617,16.65165138244629,25.04163932800293,10.99702262878418,8.712608337402344,13.539600372314453,24.002975463867188,21.873645782470703,36.99657440185547,25.04163932800293,8.69974136352539,9.849834442138672,7.748178482055664,14.21430492401123,10.313663482666016,19.803693771362305,25.714561462402344,17.40412139892578,15.466238021850586,9.41210651397705,24.863012313842773,9.413833618164062,8.452345848083496,12.902419090270996,31.99604606628418,9.221919059753418,7.006983280181885,21.019262313842773,9.980452537536621,14.40882682800293,28.582120895385742,25.45445442199707,19.15656280517578,33.56051254272461,10.835552215576172,31.609806060791016,9.797906875610352,23.853290557861328,24.310861587524414,6.308621406555176,4.999924182891846,10.802189826965332,47.99702453613281,28.998144149780273,10.697667121887207,10.688407897949219,8.276784896850586,7.955259323120117,10.234940528869629,31.000059127807617,5.997465133666992,46.99599838256836,26.989118576049805,23.519306182861328,7.15513277053833,9.54249382019043,10.317821502685547,31.783798217773438,3.9662346839904785,4.0066728591918945,29.0078182220459,19.944631576538086,11.002155303955078,9.98723030090332,2.9510011672973633,5.758303165435791,9.082252502441406,9.156953811645508,9.99346923828125,26.884931564331055,23.754228591918945,27.218637466430664,18.733646392822266,5.009769916534424,1.0535012483596802,6.597984790802002,8.899945259094238,5.332787036895752,9.28718090057373,14.916802406311035,28.317298889160156,11.569097518920898,32.99124526977539,46.99798583984375,19.60224723815918,9.242424964904785,23.004825592041016,30.071735382080078,24.171995162963867,8.045228004455566,46.99192810058594,10.9439115524292,8.998104095458984,9.584091186523438,6.05025577545166,10.493741989135742,21.019603729248047,15.14138412475586,26.534093856811523,7.808913707733154,28.00888442993164,10.92224407196045,9.980335235595703,15.997506141662598,20.992916107177734,10.722643852233887,8.002328872680664,6.035221099853516,10.57845687866211,10.68853759765625,25.410003662109375,31.726186752319336,30.002147674560547,9.46860408782959,28.582120895385742,16.1119384765625,32.00121307373047,8.693962097167969,31.99604606628418,1.4959588050842285,21.84358787536621,10.9439115524292,9.916993141174316,30.570194244384766,39.998443603515625,1.0175831317901611,8.323841094970703,8.210210800170898,21.274024963378906,12.943619728088379,8.693962097167969,10.666604995727539,29.499216079711914,21.63426399230957,26.64225959777832,4.0251264572143555,12.817111015319824,3.014667272567749,1.3335227966308594,23.010623931884766,27.256427764892578,29.99603271484375,9.847055435180664,19.803693771362305,20.99810218811035,1.7490938901901245,1.0278211832046509,13.029292106628418,8.690523147583008,9.1986083984375,7.955259323120117,31.783798217773438,10.742227554321289,2.9926869869232178,47.00069046020508,10.80385684967041,47.00284957885742,8.712608337402344,40.00143814086914,10.592345237731934,9.850554466247559,9.895668029785156,36.99260711669922,28.995824813842773,47.620914459228516,26.556333541870117,32.85118865966797,10.5140962600708,9.248682975769043,10.998504638671875,26.745168685913086,9.313423156738281,8.01833724975586,13.029292106628418,17.441856384277344,20.450990676879883,8.496367454528809,11.051886558532715,9.018501281738281,9.125774383544922,21.356021881103516,21.179426193237305,2.3199596405029297,25.920970916748047,36.99260711669922,17.587162017822266,9.748970031738281,26.556333541870117,9.80880355834961,8.31916618347168,10.991684913635254,27.018346786499023,8.31916618347168,30.002147674560547,30.998397827148438,9.428250312805176,2.036223888397217,23.1031494140625,21.274024963378906,9.850554466247559,8.760438919067383,26.362995147705078,21.730865478515625,8.693962097167969,27.952220916748047,9.43702507019043,8.746747016906738,10.02706527709961,9.164668083190918,7.773681640625,7.352569103240967,42.998661041259766,6.401970863342285,10.844480514526367,48.99251174926758,23.526592254638672,4.140833854675293,2.1648192405700684,9.955982208251953,21.007232666015625,10.742227554321289,30.119539260864258,17.405820846557617,10.14426326751709,8.902944564819336,9.234587669372559,25.603776931762695,9.428250312805176,9.451903343200684,35.71189880371094,6.150083065032959,19.476003646850586,24.315523147583008,5.981403350830078,10.920591354370117,7.195193767547607,10.9439115524292,3.999192953109741,22.732879638671875,9.860928535461426,15.473954200744629,9.219836235046387,10.697667121887207,22.00433349609375,10.835552215576172,26.04893684387207,8.233926773071289,9.067644119262695,14.649272918701172,10.427149772644043,25.76912498474121,8.288782119750977,9.067644119262695,36.39832305908203,32.00566864013672,10.005820274353027,2.3335862159729004,2.2804880142211914,10.493741989135742,18.552160263061523,23.89678955078125,9.500535011291504,9.895668029785156,9.092676162719727,3.986009359359741,36.39832305908203,9.980335235595703,21.019262313842773,18.244314193725586,9.454665184020996,11.051886558532715,27.54661750793457,14.65749740600586,9.765138626098633,17.405820846557617,9.733537673950195,8.12769889831543,8.539920806884766,9.430000305175781,11.016775131225586,22.732879638671875,10.368123054504395,21.63426399230957,13.54343032836914,10.493741989135742,28.582120895385742,9.461868286132812,30.387727737426758,11.99402904510498,1.986908197402954,31.99604606628418,5.483877658843994,25.133337020874023,33.00881576538086,3.9883270263671875,46.99798583984375,26.982847213745117,33.005558013916016,9.602051734924316,9.521025657653809,2.016641139984131,9.617493629455566,9.575180053710938,23.607511520385742,38.736236572265625,9.681888580322266,8.236068725585938,9.313423156738281,11.992218971252441,15.99955940246582,19.714494705200195,24.315523147583008,9.550253868103027,1.0138518810272217,23.040176391601562,22.732879638671875,21.685449600219727,10.99409294128418,25.961265563964844,10.064301490783691,10.410309791564941,37.99930953979492,35.71189880371094,25.04163932800293,9.908280372619629,12.998176574707031,9.696348190307617,30.995933532714844,10.266822814941406,36.39832305908203,8.738802909851074,0.9486145973205566,10.279484748840332,4.790234088897705,9.658766746520996,10.158352851867676,34.99894332885742,42.99686813354492,10.350077629089355,26.680423736572266,25.410003662109375,19.747390747070312,45.99760437011719,9.850554466247559,15.987632751464844,19.095613479614258,29.99683952331543,0.10898435115814209,10.359712600708008,25.76912498474121,30.998397827148438,7.1081223487854,6.994082927703857,8.09500503540039,26.525732040405273,24.68092155456543,29.374073028564453,9.171902656555176,42.99686813354492,36.22519302368164,9.852216720581055,9.656206130981445,1.986908197402954,10.427149772644043,27.218637466430664,10.99726390838623,47.997196197509766,14.65749740600586,28.840938568115234,9.759340286254883,25.763399124145508,31.991926193237305,4.025808334350586,9.575180053710938,42.99585723876953,36.99260711669922,8.69974136352539,20.05224609375,10.060790061950684,32.99637985229492,5.15069055557251,9.219836235046387,23.109643936157227,45.996177673339844,10.844480514526367,7.645330429077148,28.003875732421875,25.714561462402344,9.428250312805176,28.582120895385742,36.00187301635742,6.540287494659424,29.000484466552734,28.057844161987305,10.159984588623047,14.21430492401123,19.6906795501709,32.993812561035156,7.955259323120117,17.042400360107422,14.916802406311035,8.427267074584961,23.109643936157227,19.935617446899414,20.813552856445312,15.987632751464844,24.901968002319336,9.87511157989502,10.99726390838623,21.274024963378906,10.999865531921387,20.371816635131836,9.852216720581055,29.000484466552734,23.004825592041016,26.680423736572266,29.99211883544922,7.611948490142822,7.93536901473999,26.63436508178711,10.381697654724121,21.873645782470703,46.9987907409668,27.84946060180664,31.99604606628418,7.822807788848877,24.577510833740234,11.033487319946289,34.48563766479492,44.99885177612305,11.0606689453125,10.350077629089355,10.592345237731934,47.620914459228516,8.000604629516602,9.995789527893066,24.352920532226562,9.451903343200684,10.546378135681152,15.670316696166992,9.428250312805176,12.003874778747559,9.242424964904785,21.661216735839844,1.9922810792922974,9.413833618164062,10.409048080444336,10.717995643615723,17.441856384277344,27.475200653076172,32.00121307373047,9.681183815002441,46.98927688598633,10.001718521118164,15.99955940246582,20.902135848999023,36.39832305908203,21.843034744262695,6.015203475952148,36.39832305908203,26.05099105834961,19.014780044555664,14.649272918701172,9.847055435180664,21.019603729248047,14.408916473388672,21.843034744262695,25.76912498474121,9.323162078857422,27.075727462768555,9.130666732788086,10.829497337341309,8.910222053527832,10.92224407196045,29.592025756835938,9.219836235046387,5.022397518157959,47.620914459228516,2.5962443351745605,20.918170928955078,16.765838623046875,19.2474422454834,20.595388412475586,9.514188766479492,9.550253868103027,9.156953811645508,33.637657165527344,10.697667121887207,15.670316696166992,10.336026191711426,23.853290557861328,8.871127128601074,29.592025756835938,4.994803428649902,32.452537536621094,7.105653762817383,10.266822814941406,45.994571685791016,8.640508651733398,45.99345779418945,16.65341567993164,16.49820327758789,23.109643936157227,6.98020601272583,6.963834285736084,10.99409294128418,10.57845687866211,23.519306182861328,45.997802734375,9.581221580505371,9.84430980682373,9.336779594421387,25.603776931762695,42.02029037475586,9.630424499511719,10.313663482666016,9.656206130981445,35.00796127319336,15.466238021850586,9.602051734924316,1.0048866271972656,10.281373023986816,8.747855186462402,31.726186752319336,25.763399124145508,9.241464614868164,9.219836235046387,22.950653076171875,29.499216079711914,1.5195173025131226,27.66988754272461,25.662134170532227,27.998828887939453,12.629714012145996,8.687482833862305,9.43702507019043,8.631359100341797,10.844480514526367,11.033487319946289,8.48351001739502,9.248682975769043,27.218637466430664,8.114023208618164,10.92224407196045,10.476469039916992,38.00333023071289,32.854618072509766,19.60224723815918,9.575180053710938,9.559950828552246,8.871127128601074,10.554993629455566,22.582822799682617,12.992823600769043,3.247920036315918,9.56700611114502,12.373611450195312,8.12769889831543,9.130666732788086,10.020134925842285,9.847271919250488,9.980452537536621,9.428250312805176,41.99809646606445,37.736480712890625,14.998991012573242,29.48801040649414,10.546378135681152,22.235429763793945,33.99497985839844,23.8516845703125,30.387727737426758,1.9942312240600586,7.949967384338379,6.901545524597168,37.91913986206055,10.742227554321289,10.15092658996582,10.844480514526367,10.221784591674805,4.223789691925049,8.39653205871582,45.996177673339844,19.154489517211914,47.99726486206055,16.877378463745117,8.012226104736328,33.005558013916016,28.268943786621094,27.998817443847656,29.999919891357422,37.736480712890625,19.450876235961914,45.99345779418945,10.99409294128418,10.996692657470703,21.63426399230957,4.996291160583496,29.999919891357422,30.4870548248291,4.857731342315674,47.99650955200195,23.89678955078125,10.994833946228027,22.439050674438477,23.7995548248291,9.928576469421387,10.9439115524292,9.581221580505371,8.865527153015137,10.43274211883545,12.995943069458008,22.632150650024414,10.409048080444336,9.210433006286621,19.476003646850586,8.31916618347168,9.773877143859863,0.950692892074585,23.99805450439453,10.234940528869629,25.714561462402344,23.00409698486328,16.307275772094727,9.630424499511719,12.278754234313965,9.80870532989502,24.901968002319336,33.98360061645508,10.5140962600708,46.99599838256836,9.658766746520996,27.99821662902832,32.7888298034668,8.39653205871582,27.99066734313965,18.59160041809082,28.179967880249023,30.071735382080078,5.5728068351745605,17.010578155517578,47.620914459228516,25.995681762695312,8.896449089050293,36.003604888916016,10.221784591674805,27.952220916748047,8.602619171142578,10.01028060913086,19.069488525390625,20.064613342285156,29.740053176879883,20.28461456298828,10.9439115524292,23.29714012145996,10.68853759765625,12.16746997833252,17.89529800415039,10.14426326751709,24.66521644592285,9.070283889770508,26.694372177124023,9.502883911132812,5.87497615814209,1.5075970888137817,30.32391357421875,10.995881080627441,38.99041748046875,8.078539848327637,9.230316162109375,8.602619171142578,21.019603729248047,22.619237899780273,10.628399848937988,27.67022705078125,2.9044342041015625,11.988964080810547,31.990934371948242,23.008995056152344,7.884226322174072,36.39832305908203,19.278383255004883,28.73668098449707,9.56700611114502,44.99885177612305,10.804454803466797,29.408544540405273,9.998895645141602,8.48351001739502,26.63436508178711,31.99564552307129,8.012739181518555,6.05025577545166,8.478806495666504,34.90902328491211,30.071735382080078,7.604070663452148,33.637657165527344,39.58482360839844,10.511218070983887,10.45630168914795,3.47019362449646,8.792859077453613,9.092676162719727,9.612786293029785,10.99702262878418,30.498313903808594,9.281310081481934,7.009324073791504,11.000816345214844,18.02159881591797,21.128253936767578,9.620121002197266,25.76912498474121,9.849834442138672,2.9988603591918945,27.475200653076172,24.66521644592285,23.00409698486328,47.99702453613281,31.99604606628418,4.003914833068848,38.999664306640625,45.99345779418945,0.9935514330863953,28.022289276123047,31.990934371948242,21.019262313842773,11.9939603805542,8.152338027954102,13.548666000366211,9.41210651397705,22.798389434814453,18.00796890258789,33.637657165527344,16.935317993164062,20.45374870300293,10.359712600708008,21.84358787536621,9.43702507019043,15.001258850097656,7.275472164154053,8.738802909851074,18.993837356567383,22.03073501586914,10.222282409667969,22.03073501586914,9.581221580505371,10.040701866149902,8.441993713378906,25.873310089111328,10.996517181396484,7.2040886878967285,19.53264808654785,21.090696334838867,24.577510833740234,9.870559692382812,14.808056831359863,32.23894500732422,39.998443603515625,19.450876235961914,8.69974136352539,23.991466522216797,9.179049491882324,10.666604995727539,20.40758514404297,7.232919692993164,37.736480712890625,7.7152509689331055,23.607511520385742,28.73668098449707,4.008393287658691,10.511218070983887,25.603776931762695,8.002328872680664,9.323162078857422,10.601349830627441,23.781116485595703,10.40802001953125,30.4870548248291,21.274024963378906,22.541593551635742,9.46860408782959,26.362995147705078,14.828089714050293,5.988823413848877,3.9983413219451904,9.115116119384766,9.860928535461426,22.632150650024414,10.281373023986816,9.682534217834473,29.99211883544922,10.72044849395752,9.43702507019043,16.65341567993164,7.154903411865234,28.179967880249023,10.350077629089355,7.504640102386475,8.869175910949707,28.998144149780273,6.853824615478516,21.661216735839844,10.336026191711426,1.114912748336792,9.946722030639648,9.696348190307617,10.541001319885254,10.118329048156738,26.534093856811523,21.84358787536621,25.92588996887207,21.019262313842773,31.156108856201172,9.44794750213623,11.569097518920898,8.871421813964844,9.98723030090332,9.219836235046387,17.002220153808594,9.587163925170898,10.317821502685547,28.840938568115234,9.995789527893066,10.993144035339355,9.656206130981445,10.221784591674805,10.45630168914795,9.540509223937988,9.961350440979004,16.56827163696289,39.997310638427734,1.063045620918274,46.99798583984375,15.269937515258789,5.15069055557251,37.99930953979492,11.990166664123535,26.05099105834961,9.240228652954102,10.861279487609863,23.010623931884766,8.496435165405273,10.283023834228516,10.122078895568848,9.336779594421387,7.183191776275635,4.875239849090576,26.883281707763672,17.441856384277344,26.694372177124023,10.995823860168457,8.861492156982422,8.910222053527832,4.993259429931641,11.000258445739746,10.409048080444336,17.284626007080078,8.02731990814209,19.53264808654785,38.736236572265625,9.847055435180664,10.802189826965332,10.158352851867676,7.154903411865234,21.63426399230957,13.54343032836914,8.45565414428711,9.11967945098877,10.996517181396484,8.496367454528809,9.559950828552246,10.365926742553711,10.688407897949219,2.4267940521240234,28.022289276123047,2.019059658050537,8.843239784240723,10.185461044311523,11.990166664123535,37.93001937866211,9.46860408782959,10.511218070983887,8.288782119750977,1.018786907196045,17.441856384277344,8.041500091552734,9.242424964904785,32.452537536621094,38.00333023071289,8.713411331176758,8.210210800170898,8.851678848266602,6.963834285736084,31.726186752319336,8.11920166015625,5.719028949737549,39.997310638427734,21.998300552368164,10.365739822387695,29.592025756835938,1.9059795141220093,8.69974136352539,46.994224548339844,4.013149261474609,33.99497985839844,8.288782119750977,24.999570846557617,20.05224609375,19.069488525390625,7.174196243286133,7.995055675506592,30.55196762084961,15.077001571655273,20.371816635131836,3.975184202194214,4.875239849090576,39.58482360839844,10.064301490783691,10.5322265625,9.681183815002441,7.808913707733154,10.775094985961914,26.003833770751953,10.666604995727539,32.43260955810547,10.666939735412598,9.759340286254883,11.983108520507812,8.861492156982422,9.1986083984375,10.99409294128418,26.694372177124023,29.336801528930664,15.388163566589355,7.548031806945801,30.570194244384766,10.995823860168457,9.500535011291504,44.99885177612305,4.579533100128174,9.115116119384766,13.837700843811035,10.59737491607666,9.813167572021484,24.66521644592285,10.995823860168457,32.99124526977539,8.899945259094238,26.680423736572266,8.012739181518555,20.19036293029785,27.998828887939453,9.41210651397705,36.00187301635742,19.714494705200195,22.235429763793945,9.242424964904785,9.1986083984375,24.577510833740234,4.002579212188721,36.22519302368164,8.713411331176758,9.766607284545898,11.033487319946289,32.452537536621094,3.8434274196624756,1.4942395687103271,10.117622375488281,9.130666732788086,9.237875938415527,11.624399185180664,10.221784591674805,20.213895797729492,10.266822814941406,9.829642295837402,9.80880355834961,8.09500503540039,1.3437572717666626,7.880949020385742,23.010623931884766,19.007795333862305,9.797906875610352,8.12769889831543,9.341938972473145,36.99260711669922,25.662134170532227,4.5472540855407715,30.32391357421875,9.995789527893066,47.0009651184082,9.188109397888184,10.313663482666016,5.15069055557251,26.982847213745117,46.994224548339844,22.632150650024414,10.99702262878418,47.99702453613281,32.00566864013672,42.99401092529297,6.442307472229004,23.780994415283203,10.427149772644043,28.611780166625977,36.99675369262695,17.993144989013672,13.908539772033691,18.688840866088867,25.143035888671875,17.587162017822266,10.80385684967041,36.99260711669922,8.4884614944458,10.490150451660156,18.2598876953125,32.99637985229492,9.892024040222168,17.284626007080078,17.7393856048584,9.849834442138672,9.340072631835938,47.00284957885742,27.66988754272461,8.667430877685547,6.05025577545166,28.995824813842773,10.03610897064209,8.225568771362305,28.995824813842773,24.315523147583008,45.996177673339844,8.236068725585938,22.366025924682617,24.352920532226562,9.955982208251953,3.247920036315918,8.902944564819336,35.842891693115234,10.554993629455566,8.738661766052246,11.569097518920898,9.908280372619629,1.994201898574829,10.68853759765625,19.154489517211914,9.471043586730957,10.804454803466797,9.171902656555176,10.835552215576172,10.409048080444336,10.679605484008789,8.602619171142578,10.546378135681152,24.97792625427246,32.452537536621094,18.050704956054688,24.315523147583008,9.942845344543457,33.00881576538086,7.949967384338379,10.717995643615723,17.010578155517578,1.363874912261963,27.952220916748047,30.00508689880371,9.797906875610352,11.016449928283691,8.38320541381836,9.995233535766602,2.1115338802337646,11.569097518920898,10.592345237731934,5.007058620452881,2.149054765701294,1.501953363418579,5.731368064880371,31.158069610595703,33.98360061645508,6.752384662628174,17.7393856048584,9.125033378601074,11.994372367858887,9.602051734924316,20.45374870300293,15.0095853805542,10.995881080627441,8.746747016906738,12.996866226196289,10.861279487609863,21.685449600219727,8.104333877563477,2.609614849090576,9.413833618164062,10.592345237731934,45.99345779418945,7.764986515045166,5.992401599884033,24.97792625427246,36.99657440185547,31.609806060791016,10.313663482666016,9.092676162719727,26.852859497070312,33.98360061645508,31.99564552307129,4.380093574523926,21.923738479614258,15.393094062805176,20.10324478149414,17.1180419921875,12.00167465209961,15.670316696166992,21.923738479614258,22.541593551635742,15.393094062805176,8.12769889831543,42.99585723876953,9.09880256652832,1.996283769607544,38.26190948486328,21.63426399230957,10.365926742553711,30.498313903808594,7.954699993133545,9.104625701904297,14.828089714050293,24.315523147583008,10.350077629089355,23.446805953979492,42.99585723876953,8.693962097167969,9.094226837158203,32.992645263671875,10.523683547973633,46.00007247924805,9.587163925170898,28.280874252319336,33.98360061645508,34.59677505493164,19.476003646850586,1.341630220413208,28.268943786621094,28.995824813842773,22.632150650024414,5.092333793640137,9.461868286132812,9.575180053710938,18.99648666381836,8.780579566955566,9.419493675231934,10.544890403747559,30.99718475341797,29.321218490600586,2.2479772567749023,21.969318389892578,10.666604995727539,9.852216720581055,8.48351001739502,24.577510833740234,10.998504638671875,15.0095853805542,25.957242965698242,1.0509424209594727,26.525732040405273,36.112125396728516,25.45445442199707,25.763399124145508,2.3712267875671387,36.22519302368164,18.271249771118164,0.45236560702323914,5.713758945465088,6.992883682250977,3.035038471221924,9.772513389587402,9.965554237365723,47.620914459228516,9.54542350769043,23.010623931884766,9.413833618164062,31.991926193237305,28.582120895385742,45.994571685791016,27.99798011779785,8.465921401977539,27.218637466430664,36.22519302368164,10.221784591674805,28.15795135498047,27.075727462768555,7.866329669952393,9.980452537536621,30.498313903808594,10.001718521118164,10.313663482666016,9.763666152954102,34.9942626953125,10.063267707824707,25.76912498474121,10.991684913635254,7.533474445343018,36.99675369262695,8.760438919067383,23.785011291503906,24.315523147583008,8.31916618347168,21.803836822509766,8.002328872680664,34.90902328491211,25.99367904663086,1.028432846069336,10.15092658996582,8.780579566955566,29.996978759765625,10.995881080627441,38.277015686035156,8.813923835754395,10.993144035339355,6.602923393249512,9.625418663024902,10.98391342163086,23.526592254638672,9.146374702453613,36.22519302368164,33.005558013916016,3.121943473815918,32.993812561035156,23.1031494140625,10.368123054504395,27.952220916748047,10.5322265625,46.998390197753906,21.685449600219727,3.7932779788970947,46.9987907409668,32.43260955810547,10.68676471710205,30.071735382080078,31.006669998168945,10.835552215576172,23.781116485595703,36.22519302368164,24.901968002319336,8.99744987487793,30.387727737426758,35.85371398925781,7.257359504699707,33.999298095703125,8.002328872680664,40.00143814086914,47.99775695800781,17.993144989013672,5.731368064880371,21.007232666015625,9.969718933105469,10.829497337341309,9.413833618164062,9.395392417907715,10.511218070983887,9.234587669372559,10.72044849395752,21.998300552368164,31.99564552307129,10.313663482666016,24.071151733398438,47.00069046020508,10.511218070983887,20.19036293029785,5.87497615814209,25.873310089111328,25.416730880737305,8.078539848327637,17.010578155517578,22.003564834594727,4.318058013916016,16.49820327758789,30.071735382080078,28.995824813842773,9.892024040222168,45.997802734375,9.500535011291504,23.0134334564209,10.40802001953125,10.5140962600708,9.980452537536621,23.99805450439453,23.1031494140625,30.002147674560547,10.242716789245605,4.0346293449401855,10.336026191711426,10.336026191711426,23.42812728881836,8.896449089050293,12.800344467163086,8.000604629516602,10.40802001953125,26.351974487304688,47.0009651184082,25.04163932800293,25.91309928894043,9.451903343200684,2.508329153060913,20.004802703857422,47.00069046020508,20.450990676879883,33.637657165527344,26.010507583618164,1.073438048362732,20.05224609375,9.146374702453613,8.014013290405273,8.583192825317383,37.93001937866211,7.105653762817383,9.928576469421387,25.133337020874023,27.475200653076172,45.99475860595703,9.521025657653809,45.999725341796875,18.42357635498047,21.685449600219727,23.33725929260254,15.159608840942383,4.190215587615967,10.476469039916992,10.040785789489746,4.589243412017822,27.952220916748047,9.106949806213379,26.982847213745117,3.127143144607544,10.59737491607666,46.995967864990234,22.732879638671875,9.995266914367676,10.381697654724121,25.632394790649414,6.901545524597168,9.84430980682373,14.205988883972168,21.803836822509766,9.735618591308594,28.998144149780273,13.532759666442871,2.3395910263061523,9.559950828552246,28.057844161987305,8.602619171142578,11.002745628356934,7.697887897491455,9.340072631835938,2.1983704566955566,7.884226322174072,20.002288818359375,5.413442611694336,24.69544219970703,9.1986083984375,8.104333877563477,31.156108856201172,1.9587504863739014,28.15795135498047,25.873310089111328,26.1195125579834,7.809635162353516,47.620914459228516,47.620914459228516,2.9970057010650635,2.508329153060913,13.605818748474121,21.259599685668945,13.837700843811035,6.2656707763671875,4.003914833068848,10.365926742553711,10.554993629455566,18.244314193725586,36.996299743652344,5.413442611694336,29.841331481933594,21.128253936767578,19.944631576538086,23.754228591918945,19.005813598632812,30.40837287902832,9.336779594421387,20.05224609375,10.9439115524292,15.99972152709961,9.80870532989502,31.004650115966797,24.66521644592285,21.84358787536621,19.476003646850586,9.46860408782959,27.66988754272461,9.777139663696289,11.100743293762207,25.000686645507812,28.317298889160156,10.990925788879395,7.054643154144287,23.781116485595703,10.80385684967041,35.00192642211914,7.3435773849487305,25.416730880737305,9.879791259765625,19.069488525390625,10.740139961242676,4.9752912521362305,28.582120895385742,31.609806060791016,38.277015686035156,25.714561462402344,9.80870532989502,10.997157096862793,10.802189826965332,23.519306182861328,6.550624847412109,10.313663482666016,10.279484748840332,37.736480712890625,9.994285583496094,18.911413192749023,10.381697654724121,14.998991012573242,28.268943786621094,7.348369598388672,20.019515991210938,9.210433006286621,10.158352851867676,13.98234748840332,9.928576469421387,11.992218971252441,4.7776312828063965,2.1648192405700684,19.6906795501709,23.008995056152344,23.004825592041016,10.68853759765625,10.998504638671875,15.163762092590332,1.7698317766189575,34.48563766479492,13.004796028137207,30.50636100769043,10.040193557739258,10.45630168914795,8.126983642578125,21.259599685668945,23.526592254638672,19.003185272216797,26.534093856811523,36.00187301635742,19.694976806640625,14.575264930725098,25.143035888671875,47.00284957885742,8.503989219665527,1.0073440074920654,10.722643852233887,9.989160537719727,10.234940528869629,47.620914459228516,8.09500503540039,10.427149772644043,30.42774200439453,4.28609561920166,10.9439115524292,9.2840576171875,9.587163925170898,11.992218971252441,44.0019645690918,10.742227554321289,9.240228652954102,10.993144035339355,36.00187301635742,38.99663162231445,26.010507583618164,8.871127128601074,26.362995147705078,7.880949020385742,10.283023834228516,33.005558013916016,10.523683547973633,23.999563217163086,33.637657165527344,26.534093856811523,24.69544219970703,26.010507583618164,28.791826248168945,10.586669921875,23.780994415283203,1.9966083765029907,9.980335235595703,22.366025924682617,10.717995643615723,20.10324478149414,47.620914459228516,46.9987907409668,23.526592254638672,11.983108520507812,16.1119384765625,30.699308395385742,6.013855934143066,37.736480712890625,24.68092155456543,27.840452194213867,7.351441860198975,13.54343032836914,8.496435165405273,10.5140962600708,11.482075691223145,8.427267074584961,20.604387283325195,29.99603271484375,17.99732208251953,5.319528102874756,35.842891693115234,21.843034744262695,30.071735382080078,9.32358169555664,9.521025657653809,26.05099105834961,10.156126976013184,10.998455047607422,21.998300552368164,8.751274108886719,8.460498809814453,7.237369060516357,10.68676471710205,18.238765716552734,32.00566864013672,10.742227554321289,29.590959548950195,8.225568771362305,32.7888298034668,12.011707305908203,9.678961753845215,9.219836235046387,30.42774200439453,28.791826248168945,10.998455047607422,13.708575248718262,19.73688507080078,46.9987907409668,28.280874252319336,10.281373023986816,46.997802734375,3.6484577655792236,21.007232666015625,9.575180053710938,8.675458908081055,10.266822814941406,11.988964080810547,1.7967010736465454,44.99947738647461,9.928576469421387,25.416730880737305,33.999298095703125,18.552160263061523,8.02731990814209,30.55196762084961,23.853290557861328,10.427149772644043,25.002897262573242,42.99686813354492,29.99683952331543,22.619237899780273,8.012226104736328,20.40758514404297,27.018346786499023,9.681183815002441,0.6742466688156128,45.997249603271484,6.853824615478516,9.681183815002441,9.895668029785156,16.765838623046875,9.1986083984375,29.348880767822266,28.73668098449707,33.993064880371094,47.620914459228516,1.0102088451385498,31.630979537963867,2.0530636310577393,25.416730880737305,21.007232666015625,19.803693771362305,8.697182655334473,27.00169563293457,10.775094985961914,32.99785614013672,18.05691909790039,9.985366821289062,18.989883422851562,8.114023208618164,14.136956214904785,26.694372177124023,19.450876235961914,47.620914459228516,36.112125396728516,48.99251174926758,25.92588996887207,15.641234397888184,10.68676471710205,20.813552856445312,18.000484466552734,8.002328872680664,32.452537536621094,20.30341911315918,28.057844161987305,32.00566864013672,9.847055435180664,35.85371398925781,27.82107925415039,19.73688507080078,34.87192916870117,2.0453007221221924,23.781116485595703,2.4185962677001953,9.28718090057373,6.963834285736084,29.738821029663086,6.035221099853516,15.709458351135254,7.350316047668457,47.99726486206055,8.02731990814209,32.452537536621094,39.99506759643555,25.716320037841797,10.688407897949219,5.189692974090576,15.473954200744629,14.575881958007812,8.10945987701416,29.499216079711914,10.40802001953125,14.136956214904785,10.359712600708008,25.763399124145508,8.09500503540039,9.221919059753418,11.016449928283691,7.275472164154053,22.541593551635742,15.670316696166992,10.717995643615723,15.330228805541992,9.451903343200684,8.792859077453613,9.852216720581055,23.519948959350586,20.05224609375,8.697182655334473,46.9987907409668,19.007795333862305,23.785011291503906,46.998661041259766,26.63436508178711,25.04163932800293,11.009207725524902,9.219836235046387,7.697887897491455,18.296010971069336,47.99650955200195,47.620914459228516,9.908280372619629,9.587163925170898,9.80880355834961,30.071735382080078,8.496435165405273,15.991143226623535,9.336779594421387,30.42774200439453,15.709458351135254,15.159608840942383,9.602051734924316,13.41028881072998,21.803836822509766,45.99760437011719,1.0371248722076416,12.995943069458008,10.986357688903809,23.990018844604492,26.989118576049805,8.427267074584961,8.792859077453613,10.697667121887207,9.56700611114502,6.550624847412109,1.974338412284851,7.073886394500732,46.00007247924805,11.005985260009766,8.066634178161621,38.99041748046875,9.765138626098633,8.784574508666992,2.9944329261779785,6.493765830993652,30.699308395385742,9.56700611114502,23.519306182861328,23.607511520385742,10.9439115524292,14.013325691223145,10.80385684967041,14.649272918701172,26.852859497070312,25.496606826782227,14.00961971282959,18.02159881591797,5.007058620452881,10.476469039916992,2.655425786972046,14.734152793884277,10.136543273925781,8.851678848266602,11.983108520507812,16.307275772094727,28.280874252319336,47.620914459228516,10.122078895568848,9.125033378601074,15.042795181274414,34.48563766479492,11.569097518920898,25.92588996887207,29.999919891357422,9.602051734924316,20.42546272277832,9.772513389587402,6.964953899383545,19.069488525390625,9.928576469421387,9.84430980682373,15.670316696166992,2.97110915184021,9.960344314575195,9.521025657653809,18.09085464477539,10.350077629089355,9.014885902404785,8.769991874694824,8.583192825317383,31.726186752319336,17.405820846557617,19.803693771362305,3.9811670780181885,23.780994415283203,22.950653076171875,29.48801040649414,9.54542350769043,4.566556453704834,27.54661750793457,1.260130524635315,9.505334854125977,25.763399124145508,26.0007266998291,8.465921401977539,10.740139961242676,14.575264930725098,44.99885177612305,10.541581153869629,3.6218154430389404,9.130666732788086,35.71189880371094,9.530702590942383,8.667430877685547,10.009057998657227,22.88440704345703,8.792859077453613,19.095613479614258,28.022289276123047,29.408544540405273,33.637657165527344,9.323162078857422,1.6102447509765625,28.179967880249023,9.625418663024902,10.722643852233887,17.405820846557617,10.99478816986084,6.550624847412109,34.54588317871094,25.143035888671875,9.656206130981445,36.39832305908203,12.344225883483887,6.05025577545166,32.452537536621094,7.232919692993164,8.540450096130371,20.993404388427734,8.496367454528809,9.16629695892334,13.175929069519043,22.582822799682617,28.003875732421875,16.629207611083984,5.483877658843994,9.413833618164062,39.58482360839844,2.003565788269043,12.817111015319824,2.2862014770507812,28.022289276123047,10.628399848937988,9.242424964904785,18.09085464477539,21.225496292114258,7.183191776275635,22.03073501586914,9.210433006286621,10.63845443725586,8.000604629516602,10.313663482666016,9.550253868103027,16.470333099365234,10.495339393615723,15.159608840942383,9.242424964904785,9.679831504821777,29.999919891357422,9.6758394241333,1.5475850105285645,23.01753044128418,7.237369060516357,27.840452194213867,19.7540283203125,10.99990177154541,26.694372177124023,7.7152509689331055,47.620914459228516,4.147703170776367,7.748178482055664,20.213895797729492,19.450876235961914,34.87192916870117,10.064301490783691,22.619237899780273,9.906736373901367,13.605818748474121,9.16629695892334,26.982847213745117,10.365926742553711,21.873645782470703,10.511218070983887,7.352569103240967,17.740100860595703,6.964953899383545,7.954699993133545,27.874961853027344,22.632150650024414,10.856571197509766,4.067871570587158,20.595388412475586,25.873310089111328,9.6758394241333,8.465921401977539,10.740139961242676,23.638214111328125,10.43274211883545,20.992916107177734,1.9649001359939575,6.2656707763671875,9.1986083984375,23.00409698486328,36.99675369262695,9.895668029785156,9.082252502441406,23.526592254638672,21.225496292114258,7.098461151123047,8.784574508666992,13.908539772033691,25.410003662109375,31.990934371948242,19.714494705200195,9.892024040222168,1.9942312240600586,10.861279487609863,9.11967945098877,25.133337020874023,42.998661041259766,10.350077629089355,8.939754486083984,9.625418663024902,29.590959548950195,5.99843168258667,5.925485134124756,9.56700611114502,30.570194244384766,7.7152509689331055,10.57845687866211,27.99798011779785,9.847055435180664,5.713758945465088,8.712608337402344,24.754528045654297,10.592345237731934,25.716320037841797,9.413833618164062,17.405820846557617,7.004608154296875,15.269937515258789,9.892024040222168,46.00259780883789,44.99947738647461,10.679605484008789,7.625458240509033,36.112125396728516,9.070283889770508,5.413442611694336,10.246305465698242,12.011707305908203,11.016775131225586,26.297454833984375,6.996160507202148,11.010771751403809,9.735618591308594,9.908280372619629,10.804454803466797,20.993404388427734,10.246305465698242,9.349064826965332,24.69544219970703,21.969318389892578,19.694976806640625,4.020241737365723,8.322591781616211,9.104650497436523,30.32391357421875,10.523683547973633,4.020016670227051,15.077001571655273,37.91913986206055,32.537940979003906,10.381697654724121,41.99911117553711,10.185461044311523,39.998443603515625,32.452537536621094,28.791826248168945,7.512174129486084,33.00881576538086,26.525732040405273,9.341938972473145,5.829280853271484,9.428250312805176,37.93001937866211,23.519948959350586,24.212739944458008,10.427149772644043,6.493765830993652,9.070283889770508,8.780579566955566,23.98773765563965,10.495339393615723,1.6690984964370728,20.05224609375,8.997162818908691,9.860928535461426,2.994144916534424,7.351441860198975,38.736236572265625,7.098461151123047,10.717995643615723,38.99041748046875,10.283023834228516,9.969718933105469,9.99346923828125,22.619237899780273,10.992259979248047,28.998144149780273,10.999865531921387,13.532759666442871,9.230316162109375,8.48351001739502,25.45445442199707,11.033487319946289,14.400047302246094,13.54343032836914,25.714561462402344,14.408916473388672,24.002975463867188,6.281477928161621,10.427149772644043,8.02731990814209,12.943619728088379,6.717398166656494,16.369544982910156,2.9980435371398926,8.10945987701416,3.1626265048980713,47.99702453613281,36.22519302368164,14.649272918701172,20.993404388427734,14.734152793884277,9.550253868103027,22.692930221557617,10.717995643615723,9.349064826965332,8.602619171142578,3.4019253253936768,25.603776931762695,8.871127128601074,30.071735382080078,26.362995147705078,26.884931564331055,47.997196197509766,9.620121002197266,30.387727737426758,2.655425786972046,10.122078895568848,2.049522876739502,10.246305465698242,3.1563148498535156,10.717995643615723,8.693962097167969,46.994224548339844,9.847271919250488,25.416730880737305,45.999725341796875,10.601349830627441,9.2840576171875,2.1050400733947754,24.315523147583008,9.759340286254883,7.639676094055176,22.582822799682617,4.000370979309082,10.990925788879395,5.319528102874756,10.090502738952637,42.998661041259766,3.012037515640259,7.073886394500732,32.00566864013672,17.042400360107422,7.748178482055664,9.54249382019043,31.991926193237305,9.679831504821777,10.995881080627441,9.341938972473145,9.188109397888184,23.89678955078125,30.387727737426758,10.835552215576172,16.998191833496094,10.00570011138916,22.950653076171875,14.999186515808105,28.791826248168945,10.835552215576172,10.158352851867676,25.000686645507812,8.992011070251465,9.612786293029785,42.99686813354492,17.042400360107422,46.998390197753906,12.429961204528809,1.0243124961853027,22.88440704345703,29.42477798461914,10.136543273925781,22.28112030029297,9.995789527893066,8.378629684448242,7.232919692993164,7.880949020385742,10.520357131958008,8.378629684448242,26.297454833984375,10.118329048156738,8.153589248657227,44.99821090698242,46.99692153930664,9.156953811645508,26.362995147705078,9.550253868103027,28.268943786621094,22.320348739624023,8.869175910949707,38.277015686035156,13.54343032836914,47.997196197509766,9.847271919250488,10.266822814941406,14.916802406311035,1.331761360168457,10.246305465698242,9.09880256652832,28.022289276123047,25.920970916748047,9.1986083984375,6.374258995056152,10.117622375488281,9.219836235046387,31.630979537963867,4.005603790283203,46.995967864990234,2.810737133026123,7.195193767547607,8.088218688964844,25.143035888671875,20.371816635131836,26.884931564331055,3.0068981647491455,25.04163932800293,10.68853759765625,20.19036293029785,12.920171737670898,11.016449928283691,9.679831504821777,4.9797492027282715,10.234940528869629,28.614229202270508,8.104333877563477,8.99744987487793,30.00508689880371,47.997196197509766,22.12224769592285,30.55196762084961,22.235429763793945,20.144268035888672,16.765838623046875,9.797906875610352,30.0008602142334,18.296010971069336,7.880949020385742,10.063267707824707,30.55196762084961,26.0007266998291,4.995509624481201,10.064301490783691,9.018501281738281,31.156108856201172,26.010507583618164,20.064613342285156,9.210433006286621,10.222282409667969,36.99260711669922,20.28461456298828,8.98873233795166,25.133337020874023,9.125774383544922,22.541593551635742,14.136956214904785,31.9293212890625,14.998991012573242,8.675458908081055,9.797906875610352,14.41190242767334,10.118329048156738,22.732879638671875,10.9439115524292,29.499216079711914,8.871127128601074,13.870853424072266,38.512874603271484,5.987848281860352,17.003286361694336,30.32391357421875,37.93001937866211,9.500535011291504,30.231857299804688,12.800344467163086,10.090502738952637,9.84430980682373,2.6750311851501465,28.611780166625977,30.00508689880371,27.952220916748047,10.57845687866211,46.00041198730469,10.15092658996582,8.675458908081055,46.994224548339844,6.602923393249512,21.873645782470703,32.844085693359375,7.385990142822266,9.852216720581055,9.395392417907715,46.00007247924805,10.005820274353027,10.541581153869629,1.9970210790634155,30.999521255493164,10.592345237731934,23.609622955322266,28.022289276123047,10.998025894165039,44.99821090698242,15.641234397888184,29.336801528930664,7.954699993133545,10.326692581176758,2.0413503646850586,8.11920166015625,2.990751266479492,19.476003646850586,36.99675369262695,30.002147674560547,29.42477798461914,33.637657165527344,38.736236572265625,13.539600372314453,15.269937515258789,15.709458351135254,4.380093574523926,46.00007247924805,28.003875732421875,46.99798583984375,12.001913070678711,9.46860408782959,9.80880355834961,30.231857299804688,10.920591354370117,8.869175910949707,31.630979537963867,9.530702590942383,32.537940979003906,10.427149772644043,10.336026191711426,27.67022705078125,34.87192916870117,9.581221580505371,24.352920532226562,20.19036293029785,25.45445442199707,22.732879638671875,9.752391815185547,29.408544540405273,8.738661766052246,8.39653205871582,9.00070571899414,24.577510833740234,11.988964080810547,42.99585723876953,4.5472540855407715,9.313423156738281,8.583192825317383,38.99663162231445,22.494768142700195,17.284626007080078,10.427149772644043,10.722643852233887,28.611780166625977,46.99798583984375,8.276784896850586,46.99692153930664,6.992883682250977,11.520468711853027,10.835552215576172,25.4044189453125,9.752391815185547,7.141944885253906,28.998144149780273,9.237875938415527,22.798389434814453,25.416730880737305,26.010507583618164,9.821599960327148,3.0029900074005127,8.322591781616211,19.450876235961914,20.19036293029785,11.335996627807617,47.620914459228516,9.969718933105469,23.109643936157227,9.773877143859863,13.908539772033691,6.989535808563232,26.989118576049805,7.611948490142822,20.002288818359375,8.667430877685547,10.040785789489746,10.844480514526367,2.975588798522949,18.000484466552734,9.980452537536621,10.993144035339355,10.118329048156738,7.351441860198975,30.387727737426758,5.99843168258667,9.1986083984375,23.89678955078125,8.09500503540039,2.057485580444336,8.697182655334473,31.630979537963867,31.158069610595703,3.028313159942627,16.765838623046875,19.433168411254883,9.237875938415527,26.05099105834961,10.998504638671875,25.92588996887207,37.99930953979492,10.742227554321289,28.317298889160156,10.99845027923584,3.030850887298584,21.007232666015625,2.024087429046631,25.957242965698242,8.088218688964844,24.310861587524414,10.697667121887207,32.537940979003906,9.980452537536621,10.122078895568848,10.381697654724121,14.400047302246094,3.885821580886841,11.624399185180664,24.754528045654297,10.64426326751709,12.920171737670898,30.498313903808594,5.823558807373047,9.413833618164062,38.736236572265625,8.943548202514648,3.2342681884765625,27.018346786499023,10.99732780456543,1.989089846611023,33.993316650390625,10.283023834228516,16.629207611083984,22.235429763793945,15.572004318237305,14.875356674194336,7.748178482055664,32.00121307373047,26.375328063964844,5.823558807373047,20.45374870300293,10.005820274353027,9.340072631835938,27.67022705078125,14.808056831359863,22.541593551635742,2.345165967941284,18.09085464477539,9.99148941040039,25.143035888671875,8.746747016906738,21.007232666015625,10.998025894165039,29.738821029663086,28.614229202270508,6.671680450439453,9.106949806213379,15.709458351135254,22.950653076171875,12.553204536437988,22.582822799682617,22.692930221557617,5.829280853271484,10.5140962600708,7.808913707733154,26.556333541870117,8.153642654418945,48.99251174926758,8.687482833862305,30.663244247436523,7.3435773849487305,9.106949806213379,10.222282409667969,3.970921277999878,8.861492156982422,5.913297176361084,24.352920532226562,8.713411331176758,21.843034744262695,28.611780166625977,34.48563766479492,4.9752912521362305,28.268943786621094,9.80880355834961,16.629207611083984,9.908280372619629,9.587163925170898,7.105653762817383,10.57845687866211,21.63426399230957,12.19556713104248,8.09500503540039,10.996692657470703,21.63426399230957,24.171995162963867,10.99409294128418,10.64426326751709,4.998076915740967,18.014389038085938,10.117622375488281,47.620914459228516,9.811812400817871,10.856571197509766,26.297454833984375,8.378629684448242,14.734152793884277,11.012453079223633,10.118329048156738,36.112125396728516,24.071151733398438,2.2950990200042725,8.775500297546387,10.9439115524292,22.439050674438477,31.158069610595703,46.997802734375,46.99638366699219,22.12224769592285,9.164668083190918,23.607511520385742,26.556333541870117,10.897185325622559,9.933945655822754,8.843239784240723,18.000484466552734,29.374073028564453,21.225496292114258,10.222282409667969,6.98020601272583,46.99692153930664,45.99345779418945,1.3232955932617188,8.460498809814453,31.609806060791016,10.5140962600708,9.587163925170898,10.995881080627441,20.40758514404297,9.969718933105469,11.016449928283691,35.842891693115234,10.994833946228027,21.225496292114258,9.763666152954102,1.991423487663269,46.997802734375,8.675458908081055,12.629714012145996,17.89529800415039,11.051886558532715,23.99805450439453,10.544890403747559,9.164668083190918,24.66521644592285,16.65341567993164,22.04709815979004,13.98695182800293,19.005813598632812,9.234587669372559,8.902944564819336,42.99686813354492,22.494768142700195,7.533474445343018,7.141944885253906,10.628399848937988,47.99702453613281,9.164668083190918,18.014389038085938,6.671680450439453,12.920171737670898,44.99947738647461,10.775094985961914,14.65749740600586,4.996288776397705,10.994222640991211,21.63426399230957,45.997249603271484,29.99683952331543,5.5728068351745605,9.104650497436523,3.7030911445617676,48.99613952636719,26.556333541870117,39.997127532958984,33.999298095703125,42.02029037475586,8.99744987487793,38.512874603271484,32.43260955810547,31.006669998168945,9.961350440979004,12.39598274230957,10.592345237731934,23.990018844604492,10.804454803466797,20.064613342285156,9.772513389587402,9.188109397888184,9.54542350769043,6.752384662628174,23.29714012145996,9.773877143859863,9.575180053710938,23.519948959350586,3.6484577655792236,6.963834285736084,21.356021881103516,13.837700843811035,9.413833618164062,10.717995643615723,23.0134334564209,24.007240295410156,32.00285339355469,25.143035888671875,9.998895645141602,12.010062217712402,46.99192810058594,1.994201898574829,9.164668083190918,14.734152793884277,21.356021881103516,3.327256202697754,2.697736978530884,26.94347381591797,36.99260711669922,28.179967880249023,47.99702453613281,2.3339691162109375,10.99845027923584,28.998144149780273,7.748178482055664,3.008270502090454,17.1180419921875,9.759340286254883,30.20746421813965,9.413833618164062,26.694372177124023,9.171902656555176,10.57845687866211,47.620914459228516,9.547243118286133,13.54343032836914,9.656206130981445,29.996978759765625,8.675458908081055,36.39832305908203,9.540509223937988,32.992645263671875,10.666604995727539,39.997127532958984,10.368123054504395,30.42774200439453,9.908280372619629,23.1031494140625,25.603776931762695,23.1031494140625,30.995933532714844,8.775500297546387,23.42812728881836,8.89129638671875,33.56051254272461,21.730865478515625,10.43274211883545,37.736480712890625,47.620914459228516,16.49820327758789,8.983305931091309,1.9850332736968994,10.350077629089355,24.007240295410156,9.908280372619629,31.991926193237305,19.278383255004883,8.369281768798828,9.955982208251953,7.764986515045166,31.726186752319336,37.99930953979492,25.416730880737305,9.602051734924316,10.266822814941406,9.156953811645508,19.944631576538086,10.476469039916992,24.212739944458008,36.112125396728516,29.999711990356445,31.9293212890625,7.15513277053833,9.156953811645508,22.439050674438477,21.803836822509766,6.597984790802002,33.00881576538086,10.001592636108398,9.852216720581055,42.99686813354492,34.9942626953125,26.64225959777832,7.748178482055664,9.617493629455566,35.85371398925781,44.00151824951172,22.03073501586914,10.63845443725586,26.63436508178711,8.338081359863281,3.9784157276153564,9.130666732788086,10.40802001953125,11.016449928283691,27.005123138427734,28.057844161987305,7.512174129486084,26.534093856811523,18.014389038085938,10.666939735412598,5.15069055557251,27.256427764892578,10.57845687866211,20.144268035888672,9.980452537536621,46.997802734375,9.248682975769043,10.679605484008789,36.39832305908203,9.682534217834473,27.67022705078125,45.994571685791016,10.99732780456543,9.461868286132812,30.50636100769043,26.694372177124023,9.461868286132812,18.911413192749023,10.829497337341309,9.210433006286621,8.69974136352539,1.9064520597457886,32.844085693359375,10.664217948913574,1.974338412284851,10.687082290649414,10.844480514526367,17.40412139892578,10.365926742553711,31.609806060791016,34.90902328491211,9.960344314575195,10.63845443725586,10.14426326751709,9.188109397888184,8.369281768798828,17.7393856048584,10.995823860168457,23.998390197753906,21.225496292114258,2.0015957355499268,18.911413192749023,10.991684913635254,11.983108520507812,10.664217948913574,10.43274211883545,7.954699993133545,19.2474422454834,1.527518391609192,19.154489517211914,8.810291290283203,30.50636100769043,10.717995643615723,19.433168411254883,9.772513389587402,10.996517181396484,14.649272918701172,18.993837356567383,9.125774383544922,37.93001937866211,21.274024963378906,37.736480712890625,8.31916618347168,23.785011291503906,27.840452194213867,10.040701866149902,5.007058620452881,10.742227554321289,28.15795135498047,21.274024963378906,11.999979972839355,8.48351001739502,9.482412338256836,20.604387283325195,25.957242965698242,28.179967880249023,14.875356674194336,20.064613342285156,27.00169563293457,30.071735382080078,21.274024963378906,25.632394790649414,9.995233535766602,21.225496292114258,9.860928535461426,23.754228591918945,14.40882682800293,46.00041198730469,28.268943786621094,22.692930221557617,6.550624847412109,15.001258850097656,20.994707107543945,10.493741989135742,9.879791259765625,32.7888298034668,31.991926193237305,8.12769889831543,46.00041198730469,9.00023078918457,10.158352851867676,9.179049491882324,3.999192953109741,9.630424499511719,8.738661766052246,10.313663482666016,28.317298889160156,11.990166664123535,6.964953899383545,9.829642295837402,7.504640102386475,24.69544219970703,3.068281650543213,30.42774200439453,26.883281707763672,16.369544982910156,10.98391342163086,10.9439115524292,9.6758394241333,39.58482360839844,20.05224609375,10.804454803466797,19.73688507080078,8.869175910949707,10.99409294128418,12.943619728088379,27.874961853027344,35.99114990234375,7.504640102386475,30.231857299804688,10.601349830627441,2.9881746768951416,7.183191776275635,8.775500297546387,16.49820327758789,28.003875732421875,23.109643936157227,10.313663482666016,4.589243412017822,10.476469039916992,28.317298889160156,10.313663482666016,7.7152509689331055,28.791826248168945,9.104625701904297,1.9799556732177734,10.158352851867676,10.523683547973633,9.850554466247559,36.39832305908203,8.994399070739746,31.726186752319336,7.232919692993164,21.661216735839844,17.89529800415039,8.690523147583008,41.99911117553711,10.153800964355469,36.22519302368164,10.511218070983887,9.54542350769043,1.655632495880127,33.993064880371094,45.99345779418945,33.993316650390625,10.679605484008789,28.00888442993164,15.388163566589355,18.02159881591797,5.007905006408691,10.060790061950684,30.071735382080078,14.734152793884277,10.365739822387695,29.48801040649414,8.31916618347168,8.48351001739502,9.514188766479492,35.00192642211914,15.466238021850586,9.995266914367676,10.476469039916992,29.738821029663086,6.015940189361572,14.00961971282959,22.28112030029297,25.920970916748047,7.351441860198975,9.164668083190918,1.5647714138031006,8.583192825317383,9.679831504821777,8.861492156982422,19.6906795501709,9.772513389587402,9.575180053710938,10.586669921875,20.42546272277832,37.93001937866211,1.9910085201263428,8.454893112182617,10.009057998657227,29.99211883544922,8.738661766052246,4.579533100128174,16.195865631103516,10.365926742553711,30.00423240661621,36.99675369262695,10.003549575805664,6.82099723815918,47.0009651184082,22.399988174438477,22.494768142700195,29.0078182220459,10.313663482666016,9.067644119262695,9.56700611114502,31.000059127807617,8.738661766052246,1.1349496841430664,17.010578155517578,39.58482360839844,20.45374870300293,10.541581153869629,26.94347381591797,9.43702507019043,10.722643852233887,27.475200653076172,9.679831504821777,46.998390197753906,13.004796028137207,17.9636173248291,10.118329048156738,31.609806060791016,10.541581153869629,3.9601235389709473,10.279484748840332,9.46860408782959,10.99409294128418,8.478806495666504,19.935617446899414,9.84430980682373,27.018346786499023,20.28461456298828,29.499216079711914,3.6348063945770264,21.012971878051758,7.335439205169678,8.869175910949707,1.0656589269638062,9.955982208251953,13.605818748474121,6.595830917358398,9.54249382019043,2.8173270225524902,10.856571197509766,47.620914459228516,7.348369598388672,6.550624847412109,12.993623733520508,1.9898905754089355,10.266822814941406,10.998504638671875,46.99692153930664,10.511218070983887,10.995823860168457,1.0175875425338745,29.348880767822266,19.99322509765625,12.553204536437988,20.450990676879883,17.405820846557617,8.713411331176758,35.71189880371094,21.685449600219727,10.36550521850586,8.810291290283203,4.3253631591796875,34.87192916870117,42.02029037475586,23.519948959350586,12.011707305908203,27.018346786499023,10.409048080444336,1.9933418035507202,10.697667121887207,9.11967945098877,15.163762092590332,10.365926742553711,19.00788688659668,8.546926498413086,9.777139663696289,9.242424964904785,9.860928535461426,44.0019645690918,7.808913707733154,31.000316619873047,31.991926193237305,10.266822814941406,26.94347381591797,46.9987907409668,10.717995643615723,24.212739944458008,21.007232666015625,10.006936073303223,11.999979972839355,2.969033718109131,29.348880767822266,9.748970031738281,1.0124517679214478,9.658766746520996,9.141189575195312,8.902944564819336,14.808056831359863,10.63845443725586,7.512174129486084,23.526592254638672,20.002288818359375,9.505334854125977,7.237369060516357,19.694976806640625,15.572004318237305,9.916993141174316,21.843034744262695,8.378629684448242,14.008509635925293,13.54343032836914,23.633647918701172,24.315523147583008,8.693962097167969,2.2479772567749023,15.001258850097656,16.65165138244629,23.754228591918945,9.980335235595703,15.753804206848145,24.212739944458008,47.00284957885742,22.439050674438477,8.675458908081055,20.30341911315918,16.65165138244629,30.00508689880371,26.94347381591797,9.682534217834473,42.02029037475586,29.592025756835938,32.7888298034668,6.015203475952148,8.99744987487793,9.242424964904785,3.0066068172454834,21.63426399230957,8.693962097167969,2.290860176086426,9.682534217834473,4.0346293449401855,9.681183815002441,22.950653076171875,11.994645118713379,31.9293212890625,10.117622375488281,9.713384628295898,18.989883422851562,18.997039794921875,2.609614849090576,12.373611450195312,9.759340286254883,10.592345237731934,7.098461151123047,10.009057998657227,10.02706527709961,26.351974487304688,37.93001937866211,30.498313903808594,8.687482833862305,10.381697654724121,9.230316162109375,32.79817199707031,6.964953899383545,8.747855186462402,12.429961204528809,8.236068725585938,9.521025657653809,10.118329048156738,7.154903411865234,25.133337020874023,10.03610897064209,26.297454833984375,4.318058013916016,27.67022705078125,8.10945987701416,26.04893684387207,9.6758394241333,28.280874252319336,22.619237899780273,9.681183815002441,35.85371398925781,8.10945987701416,8.865527153015137,7.275472164154053,32.99683380126953,15.466238021850586,22.541593551635742,29.42477798461914,9.115116119384766,7.773681640625,1.431502342224121,9.430000305175781,28.995824813842773,39.58482360839844,9.938833236694336,30.50636100769043,4.002847671508789,7.822807788848877,38.736236572265625,26.884931564331055,4.857731342315674,32.854618072509766,20.019515991210938,22.950653076171875,10.221784591674805,10.221784591674805,7.884226322174072,28.268943786621094,37.99930953979492,25.80888557434082,15.269937515258789,19.433168411254883,7.955259323120117,10.687082290649414,8.975748062133789,22.00276756286621,23.29714012145996,32.00285339355469,9.171902656555176,10.381697654724121,19.803693771362305,13.870853424072266,17.993144989013672,8.943957328796387,8.975748062133789,21.179426193237305,30.32391357421875,13.708575248718262,46.998268127441406,31.991926193237305,10.775094985961914,6.602923393249512,20.994707107543945,9.56700611114502,9.6758394241333,5.005207061767578,21.84358787536621,42.99686813354492,27.874961853027344,21.923738479614258,10.063267707824707,14.408916473388672,46.9987907409668,9.141189575195312,25.133337020874023,10.490150451660156,9.955982208251953,2.4185962677001953,9.681888580322266,26.737552642822266,10.844480514526367,8.12769889831543,10.835552215576172,29.592025756835938,11.995833396911621,29.841331481933594,15.997506141662598,5.731368064880371,24.310861587524414,25.716320037841797,32.993812561035156,12.943619728088379,3.002920150756836,30.570194244384766,17.018728256225586,46.98927688598633,34.59677505493164,27.475200653076172,9.772513389587402,24.68092155456543,9.219836235046387,10.998455047607422,9.281310081481934,18.00796890258789,8.12769889831543,9.428250312805176,32.23894500732422,9.146374702453613,8.747855186462402,7.533474445343018,10.59737491607666,6.610294818878174,22.494768142700195,9.995028495788574,9.84430980682373,26.362995147705078,8.943548202514648,1.9961588382720947,4.673676013946533,8.503989219665527,8.09500503540039,8.503989219665527,29.99211883544922,10.80385684967041,34.99894332885742,26.375328063964844,12.995943069458008,10.679605484008789,8.496367454528809,10.381697654724121,23.456981658935547,10.687082290649414,10.628399848937988,12.503498077392578,30.071735382080078,12.16746997833252,23.99805450439453,20.05224609375,10.835552215576172,45.999725341796875,1.006745457649231,10.118329048156738,1.9651824235916138,9.281310081481934,9.219836235046387,8.338081359863281,23.991466522216797,9.084016799926758,19.450876235961914,38.277015686035156,21.803836822509766,22.582822799682617,8.869175910949707,10.64426326751709,25.133337020874023,10.118329048156738,9.505334854125977,29.740053176879883,14.41190242767334,47.620914459228516,9.43702507019043,30.42774200439453,10.554993629455566,34.00274658203125,10.136543273925781,23.29714012145996,6.550624847412109,18.296010971069336,20.213895797729492,16.629207611083984,22.366025924682617,8.045228004455566,10.9439115524292,9.735618591308594,29.592025756835938,5.98490047454834,26.883281707763672,12.553204536437988,30.42774200439453,26.694372177124023,3.0031917095184326,9.811812400817871,10.99732780456543,27.84946060180664,26.94347381591797,27.84946060180664,26.64225959777832,9.340072631835938,14.999898910522461,9.281310081481934,8.896449089050293,10.99732780456543,9.2840576171875,17.7393856048584,28.840938568115234,8.693962097167969,32.854618072509766,32.537940979003906,12.747976303100586,10.060790061950684,29.42477798461914,45.99345779418945,1.655632495880127,6.595830917358398,9.530702590942383,10.020134925842285,4.380093574523926,9.341938972473145,10.368123054504395,25.143035888671875,38.99041748046875,26.362995147705078,10.118329048156738,25.957242965698242,13.54343032836914,19.2474422454834,42.99401092529297,9.219836235046387,5.483877658843994,23.609622955322266,27.67022705078125,25.76912498474121,9.928576469421387,2.042518138885498,10.920591354370117,9.502883911132812,45.99345779418945,21.179426193237305,29.0078182220459,25.416730880737305,9.125033378601074,24.754528045654297,17.587162017822266,45.994571685791016,10.861279487609863,13.837700843811035,12.995943069458008,47.620914459228516,8.943548202514648,25.92588996887207,25.995681762695312,20.992916107177734,13.548666000366211,18.993837356567383,3.5351483821868896,36.112125396728516,21.356021881103516,11.371526718139648,25.76912498474121,9.16629695892334,24.66521644592285,4.410327911376953,9.54249382019043,22.798389434814453,19.476003646850586,10.92224407196045,6.970462799072266,5.987848281860352,25.76912498474121,30.4870548248291,1.331761360168457,9.00070571899414,9.241464614868164,10.156126976013184,9.242424964904785,10.9439115524292,8.041500091552734,10.697667121887207,46.998661041259766,10.381697654724121,8.496367454528809,9.43702507019043,3.3030242919921875,9.995789527893066,9.54249382019043,27.018346786499023,46.9987907409668,8.12769889831543,13.175929069519043,47.997196197509766,12.16746997833252,2.0613269805908203,8.201923370361328,23.446805953979492,27.54661750793457,9.942845344543457,5.99843168258667,10.040785789489746,36.003604888916016,9.54249382019043,39.997310638427734,14.400047302246094,47.620914459228516,9.916993141174316,9.995233535766602,28.003875732421875,22.632150650024414,17.997316360473633,24.577510833740234,22.129304885864258,11.089024543762207,3.121943473815918,25.91309928894043,35.850181579589844,10.427149772644043,14.013325691223145,9.550253868103027,9.966476440429688,34.90902328491211,2.491046905517578,7.105653762817383,21.019262313842773,24.66521644592285,41.99809646606445,9.092676162719727,20.05224609375,29.408544540405273,18.993837356567383,10.365926742553711,46.998390197753906,19.069488525390625,30.50636100769043,8.99148178100586,10.679605484008789,10.221784591674805,31.726186752319336,8.819260597229004,28.15795135498047,30.20746421813965,8.910222053527832,46.994224548339844,2.0045268535614014,46.997802734375,9.961350440979004,29.348880767822266,14.875356674194336,10.005820274353027,20.30341911315918,10.856571197509766,9.80870532989502,47.00069046020508,10.40802001953125,2.6750311851501465,27.840452194213867,35.85371398925781,34.00274658203125,46.99192810058594,10.427149772644043,9.188109397888184,23.99805450439453,10.158352851867676,10.804454803466797,20.994707107543945,4.9752912521362305,9.772513389587402,8.712608337402344,19.944631576538086,9.237875938415527,9.336779594421387,9.849834442138672,5.98490047454834,37.99930953979492,20.918170928955078,3.03662371635437,8.31916618347168,10.856571197509766,23.1031494140625,10.063267707824707,1.997369647026062,9.696348190307617,3.252654790878296,24.69544219970703,9.502883911132812,23.519306182861328,32.79817199707031,6.781066417694092,8.114023208618164,22.320348739624023,21.923738479614258,32.537940979003906,8.712608337402344,10.775094985961914,9.094226837158203,1.7568261623382568,9.860928535461426,8.48351001739502,15.987632751464844,25.957242965698242,26.680423736572266,11.371526718139648,11.990532875061035,10.365739822387695,30.42774200439453,6.05025577545166,8.322591781616211,2.2461965084075928,28.179967880249023,4.585501194000244,30.071735382080078,20.450990676879883,10.856571197509766,6.401970863342285,32.99541091918945,14.828089714050293,18.2598876953125,9.1986083984375,6.700711250305176,9.682534217834473,31.004650115966797,10.0013427734375,30.995933532714844,23.754228591918945,8.09500503540039,7.884226322174072,10.802189826965332,28.179967880249023,4.059144496917725,23.607511520385742,27.005123138427734,6.717398166656494,9.682534217834473,16.99944496154785,9.104650497436523,32.23894500732422,7.005645275115967,8.282562255859375,25.04163932800293,10.365739822387695,7.154903411865234,19.6906795501709,46.998661041259766,20.30341911315918,9.43702507019043,8.810291290283203,13.708575248718262,6.901545524597168,39.99506759643555,10.546378135681152,25.143035888671875,5.413442611694336,19.476003646850586,26.94347381591797,37.91913986206055,31.99564552307129,25.80888557434082,9.230316162109375,10.999865531921387,4.875239849090576,36.99657440185547,2.944988489151001,3.9098222255706787,9.969718933105469,25.603776931762695,12.994884490966797,26.00403594970703,9.1986083984375,9.43702507019043,12.373611450195312,23.607511520385742,25.873310089111328,18.280439376831055,10.159984588623047,46.99638366699219,5.796634674072266,15.709458351135254,8.041500091552734,1.7338494062423706,10.36550521850586,37.93001937866211,9.547243118286133,9.990943908691406,19.747390747070312,24.863012313842773,20.144268035888672,19.433168411254883,19.450876235961914,6.994082927703857,2.1648192405700684,3.3030242919921875,8.12769889831543,34.87192916870117,30.663244247436523,33.999298095703125,21.803836822509766,11.457505226135254,25.662134170532227,5.925485134124756,36.99657440185547,6.431182861328125,1.008354663848877,9.980335235595703,32.844085693359375,31.156108856201172,9.821782112121582,26.297454833984375,14.916802406311035,8.760438919067383,37.93001937866211,24.901968002319336,14.136956214904785,9.713384628295898,10.850137710571289,13.98695182800293,45.99345779418945,27.218637466430664,9.313423156738281,26.852859497070312,8.114023208618164,21.274024963378906,31.9293212890625,29.996978759765625,29.996978759765625,9.521025657653809,9.018501281738281,9.084016799926758,27.84946060180664,10.99409294128418,10.802189826965332,42.998661041259766,14.500277519226074,8.738802909851074,10.9439115524292,6.595830917358398,10.628399848937988,4.430854797363281,31.99604606628418,44.00151824951172,8.871127128601074,25.99367904663086,9.960344314575195,9.46860408782959,45.99475860595703,10.158352851867676,10.679605484008789,9.630424499511719,10.99732780456543,24.901968002319336,23.004825592041016,1.5322189331054688,28.022289276123047,10.998455047607422,10.775094985961914,21.128253936767578,1.99806547164917,9.696348190307617,15.269937515258789,36.996299743652344,4.2220563888549805,17.042400360107422,34.9942626953125,8.902944564819336,6.550624847412109,8.478806495666504,20.004802703857422,42.998661041259766,12.001913070678711,36.003604888916016,47.620914459228516,10.063267707824707,10.9439115524292,45.999725341796875,18.529537200927734,8.288782119750977,8.869175910949707,9.341938972473145,10.57845687866211,44.00151824951172,6.002307891845703,9.84430980682373,10.64426326751709,5.994485378265381,7.533474445343018,10.99732780456543,21.156641006469727,8.792859077453613,23.781116485595703,28.280874252319336,29.336801528930664,11.005301475524902,1.206094741821289,10.775094985961914,25.99367904663086,2.345165967941284,29.99683952331543,8.792859077453613,8.225568771362305,9.500535011291504,8.225568771362305,10.493741989135742,9.821599960327148,21.179426193237305,21.225496292114258,11.016449928283691,24.310861587524414,9.471043586730957,23.519948959350586,4.098304748535156,23.609622955322266,9.772513389587402,9.242424964904785,19.944631576538086,9.092676162719727,6.602923393249512,5.719028949737549,20.45374870300293,15.997506141662598,9.955982208251953,9.104625701904297,23.109643936157227,5.483877658843994,27.00169563293457,38.736236572265625,8.496367454528809,39.58482360839844,30.498313903808594,46.994224548339844,38.999176025390625,28.998144149780273,26.737552642822266,13.41028881072998,31.783798217773438,3.327256202697754,25.873310089111328,10.722643852233887,35.001441955566406,9.679831504821777,12.553204536437988,19.2474422454834,9.060643196105957,20.213895797729492,10.99702262878418,24.171995162963867,24.310861587524414,24.310861587524414,9.171902656555176,20.28461456298828,13.01048469543457,10.9439115524292,10.99845027923584,10.717995643615723,7.471621513366699,28.003875732421875,6.964953899383545,20.018321990966797,24.352920532226562,9.955982208251953,48.99613952636719,5.110091209411621,27.018346786499023,16.870800018310547,8.378629684448242,34.54588317871094,33.56051254272461,31.783798217773438,23.998390197753906,25.873310089111328,9.797906875610352,10.994833946228027,8.288782119750977,47.99650955200195,9.65657901763916,10.511218070983887,10.006096839904785,30.570194244384766,10.995881080627441,7.257359504699707,4.987391948699951,30.55196762084961,8.843239784240723,30.699308395385742,10.40802001953125,1.99806547164917,1.9981863498687744,9.575180053710938,6.539216041564941,8.441993713378906,9.797906875610352,19.60224723815918,9.87511157989502,6.02419376373291,15.330228805541992,31.990934371948242,9.188109397888184,5.034372329711914,27.998817443847656,10.775094985961914,36.22519302368164,10.57845687866211,9.860928535461426,1.271079182624817,25.4044189453125,35.00796127319336,32.452537536621094,8.114023208618164,36.996299743652344,10.018941879272461,8.55649185180664,16.65165138244629,45.999725341796875,10.740139961242676,9.104650497436523,27.66988754272461,9.451903343200684,35.85371398925781,26.362995147705078,1.989089846611023,29.336801528930664,10.162007331848145,3.0245144367218018,7.313355445861816,36.112125396728516,10.279484748840332,38.99663162231445,16.629207611083984,45.99760437011719,10.520357131958008,33.98360061645508,8.066634178161621,23.42812728881836,10.99702262878418,27.66988754272461,10.544890403747559,26.737552642822266,9.752391815185547,9.681888580322266,22.88440704345703,9.584091186523438,9.581221580505371,23.526592254638672,8.746747016906738,18.529537200927734,11.520468711853027,2.4260270595550537,12.995943069458008,28.280874252319336,8.078539848327637,33.637657165527344,19.450876235961914,28.179967880249023,8.441993713378906,47.620914459228516,45.99475860595703,8.496367454528809,9.575180053710938,28.317298889160156,42.99585723876953,8.39653205871582,47.620914459228516,44.0019645690918,30.002147674560547,29.99211883544922,9.766607284545898,25.763399124145508,8.99744987487793,7.009324073791504,11.089024543762207,21.274024963378906,30.125957489013672,20.004802703857422,10.5322265625,37.736480712890625,25.716320037841797,8.667430877685547,20.595388412475586,9.125033378601074,29.321218490600586,24.171995162963867,9.521025657653809,6.994082927703857,27.84946060180664,29.374073028564453,8.45565414428711,26.04893684387207,21.63426399230957,21.012971878051758,45.99475860595703,17.003286361694336,10.994833946228027,10.281373023986816,47.620914459228516,9.530702590942383,9.960344314575195,9.895668029785156,11.80432415008545,5.987732410430908,10.221784591674805,30.002147674560547,8.975748062133789,9.928576469421387,26.694372177124023,10.740139961242676,10.350077629089355,7.494722843170166,31.99604606628418,9.221919059753418,10.018657684326172,8.427267074584961,8.693962097167969,19.7540283203125,10.835552215576172,13.54343032836914,10.740139961242676,21.873645782470703,8.496367454528809,5.85891580581665,18.688840866088867,11.66545295715332,38.99041748046875,10.688407897949219,36.22519302368164,30.20746421813965,8.975748062133789,12.011707305908203,14.013325691223145,32.537940979003906,20.004802703857422,26.982847213745117,22.320348739624023,6.93670654296875,8.693962097167969,9.879791259765625,9.995266914367676,46.998390197753906,9.1986083984375,8.153589248657227,44.00151824951172,29.740053176879883,25.91309928894043,30.071735382080078,26.852859497070312,17.9636173248291,10.9439115524292,8.12769889831543,26.680423736572266,32.844085693359375,4.0048322677612305,29.336801528930664,8.009519577026367,10.993144035339355,7.94112491607666,11.089024543762207,6.610294818878174,44.99947738647461,9.584091186523438,21.179426193237305,4.426253318786621,2.9454526901245117,8.902944564819336,9.56700611114502,12.800344467163086,10.697667121887207,9.916993141174316,9.219836235046387,20.004802703857422,25.416730880737305,12.001913070678711,34.90902328491211,5.092333793640137,3.0221683979034424,28.15795135498047,9.995233535766602,27.00169563293457,4.566556453704834,21.843034744262695,26.362995147705078,7.154903411865234,28.022289276123047,46.99192810058594,15.000530242919922,10.850137710571289,10.742227554321289,36.99260711669922,8.452345848083496,8.899945259094238,17.997316360473633,9.419493675231934,10.367818832397461,10.040785789489746,10.64426326751709,42.99401092529297,30.125957489013672,25.04163932800293,26.375328063964844,27.82107925415039,35.00192642211914,24.315523147583008,9.56700611114502,37.99930953979492,15.393094062805176,19.476003646850586,23.42812728881836,9.960344314575195,9.733537673950195,24.171995162963867,10.541001319885254,10.040193557739258,14.136956214904785,8.99744987487793,46.99192810058594,4.020241737365723,8.738802909851074,8.693962097167969,6.308621406555176,30.071735382080078,9.248682975769043,38.736236572265625,9.336779594421387,26.04893684387207,10.835552215576172,10.687082290649414,39.58482360839844,23.33725929260254,10.367818832397461,27.075727462768555,14.916802406311035,8.31916618347168,25.76912498474121,30.32391357421875,9.413833618164062,9.84430980682373,19.73688507080078,18.000484466552734,16.726442337036133,2.008836269378662,8.078539848327637,8.751274108886719,10.544890403747559,11.335996627807617,30.995933532714844,32.854618072509766,28.15795135498047,46.00007247924805,10.57845687866211,7.533474445343018,26.64225959777832,23.638214111328125,29.42477798461914,18.244314193725586,24.66521644592285,46.99798583984375,9.860928535461426,9.850554466247559,9.65657901763916,21.923738479614258,27.66988754272461,28.280874252319336,9.1986083984375,26.982847213745117,9.281310081481934,10.15092658996582,13.54343032836914,9.620121002197266,10.365926742553711,27.99821662902832,9.713384628295898,8.114023208618164,32.537940979003906,10.9439115524292,21.661216735839844,10.546378135681152,45.99760437011719,10.998517036437988,10.835552215576172,9.849834442138672,47.620914459228516,8.09500503540039,35.001441955566406,32.00566864013672,10.427149772644043,47.620914459228516,21.225496292114258,45.996177673339844,30.92401885986328,9.454665184020996,7.1070709228515625,7.351441860198975,10.006936073303223,24.212739944458008,42.99585723876953,11.30132007598877,27.66988754272461,10.697667121887207,9.248682975769043,10.57845687866211,12.278754234313965,7.604070663452148,9.502883911132812,45.99378204345703,9.125774383544922,14.205988883972168,34.59677505493164,7.195193767547607,10.628399848937988,9.969718933105469,10.99409294128418,21.63426399230957,24.999570846557617,9.955982208251953,17.89529800415039,35.99114990234375,9.773877143859863,14.013325691223145,5.731368064880371,24.315523147583008,10.279484748840332,10.679605484008789,19.873363494873047,29.740053176879883,37.93001937866211,6.985870361328125,9.879791259765625,32.537940979003906,23.780994415283203,9.219836235046387,10.060790061950684,0.9989442825317383,19.7540283203125,5.013652324676514,8.843239784240723,25.04163932800293,8.712608337402344,44.99947738647461,34.54588317871094,19.005813598632812,35.850181579589844,7.809635162353516,33.999298095703125,10.717995643615723,34.9942626953125,9.908280372619629,11.988693237304688,8.153589248657227,14.734152793884277,15.000530242919922,25.763399124145508,1.9715995788574219,32.85118865966797,9.961350440979004,25.603776931762695,16.877378463745117,9.821782112121582,28.003875732421875,22.619237899780273,10.998455047607422,36.22519302368164,6.540287494659424,10.57845687866211,17.003286361694336,27.998828887939453,9.6734619140625,5.599545001983643,42.02029037475586,23.1031494140625,21.63426399230957,10.99990177154541,45.997802734375,13.398948669433594,19.944631576538086,6.964953899383545,0.9991216659545898,37.99930953979492,26.010507583618164,20.19036293029785,7.352569103240967,9.060643196105957,9.612786293029785,12.278754234313965,9.242424964904785,46.998390197753906,26.525732040405273,16.870800018310547,27.99821662902832,25.714561462402344,9.54249382019043,9.418399810791016,23.991466522216797,24.315523147583008,32.537940979003906,26.003833770751953,42.99686813354492,1.5068007707595825,9.678961753845215,10.350077629089355,11.997007369995117,30.699308395385742,23.33725929260254,16.018552780151367,25.04163932800293,7.2040886878967285,8.31916618347168,10.835552215576172,32.993812561035156,28.611780166625977,18.296010971069336,7.773681640625,27.475200653076172,31.006669998168945,27.018346786499023,10.279484748840332,9.765138626098633,25.496606826782227,27.82107925415039,9.6734619140625,39.998443603515625,17.587162017822266,2.9988603591918945,34.90902328491211,30.00508689880371,45.99760437011719,30.570194244384766,9.713384628295898,17.89529800415039,27.998828887939453,10.998504638671875,20.99810218811035,8.697182655334473,12.817111015319824,10.9439115524292,34.48563766479492,9.094226837158203,19.00380516052246,27.218637466430664,12.16746997833252,12.429961204528809,9.56700611114502,27.218637466430664,6.02419376373291,35.99114990234375,39.99506759643555,6.964953899383545,20.992916107177734,10.381697654724121,9.54249382019043,39.998443603515625,24.97792625427246,9.847271919250488,6.990784168243408,33.993316650390625,10.317821502685547,8.612759590148926,10.995823860168457,13.398948669433594,26.883281707763672,6.996899127960205,47.99650955200195,23.456981658935547,29.996978759765625,38.277015686035156,10.999865531921387,4.994803428649902,46.9987907409668,14.999898910522461,38.277015686035156,12.429961204528809,19.15656280517578,0.9954512119293213,6.550624847412109,26.534093856811523,9.43702507019043,7.351441860198975,10.350077629089355,38.99041748046875,46.00041198730469,27.99821662902832,14.999898910522461,47.99702453613281,29.000484466552734,31.158069610595703,29.499216079711914,9.530702590942383,10.283023834228516,10.523683547973633,10.804454803466797,12.817111015319824,19.278383255004883,4.196626663208008,8.865527153015137,14.808056831359863,8.871127128601074,14.41190242767334,4.387641906738281,7.494722843170166,29.99603271484375,19.935617446899414,38.999664306640625,27.005123138427734,10.63845443725586,9.454665184020996,10.122078895568848,10.592345237731934,10.005820274353027,9.980452537536621,1.051295518875122,10.9439115524292,6.997419834136963,10.336026191711426,18.989883422851562,11.520468711853027,9.46860408782959,10.835552215576172,8.427267074584961,10.546378135681152,5.719028949737549,11.995308876037598,30.231857299804688,8.780579566955566,23.7995548248291,10.57845687866211,10.45630168914795,9.550253868103027,1.0106770992279053,30.42774200439453,44.0019645690918,10.14426326751709,30.663244247436523,10.40802001953125,33.99497985839844,10.994833946228027,32.452537536621094,33.005611419677734,45.99760437011719,16.65341567993164,18.99648666381836,30.387727737426758,29.408544540405273,27.475200653076172,9.821782112121582,18.989883422851562,31.9293212890625,33.637657165527344,25.416730880737305,10.359712600708008,30.42774200439453,19.476003646850586,9.969718933105469,8.441993713378906,8.378629684448242,9.80880355834961,10.427149772644043,20.813552856445312,29.740053176879883,3.0384950637817383,21.803836822509766,21.356021881103516,23.010623931884766,7.822807788848877,30.663244247436523,25.961265563964844,8.869175910949707,7.997486114501953,30.92401885986328,23.33725929260254,9.060643196105957,15.473954200744629,8.002328872680664,46.9987907409668,24.315523147583008,21.63426399230957,30.55196762084961,29.48801040649414,47.00069046020508,10.511218070983887,47.99775695800781,27.66988754272461,9.341938972473145,30.42774200439453,13.548666000366211,15.987632751464844,31.990934371948242,9.696348190307617,1.0222463607788086,15.473954200744629,10.601349830627441,10.998504638671875,24.754528045654297,9.070283889770508,22.692930221557617,26.64225959777832,10.018941879272461,9.43702507019043,9.521025657653809,8.710201263427734,23.33725929260254,6.156532287597656,30.699308395385742,10.495339393615723,29.321218490600586,30.42774200439453,10.350667953491211,1.0411690473556519,9.575180053710938,10.601349830627441,2.969033718109131,17.7393856048584,17.441856384277344,23.999563217163086,10.064301490783691,8.378629684448242,46.998661041259766,9.340072631835938,9.735618591308594,6.588314056396484,9.850554466247559,9.908280372619629,29.499216079711914,17.405820846557617,9.237875938415527,42.02029037475586,9.581221580505371,22.494768142700195,10.995823860168457,5.672924995422363,42.02029037475586,18.529537200927734,6.602923393249512,10.43274211883545,29.48801040649414,26.05099105834961,21.63426399230957,9.860928535461426,9.797906875610352,13.175929069519043,21.685449600219727,10.546378135681152,8.002328872680664,21.84358787536621,0.8183647394180298,30.995933532714844,10.064301490783691,9.961350440979004,9.451903343200684,14.1329984664917,2.4599785804748535,23.8516845703125,20.993404388427734,10.998025894165039,8.896449089050293,15.388163566589355,18.2598876953125,11.569097518920898,23.456981658935547,8.496435165405273,12.001913070678711,27.82107925415039,33.993316650390625,31.006669998168945,9.00070571899414,23.990018844604492,9.418399810791016,22.320348739624023,9.521025657653809,21.661216735839844,23.609622955322266,8.233926773071289,47.00284957885742,8.899945259094238,9.772513389587402,10.687082290649414,1.996646523475647,10.829497337341309,2.707969903945923,14.734152793884277,30.119539260864258],\"yaxis\":\"y\",\"type\":\"scattergl\"}],                        {\"template\":{\"data\":{\"bar\":[{\"error_x\":{\"color\":\"#2a3f5f\"},\"error_y\":{\"color\":\"#2a3f5f\"},\"marker\":{\"line\":{\"color\":\"#E5ECF6\",\"width\":0.5},\"pattern\":{\"fillmode\":\"overlay\",\"size\":10,\"solidity\":0.2}},\"type\":\"bar\"}],\"barpolar\":[{\"marker\":{\"line\":{\"color\":\"#E5ECF6\",\"width\":0.5},\"pattern\":{\"fillmode\":\"overlay\",\"size\":10,\"solidity\":0.2}},\"type\":\"barpolar\"}],\"carpet\":[{\"aaxis\":{\"endlinecolor\":\"#2a3f5f\",\"gridcolor\":\"white\",\"linecolor\":\"white\",\"minorgridcolor\":\"white\",\"startlinecolor\":\"#2a3f5f\"},\"baxis\":{\"endlinecolor\":\"#2a3f5f\",\"gridcolor\":\"white\",\"linecolor\":\"white\",\"minorgridcolor\":\"white\",\"startlinecolor\":\"#2a3f5f\"},\"type\":\"carpet\"}],\"choropleth\":[{\"colorbar\":{\"outlinewidth\":0,\"ticks\":\"\"},\"type\":\"choropleth\"}],\"contour\":[{\"colorbar\":{\"outlinewidth\":0,\"ticks\":\"\"},\"colorscale\":[[0.0,\"#0d0887\"],[0.1111111111111111,\"#46039f\"],[0.2222222222222222,\"#7201a8\"],[0.3333333333333333,\"#9c179e\"],[0.4444444444444444,\"#bd3786\"],[0.5555555555555556,\"#d8576b\"],[0.6666666666666666,\"#ed7953\"],[0.7777777777777778,\"#fb9f3a\"],[0.8888888888888888,\"#fdca26\"],[1.0,\"#f0f921\"]],\"type\":\"contour\"}],\"contourcarpet\":[{\"colorbar\":{\"outlinewidth\":0,\"ticks\":\"\"},\"type\":\"contourcarpet\"}],\"heatmap\":[{\"colorbar\":{\"outlinewidth\":0,\"ticks\":\"\"},\"colorscale\":[[0.0,\"#0d0887\"],[0.1111111111111111,\"#46039f\"],[0.2222222222222222,\"#7201a8\"],[0.3333333333333333,\"#9c179e\"],[0.4444444444444444,\"#bd3786\"],[0.5555555555555556,\"#d8576b\"],[0.6666666666666666,\"#ed7953\"],[0.7777777777777778,\"#fb9f3a\"],[0.8888888888888888,\"#fdca26\"],[1.0,\"#f0f921\"]],\"type\":\"heatmap\"}],\"heatmapgl\":[{\"colorbar\":{\"outlinewidth\":0,\"ticks\":\"\"},\"colorscale\":[[0.0,\"#0d0887\"],[0.1111111111111111,\"#46039f\"],[0.2222222222222222,\"#7201a8\"],[0.3333333333333333,\"#9c179e\"],[0.4444444444444444,\"#bd3786\"],[0.5555555555555556,\"#d8576b\"],[0.6666666666666666,\"#ed7953\"],[0.7777777777777778,\"#fb9f3a\"],[0.8888888888888888,\"#fdca26\"],[1.0,\"#f0f921\"]],\"type\":\"heatmapgl\"}],\"histogram\":[{\"marker\":{\"pattern\":{\"fillmode\":\"overlay\",\"size\":10,\"solidity\":0.2}},\"type\":\"histogram\"}],\"histogram2d\":[{\"colorbar\":{\"outlinewidth\":0,\"ticks\":\"\"},\"colorscale\":[[0.0,\"#0d0887\"],[0.1111111111111111,\"#46039f\"],[0.2222222222222222,\"#7201a8\"],[0.3333333333333333,\"#9c179e\"],[0.4444444444444444,\"#bd3786\"],[0.5555555555555556,\"#d8576b\"],[0.6666666666666666,\"#ed7953\"],[0.7777777777777778,\"#fb9f3a\"],[0.8888888888888888,\"#fdca26\"],[1.0,\"#f0f921\"]],\"type\":\"histogram2d\"}],\"histogram2dcontour\":[{\"colorbar\":{\"outlinewidth\":0,\"ticks\":\"\"},\"colorscale\":[[0.0,\"#0d0887\"],[0.1111111111111111,\"#46039f\"],[0.2222222222222222,\"#7201a8\"],[0.3333333333333333,\"#9c179e\"],[0.4444444444444444,\"#bd3786\"],[0.5555555555555556,\"#d8576b\"],[0.6666666666666666,\"#ed7953\"],[0.7777777777777778,\"#fb9f3a\"],[0.8888888888888888,\"#fdca26\"],[1.0,\"#f0f921\"]],\"type\":\"histogram2dcontour\"}],\"mesh3d\":[{\"colorbar\":{\"outlinewidth\":0,\"ticks\":\"\"},\"type\":\"mesh3d\"}],\"parcoords\":[{\"line\":{\"colorbar\":{\"outlinewidth\":0,\"ticks\":\"\"}},\"type\":\"parcoords\"}],\"pie\":[{\"automargin\":true,\"type\":\"pie\"}],\"scatter\":[{\"marker\":{\"colorbar\":{\"outlinewidth\":0,\"ticks\":\"\"}},\"type\":\"scatter\"}],\"scatter3d\":[{\"line\":{\"colorbar\":{\"outlinewidth\":0,\"ticks\":\"\"}},\"marker\":{\"colorbar\":{\"outlinewidth\":0,\"ticks\":\"\"}},\"type\":\"scatter3d\"}],\"scattercarpet\":[{\"marker\":{\"colorbar\":{\"outlinewidth\":0,\"ticks\":\"\"}},\"type\":\"scattercarpet\"}],\"scattergeo\":[{\"marker\":{\"colorbar\":{\"outlinewidth\":0,\"ticks\":\"\"}},\"type\":\"scattergeo\"}],\"scattergl\":[{\"marker\":{\"colorbar\":{\"outlinewidth\":0,\"ticks\":\"\"}},\"type\":\"scattergl\"}],\"scattermapbox\":[{\"marker\":{\"colorbar\":{\"outlinewidth\":0,\"ticks\":\"\"}},\"type\":\"scattermapbox\"}],\"scatterpolar\":[{\"marker\":{\"colorbar\":{\"outlinewidth\":0,\"ticks\":\"\"}},\"type\":\"scatterpolar\"}],\"scatterpolargl\":[{\"marker\":{\"colorbar\":{\"outlinewidth\":0,\"ticks\":\"\"}},\"type\":\"scatterpolargl\"}],\"scatterternary\":[{\"marker\":{\"colorbar\":{\"outlinewidth\":0,\"ticks\":\"\"}},\"type\":\"scatterternary\"}],\"surface\":[{\"colorbar\":{\"outlinewidth\":0,\"ticks\":\"\"},\"colorscale\":[[0.0,\"#0d0887\"],[0.1111111111111111,\"#46039f\"],[0.2222222222222222,\"#7201a8\"],[0.3333333333333333,\"#9c179e\"],[0.4444444444444444,\"#bd3786\"],[0.5555555555555556,\"#d8576b\"],[0.6666666666666666,\"#ed7953\"],[0.7777777777777778,\"#fb9f3a\"],[0.8888888888888888,\"#fdca26\"],[1.0,\"#f0f921\"]],\"type\":\"surface\"}],\"table\":[{\"cells\":{\"fill\":{\"color\":\"#EBF0F8\"},\"line\":{\"color\":\"white\"}},\"header\":{\"fill\":{\"color\":\"#C8D4E3\"},\"line\":{\"color\":\"white\"}},\"type\":\"table\"}]},\"layout\":{\"annotationdefaults\":{\"arrowcolor\":\"#2a3f5f\",\"arrowhead\":0,\"arrowwidth\":1},\"autotypenumbers\":\"strict\",\"coloraxis\":{\"colorbar\":{\"outlinewidth\":0,\"ticks\":\"\"}},\"colorscale\":{\"diverging\":[[0,\"#8e0152\"],[0.1,\"#c51b7d\"],[0.2,\"#de77ae\"],[0.3,\"#f1b6da\"],[0.4,\"#fde0ef\"],[0.5,\"#f7f7f7\"],[0.6,\"#e6f5d0\"],[0.7,\"#b8e186\"],[0.8,\"#7fbc41\"],[0.9,\"#4d9221\"],[1,\"#276419\"]],\"sequential\":[[0.0,\"#0d0887\"],[0.1111111111111111,\"#46039f\"],[0.2222222222222222,\"#7201a8\"],[0.3333333333333333,\"#9c179e\"],[0.4444444444444444,\"#bd3786\"],[0.5555555555555556,\"#d8576b\"],[0.6666666666666666,\"#ed7953\"],[0.7777777777777778,\"#fb9f3a\"],[0.8888888888888888,\"#fdca26\"],[1.0,\"#f0f921\"]],\"sequentialminus\":[[0.0,\"#0d0887\"],[0.1111111111111111,\"#46039f\"],[0.2222222222222222,\"#7201a8\"],[0.3333333333333333,\"#9c179e\"],[0.4444444444444444,\"#bd3786\"],[0.5555555555555556,\"#d8576b\"],[0.6666666666666666,\"#ed7953\"],[0.7777777777777778,\"#fb9f3a\"],[0.8888888888888888,\"#fdca26\"],[1.0,\"#f0f921\"]]},\"colorway\":[\"#636efa\",\"#EF553B\",\"#00cc96\",\"#ab63fa\",\"#FFA15A\",\"#19d3f3\",\"#FF6692\",\"#B6E880\",\"#FF97FF\",\"#FECB52\"],\"font\":{\"color\":\"#2a3f5f\"},\"geo\":{\"bgcolor\":\"white\",\"lakecolor\":\"white\",\"landcolor\":\"#E5ECF6\",\"showlakes\":true,\"showland\":true,\"subunitcolor\":\"white\"},\"hoverlabel\":{\"align\":\"left\"},\"hovermode\":\"closest\",\"mapbox\":{\"style\":\"light\"},\"paper_bgcolor\":\"white\",\"plot_bgcolor\":\"#E5ECF6\",\"polar\":{\"angularaxis\":{\"gridcolor\":\"white\",\"linecolor\":\"white\",\"ticks\":\"\"},\"bgcolor\":\"#E5ECF6\",\"radialaxis\":{\"gridcolor\":\"white\",\"linecolor\":\"white\",\"ticks\":\"\"}},\"scene\":{\"xaxis\":{\"backgroundcolor\":\"#E5ECF6\",\"gridcolor\":\"white\",\"gridwidth\":2,\"linecolor\":\"white\",\"showbackground\":true,\"ticks\":\"\",\"zerolinecolor\":\"white\"},\"yaxis\":{\"backgroundcolor\":\"#E5ECF6\",\"gridcolor\":\"white\",\"gridwidth\":2,\"linecolor\":\"white\",\"showbackground\":true,\"ticks\":\"\",\"zerolinecolor\":\"white\"},\"zaxis\":{\"backgroundcolor\":\"#E5ECF6\",\"gridcolor\":\"white\",\"gridwidth\":2,\"linecolor\":\"white\",\"showbackground\":true,\"ticks\":\"\",\"zerolinecolor\":\"white\"}},\"shapedefaults\":{\"line\":{\"color\":\"#2a3f5f\"}},\"ternary\":{\"aaxis\":{\"gridcolor\":\"white\",\"linecolor\":\"white\",\"ticks\":\"\"},\"baxis\":{\"gridcolor\":\"white\",\"linecolor\":\"white\",\"ticks\":\"\"},\"bgcolor\":\"#E5ECF6\",\"caxis\":{\"gridcolor\":\"white\",\"linecolor\":\"white\",\"ticks\":\"\"}},\"title\":{\"x\":0.05},\"xaxis\":{\"automargin\":true,\"gridcolor\":\"white\",\"linecolor\":\"white\",\"ticks\":\"\",\"title\":{\"standoff\":15},\"zerolinecolor\":\"white\",\"zerolinewidth\":2},\"yaxis\":{\"automargin\":true,\"gridcolor\":\"white\",\"linecolor\":\"white\",\"ticks\":\"\",\"title\":{\"standoff\":15},\"zerolinecolor\":\"white\",\"zerolinewidth\":2}}},\"xaxis\":{\"anchor\":\"y\",\"domain\":[0.0,1.0],\"title\":{\"text\":\"x\"}},\"yaxis\":{\"anchor\":\"x\",\"domain\":[0.0,1.0],\"title\":{\"text\":\"y\"}},\"legend\":{\"tracegroupgap\":0},\"margin\":{\"t\":60},\"width\":500},                        {\"responsive\": true}                    ).then(function(){\n",
       "                            \n",
       "var gd = document.getElementById('a428501b-cc52-4c7a-933f-ca3cc2d5b41c');\n",
       "var x = new MutationObserver(function (mutations, observer) {{\n",
       "        var display = window.getComputedStyle(gd).display;\n",
       "        if (!display || display === 'none') {{\n",
       "            console.log([gd, 'removed!']);\n",
       "            Plotly.purge(gd);\n",
       "            observer.disconnect();\n",
       "        }}\n",
       "}});\n",
       "\n",
       "// Listen for the removal of the full notebook cells\n",
       "var notebookContainer = gd.closest('#notebook-container');\n",
       "if (notebookContainer) {{\n",
       "    x.observe(notebookContainer, {childList: true});\n",
       "}}\n",
       "\n",
       "// Listen for the clearing of the current output cell\n",
       "var outputEl = gd.closest('.output');\n",
       "if (outputEl) {{\n",
       "    x.observe(outputEl, {childList: true});\n",
       "}}\n",
       "\n",
       "                        })                };                            </script>        </div>\n",
       "</body>\n",
       "</html>"
      ]
     },
     "metadata": {},
     "output_type": "display_data"
    }
   ],
   "source": [
    "import numpy as np\n",
    "import pandas as pd\n",
    "# import hvplot.pandas\n",
    "\n",
    "# df = pd.DataFrame(np.random.randn(100, 6), columns=['a', 'b', 'c', 'd', 'e', 'f'])\n",
    "\n",
    "# notice argument backend='plotly' to change the plotting backend of pandas\n",
    "all_data.plot(\n",
    "    kind='scatter',\n",
    "    x=y_test, \n",
    "    y= y_pred2, \n",
    "    backend='plotly', \n",
    "    width=500,   \n",
    ")"
   ]
  },
  {
   "cell_type": "code",
   "execution_count": null,
   "metadata": {
    "id": "9FUKbCAThPbX"
   },
   "outputs": [],
   "source": []
  }
 ],
 "metadata": {
  "colab": {
   "collapsed_sections": [],
   "name": "Predicting People's Movement into Nairobi.ipynb",
   "provenance": [
    {
     "file_id": "https://github.com/RuthNduta/Car-insurance-prediction/blob/main/Car_Insurance_prediction.ipynb",
     "timestamp": 1654544801756
    }
   ]
  },
  "kernelspec": {
   "display_name": "Python 3 (ipykernel)",
   "language": "python",
   "name": "python3"
  },
  "language_info": {
   "codemirror_mode": {
    "name": "ipython",
    "version": 3
   },
   "file_extension": ".py",
   "mimetype": "text/x-python",
   "name": "python",
   "nbconvert_exporter": "python",
   "pygments_lexer": "ipython3",
   "version": "3.9.13"
  }
 },
 "nbformat": 4,
 "nbformat_minor": 1
}
